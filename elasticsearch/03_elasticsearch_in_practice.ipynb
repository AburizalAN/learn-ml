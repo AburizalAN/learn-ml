{
  "cells": [
    {
      "cell_type": "markdown",
      "metadata": {
        "colab_type": "text",
        "id": "view-in-github"
      },
      "source": [
        "<a href=\"https://colab.research.google.com/github/AburizalAN/learn-ml/blob/master/elasticsearch/03_elasticsearch_in_practice.ipynb\" target=\"_parent\"><img src=\"https://colab.research.google.com/assets/colab-badge.svg\" alt=\"Open In Colab\"/></a>\n"
      ]
    },
    {
      "cell_type": "markdown",
      "metadata": {
        "id": "k44GQyPDmI0V"
      },
      "source": [
        "# Elasticsearch In Practice\n",
        "\n",
        "![Elasticsearch](https://storage.googleapis.com/rg-ai-bootcamp/database/elasticsearch-min.png)\n",
        "\n",
        "_Elasticsearch (Source: [technocratsid.com](https://www.technocratsid.com/how-to-create-an-elasticsearch-6-4-1-plugin/))_\n"
      ]
    },
    {
      "cell_type": "markdown",
      "metadata": {
        "id": "D24ZPzKTmI0Z"
      },
      "source": [
        "## Index\n",
        "\n",
        "As mentioned earlier, Elasticsearch doesn't have a concept like a database; thus, we can create an index (or table) directly. But how do we use Elasticsearch for more than one application? A common practice is to prefix the index name with the application's name, for example: applicationname_indexname. This way, index names do not conflict between applications.\n",
        "\n",
        "### Creating an Index\n",
        "\n",
        "To create an Index, we can make an HTTP call like so:\n",
        "\n",
        "```bash\n",
        "PUT /{index_name}\n",
        "```\n",
        "\n",
        "The rules for index names are as follows:\n",
        "\n",
        "- They must be lowercase.\n",
        "- No special characters are allowed, except for -, +, and \\_, but these cannot be at the start.\n",
        "- They cannot be longer than 255 bytes.\n",
        "\n",
        "By creating unique index names, you ensure that data from different applications is stored separately and can be queried independently.\n"
      ]
    },
    {
      "cell_type": "markdown",
      "metadata": {
        "id": "3zG75nnrmI0a"
      },
      "source": [
        "Before we start practicing, install the elasticsearch package\n"
      ]
    },
    {
      "cell_type": "code",
      "execution_count": 1,
      "metadata": {
        "colab": {
          "base_uri": "https://localhost:8080/"
        },
        "id": "ucfFfCe9mI0a",
        "outputId": "035d5458-4c6e-427a-e318-12113744de7d"
      },
      "outputs": [
        {
          "name": "stdout",
          "output_type": "stream",
          "text": [
            "Collecting elasticsearch\n",
            "  Downloading elasticsearch-8.12.0-py3-none-any.whl.metadata (5.3 kB)\n",
            "Collecting elastic-transport<9,>=8 (from elasticsearch)\n",
            "  Downloading elastic_transport-8.12.0-py3-none-any.whl.metadata (3.5 kB)\n",
            "Requirement already satisfied: urllib3<3,>=1.26.2 in c:\\users\\aburi\\documents\\aburizalan\\venv\\venv_3.11\\lib\\site-packages (from elastic-transport<9,>=8->elasticsearch) (2.1.0)\n",
            "Requirement already satisfied: certifi in c:\\users\\aburi\\documents\\aburizalan\\venv\\venv_3.11\\lib\\site-packages (from elastic-transport<9,>=8->elasticsearch) (2023.11.17)\n",
            "Downloading elasticsearch-8.12.0-py3-none-any.whl (431 kB)\n",
            "   ---------------------------------------- 0.0/431.9 kB ? eta -:--:--\n",
            "   -- ------------------------------------ 30.7/431.9 kB 640.0 kB/s eta 0:00:01\n",
            "   ------ -------------------------------- 71.7/431.9 kB 653.6 kB/s eta 0:00:01\n",
            "   ---------------- ----------------------- 174.1/431.9 kB 1.3 MB/s eta 0:00:01\n",
            "   ----------------------- ---------------- 256.0/431.9 kB 1.6 MB/s eta 0:00:01\n",
            "   ---------------------------------------  430.1/431.9 kB 1.8 MB/s eta 0:00:01\n",
            "   ---------------------------------------- 431.9/431.9 kB 1.8 MB/s eta 0:00:00\n",
            "Downloading elastic_transport-8.12.0-py3-none-any.whl (59 kB)\n",
            "   ---------------------------------------- 0.0/59.9 kB ? eta -:--:--\n",
            "   ---------------------------------------- 59.9/59.9 kB 3.3 MB/s eta 0:00:00\n",
            "Installing collected packages: elastic-transport, elasticsearch\n",
            "Successfully installed elastic-transport-8.12.0 elasticsearch-8.12.0\n",
            "Note: you may need to restart the kernel to use updated packages.\n"
          ]
        },
        {
          "name": "stderr",
          "output_type": "stream",
          "text": [
            "\n",
            "[notice] A new release of pip is available: 23.3.2 -> 24.0\n",
            "[notice] To update, run: python.exe -m pip install --upgrade pip\n"
          ]
        }
      ],
      "source": [
        "%pip install elasticsearch"
      ]
    },
    {
      "cell_type": "code",
      "execution_count": null,
      "metadata": {
        "colab": {
          "base_uri": "https://localhost:8080/"
        },
        "id": "2F7OxktdmdRn",
        "outputId": "c972573d-b34b-4890-a810-607c24ba0726"
      },
      "outputs": [
        {
          "name": "stdout",
          "output_type": "stream",
          "text": [
            "elasticsearch-oss-7.9.2-linux-x86_64.tar.gz: OK\n"
          ]
        }
      ],
      "source": [
        "%%bash\n",
        "\n",
        "wget -q https://artifacts.elastic.co/downloads/elasticsearch/elasticsearch-oss-7.9.2-linux-x86_64.tar.gz\n",
        "wget -q https://artifacts.elastic.co/downloads/elasticsearch/elasticsearch-oss-7.9.2-linux-x86_64.tar.gz.sha512\n",
        "tar -xzf elasticsearch-oss-7.9.2-linux-x86_64.tar.gz\n",
        "sudo chown -R daemon:daemon elasticsearch-7.9.2/\n",
        "shasum -a 512 -c elasticsearch-oss-7.9.2-linux-x86_64.tar.gz.sha512"
      ]
    },
    {
      "cell_type": "code",
      "execution_count": null,
      "metadata": {
        "id": "JkI_4LQZmfJV"
      },
      "outputs": [],
      "source": [
        "%%bash --bg\n",
        "\n",
        "sudo -H -u daemon elasticsearch-7.9.2/bin/elasticsearch"
      ]
    },
    {
      "cell_type": "code",
      "execution_count": null,
      "metadata": {
        "id": "G3W_mZLemglo"
      },
      "outputs": [],
      "source": [
        "import time\n",
        "\n",
        "time.sleep(20)"
      ]
    },
    {
      "cell_type": "code",
      "execution_count": null,
      "metadata": {
        "colab": {
          "base_uri": "https://localhost:8080/"
        },
        "id": "ItD8Ri-PmiNK",
        "outputId": "a88472c5-f3ea-4fca-dd6f-b4424e659207"
      },
      "outputs": [
        {
          "name": "stdout",
          "output_type": "stream",
          "text": [
            "root         462     460  0 05:37 ?        00:00:00 sudo -H -u daemon elasticsearch-7.9.2/bin/elasti\n",
            "daemon       463     462 99 05:37 ?        00:00:21 /content/elasticsearch-7.9.2/jdk/bin/java -Xshar\n",
            "root         767     765  0 05:38 ?        00:00:00 grep elasticsearch\n"
          ]
        }
      ],
      "source": [
        "%%bash\n",
        "\n",
        "ps -ef | grep elasticsearch"
      ]
    },
    {
      "cell_type": "code",
      "execution_count": 1,
      "metadata": {
        "colab": {
          "base_uri": "https://localhost:8080/"
        },
        "id": "_VedP3__mozQ",
        "outputId": "862d84fb-a4e4-4772-dc41-f78f3b28d677"
      },
      "outputs": [
        {
          "name": "stdout",
          "output_type": "stream",
          "text": [
            "Microsoft Windows [Version 10.0.22631.3155]\n",
            "(c) Microsoft Corporation. All rights reserved.\n",
            "\n",
            "(myvenv-311) c:\\Users\\aburi\\Documents\\AburizalAN\\learn-ml\\elasticsearch>\n",
            "(myvenv-311) c:\\Users\\aburi\\Documents\\AburizalAN\\learn-ml\\elasticsearch>curl -sX GET \"http://localhost:9200/_cat/indices?v\"\n",
            "health status index     uuid                   pri rep docs.count docs.deleted store.size pri.store.size dataset.size\n",
            "yellow open   orders    5DbLkctPRuyfkHt_7nEYvQ   1   1          0            0       249b           249b         249b\n",
            "yellow open   customers UHZwPwc_QFyO9wV5ACJrGg   1   1          1            0        5kb            5kb          5kb\n",
            "yellow open   products  umVvKqiSSeWGAzbcuCVgHQ   1   1          2            0      9.7kb          9.7kb        9.7kb\n",
            "\n",
            "(myvenv-311) c:\\Users\\aburi\\Documents\\AburizalAN\\learn-ml\\elasticsearch>"
          ]
        }
      ],
      "source": [
        "%%cmd\n",
        "\n",
        "curl -sX GET \"http://localhost:9200/_cat/indices?v\""
      ]
    },
    {
      "cell_type": "markdown",
      "metadata": {
        "id": "rYUMLd4XmI0b"
      },
      "source": [
        "import the packages we need\n"
      ]
    },
    {
      "cell_type": "code",
      "execution_count": 2,
      "metadata": {
        "id": "9dlgQGWKmI0b"
      },
      "outputs": [],
      "source": [
        "from elasticsearch import Elasticsearch\n",
        "import time\n",
        "import json"
      ]
    },
    {
      "cell_type": "markdown",
      "metadata": {
        "id": "BRLf17LRmI0c"
      },
      "source": [
        "Create a connection to elasticsearch, make sure elasticsearch is running on your computer's localhost or is running on Google Collab.\n"
      ]
    },
    {
      "cell_type": "code",
      "execution_count": 3,
      "metadata": {
        "id": "pKl-k8lvmI0c"
      },
      "outputs": [],
      "source": [
        "es = Elasticsearch([{'host': 'localhost', 'port': 9200, 'scheme': 'http'}])"
      ]
    },
    {
      "cell_type": "code",
      "execution_count": 4,
      "metadata": {
        "id": "Trbs8RPjnNdy"
      },
      "outputs": [],
      "source": [
        "ES_NODES = \"http://localhost:9200\"\n",
        "es = Elasticsearch(hosts = [ES_NODES])"
      ]
    },
    {
      "cell_type": "markdown",
      "metadata": {
        "id": "esL1NRfvmI0c"
      },
      "source": [
        "Creating an **Index**\n"
      ]
    },
    {
      "cell_type": "code",
      "execution_count": 22,
      "metadata": {
        "colab": {
          "base_uri": "https://localhost:8080/",
          "height": 381
        },
        "id": "5ZsFv42NmI0c",
        "outputId": "85ca6dc5-c55f-4ff5-eddb-42efdb8b728c"
      },
      "outputs": [
        {
          "name": "stdout",
          "output_type": "stream",
          "text": [
            "{\n",
            "    \"acknowledged\": true,\n",
            "    \"shards_acknowledged\": true,\n",
            "    \"index\": \"customers\"\n",
            "}\n"
          ]
        }
      ],
      "source": [
        "# Create index customers\n",
        "# PUT http://localhost:9200/customers\n",
        "response = es.options(ignore_status=[400]).indices.create(index='customers')\n",
        "print(json.dumps(response.body, indent=4))"
      ]
    },
    {
      "cell_type": "code",
      "execution_count": 23,
      "metadata": {
        "colab": {
          "base_uri": "https://localhost:8080/"
        },
        "id": "ylIdgkt6mI0d",
        "outputId": "d1e36103-2882-41c0-d879-d396e0c28eb8"
      },
      "outputs": [
        {
          "name": "stdout",
          "output_type": "stream",
          "text": [
            "{\n",
            "    \"acknowledged\": true,\n",
            "    \"shards_acknowledged\": true,\n",
            "    \"index\": \"products\"\n",
            "}\n"
          ]
        },
        {
          "name": "stderr",
          "output_type": "stream",
          "text": [
            "C:\\Users\\aburi\\AppData\\Local\\Temp\\ipykernel_59112\\645888145.py:3: DeprecationWarning: Passing transport options in the API method is deprecated. Use 'Elasticsearch.options()' instead.\n",
            "  response = es.indices.create(index='products', ignore=400)\n"
          ]
        }
      ],
      "source": [
        "# Create index products\n",
        "# PUT http://localhost:9200/products\n",
        "response = es.indices.create(index='products', ignore=400)\n",
        "print(json.dumps(response.body, indent=4))"
      ]
    },
    {
      "cell_type": "code",
      "execution_count": 24,
      "metadata": {
        "colab": {
          "base_uri": "https://localhost:8080/"
        },
        "id": "tyKI1eTfmI0d",
        "outputId": "f5ac3cfd-489f-4b5c-da16-b87f084dc3dc"
      },
      "outputs": [
        {
          "name": "stdout",
          "output_type": "stream",
          "text": [
            "{\n",
            "    \"acknowledged\": true,\n",
            "    \"shards_acknowledged\": true,\n",
            "    \"index\": \"orders\"\n",
            "}\n"
          ]
        }
      ],
      "source": [
        "# Create index orders\n",
        "# PUT http://localhost:9200/orders\n",
        "response = es.options(ignore_status=[400]).indices.create(index='orders')\n",
        "print(json.dumps(response.body, indent=4))"
      ]
    },
    {
      "cell_type": "code",
      "execution_count": 25,
      "metadata": {
        "colab": {
          "base_uri": "https://localhost:8080/",
          "height": 381
        },
        "id": "56faSwD3mI0d",
        "outputId": "61b3ebbb-d6bc-49db-db20-6a0d6fad13fb"
      },
      "outputs": [
        {
          "name": "stdout",
          "output_type": "stream",
          "text": [
            "health status index     uuid                   pri rep docs.count docs.deleted store.size pri.store.size dataset.size\n",
            "yellow open   orders    Ij2QagwDS4aoQRna8X7HGw   1   1          0            0       227b           227b         227b\n",
            "yellow open   customers XFZlssBtQPK6CM3eFzbWyQ   1   1          0            0       227b           227b         227b\n",
            "yellow open   products  7SETSXQsTEKO2egH7JyqTQ   1   1          0            0       227b           227b         227b\n",
            "\n"
          ]
        }
      ],
      "source": [
        "# Get All Indexes\n",
        "# GET http://localhost:9200/_cat/indices?v\n",
        "response = es.cat.indices(v=True)\n",
        "print(response)"
      ]
    },
    {
      "cell_type": "markdown",
      "metadata": {
        "id": "rzeUfUCrmI0d"
      },
      "source": [
        "### Deleting an Index\n",
        "\n",
        "To delete an index that you've created, you can simply use the DELETE HTTP method. Deleting an index will automatically remove all data associated with that index. Here's how you can do it:\n",
        "\n",
        "```bash\n",
        "DELETE /{index_name}\n",
        "```\n",
        "\n",
        "Just replace {index_name} with the name of the index you wish to delete. But be careful, this operation is irreversible. Once an index is deleted, all the data within it is permanently lost unless you have a backup or recovery mechanism in place.\n"
      ]
    },
    {
      "cell_type": "markdown",
      "metadata": {
        "id": "tfyyJwGxmI0d"
      },
      "source": [
        "Delete Index\n"
      ]
    },
    {
      "cell_type": "code",
      "execution_count": 15,
      "metadata": {
        "id": "SrrTQiJpmI0d"
      },
      "outputs": [
        {
          "name": "stdout",
          "output_type": "stream",
          "text": [
            "{\n",
            "    \"acknowledged\": true\n",
            "}\n"
          ]
        }
      ],
      "source": [
        "# Delete index customers\n",
        "# DELETE http://localhost:9200/customers\n",
        "response = es.options(ignore_status=[400, 404]).indices.delete(index='customers')\n",
        "print(json.dumps(response.body, indent=4))"
      ]
    },
    {
      "cell_type": "code",
      "execution_count": 16,
      "metadata": {
        "id": "ZbMkqHUlmI0d"
      },
      "outputs": [
        {
          "name": "stdout",
          "output_type": "stream",
          "text": [
            "{\n",
            "    \"acknowledged\": true\n",
            "}\n"
          ]
        }
      ],
      "source": [
        "# Delete index products\n",
        "# DELETE http://localhost:9200/products\n",
        "response = es.options(ignore_status=[400, 404]).indices.delete(index='products')\n",
        "print(json.dumps(response.body, indent=4))"
      ]
    },
    {
      "cell_type": "code",
      "execution_count": 17,
      "metadata": {
        "id": "mCEvBvJgmI0e"
      },
      "outputs": [
        {
          "name": "stdout",
          "output_type": "stream",
          "text": [
            "{\n",
            "    \"acknowledged\": true\n",
            "}\n"
          ]
        }
      ],
      "source": [
        "# Delete index orders\n",
        "# DELETE http://localhost:9200/orders\n",
        "response = es.options(ignore_status=[400, 404]).indices.delete(index='orders')\n",
        "print(json.dumps(response.body, indent=4))"
      ]
    },
    {
      "cell_type": "code",
      "execution_count": 19,
      "metadata": {
        "id": "-V5OJ3k-mI0e"
      },
      "outputs": [
        {
          "name": "stdout",
          "output_type": "stream",
          "text": [
            "health status index uuid pri rep docs.count docs.deleted store.size pri.store.size dataset.size\n",
            "\n"
          ]
        }
      ],
      "source": [
        "# Get All Indexes\n",
        "# GET http://localhost:9200/_cat/indices?v\n",
        "response = es.cat.indices(v=True)\n",
        "print(response)"
      ]
    },
    {
      "cell_type": "markdown",
      "metadata": {
        "id": "5HsO15hlmI0e"
      },
      "source": [
        "## Dynamic Mapping in Elasticsearch\n",
        "\n",
        "In Elasticsearch, defining the schema of an index is known as mapping. By default, a feature called Dynamic Mapping is enabled, where Elasticsearch auto-detects the data type of each JSON attribute and creates a mapping accordingly.\n",
        "\n",
        "While convenient, it's generally recommended to manually create mappings for better control over data indexing and querying. This ensures proper interpretation and storage of your data.\n",
        "\n",
        "### Dynamic Field Mapping\n",
        "\n",
        "This feature auto-detects the data type of a field in a JSON document and assigns a corresponding Elasticsearch data type:\n",
        "\n",
        "| JSON Data Type | Elasticsearch Data Type                 |\n",
        "| -------------- | --------------------------------------- |\n",
        "| null           | No field added                          |\n",
        "| true / false   | boolean                                 |\n",
        "| double         | float                                   |\n",
        "| long           | long                                    |\n",
        "| array          | Depends on the first data item type     |\n",
        "| string         | date, float, long, text (auto-detected) |\n",
        "\n",
        "### Date Detection\n",
        "\n",
        "By default, Elasticsearch detects if a string data is in a date format and assigns it a date data type using the format `yyyy/MM/dd HH:mm:ss`. This feature is active by default but can be deactivated by setting the `date_detection` attribute in the mapping to `false`. The date format can be changed by adjusting the `dynamic_date_formats` attribute in the mapping.\n"
      ]
    },
    {
      "cell_type": "markdown",
      "metadata": {
        "id": "fZJ4iuCSmI0e"
      },
      "source": [
        "Update Dynamic Mapping for Date\n"
      ]
    },
    {
      "cell_type": "code",
      "execution_count": 26,
      "metadata": {
        "id": "DS8nKNj9mI0e"
      },
      "outputs": [
        {
          "name": "stdout",
          "output_type": "stream",
          "text": [
            "{\n",
            "    \"acknowledged\": true\n",
            "}\n",
            "{\n",
            "    \"customers\": {\n",
            "        \"mappings\": {\n",
            "            \"properties\": {\n",
            "                \"date\": {\n",
            "                    \"type\": \"date\",\n",
            "                    \"format\": \"yyyy-MM-dd HH:mm:ss||yyyy-MM-dd||yyyy/MM/dd HH:mm:ss||yyyy/MM/dd\"\n",
            "                },\n",
            "                \"register_at\": {\n",
            "                    \"type\": \"date\",\n",
            "                    \"format\": \"yyyy-MM-dd HH:mm:ss||yyyy-MM-dd||yyyy/MM/dd HH:mm:ss||yyyy/MM/dd\"\n",
            "                }\n",
            "            }\n",
            "        }\n",
            "    }\n",
            "}\n"
          ]
        }
      ],
      "source": [
        "# Update customers mapping\n",
        "# PUT http://localhost:9200/customers/_mapping\n",
        "response = es.indices.put_mapping(index='customers', body={\n",
        "    'properties': {\n",
        "        'date': {\n",
        "            'type': 'date',\n",
        "            'format': 'yyyy-MM-dd HH:mm:ss||yyyy-MM-dd||yyyy/MM/dd HH:mm:ss||yyyy/MM/dd'\n",
        "        },\n",
        "        'register_at': {\n",
        "            'type': 'date',\n",
        "            'format': 'yyyy-MM-dd HH:mm:ss||yyyy-MM-dd||yyyy/MM/dd HH:mm:ss||yyyy/MM/dd'\n",
        "        }\n",
        "    }\n",
        "})\n",
        "print(json.dumps(response.body, indent=4))\n",
        "\n",
        "# Get Mapping\n",
        "# GET http://localhost:9200/customers/_mapping\n",
        "response = es.indices.get_mapping(index='customers')\n",
        "print(json.dumps(response.body, indent=4))"
      ]
    },
    {
      "cell_type": "code",
      "execution_count": 27,
      "metadata": {
        "id": "KVBQPD2HmI0e"
      },
      "outputs": [
        {
          "name": "stdout",
          "output_type": "stream",
          "text": [
            "{\n",
            "    \"acknowledged\": true\n",
            "}\n",
            "{\n",
            "    \"products\": {\n",
            "        \"mappings\": {\n",
            "            \"properties\": {\n",
            "                \"date\": {\n",
            "                    \"type\": \"date\",\n",
            "                    \"format\": \"yyyy-MM-dd HH:mm:ss||yyyy-MM-dd||yyyy/MM/dd HH:mm:ss||yyyy/MM/dd\"\n",
            "                }\n",
            "            }\n",
            "        }\n",
            "    }\n",
            "}\n"
          ]
        }
      ],
      "source": [
        "# Update products mapping\n",
        "# PUT http://localhost:9200/products/_mapping\n",
        "response = es.indices.put_mapping(index='products', body={\n",
        "    'properties': {\n",
        "        'date': {\n",
        "            'type': 'date',\n",
        "            'format': 'yyyy-MM-dd HH:mm:ss||yyyy-MM-dd||yyyy/MM/dd HH:mm:ss||yyyy/MM/dd'\n",
        "        }\n",
        "    }\n",
        "})\n",
        "print(json.dumps(response.body, indent=4))\n",
        "\n",
        "# Get Mapping\n",
        "# GET http://localhost:9200/products/_mapping\n",
        "response = es.indices.get_mapping(index='products')\n",
        "print(json.dumps(response.body, indent=4))"
      ]
    },
    {
      "cell_type": "code",
      "execution_count": 29,
      "metadata": {
        "id": "-0uBLArtmI0e"
      },
      "outputs": [
        {
          "name": "stdout",
          "output_type": "stream",
          "text": [
            "{\n",
            "    \"acknowledged\": true\n",
            "}\n",
            "{\n",
            "    \"orders\": {\n",
            "        \"mappings\": {\n",
            "            \"properties\": {\n",
            "                \"date\": {\n",
            "                    \"type\": \"date\",\n",
            "                    \"format\": \"yyyy-MM-dd HH:mm:ss||yyyy-MM-dd||yyyy/MM/dd HH:mm:ss||yyyy/MM/dd\"\n",
            "                }\n",
            "            }\n",
            "        }\n",
            "    }\n",
            "}\n"
          ]
        }
      ],
      "source": [
        "# Update orders mapping\n",
        "# PUT http://localhost:9200/orders/_mapping\n",
        "response = es.indices.put_mapping(index='orders', body={\n",
        "    'properties': {\n",
        "        'date': {\n",
        "            'type': 'date',\n",
        "            'format': 'yyyy-MM-dd HH:mm:ss||yyyy-MM-dd||yyyy/MM/dd HH:mm:ss||yyyy/MM/dd'\n",
        "        }\n",
        "    }\n",
        "})\n",
        "print(json.dumps(response.body, indent=4))\n",
        "\n",
        "# Get Mapping\n",
        "# GET http://localhost:9200/orders/_mapping\n",
        "response = es.indices.get_mapping(index='orders')\n",
        "print(json.dumps(response.body, indent=4))"
      ]
    },
    {
      "cell_type": "markdown",
      "metadata": {
        "id": "TV3OUpaOmI0e"
      },
      "source": [
        "### Number Detection\n",
        "\n",
        "Although JSON has a number data type, sometimes users send numbers in a string format, such as \"100\" or \"12.12\". In these cases, Elasticsearch may need to detect and convert these string-formatted numbers to actual number data types (long or float).\n",
        "\n",
        "By default, automatic number detection is not active in Elasticsearch. If you want to activate it, you need to change the `numeric_detection` attribute in the mapping to `true`.\n",
        "\n",
        "If a mapping for a certain attribute is not yet available, Elasticsearch will automatically try to convert the data to a number type (either long or float). If the conversion is successful, Elasticsearch will use the corresponding number data type for the field.\n"
      ]
    },
    {
      "cell_type": "code",
      "execution_count": 18,
      "metadata": {
        "id": "c5Nt8yqSmI0e"
      },
      "outputs": [
        {
          "name": "stdout",
          "output_type": "stream",
          "text": [
            "{\n",
            "    \"acknowledged\": true\n",
            "}\n",
            "{\n",
            "    \"customers\": {\n",
            "        \"mappings\": {\n",
            "            \"numeric_detection\": true,\n",
            "            \"properties\": {\n",
            "                \"date\": {\n",
            "                    \"type\": \"date\",\n",
            "                    \"format\": \"yyyy-MM-dd HH:mm:ss||yyyy-MM-dd||yyyy/MM/dd HH:mm:ss||yyyy/MM/dd\"\n",
            "                },\n",
            "                \"register_at\": {\n",
            "                    \"type\": \"date\",\n",
            "                    \"format\": \"yyyy-MM-dd HH:mm:ss||yyyy-MM-dd||yyyy/MM/dd HH:mm:ss||yyyy/MM/dd\"\n",
            "                }\n",
            "            }\n",
            "        }\n",
            "    }\n",
            "}\n"
          ]
        }
      ],
      "source": [
        "# Update customers mapping\n",
        "# PUT http://localhost:9200/customers/_mapping\n",
        "response = es.indices.put_mapping(index='customers', body={\n",
        "    'numeric_detection': True\n",
        "})\n",
        "print(json.dumps(response.body, indent=4))\n",
        "\n",
        "# Get Mapping\n",
        "# GET http://localhost:9200/customers/_mapping\n",
        "response = es.indices.get_mapping(index='customers')\n",
        "print(json.dumps(response.body, indent=4))"
      ]
    },
    {
      "cell_type": "code",
      "execution_count": 19,
      "metadata": {
        "id": "X6Or-YAKmI0e"
      },
      "outputs": [
        {
          "name": "stdout",
          "output_type": "stream",
          "text": [
            "{\n",
            "    \"acknowledged\": true\n",
            "}\n",
            "{\n",
            "    \"products\": {\n",
            "        \"mappings\": {\n",
            "            \"numeric_detection\": true,\n",
            "            \"properties\": {\n",
            "                \"date\": {\n",
            "                    \"type\": \"date\",\n",
            "                    \"format\": \"yyyy-MM-dd HH:mm:ss||yyyy-MM-dd||yyyy/MM/dd HH:mm:ss||yyyy/MM/dd\"\n",
            "                }\n",
            "            }\n",
            "        }\n",
            "    }\n",
            "}\n"
          ]
        }
      ],
      "source": [
        "# Update products mapping\n",
        "# PUT http://localhost:9200/products/_mapping\n",
        "response = es.indices.put_mapping(index='products', body={\n",
        "    'numeric_detection': True\n",
        "})\n",
        "print(json.dumps(response.body, indent=4))\n",
        "\n",
        "# Get Mapping\n",
        "# GET http://localhost:9200/products/_mapping\n",
        "response = es.indices.get_mapping(index='products')\n",
        "print(json.dumps(response.body, indent=4))"
      ]
    },
    {
      "cell_type": "code",
      "execution_count": 20,
      "metadata": {
        "id": "q2P04NVfmI0e"
      },
      "outputs": [
        {
          "name": "stdout",
          "output_type": "stream",
          "text": [
            "{\n",
            "    \"acknowledged\": true\n",
            "}\n",
            "{\n",
            "    \"orders\": {\n",
            "        \"mappings\": {\n",
            "            \"numeric_detection\": true,\n",
            "            \"properties\": {\n",
            "                \"date\": {\n",
            "                    \"type\": \"date\",\n",
            "                    \"format\": \"yyyy-MM-dd HH:mm:ss||yyyy-MM-dd||yyyy/MM/dd HH:mm:ss||yyyy/MM/dd\"\n",
            "                }\n",
            "            }\n",
            "        }\n",
            "    }\n",
            "}\n"
          ]
        }
      ],
      "source": [
        "# Update orders mapping\n",
        "# PUT http://localhost:9200/orders/_mapping\n",
        "response = es.indices.put_mapping(index='orders', body={\n",
        "    'numeric_detection': True\n",
        "})\n",
        "print(json.dumps(response.body, indent=4))\n",
        "\n",
        "# Get Mapping\n",
        "# GET http://localhost:9200/orders/_mapping\n",
        "response = es.indices.get_mapping(index='orders')\n",
        "print(json.dumps(response.body, indent=4))"
      ]
    },
    {
      "cell_type": "markdown",
      "metadata": {
        "id": "Yn2_kYOrmI0e"
      },
      "source": [
        "## Create API\n",
        "\n",
        "The Create API is used to add new data to Elasticsearch.\n",
        "\n",
        "The Create API has a \"save\" operation, which means it will only create a new document if a document with the provided `_id` does not already exist. Attempting to create a document with an `_id` that already exists will result in a conflict error.\n",
        "\n",
        "To use the Create API, you use either the POST or PUT HTTP method with the following endpoint:\n",
        "\n",
        "```bash\n",
        "POST/PUT /<index_name>/_create/<id>\n",
        "```\n",
        "\n",
        "Here, `<index_name>` is the name of the index where you want to create the document, and `<id>` is the unique identifier you want to assign to the new document. If the document is successfully created, Elasticsearch will return a confirmation response.\n"
      ]
    },
    {
      "cell_type": "markdown",
      "metadata": {
        "id": "oAibAv51mI0f"
      },
      "source": [
        "Create Customer\n"
      ]
    },
    {
      "cell_type": "code",
      "execution_count": 21,
      "metadata": {
        "id": "mSNmegjqmI0f"
      },
      "outputs": [
        {
          "name": "stdout",
          "output_type": "stream",
          "text": [
            "{\n",
            "    \"_index\": \"customers\",\n",
            "    \"_id\": \"aditira\",\n",
            "    \"_version\": 1,\n",
            "    \"result\": \"created\",\n",
            "    \"_shards\": {\n",
            "        \"total\": 2,\n",
            "        \"successful\": 1,\n",
            "        \"failed\": 0\n",
            "    },\n",
            "    \"_seq_no\": 0,\n",
            "    \"_primary_term\": 1\n",
            "}\n",
            "{\n",
            "    \"customers\": {\n",
            "        \"mappings\": {\n",
            "            \"numeric_detection\": true,\n",
            "            \"properties\": {\n",
            "                \"date\": {\n",
            "                    \"type\": \"date\",\n",
            "                    \"format\": \"yyyy-MM-dd HH:mm:ss||yyyy-MM-dd||yyyy/MM/dd HH:mm:ss||yyyy/MM/dd\"\n",
            "                },\n",
            "                \"name\": {\n",
            "                    \"type\": \"text\",\n",
            "                    \"fields\": {\n",
            "                        \"keyword\": {\n",
            "                            \"type\": \"keyword\",\n",
            "                            \"ignore_above\": 256\n",
            "                        }\n",
            "                    }\n",
            "                },\n",
            "                \"register_at\": {\n",
            "                    \"type\": \"date\",\n",
            "                    \"format\": \"yyyy-MM-dd HH:mm:ss||yyyy-MM-dd||yyyy/MM/dd HH:mm:ss||yyyy/MM/dd\"\n",
            "                }\n",
            "            }\n",
            "        }\n",
            "    }\n",
            "}\n"
          ]
        }
      ],
      "source": [
        "# Insert customers aditira\n",
        "# POST http://localhost:9200/customers/_create/aditira\n",
        "response = es.index(index='customers', id='aditira', body={\n",
        "    'name': 'Aditira Jamhuri',\n",
        "    'register_at': '2023-11-30 00:00:00',\n",
        "})\n",
        "print(json.dumps(response.body, indent=4))\n",
        "\n",
        "# Get Mapping\n",
        "# GET http://localhost:9200/customers/_mapping\n",
        "response = es.indices.get_mapping(index='customers')\n",
        "print(json.dumps(response.body, indent=4))"
      ]
    },
    {
      "cell_type": "markdown",
      "metadata": {
        "id": "KE5j6XqVmI0f"
      },
      "source": [
        "Create Product\n"
      ]
    },
    {
      "cell_type": "code",
      "execution_count": 22,
      "metadata": {
        "id": "2HMDuIh-mI0f"
      },
      "outputs": [
        {
          "name": "stdout",
          "output_type": "stream",
          "text": [
            "{\n",
            "    \"_index\": \"products\",\n",
            "    \"_id\": \"1\",\n",
            "    \"_version\": 1,\n",
            "    \"result\": \"created\",\n",
            "    \"_shards\": {\n",
            "        \"total\": 2,\n",
            "        \"successful\": 1,\n",
            "        \"failed\": 0\n",
            "    },\n",
            "    \"_seq_no\": 0,\n",
            "    \"_primary_term\": 1\n",
            "}\n"
          ]
        }
      ],
      "source": [
        "# Insert products 1\n",
        "# POST http://localhost:9200/products/_create/1\n",
        "response = es.index(index='products', id='1', body={\n",
        "    'name': 'Product 1',\n",
        "    'price': 10000,\n",
        "})\n",
        "print(json.dumps(response.body, indent=4))"
      ]
    },
    {
      "cell_type": "code",
      "execution_count": 23,
      "metadata": {
        "id": "mMQ1uIZQmI0f"
      },
      "outputs": [
        {
          "name": "stdout",
          "output_type": "stream",
          "text": [
            "{\n",
            "    \"_index\": \"products\",\n",
            "    \"_id\": \"2\",\n",
            "    \"_version\": 1,\n",
            "    \"result\": \"created\",\n",
            "    \"_shards\": {\n",
            "        \"total\": 2,\n",
            "        \"successful\": 1,\n",
            "        \"failed\": 0\n",
            "    },\n",
            "    \"_seq_no\": 1,\n",
            "    \"_primary_term\": 1\n",
            "}\n"
          ]
        }
      ],
      "source": [
        "# Insert products 2\n",
        "# POST http://localhost:9200/products/_create/2\n",
        "response = es.index(index='products', id='2', body={\n",
        "    'name': 'Product 2',\n",
        "    'price': 20000,\n",
        "})\n",
        "print(json.dumps(response.body, indent=4))"
      ]
    },
    {
      "cell_type": "code",
      "execution_count": null,
      "metadata": {
        "id": "l98XFnqomI0f"
      },
      "outputs": [],
      "source": [
        "# Get Mapping\n",
        "# GET http://localhost:9200/products/_mapping\n",
        "response = es.indices.get_mapping(index='products')\n",
        "print(json.dumps(response.body, indent=4))"
      ]
    },
    {
      "cell_type": "markdown",
      "metadata": {
        "id": "XxzDpTJ3mI0f"
      },
      "source": [
        "Create Order\n"
      ]
    },
    {
      "cell_type": "code",
      "execution_count": null,
      "metadata": {
        "id": "J6E_ZELLmI0f"
      },
      "outputs": [],
      "source": [
        "# Insert orders 1\n",
        "# POST http://localhost:9200/orders/_create/1\n",
        "response = es.index(index='orders', id='1', body={\n",
        "    \"order_date\": \"2023-12-01 00:00:00\",\n",
        "    \"customer_id\": \"aditira\",\n",
        "    \"total\": 40000,\n",
        "    \"items\": [\n",
        "        {\n",
        "            \"product_id\": \"1\",\n",
        "            \"price\": 10000,\n",
        "            \"quantity\": 2\n",
        "        },\n",
        "        {\n",
        "            \"product_id\": \"2\",\n",
        "            \"price\": 20000,\n",
        "            \"quantity\": 1\n",
        "        }\n",
        "    ]\n",
        "})\n",
        "print(json.dumps(response.body, indent=4))\n",
        "\n",
        "# Get Mapping\n",
        "# GET http://localhost:9200/orders/_mapping\n",
        "response = es.indices.get_mapping(index='orders')\n",
        "print(json.dumps(response.body, indent=4))"
      ]
    },
    {
      "cell_type": "markdown",
      "metadata": {
        "id": "ZyZ_-dNZmI0f"
      },
      "source": [
        "## Get API\n",
        "\n",
        "Once you've stored data in Elasticsearch using the Create API, you can retrieve this data using the Get API.\n",
        "\n",
        "The Get API returns the requested data along with its associated metadata, such as the `_id`, index name, document version, and so on.\n",
        "\n",
        "If the data you're trying to retrieve is not available (i.e., there is no document with the requested `_id` in the specified index), the HTTP response code will be 404 Not Found.\n",
        "\n",
        "To use the Get API, you make an HTTP GET request to the following endpoint:\n",
        "\n",
        "```bash\n",
        "GET /<index_name>/_doc/<id>\n",
        "```\n",
        "\n",
        "In this endpoint, `<index_name>` is the name of the index from which you want to retrieve data, and `<id>` is the unique identifier of the document you want to retrieve. If the document is found, Elasticsearch will return the document and its metadata in the response.\n"
      ]
    },
    {
      "cell_type": "markdown",
      "metadata": {
        "id": "JGvzw0nCmI0f"
      },
      "source": [
        "Get Document\n"
      ]
    },
    {
      "cell_type": "code",
      "execution_count": null,
      "metadata": {
        "id": "mJRcrtUcmI0k"
      },
      "outputs": [],
      "source": [
        "# Get Customers aditira\n",
        "# GET http://localhost:9200/customers/_doc/aditira\n",
        "response = es.get(index='customers', id='aditira')\n",
        "print(json.dumps(response.body, indent=4))"
      ]
    },
    {
      "cell_type": "markdown",
      "metadata": {
        "id": "hdifxNhImI0k"
      },
      "source": [
        "### Get Source API\n",
        "\n",
        "If you're interested in retrieving the document data but do not wish to receive the metadata associated with the document, you can use the Get Source API.\n",
        "\n",
        "To use the Get Source API, you make an HTTP GET request to the following endpoint:\n",
        "\n",
        "```\n",
        "GET /<index_name>/_source/<id>\n",
        "```\n",
        "\n",
        "In this endpoint, `<index_name>` is the name of the index from which you want to retrieve data, and `<id>` is the unique identifier of the document you want to retrieve.\n",
        "\n",
        "This call will return only the actual data that you inserted, without any of the metadata information, including the `_id`. This is because the `_id` is already included in the URL where you're making the HTTP call. As such, if the document is found, Elasticsearch will return the document data in the response, without any metadata.\n"
      ]
    },
    {
      "cell_type": "markdown",
      "metadata": {
        "id": "YL23m5Z0mI0l"
      },
      "source": [
        "Get Source Document\n"
      ]
    },
    {
      "cell_type": "code",
      "execution_count": null,
      "metadata": {
        "id": "gUcPSX5ImI0l"
      },
      "outputs": [],
      "source": [
        "# Get Source Customers aditira\n",
        "# GET http://localhost:9200/customers/_doc/aditira/_source\n",
        "response = es.get_source(index='customers', id='aditira')\n",
        "print(json.dumps(response.body, indent=4))"
      ]
    },
    {
      "cell_type": "markdown",
      "metadata": {
        "id": "uSgDE37wmI0l"
      },
      "source": [
        "### Check Exists\n",
        "\n",
        "There may be cases where you only want to check if a document exists in an index, without needing to retrieve the document's data. In such cases, you can use the Get API, but with the HTTP method `HEAD` instead of `GET`.\n",
        "\n",
        "To check if a document exists, you make an HTTP `HEAD` request to the following endpoint:\n",
        "\n",
        "```bash\n",
        "HEAD /<index_name>/_doc/<id>\n",
        "```\n",
        "\n",
        "In this endpoint, `<index_name>` is the name of the index where you're checking for the document, and `<id>` is the unique identifier of the document you're checking for.\n",
        "\n",
        "Elasticsearch will return a `200 OK` response without any body if the document exists. If the document does not exist, it will return a `404 Not Found` response. This is a quick and efficient way to check for the existence of a document without retrieving or transferring any data.\n"
      ]
    },
    {
      "cell_type": "markdown",
      "metadata": {
        "id": "WbKPsLWUmI0l"
      },
      "source": [
        "If data exists\n"
      ]
    },
    {
      "cell_type": "code",
      "execution_count": null,
      "metadata": {
        "id": "CjWp1Q2BmI0l"
      },
      "outputs": [],
      "source": [
        "# Check Customers aditira\n",
        "# HEAD http://localhost:9200/customers/_doc/aditira\n",
        "response = es.exists(index='customers', id='aditira')\n",
        "print(json.dumps(response.body, indent=4))"
      ]
    },
    {
      "cell_type": "markdown",
      "metadata": {
        "id": "vucwHqasmI0l"
      },
      "source": [
        "If the data does not exist\n"
      ]
    },
    {
      "cell_type": "code",
      "execution_count": null,
      "metadata": {
        "id": "3vjp3ak_mI0l"
      },
      "outputs": [],
      "source": [
        "# Check Customers wrong\n",
        "# HEAD http://localhost:9200/customers/_doc/wrong\n",
        "response = es.exists(index='customers', id='wrong')\n",
        "print(json.dumps(response.body, indent=4))"
      ]
    },
    {
      "cell_type": "markdown",
      "metadata": {
        "id": "AnBke0Y2mI0l"
      },
      "source": [
        "## Multi Get API\n",
        "\n",
        "Elasticsearch provides a Multi Get API that allows you to retrieve multiple documents at once. This is useful when you need to fetch documents from different indices in a single API call.\n",
        "\n",
        "You can use the Multi Get API with the following RESTful API endpoints:\n",
        "\n",
        "```bash\n",
        "POST /_mget\n",
        "POST /<index_name>/_mget\n",
        "```\n",
        "\n",
        "In these endpoints, `<index_name>` is the name of the index from which you want to retrieve documents. If you omit the `<index_name>`, Elasticsearch will retrieve documents from all indices.\n",
        "\n",
        "The `_mget` endpoint accepts a request body that specifies the documents to retrieve. The request body should be a JSON object that contains an `ids` array, like this:\n",
        "\n",
        "```json\n",
        "{\n",
        "  \"ids\": [\"1\", \"2\", \"3\", \"4\"]\n",
        "}\n",
        "```\n",
        "\n",
        "If you're using `<index_name>/_mget`, then all IDs in the `ids` array will be retrieved from the specified index. If you're using `/_mget`, you can specify the index for each ID in the `ids` array, like this:\n",
        "\n",
        "```json\n",
        "{\n",
        "  \"docs\": [\n",
        "    {\n",
        "      \"_index\": \"index1\",\n",
        "      \"_id\": \"1\"\n",
        "    },\n",
        "    {\n",
        "      \"_index\": \"index2\",\n",
        "      \"_id\": \"2\"\n",
        "    }\n",
        "  ]\n",
        "}\n",
        "```\n",
        "\n",
        "In this case, Elasticsearch will retrieve each document from the specified index.\n",
        "\n",
        "The Multi Get API is a powerful tool that can significantly reduce the number of API calls you need to make when working with multiple documents across multiple indices.\n"
      ]
    },
    {
      "cell_type": "markdown",
      "metadata": {
        "id": "1EsvcW94mI0l"
      },
      "source": [
        "Multiget Document\n"
      ]
    },
    {
      "cell_type": "code",
      "execution_count": null,
      "metadata": {
        "id": "7v_jqpn0mI0l"
      },
      "outputs": [],
      "source": [
        "# Multiget products\n",
        "# POST http://localhost:9200/products/_mget\n",
        "response = es.mget(index='products', body={\n",
        "    'ids': ['1', '2']\n",
        "})\n",
        "print(json.dumps(response.body, indent=4))"
      ]
    },
    {
      "cell_type": "markdown",
      "metadata": {
        "id": "fNGPbLB3mI0l"
      },
      "source": [
        "## Search API\n",
        "\n",
        "While the Get API is used for retrieving a single document using its `_id`, the Search API in Elasticsearch is used when you want to search for documents without knowing their `_id`. The Search API is quite complex, offering a wide range of querying and filtering options that allow you to perform full-text search, term-based search, and much more.\n",
        "\n",
        "To use the Search API, you can use the following RESTful API endpoints:\n",
        "\n",
        "```bash\n",
        "POST /_search\n",
        "POST /<index_name>/_search\n",
        "```\n",
        "\n",
        "In these endpoints, `<index_name>` is the name of the index that you want to search in. If you don't specify an index name, Elasticsearch will search all indices.\n",
        "\n",
        "The `_search` endpoint accepts a request body that defines the search query. This search query is written in Elasticsearch's Query DSL (domain-specific language), which is a flexible and powerful language for defining queries.\n",
        "\n",
        "Here's a simple example of a search query:\n",
        "\n",
        "```json\n",
        "{\n",
        "  \"query\": {\n",
        "    \"match\": {\n",
        "      \"field_name\": \"search term\"\n",
        "    }\n",
        "  }\n",
        "}\n",
        "```\n",
        "\n",
        "In this query, Elasticsearch will return documents where `field_name` matches the \"search term\".\n",
        "\n",
        "It's important to note that this is just the tip of the iceberg when it comes to the Search API. It supports a wide range of querying and filtering options, allowing you to perform complex searches on your data. More advanced features of the Search API will be covered in later discussions.\n"
      ]
    },
    {
      "cell_type": "markdown",
      "metadata": {
        "id": "FSTTkspomI0l"
      },
      "source": [
        "Search Document\n"
      ]
    },
    {
      "cell_type": "code",
      "execution_count": null,
      "metadata": {
        "id": "oVSS-LADmI0l"
      },
      "outputs": [],
      "source": [
        "# Search products\n",
        "# POST http://localhost:9200/products/_search\n",
        "response = es.search(index='products', body={\n",
        "    \"query\": {\n",
        "    \"match\": {\n",
        "      \"price\": 10000\n",
        "    }\n",
        "  }\n",
        "})\n",
        "print(json.dumps(response.body, indent=4))"
      ]
    },
    {
      "cell_type": "markdown",
      "metadata": {
        "id": "iWGDZlFHmI0l"
      },
      "source": [
        "### Pagination\n",
        "\n",
        "When you are working with large amounts of data, it can be useful to break up the results of a search query into manageable chunks, or \"pages\". Elasticsearch's Search API supports pagination through the use of query parameters.\n",
        "\n",
        "There are two important parameters for pagination:\n",
        "\n",
        "- `from`: This parameter determines the starting document from where the results should be returned. The count starts from 0. So, if you set `from` to 10, Elasticsearch will skip the first 10 results.\n",
        "- `size`: This parameter determines the number of search hits to return. By default, Elasticsearch returns 10 results per page. If you want more or fewer results, you can change the `size` parameter.\n",
        "\n",
        "Here's an example of how to use these parameters in a search query:\n",
        "\n",
        "```json\n",
        "{\n",
        "  \"from\": 0,\n",
        "  \"size\": 20,\n",
        "  \"query\": {\n",
        "    \"match\": {\n",
        "      \"field_name\": \"search term\"\n",
        "    }\n",
        "  }\n",
        "}\n",
        "```\n",
        "\n",
        "In this example, Elasticsearch will return the first 20 documents that match the search term. If you want to get the next 20 documents, you can change `from` to 20:\n",
        "\n",
        "```json\n",
        "{\n",
        "  \"from\": 20,\n",
        "  \"size\": 20,\n",
        "  \"query\": {\n",
        "    \"match\": {\n",
        "      \"field_name\": \"search term\"\n",
        "    }\n",
        "  }\n",
        "}\n",
        "```\n",
        "\n",
        "This way, you can navigate through the search results page by page. It's important to note that the maximum value of `from + size` is 10000 by default. If you need to handle more data, you need to use the scroll API or increase this limit.\n"
      ]
    },
    {
      "cell_type": "markdown",
      "metadata": {
        "id": "W0eiORhrmI0m"
      },
      "source": [
        "Search Document dengan Pagination\n"
      ]
    },
    {
      "cell_type": "code",
      "execution_count": null,
      "metadata": {
        "id": "o-rM-hgGmI0m"
      },
      "outputs": [],
      "source": [
        "# Search products page 1\n",
        "# POST http://localhost:9200/products/_search?size=1&from=0\n",
        "response = es.search(index='products', body={\n",
        "    'size': 1,\n",
        "    'from': 0\n",
        "})\n",
        "print(json.dumps(response.body, indent=4))"
      ]
    },
    {
      "cell_type": "code",
      "execution_count": null,
      "metadata": {
        "id": "baZKCr-2mI0m"
      },
      "outputs": [],
      "source": [
        "# Search products page 2\n",
        "# POST http://localhost:9200/products/_search?size=1&from=1\n",
        "response = es.search(index='products', body={\n",
        "    'size': 1,\n",
        "    'from': 1\n",
        "})\n",
        "print(json.dumps(response.body, indent=4))"
      ]
    },
    {
      "cell_type": "markdown",
      "metadata": {
        "id": "f2VcHDqPmI0m"
      },
      "source": [
        "### Sorting\n",
        "\n",
        "The Search API in Elasticsearch also supports sorting of the search results. This is done using the sort query parameter.\n",
        "\n",
        "The sort parameter's value is defined as:\n",
        "\n",
        "```bash\n",
        "<field>:<direction>\n",
        "```\n",
        "\n",
        "In this, `<field>` is the name of the field you want to sort by and `<direction>` can be either `asc` (for ascending order) or `desc` (for descending order).\n",
        "\n",
        "For example, if you have a timestamp field in your documents and you want to sort the results in descending order of `timestamp`, you can do this:\n",
        "\n",
        "```json\n",
        "{\n",
        "  \"query\": {\n",
        "    \"match\": {\n",
        "      \"field_name\": \"search term\"\n",
        "    }\n",
        "  },\n",
        "  \"sort\": [{ \"timestamp\": { \"order\": \"desc\" } }]\n",
        "}\n",
        "```\n",
        "\n",
        "If you need to sort by more than one field, you can specify multiple fields separated by commas. The sorting will be applied in the order you specify. For example:\n",
        "\n",
        "```json\n",
        "{\n",
        "  \"query\": {\n",
        "    \"match\": {\n",
        "      \"field_name\": \"search term\"\n",
        "    }\n",
        "  },\n",
        "  \"sort\": [\n",
        "    { \"field1\": { \"order\": \"asc\" } },\n",
        "    { \"field2\": { \"order\": \"desc\" } },\n",
        "    { \"field3\": { \"order\": \"asc\" } }\n",
        "  ]\n",
        "}\n",
        "```\n",
        "\n",
        "In this example, Elasticsearch first sorts the documents in ascending order by `field1`. For documents where `field1` is the same, it then sorts in descending order by `field2`, and so on. This way, you can fine-tune the order of your search results to meet your needs.\n"
      ]
    },
    {
      "cell_type": "markdown",
      "metadata": {
        "id": "--294olCmI0m"
      },
      "source": [
        "Search Document dengan Sorting\n"
      ]
    },
    {
      "cell_type": "code",
      "execution_count": null,
      "metadata": {
        "id": "ZFAR6kEUmI0m"
      },
      "outputs": [],
      "source": [
        "# Search products sort by price\n",
        "# POST http://localhost:9200/products/_search?sort=price:asc\n",
        "response = es.search(index='products', body={\n",
        "    'sort': {\n",
        "        'price': 'asc'\n",
        "    }\n",
        "})\n",
        "print(json.dumps(response.body, indent=4))"
      ]
    },
    {
      "cell_type": "code",
      "execution_count": null,
      "metadata": {
        "id": "ONwbrS08mI0m"
      },
      "outputs": [],
      "source": [
        "# Search products sort by name\n",
        "# POST http://localhost:9200/products/_search?sort=name:asc\n",
        "response = es.search(index='products', body={\n",
        "    'sort': [\n",
        "        { 'name.keyword': 'asc' }\n",
        "    ]\n",
        "})\n",
        "print(json.dumps(response.body, indent=4))"
      ]
    },
    {
      "cell_type": "markdown",
      "metadata": {
        "id": "7Y1LlldemI0m"
      },
      "source": [
        "## Index API\n",
        "\n",
        "In the past, the Index API was commonly used to create documents in Elasticsearch, but in newer versions, the Create API is often used instead. However, the Index API still has its uses.\n",
        "\n",
        "The Index API has a \"create or replace\" nature. This means that if a document with the specified ID does not exist, it will be created. If a document with the specified ID already exists, the existing document will be replaced (deleted and created anew) with the new document.\n",
        "\n",
        "This is a key difference between the Index API and the Create API. With the Create API, if a document with the specified ID already exists, an error conflict will occur. With the Index API, no such error will occur, and the existing document will simply be replaced.\n",
        "\n",
        "To use the Index API, you can use the following RESTful API command:\n",
        "\n",
        "```bash\n",
        "POST /<index_name>/_doc/<id>\n",
        "PUT /<index_name>/_doc/<id>\n",
        "```\n",
        "\n",
        "Here, `<index_name>` is the name of the index where you want to create or replace the document, and `<id>` is the ID of the document.\n",
        "\n",
        "In the body of the request, you would include the full content of the new document you want to create or replace. For example:\n",
        "\n",
        "```bash\n",
        "PUT /my_index/_doc/1\n",
        "{\n",
        "  \"field1\": \"value1\",\n",
        "  \"field2\": \"value2\"\n",
        "}\n",
        "```\n",
        "\n",
        "In this example, a document with ID 1 and the specified fields and values will be created in `my_index`. If a document with ID 1 already exists, it will be replaced with the new document.\n"
      ]
    },
    {
      "cell_type": "markdown",
      "metadata": {
        "id": "NzUj7lXDmI0m"
      },
      "source": [
        "Index Document\n"
      ]
    },
    {
      "cell_type": "code",
      "execution_count": null,
      "metadata": {
        "id": "4ewpnebtmI0m"
      },
      "outputs": [],
      "source": [
        "# Save product 3\n",
        "# POST http://localhost:9200/products/_doc/3\n",
        "response = es.index(index='products', id='3', body={\n",
        "    'name': 'Product 3',\n",
        "    'price': 30000,\n",
        "})\n",
        "print(json.dumps(response.body, indent=4))\n",
        "\n",
        "# Save product 4\n",
        "# POST http://localhost:9200/products/_doc/4\n",
        "response = es.index(index='products', id='4', body={\n",
        "    'name': 'Product 4',\n",
        "    'price': 40000,\n",
        "})\n",
        "print(json.dumps(response.body, indent=4))\n",
        "\n",
        "# Save product 5\n",
        "# POST http://localhost:9200/products/_doc/5\n",
        "response = es.index(index='products', id='5', body={\n",
        "    'name': 'Product 5',\n",
        "    'price': 50000,\n",
        "})\n",
        "print(json.dumps(response.body, indent=4))"
      ]
    },
    {
      "cell_type": "markdown",
      "metadata": {
        "id": "pfDtonDFmI0m"
      },
      "source": [
        "### Choose Create API or Index API?\n",
        "\n",
        "Your choice between Create API and Index API depends on your needs:\n",
        "\n",
        "- **Index API:** This is the most common choice among programmers because it's safe from conflicts if a document with the same ID already exists in Elasticsearch. The Index API will replace the existing document, rather than producing an error.\n",
        "\n",
        "- **Create API:** Use this if you don't want to replace an existing document. If a document with the same ID already exists, the Create API will produce an error. To prevent this, it's recommended to use the Get API first to check if the document already exists.\n"
      ]
    },
    {
      "cell_type": "markdown",
      "metadata": {
        "id": "fbnGiPf6mI0n"
      },
      "source": [
        "## Update API\n",
        "\n",
        "The Index API behaves much like a strict librarian. Upon an update, it replaces the old document entirely, demanding all attributes anew. If you only submit the updated attribute, it overwrites the rest, potentially causing data loss.\n",
        "\n",
        "Need to tweak a few attributes without a full rewrite? Use the Update API, your friendly editor:\n",
        "\n",
        "```bash\n",
        "POST /<index_name>/_update/<id>\n",
        "```\n",
        "\n",
        "But beware, if the document doesn't exist, Elasticsearch returns a 404 Not Found error. Always check your document's existence before updating.\n"
      ]
    },
    {
      "cell_type": "markdown",
      "metadata": {
        "id": "6hWbjrBVmI0n"
      },
      "source": [
        "Update Document\n"
      ]
    },
    {
      "cell_type": "code",
      "execution_count": null,
      "metadata": {
        "id": "ZGNCy8GymI0n"
      },
      "outputs": [],
      "source": [
        "# Update product 5\n",
        "# POST http://localhost:9200/products/_update/5\n",
        "response = es.update(index='products', id='5', body={\n",
        "    'doc': {\n",
        "        'price': 50000000\n",
        "    }\n",
        "})\n",
        "print(json.dumps(response.body, indent=4))\n",
        "\n",
        "# Get product 5\n",
        "response = es.get(index='products', id='5')\n",
        "print(json.dumps(response.body, indent=4))"
      ]
    },
    {
      "cell_type": "markdown",
      "metadata": {
        "id": "0EVqgAlqmI0n"
      },
      "source": [
        "## Delete API\n",
        "\n",
        "To remove a document, the Delete API is your digital shredder. Utilize it through this RESTful API command:\n",
        "\n",
        "```bash\n",
        "DELETE /<index_name>/_doc/<id>\n",
        "```\n",
        "\n",
        "But remember, if you attempt to delete a document that doesn't exist, Elasticsearch will return a 404 Not Found error. Always make sure the document is in your collection before trying to remove it.\n"
      ]
    },
    {
      "cell_type": "markdown",
      "metadata": {
        "id": "tz6ScGmOmI0n"
      },
      "source": [
        "Insert Spammer\n"
      ]
    },
    {
      "cell_type": "code",
      "execution_count": null,
      "metadata": {
        "id": "vYhBpE_kmI0n"
      },
      "outputs": [],
      "source": [
        "# Insert customer spammer\n",
        "# POST http://localhost:9200/customers/_create/spammer\n",
        "response = es.index(index='customers', id='spammer', body={\n",
        "    'name': 'Spammer',\n",
        "    'register_at': '2023-12-06 00:00:00',\n",
        "})\n",
        "print(json.dumps(response.body, indent=4))\n",
        "\n",
        "# Get customer spammer\n",
        "response = es.get_source(index='customers', id='spammer')\n",
        "print(json.dumps(response.body, indent=4))"
      ]
    },
    {
      "cell_type": "markdown",
      "metadata": {
        "id": "eYfgXqjymI0n"
      },
      "source": [
        "Delete Spammer\n"
      ]
    },
    {
      "cell_type": "code",
      "execution_count": null,
      "metadata": {
        "id": "xA6cvMv7mI0n"
      },
      "outputs": [],
      "source": [
        "# Delete customer spammer\n",
        "# DELETE http://localhost:9200/customers/_doc/spammer\n",
        "response = es.delete(index='customers', id='spammer', ignore=[404])\n",
        "print(json.dumps(response.body, indent=4))\n",
        "\n",
        "# Get customer spammer\n",
        "response = es.get_source(index='customers', id='spammer', ignore=[404])\n",
        "print(json.dumps(response.body, indent=4))"
      ]
    },
    {
      "cell_type": "markdown",
      "metadata": {
        "id": "VT7NyEl6mI0n"
      },
      "source": [
        "## Bulk API\n",
        "\n",
        "When dealing with many operations in Elasticsearch, the Bulk API shines by speeding up the process instead of manually handling each operation. The Bulk API bundles various operations together, including create, index, update, or delete. To use the Bulk API, apply the following RESTful API commands:\n",
        "\n",
        "```bash\n",
        "POST /_bulk\n",
        "POST /<index_name>/_bulk\n",
        "```\n",
        "\n",
        "This allows more efficient handling of large volumes of operations.\n"
      ]
    },
    {
      "cell_type": "markdown",
      "metadata": {
        "id": "WwuufmdWmI0n"
      },
      "source": [
        "Format Request Body untuk Bulk API\n",
        "\n",
        "```\n",
        "action_and_meta_data\\n\n",
        "optional_source\\n\n",
        "action_and_meta_data\\n\n",
        "optional_source\\n\n",
        "....\n",
        "action_and_meta_data\\n\n",
        "optional_source\\n\n",
        "```\n"
      ]
    },
    {
      "cell_type": "markdown",
      "metadata": {
        "id": "dVLXfpCRmI0n"
      },
      "source": [
        "Bulk Document\n"
      ]
    },
    {
      "cell_type": "code",
      "execution_count": null,
      "metadata": {
        "id": "LSFHy3njmI0n"
      },
      "outputs": [],
      "source": [
        "# Bulk documents\n",
        "# POST http://localhost:9200/_bulk\n",
        "response = es.bulk(body=[\n",
        "    {'create': {'_index': 'customers', '_id': 'dina'}},\n",
        "    {'name': 'Dina', 'register_at': '2023-11-30 00:00:00'},\n",
        "    {'index': {'_index': 'customers', '_id': 'yuni'}},\n",
        "    {'name': 'Yuni', 'register_at': '2023-11-30 00:00:00'},\n",
        "    {'update': {'_index': 'products', '_id': '1'}},\n",
        "    {'doc': {'price': 250000}},\n",
        "    {'create': {'_index': 'customers', '_id': 'spammer'}},\n",
        "    {'name': 'Spammer', 'register_at': '2023-12-06 00:00:00'},\n",
        "    {'delete': {'_index': 'customers', '_id': 'spammer'}},\n",
        "])\n",
        "print(json.dumps(response.body, indent=4))"
      ]
    },
    {
      "cell_type": "code",
      "execution_count": null,
      "metadata": {
        "id": "TEvZEoWFmI0n"
      },
      "outputs": [],
      "source": [
        "# Get document dina\n",
        "# GET http://localhost:9200/customers/_doc/dina\n",
        "response = es.get(index='customers', id='dina')\n",
        "print(json.dumps(response.body, indent=4))\n",
        "\n",
        "# Get document yuni\n",
        "# GET http://localhost:9200/customers/_doc/yuni\n",
        "response = es.get(index='customers', id='yuni')\n",
        "print(json.dumps(response.body, indent=4))\n",
        "\n",
        "# Get document spammer\n",
        "# GET http://localhost:9200/customers/_doc/spammer\n",
        "response = es.get(index='customers', id='spammer', ignore=[404])\n",
        "print(json.dumps(response.body, indent=4))\n",
        "\n",
        "# Get document product 1\n",
        "# GET http://localhost:9200/products/_doc/1\n",
        "response = es.get(index='products', id='1')\n",
        "print(json.dumps(response.body, indent=4))"
      ]
    }
  ],
  "metadata": {
    "colab": {
      "include_colab_link": true,
      "provenance": []
    },
    "kernelspec": {
      "display_name": "Python 3 (ipykernel)",
      "language": "python",
      "name": "python3"
    },
    "language_info": {
      "codemirror_mode": {
        "name": "ipython",
        "version": 3
      },
      "file_extension": ".py",
      "mimetype": "text/x-python",
      "name": "python",
      "nbconvert_exporter": "python",
      "pygments_lexer": "ipython3",
      "version": "3.11.7"
    }
  },
  "nbformat": 4,
  "nbformat_minor": 0
}
