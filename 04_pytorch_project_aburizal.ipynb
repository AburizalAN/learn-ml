{
  "cells": [
    {
      "cell_type": "markdown",
      "metadata": {
        "colab_type": "text",
        "id": "view-in-github"
      },
      "source": [
        "<a href=\"https://colab.research.google.com/github/AburizalAN/learn-ml/blob/master/04_pytorch_project_aburizal.ipynb\" target=\"_parent\"><img src=\"https://colab.research.google.com/assets/colab-badge.svg\" alt=\"Open In Colab\"/></a>\n"
      ]
    },
    {
      "cell_type": "markdown",
      "id": "def8e46c-7606-4991-9b29-9223ccacd54b",
      "metadata": {
        "id": "def8e46c-7606-4991-9b29-9223ccacd54b"
      },
      "source": [
        "# Project: Pytorch\n"
      ]
    },
    {
      "cell_type": "markdown",
      "id": "911a145c-7d01-4210-9699-0e1fef80ff19",
      "metadata": {
        "id": "911a145c-7d01-4210-9699-0e1fef80ff19"
      },
      "source": [
        "**Instructions for Students:**\n",
        "\n",
        "Please carefully follow these steps to complete and submit your project:\n",
        "\n",
        "1. **Completing the Project**: You are required to work on and complete all tasks in the provided project. Be disciplined and ensure that you thoroughly engage with each task.\n",
        "2. **Creating a Google Drive Folder**: Each of you must create a new folder on your Google Drive if you haven't already. This will be the repository for all your completed assignment and project files, aiding you in keeping your work organized and accessible.\n",
        "3. **Uploading Completed Project**: Upon completion of your project, make sure to upload all necessary files, involving codes, reports, and related documents into the created Google Drive folder. Save this link in the 'Student Identity' section and also provide it as the last parameter in the `submit` function that has been provided.\n",
        "4. **Sharing Folder Link**: You're required to share the link to your project Google Drive folder. This is crucial for the submission and evaluation of your project.\n",
        "5. **Setting Permission toPublic**: Please make sure your Google Drive folder is set to public. This allows your instructor to access your solutions and assess your work correctly.\n",
        "\n",
        "Adhering to these procedures will facilitate a smooth project evaluation process for you and the reviewers.\n"
      ]
    },
    {
      "cell_type": "code",
      "execution_count": null,
      "id": "vjY_1kVwqNSA",
      "metadata": {
        "colab": {
          "base_uri": "https://localhost:8080/"
        },
        "id": "vjY_1kVwqNSA",
        "outputId": "851142f2-82ea-4b00-8566-c1e7e795c930"
      },
      "outputs": [
        {
          "name": "stdout",
          "output_type": "stream",
          "text": [
            "Mounted at /content/drive\n"
          ]
        }
      ],
      "source": [
        "from google.colab import drive\n",
        "drive.mount('/content/drive')"
      ]
    },
    {
      "cell_type": "markdown",
      "id": "8018f21d-d661-4ae4-a50d-9fb66feb291d",
      "metadata": {
        "id": "8018f21d-d661-4ae4-a50d-9fb66feb291d"
      },
      "source": [
        "## Student Identity\n"
      ]
    },
    {
      "cell_type": "code",
      "execution_count": null,
      "id": "9fc57472-0432-474a-b1f7-c825edfc007a",
      "metadata": {
        "colab": {
          "base_uri": "https://localhost:8080/"
        },
        "id": "9fc57472-0432-474a-b1f7-c825edfc007a",
        "outputId": "f86cd6d0-b21e-4412-a404-0f3bd797c591"
      },
      "outputs": [
        {
          "name": "stdout",
          "output_type": "stream",
          "text": [
            "Collecting rggrader\n",
            "  Downloading rggrader-0.1.6-py3-none-any.whl (2.5 kB)\n",
            "Requirement already satisfied: requests in /usr/local/lib/python3.10/dist-packages (from rggrader) (2.31.0)\n",
            "Requirement already satisfied: pandas in /usr/local/lib/python3.10/dist-packages (from rggrader) (1.5.3)\n",
            "Requirement already satisfied: Pillow in /usr/local/lib/python3.10/dist-packages (from rggrader) (9.4.0)\n",
            "Requirement already satisfied: python-dateutil>=2.8.1 in /usr/local/lib/python3.10/dist-packages (from pandas->rggrader) (2.8.2)\n",
            "Requirement already satisfied: pytz>=2020.1 in /usr/local/lib/python3.10/dist-packages (from pandas->rggrader) (2023.3.post1)\n",
            "Requirement already satisfied: numpy>=1.21.0 in /usr/local/lib/python3.10/dist-packages (from pandas->rggrader) (1.23.5)\n",
            "Requirement already satisfied: charset-normalizer<4,>=2 in /usr/local/lib/python3.10/dist-packages (from requests->rggrader) (3.3.2)\n",
            "Requirement already satisfied: idna<4,>=2.5 in /usr/local/lib/python3.10/dist-packages (from requests->rggrader) (3.6)\n",
            "Requirement already satisfied: urllib3<3,>=1.21.1 in /usr/local/lib/python3.10/dist-packages (from requests->rggrader) (2.0.7)\n",
            "Requirement already satisfied: certifi>=2017.4.17 in /usr/local/lib/python3.10/dist-packages (from requests->rggrader) (2023.11.17)\n",
            "Requirement already satisfied: six>=1.5 in /usr/local/lib/python3.10/dist-packages (from python-dateutil>=2.8.1->pandas->rggrader) (1.16.0)\n",
            "Installing collected packages: rggrader\n",
            "Successfully installed rggrader-0.1.6\n"
          ]
        }
      ],
      "source": [
        "# @title #### Student Identity\n",
        "student_id = \"REAEAYH8\" # @param {type:\"string\"}\n",
        "name = \"Aburizal Adi Nugroho\" # @param {type:\"string\"}\n",
        "drive_link = \"https://drive.google.com/drive/folders/1pRIbA2Zphrtg_TS5N0ypHHTXkUBs50tI?usp=sharing\"  # @param {type:\"string\"}\n",
        "\n",
        "assignment_id = \"00_pytorch_project\"\n",
        "\n",
        "# Import grader package\n",
        "!pip install rggrader\n",
        "from rggrader import submit, submit_image"
      ]
    },
    {
      "cell_type": "markdown",
      "id": "d3b9e0f7-75d2-476a-9b29-07c1a3800925",
      "metadata": {
        "id": "d3b9e0f7-75d2-476a-9b29-07c1a3800925"
      },
      "source": [
        "## Project Description\n",
        "\n",
        "In this project, you will use what you learn to create your own Deep Learning model. We'll use a variety of datasets, each with different data types such as images, text, and numerical/categorical data. Your task is to choose one of these datasets and build a deep learning model upon it.\n"
      ]
    },
    {
      "cell_type": "markdown",
      "id": "d333f8fe-3ae6-4060-b597-e9f7d9e37582",
      "metadata": {
        "id": "d333f8fe-3ae6-4060-b597-e9f7d9e37582"
      },
      "source": [
        "## Datasets\n",
        "\n",
        "Choose one from the following datasets for your project:\n",
        "\n",
        "1. **Digits Dataset**: A simplified version of MNIST containing 8x8 images of hand-written digits. [Dataset Link](https://scikit-learn.org/stable/auto_examples/datasets/plot_digits_last_image.html)\n",
        "2. **Dogs vs. Cats Dataset from Kaggle**: A sizable dataset of 25,000 images with equal representation of dogs and cats. [Dataset Link](https://www.kaggle.com/c/dogs-vs-cats)\n",
        "3. **Breast Cancer Wisconsin (Diagnostic) Dataset**: Computed features from a digitized image of a fine needle aspirate (FNA) of a breast mass. [Dataset Link](https://archive.ics.uci.edu/ml/datasets/Breast+Cancer+Wisconsin+%28Diagnostic%29)\n",
        "4. **Spam Text Message Classification Dataset**: A collection of labeled SMS messages, categorized as \"spam\" or \"ham\". [Dataset Link](https://www.kaggle.com/uciml/sms-spam-collection-dataset)\n",
        "5. **German Credit Risk Dataset**: People's data categorized by various attributes to predict credit risk. [Dataset Link](https://archive.ics.uci.edu/ml/datasets/Statlog+%28German+Credit+Data%29)\n"
      ]
    },
    {
      "cell_type": "markdown",
      "id": "84fea308-2c09-472c-a5ec-e4ba0900d496",
      "metadata": {
        "id": "84fea308-2c09-472c-a5ec-e4ba0900d496"
      },
      "source": [
        "## Grading Scheme\n",
        "\n",
        "Your work will be evaluated based on both accuracy and loss value:\n",
        "\n",
        "100: The model has an accuracy of more than 80% and a Loss Value of less than 0.2. This model is excellent and demonstrates a strong understanding of the task.\n",
        "\n",
        "90: The model has an accuracy between 70% - 79% and a Loss Value between 0.2 - 0.3. This model is very good, with some room for improvement.\n",
        "\n",
        "80: The model has an accuracy between 60% - 69% and a Loss Value between 0.3 - 0.4. This model is fairly good but needs improvement in balancing accuracy and loss value.\n",
        "\n",
        "70: The model has an accuracy between 50% - 59% and a Loss Value between 0.4 - 0.5. This model is below average and needs significant improvement.\n",
        "\n",
        "60 or below: The model has an accuracy of less than 50% or a Loss Value of more than 0.5, or the student did not submit the accuracy and Loss Value. This model is poor and needs considerable improvement.\n"
      ]
    },
    {
      "cell_type": "markdown",
      "id": "915df21b-3a7e-444a-999d-c830acdbe7f2",
      "metadata": {
        "id": "915df21b-3a7e-444a-999d-c830acdbe7f2"
      },
      "source": [
        "Rmember to make a copy of this notebook in your Google Drive and work in your own copy.\n",
        "\n",
        "Let's start your deep learning journey! Choose your dataset and delve into the project! Happy modeling!\n"
      ]
    },
    {
      "cell_type": "markdown",
      "id": "e0b68327-fc7b-43de-9f16-b058d11d775b",
      "metadata": {
        "id": "e0b68327-fc7b-43de-9f16-b058d11d775b"
      },
      "source": [
        "## Project Structure\n",
        "\n",
        "Your project should be organized into five main sections.\n"
      ]
    },
    {
      "cell_type": "markdown",
      "id": "25ecc459-5019-42d8-84a6-8644cecafef3",
      "metadata": {
        "id": "25ecc459-5019-42d8-84a6-8644cecafef3"
      },
      "source": [
        "### 1. Package and Module Installation\n",
        "\n",
        "First, let's pool all package and module that you'll need in the installation section below.\n"
      ]
    },
    {
      "cell_type": "code",
      "execution_count": 1,
      "id": "62606ca1-5868-4c65-93ef-1d6ee8d8d59a",
      "metadata": {
        "id": "62606ca1-5868-4c65-93ef-1d6ee8d8d59a"
      },
      "outputs": [],
      "source": [
        "# Write any package/module installation that you need\n",
        "# pip install goes here, this helps declutter your output below\n",
        "import pandas as pd\n",
        "import numpy as numpy\n",
        "import torch\n",
        "import matplotlib.pyplot as plt\n",
        "from sklearn.metrics import accuracy_score\n"
      ]
    },
    {
      "cell_type": "markdown",
      "id": "b0837717-de95-4193-9898-e2f4cadfcfc6",
      "metadata": {
        "id": "b0837717-de95-4193-9898-e2f4cadfcfc6"
      },
      "source": [
        "### 2. Data Loading and Preprocessing\n",
        "\n",
        "Load the chosen dataset and preprocess it for deep learning.\n"
      ]
    },
    {
      "cell_type": "code",
      "execution_count": 9,
      "id": "3b0e5e58-277e-41ef-9b1c-951e5d150191",
      "metadata": {
        "colab": {
          "base_uri": "https://localhost:8080/",
          "height": 444
        },
        "id": "3b0e5e58-277e-41ef-9b1c-951e5d150191",
        "outputId": "84f19dd9-1a5e-496d-bd26-4bbad5aecab6"
      },
      "outputs": [
        {
          "data": {
            "image/png": "[encoded data removed]",
            "text/plain": [
              "<Figure size 640x480 with 1 Axes>"
            ]
          },
          "metadata": {},
          "output_type": "display_data"
        }
      ],
      "source": [
        "# Write your preprocessing here\n",
        "# pd.set_option(\"display.max_rows\", 1000)\n",
        "# pd.set_option('display.max_columns', 500)\n",
        "\n",
        "column_names = [\n",
        "    \"status\",  # Status of existing checking account\n",
        "    \"duration\", # Month\n",
        "    \"credit_history\",\n",
        "    \"purpose\",\n",
        "    \"credit_amount\",\n",
        "    \"savings_account_bonds\", # Saving Account/Bonds\n",
        "    \"present_employment\", # Present Employment since\n",
        "    \"installment_rate\", # Installment rate in percentage of disposable income\n",
        "    \"personal_status\", # Personal Status & Sex\n",
        "    \"other_debtors_guarantors\", # other debtors / guarantors\n",
        "    \"present_residence\", # Present residence since\n",
        "    \"property\",\n",
        "    \"age\", # years\n",
        "    \"other_installment_plans\", # Other installment plans\n",
        "    \"housing\",\n",
        "    \"existing_credits\", # Number of existing credits at this bank\n",
        "    \"job\",\n",
        "    \"LPM\", # Number of people being liable to provide maintenance for\n",
        "    \"telephone\",\n",
        "    \"foreign_worker\",\n",
        "    \"class\"\n",
        "]\n",
        "df = pd.read_csv(\n",
        "    \"./datasets/credit_data/german.data\",\n",
        "    delim_whitespace=True,\n",
        "    names=column_names,\n",
        "    index_col=False\n",
        ")\n",
        "\n",
        "# print(df.groupby(\"age\")[\"class\"].count())\n",
        "\n",
        "plt.scatter(df[\"age\"], df[\"credit_amount\"])\n",
        "\n",
        "x_filtered = df[[\n",
        "  \"credit_history\",\n",
        "  \"credit_amount\",\n",
        "  \"duration\",\n",
        "  \"status\",\n",
        "  \"savings_account_bonds\",\n",
        "  \"present_employment\",\n",
        "  \"installment_rate\",\n",
        "  \"personal_status\",\n",
        "  \"existing_credits\",\n",
        "  \"age\",\n",
        "  \"class\",\n",
        "]]\n",
        "\n",
        "def replace_credit_history(data):\n",
        "  label = {\n",
        "    \"A30\": 1,\n",
        "    \"A31\": 2,\n",
        "    \"A32\": 3,\n",
        "    \"A33\": 4,\n",
        "    \"A34\": 5,\n",
        "  }\n",
        "  return label.get(data, data)\n",
        "\n",
        "def replace_status(data):\n",
        "  label = {\n",
        "    \"A11\": 1,\n",
        "    \"A12\": 2,\n",
        "    \"A13\": 3,\n",
        "    \"A14\": 4,\n",
        "  }\n",
        "  return label.get(data, data)\n",
        "\n",
        "def replace_savings_account_bonds(data):\n",
        "  label = {\n",
        "    \"A61\": 1,\n",
        "    \"A62\": 2,\n",
        "    \"A63\": 3,\n",
        "    \"A64\": 4,\n",
        "    \"A65\": 5,\n",
        "  }\n",
        "  return label.get(data, data)\n",
        "\n",
        "def replace_present_employement(data):\n",
        "  label = {\n",
        "    \"A71\": 1,\n",
        "    \"A72\": 2,\n",
        "    \"A73\": 3,\n",
        "    \"A74\": 4,\n",
        "    \"A75\": 5,\n",
        "  }\n",
        "  return label.get(data, data)\n",
        "\n",
        "def replace_purpose(data):\n",
        "  label = {\n",
        "    \"A40\" : 1,\n",
        "    \"A41\" : 2,\n",
        "    \"A42\" : 3,\n",
        "    \"A43\" : 4,\n",
        "    \"A44\" : 5,\n",
        "    \"A45\" : 6,\n",
        "    \"A46\" : 7,\n",
        "    \"A47\" : 8,\n",
        "    \"A48\" : 9,\n",
        "    \"A49\" : 10,\n",
        "    \"A410\" : 11\n",
        "  }\n",
        "  return label.get(data, data)\n",
        "\n",
        "# label encoding column credit_history, status, savings_account_bonds, and present_employment\n",
        "x_filtered.loc[:, \"credit_history\"] = x_filtered[\"credit_history\"].apply(replace_credit_history)\n",
        "x_filtered.loc[:, \"status\"] = x_filtered[\"status\"].apply(replace_status)\n",
        "x_filtered.loc[:, \"savings_account_bonds\"] = x_filtered[\"savings_account_bonds\"].apply(replace_savings_account_bonds)\n",
        "x_filtered.loc[:, \"present_employment\"] = x_filtered[\"present_employment\"].apply(replace_present_employement)\n",
        "# x_filtered.loc[:, \"purpose\"] = x_filtered[\"purpose\"].apply(replace_purpose)\n",
        "\n",
        "# One Hot Encoding column personal_status\n",
        "personal_status_encoded = pd.get_dummies(data=x_filtered[\"personal_status\"], dtype=\"int\")\n",
        "x_filtered = pd.concat([x_filtered, personal_status_encoded], axis=1)\n",
        "\n",
        "# job_encoded = pd.get_dummies(data=x_filtered[\"job\"], dtype=\"int\")\n",
        "# x_filtered = pd.concat([x_filtered, job_encoded], axis=1)\n",
        "\n",
        "# purpose_encoded = pd.get_dummies(data=x_filtered[\"purpose\"], dtype=\"int\")\n",
        "# x_filtered = pd.concat([x_filtered, purpose_encoded], axis=1)\n",
        "\n",
        "# housing_encoded = pd.get_dummies(data=x_filtered[\"housing\"], dtype=\"int\")\n",
        "# x_filtered = pd.concat([x_filtered, housing_encoded], axis=1)\n",
        "\n",
        "x_filtered.drop(columns=[\"personal_status\"], inplace=True)\n",
        "\n",
        "# Standardize column credit_amount\n",
        "x_filtered[\"credit_amount\"] = (x_filtered[\"credit_amount\"] - x_filtered[\"credit_amount\"].mean()) / x_filtered[\"credit_amount\"].std()\n",
        "\n",
        "processed_df = x_filtered\n",
        "processed_df = processed_df.astype(\"float32\")\n",
        "# Load your data\n",
        "# processed_df"
      ]
    },
    {
      "cell_type": "markdown",
      "id": "30ce0c59-0e94-480a-81ae-528e68356a15",
      "metadata": {
        "id": "30ce0c59-0e94-480a-81ae-528e68356a15"
      },
      "source": [
        "### 3. Model Building\n",
        "\n",
        "Define your deep learning model's architecture.\n"
      ]
    },
    {
      "cell_type": "code",
      "execution_count": 117,
      "id": "1aa3c3f7-c6c5-4419-9b25-e8d7a8ec345a",
      "metadata": {
        "id": "1aa3c3f7-c6c5-4419-9b25-e8d7a8ec345a"
      },
      "outputs": [],
      "source": [
        "# Write your code here for Model Building here\n",
        "\n",
        "# define your Deep Learning Model here, training is in the next section.\n",
        "\n",
        "class Model(torch.nn.Module):\n",
        "  def __init__(self, n_feature, n_hidden, n_output):\n",
        "    super().__init__()\n",
        "    self.layer_1 = torch.nn.Linear(n_feature, n_hidden)\n",
        "    self.layer_2 = torch.nn.Linear(n_hidden, n_output)\n",
        "    # self.double()\n",
        "\n",
        "  def forward(self, x):\n",
        "    return self.layer_2(torch.sigmoid(self.layer_1(x)))\n"
      ]
    },
    {
      "cell_type": "markdown",
      "id": "585b925f-fcf0-4518-81d8-598dba65d646",
      "metadata": {
        "id": "585b925f-fcf0-4518-81d8-598dba65d646"
      },
      "source": [
        "### 4. Model Training\n",
        "\n",
        "Train your model and evaluate its performance using validation data.\n"
      ]
    },
    {
      "cell_type": "code",
      "execution_count": 23,
      "id": "ee33d9bc-2b35-4f78-b5d8-3eb65db1e361",
      "metadata": {
        "id": "ee33d9bc-2b35-4f78-b5d8-3eb65db1e361"
      },
      "outputs": [
        {
          "name": "stderr",
          "output_type": "stream",
          "text": [
            "c:\\Users\\aburi\\Documents\\AburizalAN\\venv\\venv_3.11\\Lib\\site-packages\\torch\\nn\\modules\\loss.py:535: UserWarning: Using a target size (torch.Size([800])) that is different to the input size (torch.Size([800, 1])). This will likely lead to incorrect results due to broadcasting. Please ensure they have the same size.\n",
            "  return F.mse_loss(input, target, reduction=self.reduction)\n",
            "c:\\Users\\aburi\\Documents\\AburizalAN\\venv\\venv_3.11\\Lib\\site-packages\\torch\\nn\\modules\\loss.py:535: UserWarning: Using a target size (torch.Size([200])) that is different to the input size (torch.Size([200, 1])). This will likely lead to incorrect results due to broadcasting. Please ensure they have the same size.\n",
            "  return F.mse_loss(input, target, reduction=self.reduction)\n"
          ]
        },
        {
          "name": "stdout",
          "output_type": "stream",
          "text": [
            "prediction 0 tensor([1.2984], grad_fn=<SelectBackward0>) 2.0\n"
          ]
        },
        {
          "data": {
            "image/png": "[encoded data removed]",
            "text/plain": [
              "<Figure size 640x480 with 1 Axes>"
            ]
          },
          "metadata": {},
          "output_type": "display_data"
        }
      ],
      "source": [
        "# Write your code here for Model Training here\n",
        "class Model(torch.nn.Module):\n",
        "    def __init__(self, n_feature, n_hidden, n_output):\n",
        "        super().__init__()\n",
        "        self.layer_1 = torch.nn.Linear(n_feature, n_hidden)\n",
        "        self.layer_2 = torch.nn.Linear(n_hidden, n_output)\n",
        "\n",
        "    def forward(self, x):\n",
        "        return self.layer_2(torch.sigmoid(self.layer_1(x)))\n",
        "    \n",
        "\n",
        "def accuracy(outputs, labels):\n",
        "    _, preds = torch.max(outputs, dim=1)\n",
        "    return torch.tensor(torch.sum(preds == labels).item() / len(preds))\n",
        "\n",
        "x = processed_df.drop(columns=[\"class\"])\n",
        "y = processed_df.loc[:, \"class\"]\n",
        "x_tensor = torch.tensor(x.values, dtype=torch.float32)\n",
        "y_tensor = torch.tensor(y.values, dtype=torch.float32)\n",
        "\n",
        "torch.manual_seed(0)\n",
        "\n",
        "# Split data into training and testing randomly\n",
        "indices = torch.randperm(x_tensor.size(0))\n",
        "x_train = torch.index_select(x_tensor, dim=0, index=indices[:800])\n",
        "y_train = torch.index_select(y_tensor, dim=0, index=indices[:800])\n",
        "x_test = torch.index_select(x_tensor, dim=0, index=indices[800:])\n",
        "y_test = torch.index_select(y_tensor, dim=0, index=indices[800:])\n",
        "\n",
        "\n",
        "model = Model(n_feature=x_train.size(1), n_hidden=10, n_output=1)\n",
        "\n",
        "optimizer = torch.optim.SGD(model.parameters(), lr=0.2)\n",
        "loss_func = torch.nn.MSELoss()\n",
        "\n",
        "training_losses = []\n",
        "testing_losses = []\n",
        "\n",
        "prediction = None\n",
        "test_prediction = None\n",
        "\n",
        "correct = 0\n",
        "\n",
        "for i in range(20):\n",
        "  model.train()\n",
        "\n",
        "  prediction = model(x_train)\n",
        "  loss = loss_func(prediction, y_train)\n",
        "\n",
        "  optimizer.zero_grad()\n",
        "  loss.backward()\n",
        "  optimizer.step()\n",
        "\n",
        "  correct += (prediction == y_train).float().sum()\n",
        "  print(\"correct \", correct)\n",
        "\n",
        "  if i % 2 == 0:\n",
        "    model.eval()\n",
        "    with torch.inference_mode():\n",
        "      test_prediction = model(x_test)\n",
        "      test_loss = loss_func(test_prediction, y_test)\n",
        "\n",
        "      training_losses.append(loss.data.numpy())\n",
        "      testing_losses.append(test_loss.data.numpy())\n",
        "\n",
        "plt.plot(training_losses, label='Training loss')\n",
        "plt.plot(testing_losses, label='Testing loss')\n",
        "plt.legend()\n",
        "plt.show()\n",
        "\n",
        "\n",
        "# dl_loss_value = 1\n",
        "\n",
        "#define the iteration\n",
        "\n",
        "#create the training loop\n"
      ]
    },
    {
      "cell_type": "markdown",
      "id": "1d391ec9-ca95-4c56-b4f6-fccf8e0be14a",
      "metadata": {
        "id": "1d391ec9-ca95-4c56-b4f6-fccf8e0be14a"
      },
      "source": [
        "### 5. Model Evaluation\n",
        "\n",
        "Evaluate your model's performance on the test data using the grading scheme defined above.\n"
      ]
    },
    {
      "cell_type": "code",
      "execution_count": null,
      "id": "c8ca8f78-e33c-4552-9f4d-8bed711e661f",
      "metadata": {
        "id": "c8ca8f78-e33c-4552-9f4d-8bed711e661f"
      },
      "outputs": [],
      "source": [
        "# Write your code here for Model Evaluation here\n",
        "dl_accuracy = 0\n",
        "\n",
        "#define the iteration\n",
        "\n",
        "#create the training loop\n"
      ]
    },
    {
      "cell_type": "markdown",
      "id": "5d59af48-18c0-4e40-80ff-33a85030b205",
      "metadata": {
        "id": "5d59af48-18c0-4e40-80ff-33a85030b205"
      },
      "source": [
        "## Submission\n",
        "\n",
        "Once you are satisfied with the performance of your model, then you run the code block below to submit your project.\n"
      ]
    },
    {
      "cell_type": "code",
      "execution_count": null,
      "id": "010d7f7f-711d-4f41-82a3-3c2562e59709",
      "metadata": {
        "id": "010d7f7f-711d-4f41-82a3-3c2562e59709"
      },
      "outputs": [],
      "source": [
        "# Submit Method\n",
        "\n",
        "# Do not change the code below\n",
        "question_id = \"01_dl_project_accuracy\"\n",
        "submit(student_id, name, assignment_id, str(dl_accuracy), question_id, drive_link)\n",
        "question_id = \"02_dl_project_loss_value\"\n",
        "submit(student_id, name, assignment_id, str(dl_loss_value), question_id, drive_link)"
      ]
    },
    {
      "cell_type": "markdown",
      "id": "aa89b9ff-0d31-416a-b3c4-851c725fadf7",
      "metadata": {
        "id": "aa89b9ff-0d31-416a-b3c4-851c725fadf7"
      },
      "source": [
        "## FIN\n"
      ]
    }
  ],
  "metadata": {
    "colab": {
      "include_colab_link": true,
      "provenance": []
    },
    "kernelspec": {
      "display_name": "Python 3 (ipykernel)",
      "language": "python",
      "name": "python3"
    },
    "language_info": {
      "codemirror_mode": {
        "name": "ipython",
        "version": 3
      },
      "file_extension": ".py",
      "mimetype": "text/x-python",
      "name": "python",
      "nbconvert_exporter": "python",
      "pygments_lexer": "ipython3",
      "version": "3.11.7"
    }
  },
  "nbformat": 4,
  "nbformat_minor": 5
}
