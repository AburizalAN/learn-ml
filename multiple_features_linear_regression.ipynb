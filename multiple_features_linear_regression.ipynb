{
 "cells": [
  {
   "cell_type": "code",
   "execution_count": 1,
   "metadata": {},
   "outputs": [],
   "source": [
    "import numpy as np"
   ]
  },
  {
   "cell_type": "code",
   "execution_count": 24,
   "metadata": {},
   "outputs": [],
   "source": [
    "X_train = np.array([\n",
    "    [6.50, 2, 1, 15],\n",
    "    [7.60, 3, 2, 5],\n",
    "    [12.00, 4, 3, 10],\n",
    "    [7.20, 2, 1, 7],\n",
    "    [9.75, 3, 2, 12],\n",
    "    [10.75, 3, 2, 3],\n",
    "    [9.00, 3, 2, 8],\n",
    "    [11.50, 4, 3, 10],\n",
    "    [8.60, 2, 2, 15],\n",
    "    [13.25, 4, 3, 1]\n",
    "])\n",
    "\n",
    "y_train = np.array([77.2, 99.8, 120.5, 89.5, 113.5, 124.2, 106.0, 133.0, 101.5, 148.2])\n",
    "\n",
    "b_init = 46.68178303822603\n",
    "w_init = np.array([ 7.05979876, -4.1870478, 8.30627675, -0.94230069])"
   ]
  },
  {
   "cell_type": "code",
   "execution_count": 28,
   "metadata": {},
   "outputs": [],
   "source": [
    "def compute_cost_for_multiple_variables(X, y, w, b):\n",
    "    \"\"\"\n",
    "    Computes the cost function for linear regression.\n",
    "\n",
    "    Args:\n",
    "      X : Data, m examples\n",
    "      y : target values\n",
    "      w,b : model parameters\n",
    "\n",
    "    Returns\n",
    "        total_cost (float): The cost of using w,b as the parameters for linear regression\n",
    "               to fit the data points in X and y\n",
    "    \"\"\"\n",
    "    m = len(y)  # number of training examples\n",
    "\n",
    "    # hypothesis calculation - output prediction\n",
    "    fx = np.dot(X, w) + b\n",
    "\n",
    "    # error calculation\n",
    "    errors = fx - y\n",
    "\n",
    "    print(\"fx\", fx)\n",
    "    print(\"y\", y)\n",
    "\n",
    "    # calculate total cost\n",
    "    total_cost = (1 / m) * np.dot(errors.T, errors)\n",
    "\n",
    "    return total_cost"
   ]
  },
  {
   "cell_type": "code",
   "execution_count": 29,
   "metadata": {},
   "outputs": [
    {
     "name": "stdout",
     "output_type": "stream",
     "text": [
      "fx [ 78.36814578  99.67616026 130.14700031  90.84841043 108.25862277\n",
      " 123.79912774 106.73297646 126.61710093 101.49999992 147.45245497]\n",
      "y [ 77.2  99.8 120.5  89.5 113.5 124.2 106.  133.  101.5 148.2]\n"
     ]
    },
    {
     "data": {
      "text/plain": [
       "16.573293895391444"
      ]
     },
     "execution_count": 29,
     "metadata": {},
     "output_type": "execute_result"
    }
   ],
   "source": [
    "compute_cost_for_multiple_variables(X_train, y_train, w_init, b_init)"
   ]
  }
 ],
 "metadata": {
  "kernelspec": {
   "display_name": "my_venv",
   "language": "python",
   "name": "python3"
  },
  "language_info": {
   "codemirror_mode": {
    "name": "ipython",
    "version": 3
   },
   "file_extension": ".py",
   "mimetype": "text/x-python",
   "name": "python",
   "nbconvert_exporter": "python",
   "pygments_lexer": "ipython3",
   "version": "3.12.1"
  }
 },
 "nbformat": 4,
 "nbformat_minor": 2
}
