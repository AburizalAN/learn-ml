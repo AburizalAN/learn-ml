{
  "cells": [
    {
      "cell_type": "markdown",
      "metadata": {
        "id": "view-in-github",
        "colab_type": "text"
      },
      "source": [
        "<a href=\"https://colab.research.google.com/github/AburizalAN/learn-ml/blob/master/nlp/05_word2vec.ipynb\" target=\"_parent\"><img src=\"https://colab.research.google.com/assets/colab-badge.svg\" alt=\"Open In Colab\"/></a>"
      ]
    },
    {
      "cell_type": "markdown",
      "metadata": {
        "id": "k3Q8P7Skp_Z4"
      },
      "source": [
        "# Generate Word Embedding With Word2Vec\n",
        "\n",
        "In the previous session, we have seen the power of word embedding.\n",
        "\n",
        "Now we will see how to generate word embedding using Word2Vec!\n",
        "\n",
        "Word2Vec is the most popular word embedding technique, where we train a neural network on a simple two-layer network.\n",
        "\n",
        "\n",
        "## Concept\n",
        "\n",
        "The concept is pretty simple if we try to delve in into the intuition first:\n",
        "\n",
        "1. Our input will start as a one-hot encoded vector. We've learned it before: A vector which only has one element as 1 and the rest are 0s. This vector will represent our input word.\n",
        "\n",
        "2. This one-hot encoded vector is fully connected to a hidden layer where every individual neuron represents different focused contexts gathered from training. One neuron might be focused on the tense of verbs, while another might focus on gender differences in pronouns, and so on.\n",
        "\n",
        "3. The hidden layer is then fully connected to an output layer which uses softmax to produce probabilities for every word in the vocab.\n",
        "\n",
        "This last step is crucial to understand how Word2Vec understand relations between words\n",
        "\n"
      ]
    },
    {
      "cell_type": "markdown",
      "metadata": {
        "id": "0DAl-SjXp_Z8"
      },
      "source": [
        "## The Intuition\n",
        "\n",
        "If we read a lot of sentences like:\n",
        "\n",
        "- \"the king ordered the citizens to leave the city\"\n",
        "- \"the ruler ordered the citizens to leave the city\"\n",
        "- \"the king commanded the citizens to evacuate the city\"\n",
        "- \"the ruler commanded the citizens to evacuate the city\"\n",
        "\n",
        "We shall see that the words \"king\" and \"ruler\" are used in similar contexts, i.e. \"king\" should be close to \"ruler\" in the vector space.\n",
        "\n",
        "\"commanded\" and \"ordered\" are also used in similar contexts, so they should be close to each other as well.\n",
        "\n",
        "Let's try other examples:\n",
        "\n",
        "- \"fish swims in the water\"\n",
        "- \"the water is home to many fish\"\n",
        "- \"the fish is dead because of the polluted water\"\n",
        "- \"water is essential for fish to live\"\n",
        "\n",
        "We see that \"fish\" and \"water\" often appear together. Shall we conclude that \"fish\" and \"water\" are close to each other in the vector space?\n",
        "\n",
        "Yes, we can!\n",
        "\n",
        "So, how can we use this information to build a word embedding?"
      ]
    },
    {
      "cell_type": "markdown",
      "metadata": {
        "id": "WlLKQ_awp_Z9"
      },
      "source": [
        "## Relating words\n",
        "\n",
        "How Word2Vec learning context of a word is that when a word is commonly found near another word, then these two words have a close relationship. For example, the words \"fish\" and \"water\" are often found together, so they have a close relationship.\n",
        "\n",
        "Let's use the following sentence as an example:\n",
        "\n",
        "$$\\text{\"I love to eat fish, but I hate to drink water\"}$$\n",
        "\n",
        "When creating this relation, there are two ways to do it:\n"
      ]
    },
    {
      "cell_type": "markdown",
      "metadata": {
        "id": "kXRzZlLgp_Z9"
      },
      "source": [
        "### Continuous Skip-gram\n",
        "\n",
        "Predicts words within a certain range before and after a word in a sentence.\n",
        "\n",
        "So, given \"eat\" and window size = 2, the skip-gram model will predict \"love\", \"to\", \"fish\", and \"but\" as the output words. (see 2nd row below)\n",
        "\n",
        "|Window size | Text | Input | Predicted |\n",
        "|---|---|---|---|\n",
        "| 2 | [I \\_**love**\\_ to eat] fish, but I hate to drink water | love | (I, to, eat) |\n",
        "| 2 | I [love to \\_**eat**\\_ fish, but] I hate to drink water | eat | (love, to, fish, but) |\n",
        "| 2 | I love [to eat \\_**fish**\\_ , but I ] to drink water | fish | (to, eat, but, I) |\n",
        "| 3 | I [love to eat \\_**fish**\\_ , but I hate] to drink water | fish | (love, to, eat, but, I, have)"
      ]
    },
    {
      "cell_type": "code",
      "execution_count": null,
      "metadata": {
        "id": "YimCll-pp_Z-",
        "outputId": "f4a98660-afdd-41ab-dc9c-bad302617dee",
        "colab": {
          "base_uri": "https://localhost:8080/"
        }
      },
      "outputs": [
        {
          "output_type": "execute_result",
          "data": {
            "text/plain": [
              "[['i', ['love', 'to']],\n",
              " ['love', ['i', 'to', 'eat']],\n",
              " ['to', ['i', 'love', 'eat', 'fish,']],\n",
              " ['eat', ['love', 'to', 'fish,', 'but']],\n",
              " ['fish,', ['to', 'eat', 'but', 'i']],\n",
              " ['but', ['eat', 'fish,', 'i', 'hate']],\n",
              " ['i', ['fish,', 'but', 'hate', 'to']],\n",
              " ['hate', ['but', 'i', 'to', 'drink']],\n",
              " ['to', ['i', 'hate', 'drink', 'water']],\n",
              " ['drink', ['hate', 'to', 'water']],\n",
              " ['water', ['to', 'drink']]]"
            ]
          },
          "metadata": {},
          "execution_count": 1
        }
      ],
      "source": [
        "def get_skip_gram_pairs(sentence, window_size):\n",
        "    skip_gram_pairs = []\n",
        "    words = sentence.lower().split()\n",
        "    for i in range(len(words)):\n",
        "        predicted = []\n",
        "        for j in range(i - window_size, i + window_size + 1):\n",
        "            if j == i or j < 0 or j >= len(words):\n",
        "                continue\n",
        "            predicted.append(words[j])\n",
        "        skip_gram_pairs.append([words[i], predicted])\n",
        "    return skip_gram_pairs\n",
        "\n",
        "get_skip_gram_pairs(\"I love to eat fish, but I hate to drink water\", 2)\n"
      ]
    },
    {
      "cell_type": "markdown",
      "metadata": {
        "id": "O10azGDYp_aA"
      },
      "source": [
        "**bold text**![skip-gram](https://storage.googleapis.com/rg-ai-bootcamp/nlp/skip-gram.png)"
      ]
    },
    {
      "cell_type": "markdown",
      "metadata": {
        "id": "ZjxgNgTnp_aA"
      },
      "source": [
        "### Continuous Bag of Words (CBOW)\n",
        "\n",
        "It's quite the opposite of Skip-gram. It predicts a **middle** word given the context of a few words before and a few words after the target word.\n",
        "\n",
        "So, given \"love\", \"to\", \"fish\", \"but\", the CBOW model will predict \"eat\" as the output word\n",
        "\n",
        "|Window size | Text | Input | Predicted |\n",
        "|---|---|---|---|\n",
        "| 2 | [I \\_**love**\\_ to eat] fish, but I hate to drink water | (\"I\", \"to eat\") | love |\n",
        "| 2 | I [love to \\_**eat**\\_ fish, but] I hate to drink water | (\"love to\", \"fish, but\") | eat |\n",
        "| 2 | I love [to eat \\_**fish**\\_ , but I ] to drink water | (\"to eat\", \"but I\") | fish |\n",
        "| 3 | I [love to eat \\_**fish**\\_ , but I hate] to drink water | (\"love to eat\", \"but I hate\") | fish |\n"
      ]
    },
    {
      "cell_type": "code",
      "execution_count": null,
      "metadata": {
        "id": "0r0lseH9p_aB",
        "outputId": "72fadd54-48d9-4dbf-90f6-b284468231b9",
        "colab": {
          "base_uri": "https://localhost:8080/"
        }
      },
      "outputs": [
        {
          "output_type": "execute_result",
          "data": {
            "text/plain": [
              "[(['I', 'love', 'eat', 'fish,'], 'to'),\n",
              " (['love', 'to', 'fish,', 'but'], 'eat'),\n",
              " (['to', 'eat', 'but', 'I'], 'fish,'),\n",
              " (['eat', 'fish,', 'I', 'hate'], 'but'),\n",
              " (['fish,', 'but', 'hate', 'to'], 'I'),\n",
              " (['but', 'I', 'to', 'drink'], 'hate'),\n",
              " (['I', 'hate', 'drink', 'water'], 'to')]"
            ]
          },
          "metadata": {},
          "execution_count": 2
        }
      ],
      "source": [
        "def generate_cbow(sentence, window_size):\n",
        "    words = sentence.split()\n",
        "    cbow_pairs = []\n",
        "    for i in range(window_size, len(words) - window_size):\n",
        "        context_words = []\n",
        "        for j in range(i - window_size, i + window_size + 1):\n",
        "            if j == i or j < 0 or j >= len(words):\n",
        "                continue\n",
        "            context_words.append(words[j])\n",
        "        cbow_pairs.append((context_words, words[i]))\n",
        "    return cbow_pairs\n",
        "\n",
        "generate_cbow(\"I love to eat fish, but I hate to drink water\", 2)"
      ]
    },
    {
      "cell_type": "markdown",
      "metadata": {
        "id": "fTCJs1lAp_aB"
      },
      "source": [
        "![cbow](https://storage.googleapis.com/rg-ai-bootcamp/nlp/cbow.png)"
      ]
    },
    {
      "cell_type": "markdown",
      "metadata": {
        "id": "bm9Erxxnp_aC"
      },
      "source": [
        "## Let's build a Word2Vec model!"
      ]
    },
    {
      "cell_type": "markdown",
      "metadata": {
        "id": "sOUBmz4Up_aC"
      },
      "source": [
        "### The easiest way\n",
        "\n",
        "The easiest way to build a Word2Vec model is to use the `gensim` library."
      ]
    },
    {
      "cell_type": "code",
      "execution_count": null,
      "metadata": {
        "id": "T6HGXqLnp_aC"
      },
      "outputs": [],
      "source": [
        "from gensim.models import Word2Vec\n",
        "\n",
        "corpus = [['I', 'love', 'to','eat', 'ice', 'cream'],\n",
        "                ['The', 'ice', 'cream', 'is', 'delicious'],\n",
        "                ['Ice', 'cream', 'is', 'my', 'favorite'],\n",
        "                ['Ice', 'is', 'very', 'cold'],\n",
        "                ['South', 'Africa', 'is', 'the', 'house', 'of', 'various', 'animals'],\n",
        "                ['The', 'desert', 'is', 'very', 'hot']]\n",
        "model = Word2Vec(corpus, min_count=1, vector_size=100, window=3)\n",
        "#min_count = banyaknya kata muncul di corpus\n",
        "#vector_size = embedding/vector ukurannya berapa\n",
        "#window = window size"
      ]
    },
    {
      "cell_type": "markdown",
      "metadata": {
        "id": "Di6ncgmYp_aC"
      },
      "source": [
        "We know have the word2vec model, yes it's that simple.\n",
        "\n",
        "Let's see how to use it!\n",
        "\n",
        "Let's print the vector of the word \"ice\""
      ]
    },
    {
      "cell_type": "code",
      "execution_count": null,
      "metadata": {
        "id": "y44wdoqMp_aC",
        "outputId": "5e674559-0733-4307-e8de-6ad86b01e50e",
        "colab": {
          "base_uri": "https://localhost:8080/"
        }
      },
      "outputs": [
        {
          "output_type": "execute_result",
          "data": {
            "text/plain": [
              "array([ 9.3212293e-05,  3.0770719e-03, -6.8118651e-03, -1.3751196e-03,\n",
              "        7.6688202e-03,  7.3457859e-03, -3.6729246e-03,  2.6427959e-03,\n",
              "       -8.3167218e-03,  6.2047895e-03, -4.6373853e-03, -3.1648867e-03,\n",
              "        9.3104383e-03,  8.7417278e-04,  7.4903117e-03, -6.0727512e-03,\n",
              "        5.1610614e-03,  9.9233752e-03, -8.4570879e-03, -5.1350184e-03,\n",
              "       -7.0640068e-03, -4.8623742e-03, -3.7776425e-03, -8.5362354e-03,\n",
              "        7.9563707e-03, -4.8429691e-03,  8.4230686e-03,  5.2623590e-03,\n",
              "       -6.5500555e-03,  3.9582876e-03,  5.4709758e-03, -7.4261688e-03,\n",
              "       -7.4054217e-03, -2.4756726e-03, -8.6249216e-03, -1.5812701e-03,\n",
              "       -4.0279646e-04,  3.3000994e-03,  1.4431456e-03, -8.8017591e-04,\n",
              "       -5.5925641e-03,  1.7296794e-03, -8.9829665e-04,  6.7929067e-03,\n",
              "        3.9731935e-03,  4.5301151e-03,  1.4342893e-03, -2.6998674e-03,\n",
              "       -4.3663131e-03, -1.0323119e-03,  1.4375548e-03, -2.6464923e-03,\n",
              "       -7.0737889e-03, -7.8048133e-03, -9.1210250e-03, -5.9340443e-03,\n",
              "       -1.8465136e-03, -4.3233316e-03, -6.4603114e-03, -3.7162432e-03,\n",
              "        4.2880280e-03, -3.7385889e-03,  8.3772345e-03,  1.5335697e-03,\n",
              "       -7.2412803e-03,  9.4334288e-03,  7.6311510e-03,  5.4920013e-03,\n",
              "       -6.8473201e-03,  5.8228681e-03,  4.0087220e-03,  5.1837498e-03,\n",
              "        4.2560440e-03,  1.9400261e-03, -3.1702011e-03,  8.3524166e-03,\n",
              "        9.6113142e-03,  3.7917446e-03, -2.8362276e-03,  7.0220985e-06,\n",
              "        1.2179716e-03, -8.4580434e-03, -8.2226843e-03, -2.3149964e-04,\n",
              "        1.2369631e-03, -5.7432777e-03, -4.7246884e-03, -7.3462939e-03,\n",
              "        8.3279610e-03,  1.2049330e-04, -4.5093168e-03,  5.7014343e-03,\n",
              "        9.1802459e-03, -4.1006147e-03,  7.9636248e-03,  5.3757117e-03,\n",
              "        5.8797505e-03,  5.1249505e-04,  8.2120160e-03, -7.0181224e-03],\n",
              "      dtype=float32)"
            ]
          },
          "metadata": {},
          "execution_count": 4
        }
      ],
      "source": [
        "model.wv['ice']"
      ]
    },
    {
      "cell_type": "code",
      "execution_count": null,
      "metadata": {
        "id": "PeC2ZAmWp_aD",
        "outputId": "e3512e95-8c57-42a8-b828-2bbbaeb295e7",
        "colab": {
          "base_uri": "https://localhost:8080/"
        }
      },
      "outputs": [
        {
          "output_type": "execute_result",
          "data": {
            "text/plain": [
              "[('love', 0.19912421703338623),\n",
              " ('delicious', 0.17267894744873047),\n",
              " ('very', 0.17019148170948029),\n",
              " ('house', 0.15282180905342102),\n",
              " ('various', 0.1486465185880661),\n",
              " ('hot', 0.14599092304706573),\n",
              " ('Ice', 0.06408277153968811),\n",
              " ('favorite', 0.04651280492544174),\n",
              " ('the', 0.0014594033127650619),\n",
              " ('my', -0.0028295249212533236)]"
            ]
          },
          "metadata": {},
          "execution_count": 5
        }
      ],
      "source": [
        "model.wv.most_similar('ice')"
      ]
    },
    {
      "cell_type": "code",
      "execution_count": null,
      "metadata": {
        "id": "lR3snzZLp_aD",
        "outputId": "c61d80d9-515b-4a42-f95a-3d5ab29c2fc5",
        "colab": {
          "base_uri": "https://localhost:8080/"
        }
      },
      "outputs": [
        {
          "output_type": "execute_result",
          "data": {
            "text/plain": [
              "[('is', 0.21887390315532684),\n",
              " ('my', 0.17480239272117615),\n",
              " ('hot', 0.16380424797534943),\n",
              " ('very', 0.10851778090000153),\n",
              " ('various', 0.10759598016738892),\n",
              " ('South', 0.06559502333402634),\n",
              " ('house', 0.05958966538310051),\n",
              " ('cold', 0.04906041547656059),\n",
              " ('Ice', 0.047640491276979446),\n",
              " ('cream', 0.02233739010989666)]"
            ]
          },
          "metadata": {},
          "execution_count": 6
        }
      ],
      "source": [
        "model.wv.most_similar('Africa')"
      ]
    },
    {
      "cell_type": "code",
      "execution_count": null,
      "metadata": {
        "id": "vxhprbfqp_aD",
        "outputId": "0f587db3-f823-4d97-b4c7-9a5f562592ef",
        "colab": {
          "base_uri": "https://localhost:8080/"
        }
      },
      "outputs": [
        {
          "output_type": "execute_result",
          "data": {
            "text/plain": [
              "[['adventures', 'in', 'wonderland'],\n",
              " ['adventures', 'in', 'wonderland'],\n",
              " ['lewis', 'carroll'],\n",
              " ['the', 'millennium', 'fulcrum', 'edition'],\n",
              " ['chapter', 'i'],\n",
              " ['down', 'the'],\n",
              " ['alice',\n",
              "  'was',\n",
              "  'beginning',\n",
              "  'to',\n",
              "  'get',\n",
              "  'very',\n",
              "  'tired',\n",
              "  'of',\n",
              "  'sitting',\n",
              "  'by',\n",
              "  'her',\n",
              "  'sister'],\n",
              " ['on',\n",
              "  'the',\n",
              "  'and',\n",
              "  'of',\n",
              "  'having',\n",
              "  'nothing',\n",
              "  'to',\n",
              "  'once',\n",
              "  'or',\n",
              "  'twice',\n",
              "  'she',\n",
              "  'had']]"
            ]
          },
          "metadata": {},
          "execution_count": 15
        }
      ],
      "source": [
        "import urllib.request\n",
        "urllib.request.urlretrieve(\"https://gist.githubusercontent.com/phillipj/4944029/raw/75ba2243dd5ec2875f629bf5d79f6c1e4b5a8b46/alice_in_wonderland.txt\", \"alice.txt\")\n",
        "\n",
        "sentences = []\n",
        "with open('alice.txt', 'r') as f:\n",
        "    sentences = f.readlines()\n",
        "    sentences = [sentence.strip() for sentence in sentences]\n",
        "    sentences = [sentence for sentence in sentences if sentence != '']\n",
        "    sentences = [sentence.split() for sentence in sentences]\n",
        "\n",
        "    # remove punctuation\n",
        "    sentences = [[word for word in sentence if word.isalpha()] for sentence in sentences]\n",
        "    # lower case\n",
        "    sentences = [[word.lower() for word in sentence] for sentence in sentences]\n",
        "\n",
        "sentences[:8]\n"
      ]
    },
    {
      "cell_type": "code",
      "execution_count": null,
      "metadata": {
        "id": "wVh6bewCp_aE",
        "outputId": "edc77148-473e-47d3-b983-0a94b9bc2550",
        "colab": {
          "base_uri": "https://localhost:8080/"
        }
      },
      "outputs": [
        {
          "output_type": "execute_result",
          "data": {
            "text/plain": [
              "[('think', 0.9588003754615784),\n",
              " ('again', 0.9582608342170715),\n",
              " ('caterpillar', 0.9580845236778259),\n",
              " ('when', 0.9580625891685486),\n",
              " ('said', 0.9580475687980652),\n",
              " ('herself', 0.9578971862792969),\n",
              " ('cried', 0.9578640460968018),\n",
              " ('waiting', 0.9578444361686707),\n",
              " ('march', 0.9578317999839783),\n",
              " ('round', 0.957779586315155)]"
            ]
          },
          "metadata": {},
          "execution_count": 23
        }
      ],
      "source": [
        "# train sentences to Word2Vec model\n",
        "\n",
        "model = Word2Vec(sentences, min_count=3, vector_size=300, window=3)\n",
        "\n",
        "model.wv.most_similar('dark')"
      ]
    },
    {
      "cell_type": "code",
      "execution_count": null,
      "metadata": {
        "id": "vyzItECQp_aE",
        "outputId": "0c6c00d3-85cb-42b5-e996-aafd53c82d3b",
        "colab": {
          "base_uri": "https://localhost:8080/"
        }
      },
      "outputs": [
        {
          "output_type": "execute_result",
          "data": {
            "text/plain": [
              "[('to', 0.999808669090271),\n",
              " ('very', 0.9997962117195129),\n",
              " ('the', 0.9997918605804443),\n",
              " ('a', 0.9997814893722534),\n",
              " ('her', 0.9997783899307251),\n",
              " ('that', 0.9997706413269043),\n",
              " ('and', 0.999763548374176),\n",
              " ('was', 0.9997625946998596),\n",
              " ('of', 0.9997538924217224),\n",
              " ('into', 0.9997495412826538)]"
            ]
          },
          "metadata": {},
          "execution_count": 24
        }
      ],
      "source": [
        "model.wv.most_similar(\"alice\")"
      ]
    },
    {
      "cell_type": "code",
      "execution_count": null,
      "metadata": {
        "id": "Amxf1HXQp_aE",
        "outputId": "46c748b0-fe5a-46bd-be3a-c67793b81fb6",
        "colab": {
          "base_uri": "https://localhost:8080/"
        }
      },
      "outputs": [
        {
          "output_type": "execute_result",
          "data": {
            "text/plain": [
              "[('on', 0.9959536790847778),\n",
              " ('for', 0.9959502816200256),\n",
              " ('to', 0.9959496855735779),\n",
              " ('such', 0.9959415197372437),\n",
              " ('at', 0.9959375262260437),\n",
              " ('one', 0.9959349036216736),\n",
              " ('and', 0.995932400226593),\n",
              " ('been', 0.9959290623664856),\n",
              " ('only', 0.9959184527397156),\n",
              " ('had', 0.9959134459495544)]"
            ]
          },
          "metadata": {},
          "execution_count": 25
        }
      ],
      "source": [
        "model.wv.most_similar(\"book\")"
      ]
    },
    {
      "cell_type": "markdown",
      "metadata": {
        "id": "BrlSzjykp_aE"
      },
      "source": [
        "### Our own CBOW model\n",
        "\n"
      ]
    },
    {
      "cell_type": "code",
      "execution_count": null,
      "metadata": {
        "id": "5e5w0puPp_aE",
        "outputId": "a2137b76-05ed-4739-aac4-98b4a8b3bc07",
        "colab": {
          "base_uri": "https://localhost:8080/"
        }
      },
      "outputs": [
        {
          "output_type": "stream",
          "name": "stdout",
          "text": [
            "word_to_idx {'various': 0, 'desert': 1, 'eat': 2, 'of': 3, 'to': 4, 'favorite': 5, 'cold': 6, 'my': 7, 'South': 8, 'hot': 9, 'delicious': 10, 'Ice': 11, 'cream': 12, 'The': 13, 'ice': 14, 'very': 15, 'the': 16, 'Africa': 17, 'animals': 18, 'house': 19, 'love': 20, 'is': 21, 'I': 22}\n",
            "idx_to_word {0: 'various', 1: 'desert', 2: 'eat', 3: 'of', 4: 'to', 5: 'favorite', 6: 'cold', 7: 'my', 8: 'South', 9: 'hot', 10: 'delicious', 11: 'Ice', 12: 'cream', 13: 'The', 14: 'ice', 15: 'very', 16: 'the', 17: 'Africa', 18: 'animals', 19: 'house', 20: 'love', 21: 'is', 22: 'I'}\n",
            "Epoch: 1, Loss: 28.3446\n",
            "Epoch: 11, Loss: 25.4927\n",
            "Epoch: 21, Loss: 22.7792\n",
            "Epoch: 31, Loss: 20.1952\n",
            "Epoch: 41, Loss: 17.7602\n",
            "Epoch: 51, Loss: 15.5141\n",
            "Epoch: 61, Loss: 13.4825\n",
            "Epoch: 71, Loss: 11.6784\n",
            "Epoch: 81, Loss: 10.0905\n",
            "Epoch: 91, Loss: 8.7056\n"
          ]
        }
      ],
      "source": [
        "# Use pytorch to train word2vec model using CBOW\n",
        "\n",
        "import torch\n",
        "import torch.nn as nn\n",
        "\n",
        "class CBOW(nn.Module):\n",
        "    def __init__(self, vocab_size, embedding_dim, context_size):\n",
        "        super(CBOW, self).__init__()\n",
        "        self.embeddings = nn.Embedding(vocab_size, embedding_dim)\n",
        "        self.linear1 = nn.Linear(context_size * 2 * embedding_dim, 128)\n",
        "        self.linear2 = nn.Linear(128, vocab_size)\n",
        "\n",
        "    def forward(self, inputs):\n",
        "        embeds = self.embeddings(inputs).view((1, -1))\n",
        "        out = torch.relu(self.linear1(embeds))\n",
        "        out = self.linear2(out)\n",
        "        log_probs = torch.log_softmax(out, dim=1)\n",
        "        return log_probs\n",
        "\n",
        "import torch.optim as optim\n",
        "\n",
        "losses = []\n",
        "loss_function = nn.NLLLoss()\n",
        "\n",
        "sentences = ['I love to eat ice cream',\n",
        "    'The ice cream is delicious',\n",
        "    'Ice cream is my favorite',\n",
        "    'Ice is very cold',\n",
        "    'South Africa is the house of various animals',\n",
        "    'The desert is very hot']\n",
        "\n",
        "\n",
        "vocab = set()\n",
        "for sentence in sentences:\n",
        "    for word in sentence.split():\n",
        "        vocab.add(word)\n",
        "\n",
        "word_to_idx = {word: i for i, word in enumerate(vocab)}\n",
        "idx_to_word = {i: word for i, word in enumerate(vocab)}\n",
        "\n",
        "print(\"word_to_idx\", word_to_idx)\n",
        "print(\"idx_to_word\", idx_to_word)\n",
        "\n",
        "context_size = 2\n",
        "embedding_dim = 10\n",
        "vocab_size = len(vocab)\n",
        "\n",
        "model = CBOW(vocab_size, embedding_dim, context_size)\n",
        "optimizer = optim.SGD(model.parameters(), lr=0.001)\n",
        "\n",
        "for epoch in range(100):\n",
        "    total_loss = 0\n",
        "\n",
        "    for sentence in sentences:\n",
        "        cbows = generate_cbow(sentence, context_size)\n",
        "        for cbow in cbows:\n",
        "            context, target = cbow\n",
        "            # print(\"context\", context, \"target\", target)\n",
        "            context_idxs = torch.tensor([word_to_idx[w] for w in context], dtype=torch.long)\n",
        "\n",
        "            model.zero_grad()\n",
        "            log_probs = model(context_idxs)\n",
        "            loss = loss_function(log_probs, torch.tensor([word_to_idx[target]], dtype=torch.long))\n",
        "            loss.backward()\n",
        "            optimizer.step()\n",
        "\n",
        "            total_loss += loss.item()\n",
        "\n",
        "    losses.append(total_loss)\n",
        "    if epoch % 10 == 0:\n",
        "        print(\"Epoch: {}, Loss: {:.4f}\".format(epoch + 1, total_loss))\n",
        "\n",
        "\n",
        "# Predict\n",
        "def predict(context):\n",
        "    print(\"context:\", context)\n",
        "    context_idxs = torch.tensor([word_to_idx[w] for w in context], dtype=torch.long)\n",
        "    log_probs = model(context_idxs)\n",
        "    print(log_probs)\n",
        "    _, predicted = torch.max(log_probs, 1)\n",
        "    print(\"predicted:\", idx_to_word[predicted.item()])\n",
        "\n",
        "\n",
        "\n"
      ]
    },
    {
      "cell_type": "code",
      "source": [
        "predict(['I', 'love', 'eat', 'ice'])\n",
        "predict(['The', 'ice', 'is', 'delicious'])"
      ],
      "metadata": {
        "colab": {
          "base_uri": "https://localhost:8080/"
        },
        "id": "8t6yIokVGb7Q",
        "outputId": "5d5ba094-2071-4133-f1d8-308d14b2a8a3"
      },
      "execution_count": null,
      "outputs": [
        {
          "output_type": "stream",
          "name": "stdout",
          "text": [
            "context: ['I', 'love', 'eat', 'ice']\n",
            "tensor([[-4.4321, -4.6766, -3.6683, -3.5254, -0.6680, -4.1474, -3.7263, -4.0142,\n",
            "         -4.3168, -4.3594, -4.3585, -4.1473, -3.3133, -4.6862, -4.4099, -4.2032,\n",
            "         -3.3486, -4.4990, -4.3831, -3.5898, -4.5321, -2.1591, -4.3297]],\n",
            "       grad_fn=<LogSoftmaxBackward0>)\n",
            "predicted: to\n",
            "context: ['The', 'ice', 'is', 'delicious']\n",
            "tensor([[-4.0988, -3.8456, -2.4206, -3.6899, -3.1163, -4.3287, -4.0568, -4.1615,\n",
            "         -4.5519, -4.0732, -4.0962, -4.0748, -0.8960, -4.2381, -3.7485, -4.0599,\n",
            "         -3.6480, -3.6187, -4.0923, -4.2082, -3.7265, -2.1956, -4.3154]],\n",
            "       grad_fn=<LogSoftmaxBackward0>)\n",
            "predicted: cream\n"
          ]
        }
      ]
    },
    {
      "cell_type": "code",
      "source": [
        "x = [-4.2652, -3.5854, -3.2520, -3.0274, -1.2188, -3.6841, -3.6087, -3.6745,-3.8019, -3.7576, -4.0241, -3.5619, -3.4887, -3.7695, -3.7445, -3.5392, -2.9152, -4.2086, -3.8605, -3.0417, -3.8256, -2.1053, -4.0057]\n",
        "len(x)"
      ],
      "metadata": {
        "colab": {
          "base_uri": "https://localhost:8080/"
        },
        "id": "advwaQCrGkON",
        "outputId": "ad303fed-17cc-4f81-c8e6-e1024f775739"
      },
      "execution_count": null,
      "outputs": [
        {
          "output_type": "execute_result",
          "data": {
            "text/plain": [
              "23"
            ]
          },
          "metadata": {},
          "execution_count": 30
        }
      ]
    },
    {
      "cell_type": "code",
      "source": [
        "vocab_size"
      ],
      "metadata": {
        "colab": {
          "base_uri": "https://localhost:8080/"
        },
        "id": "SrQukBfHG6aO",
        "outputId": "b6cc703b-5eb2-404e-a2f7-866fad8a6a54"
      },
      "execution_count": null,
      "outputs": [
        {
          "output_type": "execute_result",
          "data": {
            "text/plain": [
              "23"
            ]
          },
          "metadata": {},
          "execution_count": 31
        }
      ]
    },
    {
      "cell_type": "code",
      "source": [
        "Informasi Penugasan LMS:\n",
        "1.⁠ ⁠Project #8 - CNN (Deadline HARI INI Rabu, 28 Februari 2024 Pukul 23.59 WIB)\n",
        "2.⁠ ⁠Project #9 - Stable Diffusion (Deadline Jumat, 1 Maret 2024 Pukul 23.59 WIB)\n",
        "\n",
        "Untuk sesi consultation corner minggu ini akan diadakan pada Kamis, 29 Februari 2024 pukul 19.00 WIB dengan agenda New Scoring Update dan Technical Consultation.\n"
      ],
      "metadata": {
        "id": "QJK4zbBXG840"
      },
      "execution_count": null,
      "outputs": []
    }
  ],
  "metadata": {
    "kernelspec": {
      "display_name": "Python 3",
      "language": "python",
      "name": "python3"
    },
    "language_info": {
      "codemirror_mode": {
        "name": "ipython",
        "version": 3
      },
      "file_extension": ".py",
      "mimetype": "text/x-python",
      "name": "python",
      "nbconvert_exporter": "python",
      "pygments_lexer": "ipython3",
      "version": "3.11.1"
    },
    "orig_nbformat": 4,
    "colab": {
      "provenance": [],
      "include_colab_link": true
    }
  },
  "nbformat": 4,
  "nbformat_minor": 0
}