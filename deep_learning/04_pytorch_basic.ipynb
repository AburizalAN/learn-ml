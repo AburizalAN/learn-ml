{
  "cells": [
    {
      "cell_type": "markdown",
      "metadata": {
        "id": "2Nyfj_CwgjqE"
      },
      "source": [
        "# Pytorch Basic\n",
        "\n",
        "Pytorch is a python library for deep learning. It provides a high level abstraction which make it easy to train deep neural networks.\n",
        "\n",
        "Let's install pytorch first.\n"
      ]
    },
    {
      "cell_type": "code",
      "execution_count": null,
      "metadata": {
        "id": "M7_1vLa1gjqI"
      },
      "outputs": [],
      "source": [
        "!pip install torch\n",
        "!pip install fastbook"
      ]
    },
    {
      "cell_type": "markdown",
      "metadata": {
        "id": "N2C3ArGHgjqK"
      },
      "source": [
        "For this tutorial, we will use the following version:\n"
      ]
    },
    {
      "cell_type": "code",
      "execution_count": null,
      "metadata": {
        "id": "2lgmJED6gjqK",
        "outputId": "80cad99f-dd07-47cb-9ee9-9de4490bdc28"
      },
      "outputs": [
        {
          "name": "stdout",
          "output_type": "stream",
          "text": [
            "2.0.0\n"
          ]
        }
      ],
      "source": [
        "# Check pytorch version\n",
        "import torch\n",
        "print(torch.__version__)"
      ]
    },
    {
      "cell_type": "markdown",
      "metadata": {
        "id": "LN3ABPV4gjqL"
      },
      "source": [
        "## Tensor\n",
        "\n",
        "Tensor is the basic data structure in pytorch. It is similar to numpy array, but it provides automatic differentiation and it can be run on GPU.\n",
        "\n",
        "If we look at the trend, it's current [the most popular deep learning library](https://paperswithcode.com/trends)\n",
        "\n",
        "The capability of running on GPU is very important for deep learning. It can speed up the training process by a lot by parallelizing the computation. Watch this demo: [GPU vs CPU Demonstration](https://www.youtube.com/watch?v=-P28LKWTzrI)\n"
      ]
    },
    {
      "cell_type": "markdown",
      "metadata": {
        "id": "uzBdMoJsgjqM"
      },
      "source": [
        "Tensor is n-dimensional array. When n is 0, it is a scalar. When n is 1, it is a vector. When n is 2, it is a matrix. When n is 3, it is a cube. When n is 4, it is a 4-dimensional array. And so on.\n"
      ]
    },
    {
      "cell_type": "code",
      "execution_count": null,
      "metadata": {
        "id": "LXTSUtExgjqN",
        "outputId": "998d2530-56b6-45d3-a0a4-dcbf667f7ab6"
      },
      "outputs": [
        {
          "name": "stdout",
          "output_type": "stream",
          "text": [
            "tensor(42)\n"
          ]
        }
      ],
      "source": [
        "# 0 dimension tensor\n",
        "import torch\n",
        "\n",
        "x = torch.tensor(42)\n",
        "print(x)"
      ]
    },
    {
      "cell_type": "code",
      "execution_count": null,
      "metadata": {
        "id": "Sl4tKOzKgjqO",
        "outputId": "d2fc0893-6ba3-4f96-b87f-8beaac5a1059"
      },
      "outputs": [
        {
          "name": "stdout",
          "output_type": "stream",
          "text": [
            "tensor([42, 43])\n"
          ]
        }
      ],
      "source": [
        "# 1 dimension tensor\n",
        "import torch\n",
        "\n",
        "x = torch.tensor([42, 43])\n",
        "print(x)"
      ]
    },
    {
      "cell_type": "code",
      "execution_count": null,
      "metadata": {
        "id": "4yT3PgT7gjqO",
        "outputId": "360bd667-4012-4d94-c5f8-e7a03a507260"
      },
      "outputs": [
        {
          "name": "stdout",
          "output_type": "stream",
          "text": [
            "tensor([[42, 43],\n",
            "        [44, 45]])\n"
          ]
        }
      ],
      "source": [
        "# 2 dimension tensor\n",
        "import torch\n",
        "\n",
        "x = torch.tensor([[42, 43], [44, 45]])\n",
        "print(x)"
      ]
    },
    {
      "cell_type": "code",
      "execution_count": null,
      "metadata": {
        "id": "_q99sLWDgjqP",
        "outputId": "ed9a0bb0-e830-4e9a-c61e-b008341bfe13"
      },
      "outputs": [
        {
          "name": "stdout",
          "output_type": "stream",
          "text": [
            "tensor([[[42, 43],\n",
            "         [44, 45]],\n",
            "\n",
            "        [[46, 47],\n",
            "         [48, 49]]])\n"
          ]
        }
      ],
      "source": [
        "# 3 dimension tensor\n",
        "import torch\n",
        "\n",
        "x = torch.tensor([[[42, 43], [44, 45]], [[46, 47], [48, 49]]])\n",
        "print(x)"
      ]
    },
    {
      "cell_type": "markdown",
      "metadata": {
        "id": "5m91YYVqgjqP"
      },
      "source": [
        "To check the dimension of a tensor, we can use the `dim()` method.\n"
      ]
    },
    {
      "cell_type": "code",
      "execution_count": null,
      "metadata": {
        "id": "6ussEU6AgjqQ",
        "outputId": "2c91038d-c4a6-48a1-b7cb-a24e8d65cd4b"
      },
      "outputs": [
        {
          "name": "stdout",
          "output_type": "stream",
          "text": [
            "3\n",
            "0\n"
          ]
        }
      ],
      "source": [
        "x = torch.tensor([[[42, 43], [44, 45]], [[46, 47], [48, 49]]])\n",
        "print(x.dim())\n",
        "\n",
        "x = torch.tensor(42)\n",
        "print(x.dim())"
      ]
    },
    {
      "cell_type": "markdown",
      "metadata": {
        "id": "xQNOQmEUgjqQ"
      },
      "source": [
        "## Constructing Tensor\n"
      ]
    },
    {
      "cell_type": "markdown",
      "metadata": {
        "id": "fG8y4J0UgjqQ"
      },
      "source": [
        "### Random Tensor\n"
      ]
    },
    {
      "cell_type": "code",
      "execution_count": null,
      "metadata": {
        "id": "V9a3De0VgjqQ",
        "outputId": "d6a1e6e2-ce27-4aa2-b906-89a8ff266db0"
      },
      "outputs": [
        {
          "data": {
            "text/plain": [
              "tensor([[0.1525, 0.6666, 0.1917],\n",
              "        [0.2481, 0.2753, 0.5342],\n",
              "        [0.0914, 0.3634, 0.1529],\n",
              "        [0.1574, 0.5854, 0.1454],\n",
              "        [0.0309, 0.0197, 0.2013]])"
            ]
          },
          "execution_count": 24,
          "metadata": {},
          "output_type": "execute_result"
        }
      ],
      "source": [
        "import torch\n",
        "torch.rand(5, 3)"
      ]
    },
    {
      "cell_type": "markdown",
      "metadata": {
        "id": "yS2voBXugjqR"
      },
      "source": [
        "The parameters of the `rand()` method are the dimension of the tensor. For example, `torch.rand(2, 3)` will create a 2x3 tensor with random values.\n"
      ]
    },
    {
      "cell_type": "code",
      "execution_count": null,
      "metadata": {
        "id": "Ne26D2uVgjqR",
        "outputId": "b5801f69-a20e-4b4e-da93-525a0a7f3e1f"
      },
      "outputs": [
        {
          "data": {
            "text/plain": [
              "tensor([0.3616, 0.8951, 0.4249, 0.0801, 0.5676])"
            ]
          },
          "execution_count": 27,
          "metadata": {},
          "output_type": "execute_result"
        }
      ],
      "source": [
        "import torch\n",
        "# One dimensional tensor containing 5 random numbers\n",
        "torch.rand(5)"
      ]
    },
    {
      "cell_type": "markdown",
      "metadata": {
        "id": "njfx_-q0gjqR"
      },
      "source": [
        "### Ones Tensor\n",
        "\n",
        "Ones tensor is a tensor with all values equal to 1\n"
      ]
    },
    {
      "cell_type": "code",
      "execution_count": null,
      "metadata": {
        "id": "8SaZsrBkgjqR",
        "outputId": "e179a202-7064-4796-895a-958554865b10"
      },
      "outputs": [
        {
          "data": {
            "text/plain": [
              "tensor([[1., 1., 1.],\n",
              "        [1., 1., 1.]])"
            ]
          },
          "execution_count": 32,
          "metadata": {},
          "output_type": "execute_result"
        }
      ],
      "source": [
        "import torch\n",
        "torch.ones(2, 3)"
      ]
    },
    {
      "cell_type": "markdown",
      "metadata": {
        "id": "bjnboJJzgjqR"
      },
      "source": [
        "Quiz: what's the output of `torch.ones(1, 2)`?\n"
      ]
    },
    {
      "cell_type": "code",
      "execution_count": null,
      "metadata": {
        "id": "3Y29-KSCgjqS"
      },
      "outputs": [],
      "source": [
        "import torch\n",
        "torch.zeros(1, 2)"
      ]
    },
    {
      "cell_type": "markdown",
      "metadata": {
        "id": "6jUYsH1NgjqS"
      },
      "source": [
        "### Zeros Tensor\n",
        "\n",
        "Zeros tensor is a tensor with all values equal to 0\n"
      ]
    },
    {
      "cell_type": "code",
      "execution_count": null,
      "metadata": {
        "id": "_IkNyJO3gjqS",
        "outputId": "b7297870-b1ea-4f83-f80f-8c253720530a"
      },
      "outputs": [
        {
          "data": {
            "text/plain": [
              "tensor([[[0., 0., 0.],\n",
              "         [0., 0., 0.]]])"
            ]
          },
          "execution_count": 30,
          "metadata": {},
          "output_type": "execute_result"
        }
      ],
      "source": [
        "import torch\n",
        "torch.zeros(1,2,3)"
      ]
    },
    {
      "cell_type": "markdown",
      "metadata": {
        "id": "XrzhSdtbgjqS"
      },
      "source": [
        "### Range Tensor\n",
        "\n",
        "If we want to create a tensor with values from 0 to n-1, we can use the `torch.arange(n)` method.\n"
      ]
    },
    {
      "cell_type": "code",
      "execution_count": null,
      "metadata": {
        "id": "CcJ1poLEgjqT",
        "outputId": "333bd427-9167-42f7-b426-f9661e9f28bd"
      },
      "outputs": [
        {
          "data": {
            "text/plain": [
              "tensor([1, 2, 3, 4, 5, 6, 7, 8, 9])"
            ]
          },
          "execution_count": 35,
          "metadata": {},
          "output_type": "execute_result"
        }
      ],
      "source": [
        "import torch\n",
        "torch.arange(1, 10)"
      ]
    },
    {
      "cell_type": "code",
      "execution_count": null,
      "metadata": {
        "id": "NCe7DdVIgjqT",
        "outputId": "6c70aab3-19d4-4bf7-f3c4-dce172985f8e"
      },
      "outputs": [
        {
          "data": {
            "text/plain": [
              "tensor([-3, -1,  1])"
            ]
          },
          "execution_count": 36,
          "metadata": {},
          "output_type": "execute_result"
        }
      ],
      "source": [
        "torch.arange(-3, 3, 2)"
      ]
    },
    {
      "cell_type": "markdown",
      "metadata": {
        "id": "-2iyZ5LHgjqT"
      },
      "source": [
        "### Full\n",
        "\n",
        "If we want to create a tensor with all values equal to a constant, we can use the `torch.full()` method.\n"
      ]
    },
    {
      "cell_type": "code",
      "execution_count": null,
      "metadata": {
        "id": "7GkI0WHXgjqT",
        "outputId": "060c7521-8368-4389-bc9c-43a53eb777f0"
      },
      "outputs": [
        {
          "data": {
            "text/plain": [
              "tensor([42, 42])"
            ]
          },
          "execution_count": 51,
          "metadata": {},
          "output_type": "execute_result"
        }
      ],
      "source": [
        "import torch\n",
        "torch.full((2, ), 42)"
      ]
    },
    {
      "cell_type": "code",
      "execution_count": null,
      "metadata": {
        "id": "SU4j250dgjqU",
        "outputId": "a93ae847-f86d-47b3-e2c7-9bbf86f97122"
      },
      "outputs": [
        {
          "data": {
            "text/plain": [
              "tensor([[42, 42, 42],\n",
              "        [42, 42, 42]])"
            ]
          },
          "execution_count": 52,
          "metadata": {},
          "output_type": "execute_result"
        }
      ],
      "source": [
        "import torch\n",
        "torch.full((2, 3), 42)"
      ]
    },
    {
      "cell_type": "markdown",
      "metadata": {
        "id": "3O2NxSKGgjqU"
      },
      "source": [
        "## Tensor Operations\n"
      ]
    },
    {
      "cell_type": "markdown",
      "metadata": {
        "id": "CDqkjHpdgjqU"
      },
      "source": [
        "We can do normal arithmetic operations on tensor:\n"
      ]
    },
    {
      "cell_type": "code",
      "execution_count": null,
      "metadata": {
        "id": "sqcbshU3gjqU",
        "outputId": "b6f30a7a-d529-4b4d-b478-2ee54675b99d"
      },
      "outputs": [
        {
          "name": "stdout",
          "output_type": "stream",
          "text": [
            "tensor(44)\n",
            "tensor(126)\n",
            "tensor(1764)\n",
            "tensor(21.)\n"
          ]
        }
      ],
      "source": [
        "x = torch.tensor(42)\n",
        "print(x + 2)\n",
        "print(x * 3)\n",
        "print(x ** 2)\n",
        "print(x / 2)"
      ]
    },
    {
      "cell_type": "markdown",
      "metadata": {
        "id": "OYTu7DCXgjqU"
      },
      "source": [
        "We can do similar operations on higher dimensional tensors:\n"
      ]
    },
    {
      "cell_type": "code",
      "execution_count": null,
      "metadata": {
        "id": "Si5WgAvJgjqV",
        "outputId": "84290185-85b6-4793-9294-af59b991b779"
      },
      "outputs": [
        {
          "name": "stdout",
          "output_type": "stream",
          "text": [
            "tensor([2, 3])\n",
            "tensor([[2, 3],\n",
            "        [4, 5]])\n"
          ]
        }
      ],
      "source": [
        "x = torch.tensor([1, 2])\n",
        "print(x + 1)\n",
        "\n",
        "x = torch.tensor([[1, 2], [3, 4]])\n",
        "print(x + 1)"
      ]
    },
    {
      "cell_type": "markdown",
      "metadata": {
        "id": "ZBgbPLm8gjqV"
      },
      "source": [
        "Wow from mathematic lesson, didn't we learn that addition operations are only defined for tensors with the same shape? How come we can add a scalar tensor (0 dim) with a 2 dim tensor?\n",
        "\n",
        "This is because of broadcasting. Pytorch will automatically broadcast the scalar tensor to match the shape of the other tensor.\n",
        "\n",
        "So,\n",
        "\n",
        "$$\n",
        "\\begin{bmatrix}\n",
        "1 & 2 & 3 \\\\\n",
        "4 & 5 & 6 \\\\\n",
        "\\end{bmatrix}\n",
        "+ 1\n",
        "$$\n",
        "\n",
        "would become\n",
        "\n",
        "$$\n",
        "\\begin{bmatrix}\n",
        "1 & 2 & 3 \\\\\n",
        "4 & 5 & 6 \\\\\n",
        "\\end{bmatrix}\n",
        "+\n",
        "\\begin{bmatrix}\n",
        "1 & 1 & 1 \\\\\n",
        "1 & 1 & 1 \\\\\n",
        "\\end{bmatrix}\n",
        "$$\n"
      ]
    },
    {
      "cell_type": "markdown",
      "metadata": {
        "id": "T52ZKorDgjqV"
      },
      "source": [
        "## Broadcasting\n"
      ]
    },
    {
      "cell_type": "markdown",
      "metadata": {
        "id": "BdEu7LyEgjqV"
      },
      "source": [
        "So how does broadcasting work?\n",
        "\n",
        "Taken from [Pytorch Docs](https://pytorch.org/docs/stable/notes/broadcasting.html):\n",
        "\n",
        "Two tensors are “broadcastable” if the following rules hold:\n",
        "\n",
        "- Each tensor has at least one dimension.\n",
        "- When iterating over the dimension sizes, starting at the trailing dimension, the dimension sizes must either be equal, one of them is 1, or one of them does not exist.\n"
      ]
    },
    {
      "cell_type": "markdown",
      "metadata": {
        "id": "OOjo-jqOgjqV"
      },
      "source": [
        "Broadcasting rules:\n",
        "\n",
        "- If the number of dimensions of x and y are not equal, prepend 1 to the dimensions of the tensor with fewer dimensions to make them equal length.\n",
        "- Then, for each dimension size, the resulting dimension size is the max of the sizes of x and y along that dimension.\n"
      ]
    },
    {
      "cell_type": "code",
      "execution_count": null,
      "metadata": {
        "id": "sfUWMbRtgjqW",
        "outputId": "c658b48d-abd0-4138-d5b9-ed48671e1d49"
      },
      "outputs": [
        {
          "data": {
            "text/plain": [
              "tensor([6., 6., 6.])"
            ]
          },
          "execution_count": 55,
          "metadata": {},
          "output_type": "execute_result"
        }
      ],
      "source": [
        "import torch\n",
        "torch.full((1,), 5) + torch.ones(3)\n"
      ]
    },
    {
      "cell_type": "markdown",
      "metadata": {
        "id": "-xaBSfvMgjqb"
      },
      "source": [
        "$$\n",
        "\\begin{bmatrix}\n",
        "5\n",
        "\\end{bmatrix}\n",
        "+\n",
        "\\begin{bmatrix}\n",
        "1 \\\\\n",
        "1 \\\\\n",
        "1\n",
        "\\end{bmatrix}\n",
        "=\n",
        "\\begin{bmatrix}\n",
        "5 \\\\\n",
        "5 \\\\\n",
        "5\n",
        "\\end{bmatrix}\n",
        "+\n",
        "\\begin{bmatrix}\n",
        "1 \\\\\n",
        "1 \\\\\n",
        "1\n",
        "\\end{bmatrix}\n",
        "$$\n"
      ]
    },
    {
      "cell_type": "code",
      "execution_count": null,
      "metadata": {
        "id": "B-KzXcxSgjqb"
      },
      "outputs": [],
      "source": [
        "import torch\n",
        "# Error\n",
        "torch.ones(3) + torch.ones(5)"
      ]
    },
    {
      "cell_type": "markdown",
      "metadata": {
        "id": "lwPB9Vv4gjqb"
      },
      "source": [
        "$$\n",
        "\\begin{bmatrix}\n",
        "1 \\\\\n",
        "1 \\\\\n",
        "1\n",
        "\\end{bmatrix}\n",
        "+\n",
        "\\begin{bmatrix}\n",
        "1 \\\\\n",
        "1 \\\\\n",
        "1 \\\\\n",
        "1 \\\\\n",
        "1\n",
        "\\end{bmatrix}\n",
        "=\n",
        "error\n",
        "$$\n"
      ]
    },
    {
      "cell_type": "markdown",
      "metadata": {
        "id": "jCPHsEENgjqb"
      },
      "source": [
        "Why is it an error?\n",
        "\n",
        "Remember this rule:\n",
        "\n",
        "> When iterating over the dimension sizes, starting at the trailing dimension, the dimension sizes must either be equal, one of them is 1, or one of them does not exist.\n",
        "\n",
        "The trailing dimension of the first tensor is 3, while the trailing dimension of the second tensor is 5. They are not equal, one of them is not 1, and one of them does not exist. So it's an error.\n"
      ]
    },
    {
      "cell_type": "markdown",
      "metadata": {
        "id": "x-z8jWCxgjqb"
      },
      "source": [
        "Let's try again\n"
      ]
    },
    {
      "cell_type": "code",
      "execution_count": null,
      "metadata": {
        "id": "amUFn3Wdgjqb",
        "outputId": "739de874-1882-4ed1-8be3-2359cae4de4e"
      },
      "outputs": [
        {
          "data": {
            "text/plain": [
              "tensor([[8, 8],\n",
              "        [8, 8]])"
            ]
          },
          "execution_count": 58,
          "metadata": {},
          "output_type": "execute_result"
        }
      ],
      "source": [
        "import torch\n",
        "\n",
        "torch.full((2, 2), 5) + torch.full((1, 2), 3)"
      ]
    },
    {
      "cell_type": "markdown",
      "metadata": {
        "id": "LbaBDqL8gjqc"
      },
      "source": [
        "$$\n",
        "\\begin{bmatrix}\n",
        "5 && 5 \\\\\n",
        "5 && 5 \\\\\n",
        "\\end{bmatrix}\n",
        "+\n",
        "\\begin{bmatrix}\n",
        "3 && 3\n",
        "\\end{bmatrix}\n",
        "=\n",
        "\\begin{bmatrix}\n",
        "5 && 5 \\\\\n",
        "5 && 5 \\\\\n",
        "\\end{bmatrix}\n",
        "+\n",
        "\\begin{bmatrix}\n",
        "3 && 3 \\\\\n",
        "3 && 3 \\\\\n",
        "\\end{bmatrix}\n",
        "$$\n"
      ]
    },
    {
      "cell_type": "code",
      "execution_count": null,
      "metadata": {
        "id": "_8eaeN0Zgjqc",
        "outputId": "fc061cd8-0c53-45a6-f218-58af0f0e1825"
      },
      "outputs": [
        {
          "name": "stdout",
          "output_type": "stream",
          "text": [
            "x = tensor([[[5, 5],\n",
            "         [5, 5],\n",
            "         [5, 5],\n",
            "         [5, 5]],\n",
            "\n",
            "        [[5, 5],\n",
            "         [5, 5],\n",
            "         [5, 5],\n",
            "         [5, 5]],\n",
            "\n",
            "        [[5, 5],\n",
            "         [5, 5],\n",
            "         [5, 5],\n",
            "         [5, 5]]])\n",
            "y = tensor([3, 3])\n",
            "z =  tensor([[[8, 8],\n",
            "         [8, 8],\n",
            "         [8, 8],\n",
            "         [8, 8]],\n",
            "\n",
            "        [[8, 8],\n",
            "         [8, 8],\n",
            "         [8, 8],\n",
            "         [8, 8]],\n",
            "\n",
            "        [[8, 8],\n",
            "         [8, 8],\n",
            "         [8, 8],\n",
            "         [8, 8]]])\n"
          ]
        }
      ],
      "source": [
        "import torch\n",
        "\n",
        "x = torch.full((3, 4, 2), 5)\n",
        "y = torch.full((2,), 3)\n",
        "z = x + y\n",
        "print('x =', x)\n",
        "print('y =', y)\n",
        "print('z = ',z)"
      ]
    },
    {
      "cell_type": "markdown",
      "metadata": {
        "id": "_sB4LsyUgjqc"
      },
      "source": [
        "## Matrix Operation\n",
        "\n",
        "Tensor can be multiplied with another tensor using the `matmul()` method or the `@` operator.\n"
      ]
    },
    {
      "cell_type": "code",
      "execution_count": null,
      "metadata": {
        "id": "-NUrCe9Bgjqc",
        "outputId": "b08284a8-2405-4fc0-af28-835350bd96f0"
      },
      "outputs": [
        {
          "name": "stdout",
          "output_type": "stream",
          "text": [
            "torch.Size([1, 2])\n",
            "torch.Size([2, 3])\n"
          ]
        },
        {
          "data": {
            "text/plain": [
              "tensor([[19, 26, 33]])"
            ]
          },
          "execution_count": 78,
          "metadata": {},
          "output_type": "execute_result"
        }
      ],
      "source": [
        "import torch\n",
        "\n",
        "x = torch.tensor([[3, 4]])\n",
        "print(x.shape)\n",
        "y = torch.tensor([[1, 2, 3], [4, 5, 6]])\n",
        "print(y.shape)\n",
        "x @ y\n"
      ]
    },
    {
      "cell_type": "markdown",
      "metadata": {
        "id": "Mx4jXe4Mgjqc"
      },
      "source": [
        "$$\n",
        "\\begin{bmatrix}\n",
        "3 && 4\n",
        "\\end{bmatrix}\n",
        "\\times\n",
        "\\begin{bmatrix}\n",
        "1 && 2 && 3 \\\\\n",
        "4 && 5 && 6\n",
        "\\end{bmatrix}\n",
        "$$\n"
      ]
    },
    {
      "cell_type": "markdown",
      "metadata": {
        "id": "xg2RkBTagjqd"
      },
      "source": [
        "Be careful not to be confused with the `*` operator. The `*` operator is element-wise multiplication.\n"
      ]
    },
    {
      "cell_type": "code",
      "execution_count": null,
      "metadata": {
        "id": "5GiT2Tl_gjqd",
        "outputId": "ec247085-ca5f-4b10-9e8c-3b2d4dc286ac"
      },
      "outputs": [
        {
          "data": {
            "text/plain": [
              "tensor([[ 9, 16]])"
            ]
          },
          "execution_count": 80,
          "metadata": {},
          "output_type": "execute_result"
        }
      ],
      "source": [
        "import torch\n",
        "\n",
        "x = torch.tensor([[3, 4]])\n",
        "x * x\n"
      ]
    },
    {
      "cell_type": "markdown",
      "metadata": {
        "id": "VbKzU4LCgjqd"
      },
      "source": [
        "## Transpose\n",
        "\n",
        "We can transpose a tensor using the `t` method.\n"
      ]
    },
    {
      "cell_type": "code",
      "execution_count": null,
      "metadata": {
        "id": "L9tnAguPgjqd",
        "outputId": "d0d4deaf-a1e8-477e-87bd-fd3b1301b8a3"
      },
      "outputs": [
        {
          "name": "stdout",
          "output_type": "stream",
          "text": [
            "tensor([[3, 4]])\n",
            "torch.Size([1, 2])\n",
            "tensor([[3],\n",
            "        [4]])\n",
            "torch.Size([2, 1])\n"
          ]
        }
      ],
      "source": [
        "import torch\n",
        "\n",
        "x = torch.tensor([[3, 4]])\n",
        "print(x)\n",
        "print(x.shape)\n",
        "print(x.T)\n",
        "print(x.T.shape)\n"
      ]
    },
    {
      "cell_type": "markdown",
      "metadata": {
        "id": "-q132RUUgjqd"
      },
      "source": [
        "## Neural Network with Pytorch\n",
        "\n",
        "Now we have learned the required knowledge to build a neural network with pytorch.\n"
      ]
    },
    {
      "cell_type": "code",
      "execution_count": null,
      "metadata": {
        "colab": {
          "base_uri": "https://localhost:8080/",
          "height": 313
        },
        "id": "89V9WdEKgjqe",
        "outputId": "5cfbf04e-569e-42e8-882a-ff5dabcd5f5d"
      },
      "outputs": [
        {
          "data": {
            "image/svg+xml": [
              "<?xml version=\"1.0\" encoding=\"UTF-8\" standalone=\"no\"?>\n",
              "<!DOCTYPE svg PUBLIC \"-//W3C//DTD SVG 1.1//EN\"\n",
              " \"http://www.w3.org/Graphics/SVG/1.1/DTD/svg11.dtd\">\n",
              "<!-- Generated by graphviz version 2.43.0 (0)\n",
              " -->\n",
              "<!-- Title: G Pages: 1 -->\n",
              "<svg width=\"464pt\" height=\"219pt\"\n",
              " viewBox=\"0.00 0.00 463.58 218.87\" xmlns=\"http://www.w3.org/2000/svg\" xmlns:xlink=\"http://www.w3.org/1999/xlink\">\n",
              "<g id=\"graph0\" class=\"graph\" transform=\"scale(1 1) rotate(0) translate(4 214.87)\">\n",
              "<title>G</title>\n",
              "<polygon fill=\"white\" stroke=\"transparent\" points=\"-4,4 -4,-214.87 459.58,-214.87 459.58,4 -4,4\"/>\n",
              "<!-- z -->\n",
              "<g id=\"node1\" class=\"node\">\n",
              "<title>z</title>\n",
              "<polygon fill=\"none\" stroke=\"black\" points=\"198.64,-122 130.64,-122 126.64,-118 126.64,-72 194.64,-72 198.64,-76 198.64,-122\"/>\n",
              "<polyline fill=\"none\" stroke=\"black\" points=\"194.64,-118 126.64,-118 \"/>\n",
              "<polyline fill=\"none\" stroke=\"black\" points=\"194.64,-118 194.64,-72 \"/>\n",
              "<polyline fill=\"none\" stroke=\"black\" points=\"194.64,-118 198.64,-122 \"/>\n",
              "<text text-anchor=\"middle\" x=\"162.64\" y=\"-93.3\" font-family=\"Times,serif\" font-size=\"14.00\">z</text>\n",
              "</g>\n",
              "<!-- alignmentNode -->\n",
              "<!-- z&#45;&gt;alignmentNode -->\n",
              "<!-- a -->\n",
              "<g id=\"node6\" class=\"node\">\n",
              "<title>a</title>\n",
              "<ellipse fill=\"none\" stroke=\"black\" cx=\"292.29\" cy=\"-97\" rx=\"27\" ry=\"18\"/>\n",
              "<text text-anchor=\"middle\" x=\"292.29\" y=\"-93.3\" font-family=\"Times,serif\" font-size=\"14.00\">a</text>\n",
              "</g>\n",
              "<!-- z&#45;&gt;a -->\n",
              "<g id=\"edge6\" class=\"edge\">\n",
              "<title>z&#45;&gt;a</title>\n",
              "<path fill=\"none\" stroke=\"black\" d=\"M198.86,-97C216.22,-97 237.13,-97 254.67,-97\"/>\n",
              "<polygon fill=\"black\" stroke=\"black\" points=\"255.09,-100.5 265.09,-97 255.09,-93.5 255.09,-100.5\"/>\n",
              "</g>\n",
              "<!-- bias -->\n",
              "<g id=\"node2\" class=\"node\">\n",
              "<title>bias</title>\n",
              "<ellipse fill=\"none\" stroke=\"black\" cx=\"162.64\" cy=\"-184\" rx=\"26.74\" ry=\"26.74\"/>\n",
              "<text text-anchor=\"middle\" x=\"162.64\" y=\"-180.3\" font-family=\"Times,serif\" font-size=\"14.00\">bias</text>\n",
              "</g>\n",
              "<!-- bias&#45;&gt;z -->\n",
              "<g id=\"edge5\" class=\"edge\">\n",
              "<title>bias&#45;&gt;z</title>\n",
              "<path fill=\"none\" stroke=\"black\" d=\"M162.64,-157.07C162.64,-149.24 162.64,-140.57 162.64,-132.31\"/>\n",
              "<polygon fill=\"black\" stroke=\"black\" points=\"166.14,-132.16 162.64,-122.16 159.14,-132.16 166.14,-132.16\"/>\n",
              "<text text-anchor=\"middle\" x=\"152.14\" y=\"-135.86\" font-family=\"Times,serif\" font-size=\"14.00\">5</text>\n",
              "</g>\n",
              "<!-- bias&#45;&gt;alignmentNode -->\n",
              "<!-- x_0 -->\n",
              "<g id=\"node3\" class=\"node\">\n",
              "<title>x_0</title>\n",
              "<ellipse fill=\"none\" stroke=\"black\" cx=\"27\" cy=\"-124\" rx=\"27\" ry=\"18\"/>\n",
              "<text text-anchor=\"middle\" x=\"27\" y=\"-120.3\" font-family=\"Times,serif\" font-size=\"14.00\">1</text>\n",
              "</g>\n",
              "<!-- x_0&#45;&gt;z -->\n",
              "<g id=\"edge3\" class=\"edge\">\n",
              "<title>x_0&#45;&gt;z</title>\n",
              "<path fill=\"none\" stroke=\"black\" d=\"M53.14,-118.92C70.94,-115.32 95.32,-110.4 116.46,-106.13\"/>\n",
              "<polygon fill=\"black\" stroke=\"black\" points=\"117.42,-109.5 126.53,-104.09 116.04,-102.64 117.42,-109.5\"/>\n",
              "<text text-anchor=\"middle\" x=\"75.5\" y=\"-117.8\" font-family=\"Times,serif\" font-size=\"14.00\">3</text>\n",
              "</g>\n",
              "<!-- x_1 -->\n",
              "<g id=\"node4\" class=\"node\">\n",
              "<title>x_1</title>\n",
              "<ellipse fill=\"none\" stroke=\"black\" cx=\"27\" cy=\"-70\" rx=\"27\" ry=\"18\"/>\n",
              "<text text-anchor=\"middle\" x=\"27\" y=\"-66.3\" font-family=\"Times,serif\" font-size=\"14.00\">2</text>\n",
              "</g>\n",
              "<!-- x_1&#45;&gt;z -->\n",
              "<g id=\"edge4\" class=\"edge\">\n",
              "<title>x_1&#45;&gt;z</title>\n",
              "<path fill=\"none\" stroke=\"black\" d=\"M53.14,-75.08C70.94,-78.68 95.32,-83.6 116.46,-87.87\"/>\n",
              "<polygon fill=\"black\" stroke=\"black\" points=\"116.04,-91.36 126.53,-89.91 117.42,-84.5 116.04,-91.36\"/>\n",
              "<text text-anchor=\"middle\" x=\"75.5\" y=\"-84.8\" font-family=\"Times,serif\" font-size=\"14.00\">4</text>\n",
              "</g>\n",
              "<!-- output -->\n",
              "<g id=\"node7\" class=\"node\">\n",
              "<title>output</title>\n",
              "<ellipse fill=\"none\" stroke=\"black\" cx=\"422.44\" cy=\"-97\" rx=\"33.29\" ry=\"18\"/>\n",
              "<text text-anchor=\"middle\" x=\"422.44\" y=\"-93.3\" font-family=\"Times,serif\" font-size=\"14.00\">output</text>\n",
              "</g>\n",
              "<!-- a&#45;&gt;output -->\n",
              "<g id=\"edge7\" class=\"edge\">\n",
              "<title>a&#45;&gt;output</title>\n",
              "<path fill=\"none\" stroke=\"black\" d=\"M319.53,-97C336.54,-97 359.08,-97 378.65,-97\"/>\n",
              "<polygon fill=\"black\" stroke=\"black\" points=\"378.85,-100.5 388.85,-97 378.85,-93.5 378.85,-100.5\"/>\n",
              "<text text-anchor=\"middle\" x=\"354.29\" y=\"-100.8\" font-family=\"Times,serif\" font-size=\"14.00\">ReLU</text>\n",
              "</g>\n",
              "</g>\n",
              "</svg>\n"
            ],
            "text/plain": [
              "<graphviz.sources.Source at 0x7b853d0e4b50>"
            ]
          },
          "execution_count": 2,
          "metadata": {},
          "output_type": "execute_result"
        }
      ],
      "source": [
        "from fastbook import *\n",
        "\n",
        "\n",
        "# Draw neurons with multiple inputs and weights\n",
        "gv('''\n",
        "z[shape=box3d width=1 height=0.7]\n",
        "bias[shape=circle width=0.3]\n",
        "x_0[label=1]\n",
        "x_1[label=2]\n",
        "// Subgraph to force alignment on x-axis\n",
        "subgraph {\n",
        "    rank=same;\n",
        "    z;\n",
        "    bias;\n",
        "    alignmentNode [style=invis, width=0]; // invisible node for alignment\n",
        "    bias -> alignmentNode [style=invis]; // invisible edge\n",
        "    z -> alignmentNode [style=invis]; // invisible edge\n",
        "}\n",
        "x_0->z [label=\"3\"]\n",
        "x_1->z [label=\"4\"]\n",
        "bias->z [label=\"5\" pos=\"0,1.2!\"]\n",
        "z->a\n",
        "a->output [label=\"ReLU\"]\n",
        "''')\n"
      ]
    },
    {
      "cell_type": "markdown",
      "metadata": {
        "id": "dFt9QJl-gjqe"
      },
      "source": [
        "Remember the equation\n",
        "\n",
        "$$\n",
        "z = wx + b\\\\\n",
        "a = ReLU(z)\n",
        "$$\n",
        "\n",
        "Let's represent it in pytorch\n"
      ]
    },
    {
      "cell_type": "code",
      "execution_count": 8,
      "metadata": {
        "id": "eNgsZgzZgjqe",
        "outputId": "c0831449-68ff-4616-b724-5c66a1d62128"
      },
      "outputs": [
        {
          "name": "stdout",
          "output_type": "stream",
          "text": [
            "w = torch.Size([2]), x = torch.Size([2, 1])\n"
          ]
        },
        {
          "data": {
            "text/plain": [
              "tensor([16])"
            ]
          },
          "execution_count": 8,
          "metadata": {},
          "output_type": "execute_result"
        }
      ],
      "source": [
        "import torch\n",
        "\n",
        "x = torch.tensor([[1],[2]])\n",
        "\n",
        "w = torch.tensor([3, 4])\n",
        "print(f\"w = {w.size()}, x = {x.size()}\")\n",
        "b = torch.tensor(5)\n",
        "z = w @ x + b\n",
        "a = z.relu()\n",
        "a"
      ]
    },
    {
      "cell_type": "markdown",
      "metadata": {
        "id": "Xd_apB25gjqe"
      },
      "source": [
        "How about multiple layers? Easy!\n"
      ]
    },
    {
      "cell_type": "code",
      "execution_count": null,
      "metadata": {
        "colab": {
          "base_uri": "https://localhost:8080/",
          "height": 174
        },
        "id": "jB65_Ik2gjqe",
        "outputId": "8ed0e579-fbcb-42a4-a1c6-1d406476b968"
      },
      "outputs": [
        {
          "data": {
            "image/svg+xml": [
              "<?xml version=\"1.0\" encoding=\"UTF-8\" standalone=\"no\"?>\n",
              "<!DOCTYPE svg PUBLIC \"-//W3C//DTD SVG 1.1//EN\"\n",
              " \"http://www.w3.org/Graphics/SVG/1.1/DTD/svg11.dtd\">\n",
              "<!-- Generated by graphviz version 2.43.0 (0)\n",
              " -->\n",
              "<!-- Title: G Pages: 1 -->\n",
              "<svg width=\"364pt\" height=\"115pt\"\n",
              " viewBox=\"0.00 0.00 364.29 115.35\" xmlns=\"http://www.w3.org/2000/svg\" xmlns:xlink=\"http://www.w3.org/1999/xlink\">\n",
              "<g id=\"graph0\" class=\"graph\" transform=\"scale(1 1) rotate(0) translate(4 111.35)\">\n",
              "<title>G</title>\n",
              "<polygon fill=\"white\" stroke=\"transparent\" points=\"-4,4 -4,-111.35 360.29,-111.35 360.29,4 -4,4\"/>\n",
              "<!-- x_0 -->\n",
              "<g id=\"node1\" class=\"node\">\n",
              "<title>x_0</title>\n",
              "<ellipse fill=\"none\" stroke=\"black\" cx=\"27\" cy=\"-89.35\" rx=\"27\" ry=\"18\"/>\n",
              "<text text-anchor=\"middle\" x=\"27\" y=\"-85.65\" font-family=\"Times,serif\" font-size=\"14.00\">1</text>\n",
              "</g>\n",
              "<!-- a_0_0 -->\n",
              "<g id=\"node3\" class=\"node\">\n",
              "<title>a_0_0</title>\n",
              "<ellipse fill=\"none\" stroke=\"black\" cx=\"129\" cy=\"-84.35\" rx=\"27\" ry=\"18\"/>\n",
              "<text text-anchor=\"middle\" x=\"129\" y=\"-80.65\" font-family=\"Times,serif\" font-size=\"14.00\">b=3</text>\n",
              "</g>\n",
              "<!-- x_0&#45;&gt;a_0_0 -->\n",
              "<g id=\"edge1\" class=\"edge\">\n",
              "<title>x_0&#45;&gt;a_0_0</title>\n",
              "<path fill=\"none\" stroke=\"black\" d=\"M53.68,-92.27C63.21,-92.95 74.11,-93.25 84,-92.35 86.9,-92.09 89.89,-91.74 92.89,-91.32\"/>\n",
              "<polygon fill=\"black\" stroke=\"black\" points=\"93.65,-94.74 102.98,-89.71 92.55,-87.83 93.65,-94.74\"/>\n",
              "<text text-anchor=\"middle\" x=\"78\" y=\"-96.15\" font-family=\"Times,serif\" font-size=\"14.00\">&#45;3</text>\n",
              "</g>\n",
              "<!-- a_0_1 -->\n",
              "<g id=\"node4\" class=\"node\">\n",
              "<title>a_0_1</title>\n",
              "<ellipse fill=\"none\" stroke=\"black\" cx=\"129\" cy=\"-30.35\" rx=\"27\" ry=\"18\"/>\n",
              "<text text-anchor=\"middle\" x=\"129\" y=\"-26.65\" font-family=\"Times,serif\" font-size=\"14.00\">b=2</text>\n",
              "</g>\n",
              "<!-- x_0&#45;&gt;a_0_1 -->\n",
              "<g id=\"edge2\" class=\"edge\">\n",
              "<title>x_0&#45;&gt;a_0_1</title>\n",
              "<path fill=\"none\" stroke=\"black\" d=\"M47.76,-77.7C62.55,-68.97 83,-56.91 99.55,-47.14\"/>\n",
              "<polygon fill=\"black\" stroke=\"black\" points=\"101.45,-50.08 108.28,-41.99 97.89,-44.05 101.45,-50.08\"/>\n",
              "<text text-anchor=\"middle\" x=\"78\" y=\"-67.15\" font-family=\"Times,serif\" font-size=\"14.00\">4</text>\n",
              "</g>\n",
              "<!-- x_1 -->\n",
              "<g id=\"node2\" class=\"node\">\n",
              "<title>x_1</title>\n",
              "<ellipse fill=\"none\" stroke=\"black\" cx=\"27\" cy=\"-24.35\" rx=\"27\" ry=\"18\"/>\n",
              "<text text-anchor=\"middle\" x=\"27\" y=\"-20.65\" font-family=\"Times,serif\" font-size=\"14.00\">2</text>\n",
              "</g>\n",
              "<!-- x_1&#45;&gt;a_0_0 -->\n",
              "<g id=\"edge3\" class=\"edge\">\n",
              "<title>x_1&#45;&gt;a_0_0</title>\n",
              "<path fill=\"none\" stroke=\"black\" d=\"M54.1,-26.38C63.99,-28.04 75.03,-31.02 84,-36.35 94.56,-42.64 93.73,-48.26 102,-57.35 103.35,-58.83 104.74,-60.35 106.16,-61.87\"/>\n",
              "<polygon fill=\"black\" stroke=\"black\" points=\"103.85,-64.51 113.27,-69.36 108.93,-59.7 103.85,-64.51\"/>\n",
              "<text text-anchor=\"middle\" x=\"78\" y=\"-40.15\" font-family=\"Times,serif\" font-size=\"14.00\">5</text>\n",
              "</g>\n",
              "<!-- x_1&#45;&gt;a_0_1 -->\n",
              "<g id=\"edge4\" class=\"edge\">\n",
              "<title>x_1&#45;&gt;a_0_1</title>\n",
              "<path fill=\"none\" stroke=\"black\" d=\"M45.33,-10.59C56.24,-3.61 70.71,2.63 84,-1.35 90.71,-3.37 97.35,-6.77 103.35,-10.55\"/>\n",
              "<polygon fill=\"black\" stroke=\"black\" points=\"101.4,-13.46 111.63,-16.25 105.37,-7.7 101.4,-13.46\"/>\n",
              "<text text-anchor=\"middle\" x=\"78\" y=\"-5.15\" font-family=\"Times,serif\" font-size=\"14.00\">&#45;6</text>\n",
              "</g>\n",
              "<!-- a_1_0 -->\n",
              "<g id=\"node5\" class=\"node\">\n",
              "<title>a_1_0</title>\n",
              "<ellipse fill=\"none\" stroke=\"black\" cx=\"226\" cy=\"-57.35\" rx=\"27\" ry=\"18\"/>\n",
              "<text text-anchor=\"middle\" x=\"226\" y=\"-53.65\" font-family=\"Times,serif\" font-size=\"14.00\">b=1</text>\n",
              "</g>\n",
              "<!-- a_0_0&#45;&gt;a_1_0 -->\n",
              "<g id=\"edge5\" class=\"edge\">\n",
              "<title>a_0_0&#45;&gt;a_1_0</title>\n",
              "<path fill=\"none\" stroke=\"black\" d=\"M154.46,-77.4C165.63,-74.23 179.04,-70.42 191.15,-66.97\"/>\n",
              "<polygon fill=\"black\" stroke=\"black\" points=\"192.28,-70.29 200.95,-64.19 190.37,-63.56 192.28,-70.29\"/>\n",
              "<text text-anchor=\"middle\" x=\"177.5\" y=\"-75.15\" font-family=\"Times,serif\" font-size=\"14.00\">7</text>\n",
              "</g>\n",
              "<!-- a_0_1&#45;&gt;a_1_0 -->\n",
              "<g id=\"edge6\" class=\"edge\">\n",
              "<title>a_0_1&#45;&gt;a_1_0</title>\n",
              "<path fill=\"none\" stroke=\"black\" d=\"M154.46,-37.31C165.63,-40.48 179.04,-44.29 191.15,-47.73\"/>\n",
              "<polygon fill=\"black\" stroke=\"black\" points=\"190.37,-51.15 200.95,-50.52 192.28,-44.42 190.37,-51.15\"/>\n",
              "<text text-anchor=\"middle\" x=\"177.5\" y=\"-48.15\" font-family=\"Times,serif\" font-size=\"14.00\">8</text>\n",
              "</g>\n",
              "<!-- output -->\n",
              "<g id=\"node6\" class=\"node\">\n",
              "<title>output</title>\n",
              "<ellipse fill=\"none\" stroke=\"black\" cx=\"323.15\" cy=\"-57.35\" rx=\"33.29\" ry=\"18\"/>\n",
              "<text text-anchor=\"middle\" x=\"323.15\" y=\"-53.65\" font-family=\"Times,serif\" font-size=\"14.00\">output</text>\n",
              "</g>\n",
              "<!-- a_1_0&#45;&gt;output -->\n",
              "<g id=\"edge7\" class=\"edge\">\n",
              "<title>a_1_0&#45;&gt;output</title>\n",
              "<path fill=\"none\" stroke=\"black\" d=\"M253.25,-57.35C261.48,-57.35 270.79,-57.35 279.84,-57.35\"/>\n",
              "<polygon fill=\"black\" stroke=\"black\" points=\"279.88,-60.85 289.88,-57.35 279.88,-53.85 279.88,-60.85\"/>\n",
              "</g>\n",
              "</g>\n",
              "</svg>\n"
            ],
            "text/plain": [
              "<graphviz.sources.Source at 0x7b853d0e5300>"
            ]
          },
          "execution_count": 3,
          "metadata": {},
          "output_type": "execute_result"
        }
      ],
      "source": [
        "from fastbook import *\n",
        "\n",
        "gv('''\n",
        "   x_0[label=1]\n",
        "   x_1[label=2]\n",
        "   a_0_0[label=\"b=3\"]\n",
        "   a_0_1[label=\"b=2\"]\n",
        "   a_1_0[label=\"b=1\"]\n",
        "   x_0 -> a_0_0 [label=-3]\n",
        "   x_0 -> a_0_1 [label=4]\n",
        "   x_1 -> a_0_0 [label=5]\n",
        "   x_1 -> a_0_1 [label=-6]\n",
        "   a_0_0 -> a_1_0 [label=7]\n",
        "   a_0_1 -> a_1_0 [label=8]\n",
        "   a_1_0 -> output\n",
        "   ''')"
      ]
    },
    {
      "cell_type": "code",
      "execution_count": 2,
      "metadata": {
        "id": "wc2WG2Ybgjqe",
        "outputId": "c5aa9a44-65ee-48a1-e26a-d5d27337f11a"
      },
      "outputs": [
        {
          "data": {
            "text/plain": [
              "tensor([[71]])"
            ]
          },
          "execution_count": 2,
          "metadata": {},
          "output_type": "execute_result"
        }
      ],
      "source": [
        "import torch\n",
        "\n",
        "x = torch.tensor([[1],[2]])\n",
        "\n",
        "w_0 = torch.tensor([[-3, 5], [4, -6]])\n",
        "b_0 = torch.tensor([[3], [2]])\n",
        "a_0 = torch.relu(w_0 @ x + b_0)\n",
        "\n",
        "w_1 = torch.tensor([[7, 8]])\n",
        "b_1 = torch.tensor([[1]])\n",
        "a_1 = torch.relu(w_1 @ a_0 + b_1)\n",
        "a_1"
      ]
    },
    {
      "cell_type": "markdown",
      "metadata": {
        "id": "gfPgH-nJgjqf"
      },
      "source": [
        "## Exercise\n"
      ]
    },
    {
      "cell_type": "code",
      "execution_count": 35,
      "metadata": {
        "id": "PM5yxSO9gjqf"
      },
      "outputs": [
        {
          "name": "stdout",
          "output_type": "stream",
          "text": [
            "Requirement already satisfied: rggrader in c:\\users\\aburi\\documents\\aburizalan\\learn-ml\\myvenv-311\\lib\\site-packages (0.1.6)\n",
            "Requirement already satisfied: requests in c:\\users\\aburi\\documents\\aburizalan\\learn-ml\\myvenv-311\\lib\\site-packages (from rggrader) (2.31.0)\n",
            "Requirement already satisfied: pandas in c:\\users\\aburi\\documents\\aburizalan\\learn-ml\\myvenv-311\\lib\\site-packages (from rggrader) (2.1.4)\n",
            "Requirement already satisfied: Pillow in c:\\users\\aburi\\documents\\aburizalan\\learn-ml\\myvenv-311\\lib\\site-packages (from rggrader) (10.1.0)\n",
            "Requirement already satisfied: numpy<2,>=1.23.2 in c:\\users\\aburi\\documents\\aburizalan\\learn-ml\\myvenv-311\\lib\\site-packages (from pandas->rggrader) (1.26.2)\n",
            "Requirement already satisfied: python-dateutil>=2.8.2 in c:\\users\\aburi\\documents\\aburizalan\\learn-ml\\myvenv-311\\lib\\site-packages (from pandas->rggrader) (2.8.2)\n",
            "Requirement already satisfied: pytz>=2020.1 in c:\\users\\aburi\\documents\\aburizalan\\learn-ml\\myvenv-311\\lib\\site-packages (from pandas->rggrader) (2023.3.post1)\n",
            "Requirement already satisfied: tzdata>=2022.1 in c:\\users\\aburi\\documents\\aburizalan\\learn-ml\\myvenv-311\\lib\\site-packages (from pandas->rggrader) (2023.3)\n",
            "Requirement already satisfied: charset-normalizer<4,>=2 in c:\\users\\aburi\\documents\\aburizalan\\learn-ml\\myvenv-311\\lib\\site-packages (from requests->rggrader) (3.3.2)\n",
            "Requirement already satisfied: idna<4,>=2.5 in c:\\users\\aburi\\documents\\aburizalan\\learn-ml\\myvenv-311\\lib\\site-packages (from requests->rggrader) (3.6)\n",
            "Requirement already satisfied: urllib3<3,>=1.21.1 in c:\\users\\aburi\\documents\\aburizalan\\learn-ml\\myvenv-311\\lib\\site-packages (from requests->rggrader) (2.1.0)\n",
            "Requirement already satisfied: certifi>=2017.4.17 in c:\\users\\aburi\\documents\\aburizalan\\learn-ml\\myvenv-311\\lib\\site-packages (from requests->rggrader) (2023.11.17)\n",
            "Requirement already satisfied: six>=1.5 in c:\\users\\aburi\\documents\\aburizalan\\learn-ml\\myvenv-311\\lib\\site-packages (from python-dateutil>=2.8.2->pandas->rggrader) (1.16.0)\n"
          ]
        }
      ],
      "source": [
        "!pip install rggrader"
      ]
    },
    {
      "cell_type": "code",
      "execution_count": 36,
      "metadata": {
        "id": "ysvOL6q5gjqf"
      },
      "outputs": [],
      "source": [
        "# @title #### Student Identity\n",
        "student_id = \"REAEAYH8\" # @param {type:\"string\"}\n",
        "name = \"Aburizal Adi Nugroho\" # @param {type:\"string\"}"
      ]
    },
    {
      "cell_type": "markdown",
      "metadata": {
        "id": "IaVhGkOsgjqf"
      },
      "source": [
        "Implement the following neural network\n"
      ]
    },
    {
      "cell_type": "code",
      "execution_count": null,
      "metadata": {
        "colab": {
          "base_uri": "https://localhost:8080/",
          "height": 152
        },
        "id": "IBYfavebgjqf",
        "outputId": "bb6ec911-dd08-478d-f45d-d4e85eedf9c9"
      },
      "outputs": [
        {
          "data": {
            "image/svg+xml": [
              "<?xml version=\"1.0\" encoding=\"UTF-8\" standalone=\"no\"?>\n",
              "<!DOCTYPE svg PUBLIC \"-//W3C//DTD SVG 1.1//EN\"\n",
              " \"http://www.w3.org/Graphics/SVG/1.1/DTD/svg11.dtd\">\n",
              "<!-- Generated by graphviz version 2.43.0 (0)\n",
              " -->\n",
              "<!-- Title: G Pages: 1 -->\n",
              "<svg width=\"467pt\" height=\"98pt\"\n",
              " viewBox=\"0.00 0.00 466.88 98.00\" xmlns=\"http://www.w3.org/2000/svg\" xmlns:xlink=\"http://www.w3.org/1999/xlink\">\n",
              "<g id=\"graph0\" class=\"graph\" transform=\"scale(1 1) rotate(0) translate(4 94)\">\n",
              "<title>G</title>\n",
              "<polygon fill=\"white\" stroke=\"transparent\" points=\"-4,4 -4,-94 462.88,-94 462.88,4 -4,4\"/>\n",
              "<!-- x_0 -->\n",
              "<g id=\"node1\" class=\"node\">\n",
              "<title>x_0</title>\n",
              "<ellipse fill=\"none\" stroke=\"black\" cx=\"27\" cy=\"-45\" rx=\"27\" ry=\"18\"/>\n",
              "<text text-anchor=\"middle\" x=\"27\" y=\"-41.3\" font-family=\"Times,serif\" font-size=\"14.00\">3</text>\n",
              "</g>\n",
              "<!-- a_0_0 -->\n",
              "<g id=\"node2\" class=\"node\">\n",
              "<title>a_0_0</title>\n",
              "<ellipse fill=\"none\" stroke=\"black\" cx=\"155.95\" cy=\"-72\" rx=\"53.89\" ry=\"18\"/>\n",
              "<text text-anchor=\"middle\" x=\"155.95\" y=\"-68.3\" font-family=\"Times,serif\" font-size=\"14.00\">b=&#45;2, ReLU</text>\n",
              "</g>\n",
              "<!-- x_0&#45;&gt;a_0_0 -->\n",
              "<g id=\"edge1\" class=\"edge\">\n",
              "<title>x_0&#45;&gt;a_0_0</title>\n",
              "<path fill=\"none\" stroke=\"black\" d=\"M53.08,-50.33C66.54,-53.2 83.7,-56.85 100.08,-60.33\"/>\n",
              "<polygon fill=\"black\" stroke=\"black\" points=\"99.62,-63.81 110.13,-62.47 101.08,-56.96 99.62,-63.81\"/>\n",
              "<text text-anchor=\"middle\" x=\"78\" y=\"-59.8\" font-family=\"Times,serif\" font-size=\"14.00\">&#45;2</text>\n",
              "</g>\n",
              "<!-- a_0_1 -->\n",
              "<g id=\"node3\" class=\"node\">\n",
              "<title>a_0_1</title>\n",
              "<ellipse fill=\"none\" stroke=\"black\" cx=\"155.95\" cy=\"-18\" rx=\"51.19\" ry=\"18\"/>\n",
              "<text text-anchor=\"middle\" x=\"155.95\" y=\"-14.3\" font-family=\"Times,serif\" font-size=\"14.00\">b=5, ReLU</text>\n",
              "</g>\n",
              "<!-- x_0&#45;&gt;a_0_1 -->\n",
              "<g id=\"edge2\" class=\"edge\">\n",
              "<title>x_0&#45;&gt;a_0_1</title>\n",
              "<path fill=\"none\" stroke=\"black\" d=\"M52.65,-39.3C58.95,-37.87 65.72,-36.36 72,-35 81.38,-32.97 91.38,-30.87 101.06,-28.87\"/>\n",
              "<polygon fill=\"black\" stroke=\"black\" points=\"101.91,-32.27 111,-26.82 100.5,-25.41 101.91,-32.27\"/>\n",
              "<text text-anchor=\"middle\" x=\"78\" y=\"-38.8\" font-family=\"Times,serif\" font-size=\"14.00\">5</text>\n",
              "</g>\n",
              "<!-- a_1_0 -->\n",
              "<g id=\"node4\" class=\"node\">\n",
              "<title>a_1_0</title>\n",
              "<ellipse fill=\"none\" stroke=\"black\" cx=\"304.24\" cy=\"-45\" rx=\"51.19\" ry=\"18\"/>\n",
              "<text text-anchor=\"middle\" x=\"304.24\" y=\"-41.3\" font-family=\"Times,serif\" font-size=\"14.00\">b=0, ReLU</text>\n",
              "</g>\n",
              "<!-- a_0_0&#45;&gt;a_1_0 -->\n",
              "<g id=\"edge3\" class=\"edge\">\n",
              "<title>a_0_0&#45;&gt;a_1_0</title>\n",
              "<path fill=\"none\" stroke=\"black\" d=\"M203.63,-63.38C217.9,-60.75 233.72,-57.83 248.47,-55.11\"/>\n",
              "<polygon fill=\"black\" stroke=\"black\" points=\"249.29,-58.52 258.49,-53.26 248.02,-51.63 249.29,-58.52\"/>\n",
              "<text text-anchor=\"middle\" x=\"231.39\" y=\"-61.8\" font-family=\"Times,serif\" font-size=\"14.00\">3</text>\n",
              "</g>\n",
              "<!-- a_0_1&#45;&gt;a_1_0 -->\n",
              "<g id=\"edge4\" class=\"edge\">\n",
              "<title>a_0_1&#45;&gt;a_1_0</title>\n",
              "<path fill=\"none\" stroke=\"black\" d=\"M201.63,-26.25C216.45,-28.98 233.12,-32.06 248.6,-34.92\"/>\n",
              "<polygon fill=\"black\" stroke=\"black\" points=\"248.1,-38.38 258.57,-36.76 249.37,-31.5 248.1,-38.38\"/>\n",
              "<text text-anchor=\"middle\" x=\"231.39\" y=\"-35.8\" font-family=\"Times,serif\" font-size=\"14.00\">2</text>\n",
              "</g>\n",
              "<!-- output -->\n",
              "<g id=\"node5\" class=\"node\">\n",
              "<title>output</title>\n",
              "<ellipse fill=\"none\" stroke=\"black\" cx=\"425.73\" cy=\"-45\" rx=\"33.29\" ry=\"18\"/>\n",
              "<text text-anchor=\"middle\" x=\"425.73\" y=\"-41.3\" font-family=\"Times,serif\" font-size=\"14.00\">output</text>\n",
              "</g>\n",
              "<!-- a_1_0&#45;&gt;output -->\n",
              "<g id=\"edge5\" class=\"edge\">\n",
              "<title>a_1_0&#45;&gt;output</title>\n",
              "<path fill=\"none\" stroke=\"black\" d=\"M355.91,-45C364.68,-45 373.72,-45 382.25,-45\"/>\n",
              "<polygon fill=\"black\" stroke=\"black\" points=\"382.35,-48.5 392.35,-45 382.35,-41.5 382.35,-48.5\"/>\n",
              "</g>\n",
              "</g>\n",
              "</svg>\n"
            ],
            "text/plain": [
              "<graphviz.sources.Source at 0x7b845c2d31c0>"
            ]
          },
          "execution_count": 4,
          "metadata": {},
          "output_type": "execute_result"
        }
      ],
      "source": [
        "from fastbook import *\n",
        "\n",
        "gv('''\n",
        "   x_0[label=3]\n",
        "   a_0_0[label=\"b=-2, ReLU\"]\n",
        "   a_0_1[label=\"b=5, ReLU\"]\n",
        "   a_1_0[label=\"b=0, ReLU\"]\n",
        "   x_0 -> a_0_0 [label=-2]\n",
        "   x_0 -> a_0_1 [label=5]\n",
        "   a_0_0 -> a_1_0 [label=3]\n",
        "   a_0_1 -> a_1_0 [label=2]\n",
        "\n",
        "   a_1_0 -> output\n",
        "   ''')"
      ]
    },
    {
      "cell_type": "code",
      "execution_count": 42,
      "metadata": {
        "id": "2wq9L8FZgjqf"
      },
      "outputs": [
        {
          "name": "stdout",
          "output_type": "stream",
          "text": [
            "40\n"
          ]
        },
        {
          "data": {
            "text/plain": [
              "'Assignment successfully submitted'"
            ]
          },
          "execution_count": 42,
          "metadata": {},
          "output_type": "execute_result"
        }
      ],
      "source": [
        "from rggrader import submit\n",
        "\n",
        "# Put your code here\n",
        "x = torch.tensor([[3]])\n",
        "w = torch.tensor([[-2], [5]])\n",
        "b = torch.tensor([[-2], [5]])\n",
        "a = torch.relu(w @ x + b)\n",
        "\n",
        "w_1 = torch.tensor([3, 2])\n",
        "a_1 = torch.relu(w_1 @ a)\n",
        "\n",
        "answer = a_1.item()\n",
        "\n",
        "print(answer)\n",
        "\n",
        "assignment_id = \"10_pytorch-basic\"\n",
        "question_id = \"00_single-input-nn\"\n",
        "submit(student_id, name, assignment_id, str(answer), question_id)\n"
      ]
    },
    {
      "cell_type": "code",
      "execution_count": null,
      "metadata": {
        "colab": {
          "base_uri": "https://localhost:8080/",
          "height": 277
        },
        "id": "o-Z-RgBAgjqg",
        "outputId": "7c823e2f-a948-419b-bded-be341e55192f"
      },
      "outputs": [
        {
          "data": {
            "image/svg+xml": [
              "<?xml version=\"1.0\" encoding=\"UTF-8\" standalone=\"no\"?>\n",
              "<!DOCTYPE svg PUBLIC \"-//W3C//DTD SVG 1.1//EN\"\n",
              " \"http://www.w3.org/Graphics/SVG/1.1/DTD/svg11.dtd\">\n",
              "<!-- Generated by graphviz version 2.43.0 (0)\n",
              " -->\n",
              "<!-- Title: G Pages: 1 -->\n",
              "<svg width=\"467pt\" height=\"192pt\"\n",
              " viewBox=\"0.00 0.00 466.88 192.11\" xmlns=\"http://www.w3.org/2000/svg\" xmlns:xlink=\"http://www.w3.org/1999/xlink\">\n",
              "<g id=\"graph0\" class=\"graph\" transform=\"scale(1 1) rotate(0) translate(4 188.11)\">\n",
              "<title>G</title>\n",
              "<polygon fill=\"white\" stroke=\"transparent\" points=\"-4,4 -4,-188.11 462.88,-188.11 462.88,4 -4,4\"/>\n",
              "<!-- x_0 -->\n",
              "<g id=\"node1\" class=\"node\">\n",
              "<title>x_0</title>\n",
              "<ellipse fill=\"none\" stroke=\"black\" cx=\"27\" cy=\"-152.11\" rx=\"27\" ry=\"18\"/>\n",
              "<text text-anchor=\"middle\" x=\"27\" y=\"-148.41\" font-family=\"Times,serif\" font-size=\"14.00\">3</text>\n",
              "</g>\n",
              "<!-- a_0_0 -->\n",
              "<g id=\"node3\" class=\"node\">\n",
              "<title>a_0_0</title>\n",
              "<ellipse fill=\"none\" stroke=\"black\" cx=\"155.95\" cy=\"-95.11\" rx=\"51.19\" ry=\"18\"/>\n",
              "<text text-anchor=\"middle\" x=\"155.95\" y=\"-91.41\" font-family=\"Times,serif\" font-size=\"14.00\">b=8, ReLU</text>\n",
              "</g>\n",
              "<!-- x_0&#45;&gt;a_0_0 -->\n",
              "<g id=\"edge1\" class=\"edge\">\n",
              "<title>x_0&#45;&gt;a_0_0</title>\n",
              "<path fill=\"none\" stroke=\"black\" d=\"M51.07,-143.55C61.24,-139.64 73.3,-134.84 84,-130.11 94.88,-125.3 106.52,-119.74 117.16,-114.48\"/>\n",
              "<polygon fill=\"black\" stroke=\"black\" points=\"118.82,-117.56 126.21,-109.97 115.7,-111.3 118.82,-117.56\"/>\n",
              "<text text-anchor=\"middle\" x=\"78\" y=\"-137.91\" font-family=\"Times,serif\" font-size=\"14.00\">&#45;2</text>\n",
              "</g>\n",
              "<!-- a_0_1 -->\n",
              "<g id=\"node4\" class=\"node\">\n",
              "<title>a_0_1</title>\n",
              "<ellipse fill=\"none\" stroke=\"black\" cx=\"155.95\" cy=\"-149.11\" rx=\"53.89\" ry=\"18\"/>\n",
              "<text text-anchor=\"middle\" x=\"155.95\" y=\"-145.41\" font-family=\"Times,serif\" font-size=\"14.00\">b=&#45;2, ReLU</text>\n",
              "</g>\n",
              "<!-- x_0&#45;&gt;a_0_1 -->\n",
              "<g id=\"edge2\" class=\"edge\">\n",
              "<title>x_0&#45;&gt;a_0_1</title>\n",
              "<path fill=\"none\" stroke=\"black\" d=\"M49.97,-161.8C56.88,-164.38 64.64,-166.81 72,-168.11 84.86,-170.37 98.72,-168.81 111.37,-165.79\"/>\n",
              "<polygon fill=\"black\" stroke=\"black\" points=\"112.48,-169.12 121.2,-163.11 110.64,-162.37 112.48,-169.12\"/>\n",
              "<text text-anchor=\"middle\" x=\"78\" y=\"-172.91\" font-family=\"Times,serif\" font-size=\"14.00\">5</text>\n",
              "</g>\n",
              "<!-- a_0_2 -->\n",
              "<g id=\"node5\" class=\"node\">\n",
              "<title>a_0_2</title>\n",
              "<ellipse fill=\"none\" stroke=\"black\" cx=\"155.95\" cy=\"-41.11\" rx=\"51.19\" ry=\"18\"/>\n",
              "<text text-anchor=\"middle\" x=\"155.95\" y=\"-37.41\" font-family=\"Times,serif\" font-size=\"14.00\">b=4, ReLU</text>\n",
              "</g>\n",
              "<!-- x_0&#45;&gt;a_0_2 -->\n",
              "<g id=\"edge3\" class=\"edge\">\n",
              "<title>x_0&#45;&gt;a_0_2</title>\n",
              "<path fill=\"none\" stroke=\"black\" d=\"M34.56,-134.5C41.57,-117.79 54.14,-92.92 72,-77.11 81.83,-68.4 94.09,-61.54 106.14,-56.25\"/>\n",
              "<polygon fill=\"black\" stroke=\"black\" points=\"107.78,-59.36 115.72,-52.34 105.13,-52.88 107.78,-59.36\"/>\n",
              "<text text-anchor=\"middle\" x=\"78\" y=\"-80.91\" font-family=\"Times,serif\" font-size=\"14.00\">3</text>\n",
              "</g>\n",
              "<!-- x_1 -->\n",
              "<g id=\"node2\" class=\"node\">\n",
              "<title>x_1</title>\n",
              "<ellipse fill=\"none\" stroke=\"black\" cx=\"27\" cy=\"-38.11\" rx=\"27\" ry=\"18\"/>\n",
              "<text text-anchor=\"middle\" x=\"27\" y=\"-34.41\" font-family=\"Times,serif\" font-size=\"14.00\">5</text>\n",
              "</g>\n",
              "<!-- x_1&#45;&gt;a_0_0 -->\n",
              "<g id=\"edge4\" class=\"edge\">\n",
              "<title>x_1&#45;&gt;a_0_0</title>\n",
              "<path fill=\"none\" stroke=\"black\" d=\"M53.35,-33.52C63.48,-32.93 74.87,-33.92 84,-39.11 97.19,-46.6 90.83,-57.84 102,-68.11 105.29,-71.14 108.99,-73.91 112.86,-76.44\"/>\n",
              "<polygon fill=\"black\" stroke=\"black\" points=\"111.12,-79.48 121.51,-81.56 114.69,-73.45 111.12,-79.48\"/>\n",
              "<text text-anchor=\"middle\" x=\"78\" y=\"-42.91\" font-family=\"Times,serif\" font-size=\"14.00\">8</text>\n",
              "</g>\n",
              "<!-- x_1&#45;&gt;a_0_1 -->\n",
              "<g id=\"edge5\" class=\"edge\">\n",
              "<title>x_1&#45;&gt;a_0_1</title>\n",
              "<path fill=\"none\" stroke=\"black\" d=\"M39.09,-54.59C52.25,-73.09 75.75,-103.03 102,-122.11 105.72,-124.81 109.74,-127.39 113.85,-129.8\"/>\n",
              "<polygon fill=\"black\" stroke=\"black\" points=\"112.47,-133.04 122.91,-134.82 115.86,-126.91 112.47,-133.04\"/>\n",
              "<text text-anchor=\"middle\" x=\"78\" y=\"-109.91\" font-family=\"Times,serif\" font-size=\"14.00\">&#45;2</text>\n",
              "</g>\n",
              "<!-- x_1&#45;&gt;a_0_2 -->\n",
              "<g id=\"edge6\" class=\"edge\">\n",
              "<title>x_1&#45;&gt;a_0_2</title>\n",
              "<path fill=\"none\" stroke=\"black\" d=\"M40.16,-22.05C50.77,-10.14 67.09,3.33 84,-1.11 98.06,-4.8 112.27,-11.98 124.24,-19.24\"/>\n",
              "<polygon fill=\"black\" stroke=\"black\" points=\"122.6,-22.35 132.91,-24.76 126.35,-16.44 122.6,-22.35\"/>\n",
              "<text text-anchor=\"middle\" x=\"78\" y=\"-4.91\" font-family=\"Times,serif\" font-size=\"14.00\">4</text>\n",
              "</g>\n",
              "<!-- a_1_0 -->\n",
              "<g id=\"node6\" class=\"node\">\n",
              "<title>a_1_0</title>\n",
              "<ellipse fill=\"none\" stroke=\"black\" cx=\"304.24\" cy=\"-95.11\" rx=\"51.19\" ry=\"18\"/>\n",
              "<text text-anchor=\"middle\" x=\"304.24\" y=\"-91.41\" font-family=\"Times,serif\" font-size=\"14.00\">b=3, ReLU</text>\n",
              "</g>\n",
              "<!-- a_0_0&#45;&gt;a_1_0 -->\n",
              "<g id=\"edge7\" class=\"edge\">\n",
              "<title>a_0_0&#45;&gt;a_1_0</title>\n",
              "<path fill=\"none\" stroke=\"black\" d=\"M207.7,-95.11C218.93,-95.11 230.95,-95.11 242.53,-95.11\"/>\n",
              "<polygon fill=\"black\" stroke=\"black\" points=\"242.57,-98.61 252.57,-95.11 242.57,-91.61 242.57,-98.61\"/>\n",
              "<text text-anchor=\"middle\" x=\"231.39\" y=\"-98.91\" font-family=\"Times,serif\" font-size=\"14.00\">3</text>\n",
              "</g>\n",
              "<!-- a_0_1&#45;&gt;a_1_0 -->\n",
              "<g id=\"edge8\" class=\"edge\">\n",
              "<title>a_0_1&#45;&gt;a_1_0</title>\n",
              "<path fill=\"none\" stroke=\"black\" d=\"M192.73,-135.9C212.68,-128.53 237.71,-119.3 258.89,-111.48\"/>\n",
              "<polygon fill=\"black\" stroke=\"black\" points=\"260.15,-114.74 268.32,-108 257.73,-108.18 260.15,-114.74\"/>\n",
              "<text text-anchor=\"middle\" x=\"231.39\" y=\"-125.91\" font-family=\"Times,serif\" font-size=\"14.00\">2</text>\n",
              "</g>\n",
              "<!-- a_0_2&#45;&gt;a_1_0 -->\n",
              "<g id=\"edge9\" class=\"edge\">\n",
              "<title>a_0_2&#45;&gt;a_1_0</title>\n",
              "<path fill=\"none\" stroke=\"black\" d=\"M191.99,-54.04C212,-61.43 237.29,-70.77 258.7,-78.67\"/>\n",
              "<polygon fill=\"black\" stroke=\"black\" points=\"257.63,-82.01 268.23,-82.19 260.06,-75.44 257.63,-82.01\"/>\n",
              "<text text-anchor=\"middle\" x=\"231.39\" y=\"-72.91\" font-family=\"Times,serif\" font-size=\"14.00\">8</text>\n",
              "</g>\n",
              "<!-- output -->\n",
              "<g id=\"node7\" class=\"node\">\n",
              "<title>output</title>\n",
              "<ellipse fill=\"none\" stroke=\"black\" cx=\"425.73\" cy=\"-95.11\" rx=\"33.29\" ry=\"18\"/>\n",
              "<text text-anchor=\"middle\" x=\"425.73\" y=\"-91.41\" font-family=\"Times,serif\" font-size=\"14.00\">output</text>\n",
              "</g>\n",
              "<!-- a_1_0&#45;&gt;output -->\n",
              "<g id=\"edge10\" class=\"edge\">\n",
              "<title>a_1_0&#45;&gt;output</title>\n",
              "<path fill=\"none\" stroke=\"black\" d=\"M355.91,-95.11C364.68,-95.11 373.72,-95.11 382.25,-95.11\"/>\n",
              "<polygon fill=\"black\" stroke=\"black\" points=\"382.35,-98.61 392.35,-95.11 382.35,-91.61 382.35,-98.61\"/>\n",
              "</g>\n",
              "</g>\n",
              "</svg>\n"
            ],
            "text/plain": [
              "<graphviz.sources.Source at 0x7b853d0e4fd0>"
            ]
          },
          "execution_count": 5,
          "metadata": {},
          "output_type": "execute_result"
        }
      ],
      "source": [
        "from fastbook import *\n",
        "\n",
        "gv('''\n",
        "   x_0[label=3]\n",
        "   x_1[label=5]\n",
        "   a_0_0[label=\"b=8, ReLU\"]\n",
        "   a_0_1[label=\"b=-2, ReLU\"]\n",
        "   a_0_2[label=\"b=4, ReLU\"]\n",
        "   a_1_0[label=\"b=3, ReLU\"]\n",
        "   x_0 -> a_0_0 [label=-2]\n",
        "   x_0 -> a_0_1 [label=5]\n",
        "   x_0 -> a_0_2 [label=3]\n",
        "   x_1 -> a_0_0 [label=8]\n",
        "   x_1 -> a_0_1 [label=-2]\n",
        "   x_1 -> a_0_2 [label=4]\n",
        "   a_0_0 -> a_1_0 [label=3]\n",
        "   a_0_1 -> a_1_0 [label=2]\n",
        "   a_0_2 -> a_1_0 [label=8]\n",
        "\n",
        "   a_1_0 -> output\n",
        "   ''')"
      ]
    },
    {
      "cell_type": "code",
      "execution_count": 41,
      "metadata": {
        "id": "hFmhow5xgjqg"
      },
      "outputs": [
        {
          "name": "stdout",
          "output_type": "stream",
          "text": [
            "399\n"
          ]
        },
        {
          "data": {
            "text/plain": [
              "'Assignment successfully submitted'"
            ]
          },
          "execution_count": 41,
          "metadata": {},
          "output_type": "execute_result"
        }
      ],
      "source": [
        "from rggrader import submit\n",
        "\n",
        "# Put your code here\n",
        "w = torch.tensor([[5, -2], [-2, 8], [3, 4]])\n",
        "x = torch.tensor([[3], [5]])\n",
        "b = torch.tensor([[-2], [8], [4]])\n",
        "a = torch.relu(w @ x + b)\n",
        "\n",
        "w_1 = torch.tensor([2, 3, 8])\n",
        "b = torch.tensor([3])\n",
        "a_1 = torch.relu(w_1 @ a + b)\n",
        "\n",
        "answer = a_1.item()\n",
        "\n",
        "print(answer)\n",
        "\n",
        "assignment_id = \"10_pytorch-basic\"\n",
        "question_id = \"01_multi-input-nn\"\n",
        "submit(student_id, name, assignment_id, str(answer), question_id)\n"
      ]
    }
  ],
  "metadata": {
    "colab": {
      "provenance": []
    },
    "kernelspec": {
      "display_name": "Python 3",
      "language": "python",
      "name": "python3"
    },
    "language_info": {
      "codemirror_mode": {
        "name": "ipython",
        "version": 3
      },
      "file_extension": ".py",
      "mimetype": "text/x-python",
      "name": "python",
      "nbconvert_exporter": "python",
      "pygments_lexer": "ipython3",
      "version": "3.11.7"
    },
    "orig_nbformat": 4
  },
  "nbformat": 4,
  "nbformat_minor": 0
}
