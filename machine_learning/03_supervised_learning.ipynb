{
  "cells": [
    {
      "cell_type": "markdown",
      "source": [
        "## Session 10 Supervised Learning - Regression"
      ],
      "metadata": {
        "id": "QQrS9KyfAhoI"
      }
    },
    {
      "cell_type": "markdown",
      "source": [
        "Agenda\n",
        "- 19.30 - 19.35 : Announcement\n",
        "- 19.35 - 20.30 : Materi Sesi 1\n",
        "- 20.30 - 20.40 : Istirahat\n",
        "- 20.40 - 21.15 : Materi Sesi 2\n",
        "- 21.15 - 21.30 : QnA"
      ],
      "metadata": {
        "id": "6bcx6wLKAqGl"
      }
    },
    {
      "cell_type": "markdown",
      "source": [
        "### Announcement\n",
        "- Informasi Penugasan LMS:\n",
        "  - Project #1: Data Cleansing & Visualization using Python (Deadline Rabu, 10 Januari 2024 Pukul 23.59 WIB) project ini bersifat wajib dan pastikan gambar yang sudah terupload dan dapat dilihat. Untuk project 1 ini ada 10 soal, jadi harus dikerjakan semua.\n",
        "\n",
        "Project ini tidak ada perpanjangan waktu, jadi bisa ditekankan ke peserta untuk mengerjakan penugasan tepat waktu.\n",
        "\n",
        "Sama minta bantuan disampaikan ke peserta juga untuk exercise disarankan untuk dikerjakan karena hasilnya akan di monitoring dan jadi instruktur bisa cek juga sejauh mana kemampuan pemahaman materi masing-masing peserta."
      ],
      "metadata": {
        "id": "xK0qicN-CmND"
      }
    },
    {
      "cell_type": "markdown",
      "source": [
        "***"
      ],
      "metadata": {
        "id": "PreU-DjhApuG"
      }
    },
    {
      "cell_type": "markdown",
      "source": [
        "***"
      ],
      "metadata": {
        "id": "tH8WAIlzApXP"
      }
    },
    {
      "cell_type": "markdown",
      "source": [
        "***"
      ],
      "metadata": {
        "id": "7Ey_cqvFApCL"
      }
    },
    {
      "cell_type": "markdown",
      "source": [
        "***"
      ],
      "metadata": {
        "id": "gh0A_6tVCBUk"
      }
    },
    {
      "cell_type": "markdown",
      "source": [
        "***"
      ],
      "metadata": {
        "id": "ws4ICkz2CCwf"
      }
    },
    {
      "cell_type": "markdown",
      "source": [
        "***"
      ],
      "metadata": {
        "id": "amUi2BRKASKB"
      }
    },
    {
      "cell_type": "markdown",
      "metadata": {
        "id": "7bOXlPuk_wBW"
      },
      "source": [
        "# Supervised Learning"
      ]
    },
    {
      "cell_type": "markdown",
      "metadata": {
        "id": "Tr4YpqJK_wBY"
      },
      "source": [
        "**What is Supervised Learning?**  Maybe that's one of your big questions when you get into this topic. But, before digging deeper into Supervised Learning, it's a good idea to first do a quick recap about Machine Learning and what it has to do with Supervised Learning."
      ]
    },
    {
      "cell_type": "markdown",
      "metadata": {
        "id": "c_bcq3Wv_wBY"
      },
      "source": [
        "## Introduction to Machine Learning\n",
        "\n",
        "**Machine Learning** (ML) is a subset of Artificial Intelligence (AI) that allows software applications to become more accurate in predicting outcomes without being explicitly programmed. In simple terms, it provides machines the ability to automatically learn and improve from experience.\n",
        "\n",
        "It's like teaching a small child how to walk. First, the kid observes how others do it, then they try to do it themselves and keep on trying until they walk perfectly. This process involves a lot of falling and getting up. Similarly, in machine learning, models are given data, with which they make predictions. Based on the outcome of those predictions—right or wrong, the models adjust their behaviours, learning and improving over time to make accurate predictions.\n",
        "\n",
        "According to **Arthur Samuel** (American pioneer in AI and gaming), Machine Learning is a **field of study that gives computers the ability to learn without being explicitly programmed**."
      ]
    },
    {
      "cell_type": "markdown",
      "metadata": {
        "id": "qV65f21f_wBZ"
      },
      "source": [
        "### Definition and types of Machine Learning Algorithms\n",
        "\n",
        "![machine-learning-algorithm](https://storage.googleapis.com/rg-ai-bootcamp/machine-learning/machine-learning-algorithm-min.png)\n",
        "\n",
        "There are various machine learning algorithms:\n",
        "\n",
        "1. **Supervised Learning** - In supervised learning, we provide the machine with labelled input data and a correct output. In other words, we guide the machine towards the right output. It's kind of like a student learning under the guidance of a teacher. The 'teacher', in this case, is the label that tells the model about the data so it can learn from it. Once the model is trained with this labelled data, it can start to make predictions or decisions when new, unlabeled data is fed to it. A common example of supervised learning is classifying emails into \"spam\" or \"not spam\".\n",
        "\n",
        "2. **Unsupervised Learning** - Unlike supervised learning, we do not have the comfort of a 'teacher' or labelled data here. In unsupervised learning, we only provide input to the machine learning model but no corresponding output. That is, the model is not told the right answer. The idea is for the model to explore the data and find some structure within. A classic example of unsupervised learning is customer segmentation, where you want to group your customers into different segments based on purchasing behaviour, but you don't have any pre-existing labels.\n",
        "\n",
        "3. **Recommender Systems** - Imagine walking into a bookstore and having an expert assistant who knows your reading habits guide you to books that would perfectly suit your taste – wouldn’t it be a delight? This is what recommender systems strive to do in virtual environments. They are intelligent algorithms that create a personalized list of suggestions based on data about each user's past behaviour or user-item interactions.\n",
        "\n",
        "4. **Reinforcement Learning** - This is a bit like learning to ride a bike. You don't know how to do it at first, but with trial and error, you learn that pedalling keeps you balanced and turning the handlebars allows you to change direction. That's essentially how reinforcement learning works - the model learns by interacting with its environment and receiving rewards or penalties.\n"
      ]
    },
    {
      "cell_type": "markdown",
      "metadata": {
        "id": "6ttHpDhP_wBZ"
      },
      "source": [
        "### What is Supervised Learning?\n",
        "\n",
        "Now, let's dig deeper into supervised learning, as it's the most commonly used type of machine learning.\n",
        "\n",
        "In supervised learning, we train the model using 'labeled' data. That means our data set includes both the input ($x$) data and its corresponding correct output ($y$). This pair of input-output is also known as a '**feature**' and a '**label**'. An easy way to think about this is with a recipe: the 'feature' is a list of ingredients (our input), and the 'label' is the dish that results from those ingredients (our correct output).\n",
        "\n",
        "The algorithm analyses this input-output pair, maps the function that transforms input to output, and tries to gain understanding of such relationship so that it can apply it to unlabeled, new data.\n",
        "\n",
        "There are two main types of problems that Supervised Learning tackles: Regression and Classification.\n",
        "1. **Regression**: predict a number from many possible numbers (like predicting the price of a house based on its features like size, location etc.).\n",
        "2. **Classification**: predicts only a small number of possible outputs or categories (like determining whether an email is spam or not spam, or whether a tumor is malignant or benign, or the picture is of a cat or a dog etc.)\n",
        "\n",
        "Overall, supervised learning offers an efficient way to use known data to make meaningful predictions about new, future data. By analyzing the relationships within labeled training data, supervised learning models can then apply what they've learned to unlabeled, real-world data and make informed decisions or predictions."
      ]
    },
    {
      "cell_type": "markdown",
      "metadata": {
        "id": "QsCgfiFE_wBZ"
      },
      "source": [
        "## Simple Linear Regression\n",
        "\n",
        "Let's dive into one of the most basic and fundamental algorithms in the realm of Supervised Learning: **Linear Regression**."
      ]
    },
    {
      "cell_type": "code",
      "execution_count": null,
      "metadata": {
        "id": "FDFbow5j_wBa",
        "outputId": "c138b06d-f8e2-43dd-b8e9-cea6a47391c2"
      },
      "outputs": [
        {
          "data": {
            "image/png": "[encoded data removed]",
            "text/plain": [
              "<Figure size 640x480 with 1 Axes>"
            ]
          },
          "metadata": {},
          "output_type": "display_data"
        }
      ],
      "source": [
        "import numpy as np\n",
        "import matplotlib.pyplot as plt\n",
        "\n",
        "x_train = np.array([6.50, 7.60, 12.00, 7.20, 9.75, 10.75, 9.00, 11.50, 8.60, 13.25]) #features/independent variable cuma 1\n",
        "y_train = np.array([77.2, 99.8, 120.5, 89.5, 113.5, 124.2, 106.0, 133.0, 101.5, 148.2]) #label/dependent variable cuma 1\n",
        "\n",
        "# Plot the data points\n",
        "plt.scatter(x_train, y_train, marker='x', c='b')\n",
        "# Set the title\n",
        "plt.title(\"Housing Prices\")\n",
        "# Set the y-axis label\n",
        "plt.ylabel('Price (in 10.000s of dollars)')\n",
        "# Set the x-axis label\n",
        "plt.xlabel('Size (in 100s sqft)')\n",
        "plt.show()"
      ]
    },
    {
      "cell_type": "markdown",
      "metadata": {
        "id": "3wHW_w3A_wBb"
      },
      "source": [
        "### Introduction to Linear Regression\n",
        "\n",
        "Imagine you're a real estate agent, and you're helping customers sell their houses at a reasonable market price. To do this, you need a way to predict a house's market price based on its characteristics, such as the number of rooms, the year it was built, the neighborhood it's in, etc.\n",
        "\n",
        "This is where Linear Regression comes in!\n",
        "\n",
        "**Linear Regression** is like drawing a straight line through a cloud of data points. The line represents the relationship between **the independent variables** (the house characteristics, or 'features') and **the dependent variable** (the house price, or 'target variable').\n",
        "\n",
        "But you might be wondering, \"Why is it called 'Linear' Regression?\" Well, it's because this approach **assumes that the relationship between the independent and dependent variables is linear**. This simply means that if you were to plot this relationship on a graph, you could draw a straight line, or 'linear' line, to represent this relationship.\n",
        "\n",
        "In simple terms, we're trying to draw a line of best fit through our data points that minimizes the distance between the line and all the data points. Let's take a look below, this is how the linear regression process works:\n",
        "\n",
        "![linear-regression](https://storage.googleapis.com/rg-ai-bootcamp/machine-learning/linear-regression-min.png)\n",
        "\n",
        "Supervised Learning includes both the input features and also the output targets, The output targets are the right answers to the model we'll learn from. To train the model, you feed the training set, both the input features and the output targets to your learning algorithm. Then your supervised learning algorithm will produce some function ($f$). The job with $f$ is to take a new input $x$ and output and estimate or a prediction ($\\hat{y}$), In machine learning, the convention is that **$\\hat{y}$ is the estimate or the prediction for $y$**.\n",
        "\n",
        "The model for Linear Regression is a linear function of the input features. It's represented as:\n",
        "\n",
        "$$ f(x_{(i)}) = wx_{(i)} + b$$\n",
        "\n",
        "\n",
        "|General Notation | Description|\n",
        "|:------------:|:------------------------------------------------------------:|\n",
        "|  $x$ | Training Example feature values   |  \n",
        "|  $x_{(i)}$ | $i_{th}$Training Example |\n",
        "|  $\\hat{y}$  | Training Example  targets  |\n",
        "| m | Number of training examples |\n",
        "|  $w$  |  parameter: weight                                 |\n",
        "|  $b$           |  parameter: bias                                           |   \n",
        "| $f$ | The model for Linear Regression  |\n",
        "\n",
        "If you pay attention, in a linear function there are $w$ and $b$. The $w$ and $b$ are called the parameters of the model. In machine learning parameters of the model are the variables you can adjust during training in order to improve the model. Sometimes you also hear the parameters $w$ and $b$ referred to as weights and bias. Now let's take a look at what these parameters $w$ and $b$ do."
      ]
    },
    {
      "cell_type": "markdown",
      "source": [
        "y = wx + b\n",
        "\n",
        "y --> dependent variable\n",
        "w --> coefficient --> ini yang akan kita cari\n",
        "x --> independent variabel\n",
        "b --> intercept --> ini yang akan kita cari\n",
        "\n",
        "w --> 2\n",
        "b --> 5\n",
        "\n",
        "y = 2x + 5\n",
        "\n",
        "y = 2 * 50 + 5\n",
        "y = 105 cm"
      ],
      "metadata": {
        "id": "fC9Vq3b7IAuJ"
      }
    },
    {
      "cell_type": "code",
      "execution_count": null,
      "metadata": {
        "id": "GFhr3JK6_wBb"
      },
      "outputs": [],
      "source": [
        "import numpy as np\n",
        "import matplotlib.pyplot as plt\n",
        "\n",
        "x = np.arange(0, 5)\n",
        "y = np.arange(0, 5)"
      ]
    },
    {
      "cell_type": "code",
      "source": [
        "x, y"
      ],
      "metadata": {
        "colab": {
          "base_uri": "https://localhost:8080/"
        },
        "id": "D9ZSdoQ4KuTl",
        "outputId": "447045b2-b389-4a17-d588-d3c08115c65f"
      },
      "execution_count": null,
      "outputs": [
        {
          "output_type": "execute_result",
          "data": {
            "text/plain": [
              "(array([0, 1, 2, 3, 4]), array([0, 1, 2, 3, 4]))"
            ]
          },
          "metadata": {},
          "execution_count": 2
        }
      ]
    },
    {
      "cell_type": "markdown",
      "metadata": {
        "id": "zjlP-zv3_wBb"
      },
      "source": [
        "#### Case 1\n",
        "\n",
        "If $w$ = 0 and $b$ = 1.5, then $f$ looks like a horizontal line.\n",
        "\n",
        "In this case the function $f (x)=0 * x + 1.5 $ so $f$ is always constant. It always predicts 1.5 for the estimated $y$ value.\n",
        "\n",
        "$\\hat{y}$ is always equal to $b$ and here $b$ is also called y-intercept because it intersects the vertical axis or y-axis on this graph."
      ]
    },
    {
      "cell_type": "code",
      "execution_count": null,
      "metadata": {
        "colab": {
          "base_uri": "https://localhost:8080/",
          "height": 452
        },
        "id": "Fj7T26eq_wBb",
        "outputId": "969177de-2899-41d5-c796-52953d8d6b23"
      },
      "outputs": [
        {
          "output_type": "display_data",
          "data": {
            "text/plain": [
              "<Figure size 640x480 with 1 Axes>"
            ],
            "image/png": "[encoded data removed]"
          },
          "metadata": {}
        }
      ],
      "source": [
        "w = 0\n",
        "b = 1.5\n",
        "\n",
        "def compute(x, w, b):\n",
        "    return w * x + b\n",
        "\n",
        "tmp_fx = compute(x, w, b,)\n",
        "\n",
        "tmp_x = 2.5\n",
        "y = w * tmp_x + b\n",
        "\n",
        "plt.plot(x, tmp_fx, c='r')\n",
        "plt.scatter(tmp_x, y, marker='o', c='b')\n",
        "plt.xlim(0, 3)\n",
        "plt.ylim(0, 3)\n",
        "plt.title(\"w=0, b=1.5 -> y = 0x + 1.5\")\n",
        "plt.show()"
      ]
    },
    {
      "cell_type": "markdown",
      "metadata": {
        "id": "W4RCk3_b_wBc"
      },
      "source": [
        "#### Case 2\n",
        "\n",
        "If $w$ = 0.5 and $b$ = 0, then $f(x)=0.5 * x $.\n",
        "\n",
        "If $x$ = 0 then the prediction is also 0, and if $x$ =  2 then the prediction is 0.5 * 2 which is 1.\n",
        "\n",
        "You get a line like this and notice that the slope is 0.5 / 1. The value of $w$ gives you the slope of the line , which is 0.5"
      ]
    },
    {
      "cell_type": "code",
      "execution_count": null,
      "metadata": {
        "id": "iqgZ8Ci4_wBc",
        "outputId": "10bb8c9e-d8c6-4af1-f282-9a110cb2713e"
      },
      "outputs": [
        {
          "data": {
            "image/png": "[encoded data removed]",
            "text/plain": [
              "<Figure size 640x480 with 1 Axes>"
            ]
          },
          "metadata": {},
          "output_type": "display_data"
        }
      ],
      "source": [
        "w = 0.5\n",
        "b = 0\n",
        "\n",
        "def compute(x, w, b):\n",
        "    return w * x + b\n",
        "\n",
        "tmp_fx = compute(x, w, b,)\n",
        "\n",
        "tmp_x = 2\n",
        "y = w * tmp_x + b\n",
        "\n",
        "plt.plot(x, tmp_fx, c='r')\n",
        "plt.scatter(tmp_x, y, marker='o', c='b')\n",
        "plt.xlim(0, 3)\n",
        "plt.ylim(0, 3)\n",
        "plt.title(\"w=0.5, b=0 -> y = 0.5x + 0\")\n",
        "plt.show()"
      ]
    },
    {
      "cell_type": "markdown",
      "metadata": {
        "id": "36XmdKmp_wBc"
      },
      "source": [
        "#### Case 3\n",
        "\n",
        "If $w$ = 0.5 and $b$ = 1,  then $f(x)=0.5 * x + 1$. and if $x$ = 0, then $f(x)= b$, which is 1. So the line intersects the vertical axis at $b$, the intersection $y$ .\n",
        "\n",
        "Also if $x$ = 2, then $f(x)= 2$, so the line looks like this.\n",
        "\n",
        "Again, this slope is 0.5 / 1 so the value of $w$ results in a slope of 0.5."
      ]
    },
    {
      "cell_type": "code",
      "execution_count": null,
      "metadata": {
        "id": "fK_udn2E_wBc",
        "outputId": "9c24df8a-5bb6-4da9-8f8e-1df231d07642"
      },
      "outputs": [
        {
          "data": {
            "image/png": "[encoded data removed]",
            "text/plain": [
              "<Figure size 640x480 with 1 Axes>"
            ]
          },
          "metadata": {},
          "output_type": "display_data"
        }
      ],
      "source": [
        "w = 0.5\n",
        "b = 1\n",
        "\n",
        "def compute(x, w, b):\n",
        "    return w * x + b\n",
        "\n",
        "tmp_fx = compute(x, w, b,)\n",
        "\n",
        "tmp_x = 2\n",
        "y = w * tmp_x + b\n",
        "\n",
        "plt.plot(x, tmp_fx, c='r')\n",
        "plt.scatter(tmp_x, y, marker='o', c='b')\n",
        "plt.xlim(0, 3)\n",
        "plt.ylim(0, 3)\n",
        "plt.title(\"w=0.5, b=1 -> y = 0.5x + 1\")\n",
        "plt.show()"
      ]
    },
    {
      "cell_type": "markdown",
      "metadata": {
        "id": "wAYCZcL0_wBc"
      },
      "source": [
        "Let's consider a simple case study by Predicting a house's price based on its size. The **train set** can be represented as follows:\n",
        "\n",
        "| House Size (100 sq.ft) ($x$) | Price (10.000s USD) ($y$) |\n",
        "|:-----------------:|:-----------------:|\n",
        "| 6.5               | 77.2              |\n",
        "| 7.6               | 99.8              |\n",
        "| 12.0              | 120.5             |\n",
        "| 7.20              | 89.5              |\n",
        "| 9.75              | 113.5             |\n",
        "| 10.75             | 124.2             |\n",
        "| 9.0               | 106.0             |\n",
        "| 11.5              | 133.0             |\n",
        "| 8.6               | 101.5             |\n",
        "| 13.25             | 148.2             |\n",
        "\n",
        "Explanation:\n",
        "\n",
        "In this example, we have house sizes as our independent variable (input) and corresponding house price as the dependent variable (output we want to predict). Assuming a linear relationship between size and price, we can use a linear regression model to predict the price based on the size."
      ]
    },
    {
      "cell_type": "code",
      "execution_count": null,
      "metadata": {
        "colab": {
          "base_uri": "https://localhost:8080/",
          "height": 472
        },
        "id": "T-EMvg8m_wBc",
        "outputId": "587da86c-f9a3-4365-9795-f8f45a521550"
      },
      "outputs": [
        {
          "output_type": "display_data",
          "data": {
            "text/plain": [
              "<Figure size 640x480 with 1 Axes>"
            ],
            "image/png": "[encoded data removed]"
          },
          "metadata": {}
        }
      ],
      "source": [
        "import numpy as np\n",
        "import matplotlib.pyplot as plt\n",
        "\n",
        "x_train = np.array([6.50, 7.60, 12.00, 7.20, 9.75, 10.75, 9.00, 11.50, 8.60, 13.25])\n",
        "y_train = np.array([77.2, 99.8, 120.5, 89.5, 113.5, 124.2, 106.0, 133.0, 101.5, 148.2])\n",
        "\n",
        "# Plot the data points\n",
        "plt.scatter(x_train, y_train, marker='x', c='b')\n",
        "# Set the title\n",
        "plt.title(\"Housing Prices\")\n",
        "# Set the y-axis label\n",
        "plt.ylabel('Price (in 10.000s of dollars)')\n",
        "# Set the x-axis label\n",
        "plt.xlabel('Size (in 100s sqft)')\n",
        "plt.show()"
      ]
    },
    {
      "cell_type": "markdown",
      "metadata": {
        "id": "WizEuqFw_wBc"
      },
      "source": [
        "Now, the question is: How to predict the price of 9.5 sqft house? We can use the Linear Regression model to predict this.\n",
        "\n",
        "With the amount of data we have, it would be difficult if we did 1 by 1 calculations manually. So, you can compute the function output in a `for` loop as shown in the `compute_output` function below."
      ]
    },
    {
      "cell_type": "code",
      "execution_count": null,
      "metadata": {
        "id": "KNNa0veZ_wBc"
      },
      "outputs": [],
      "source": [
        "def compute_output(x, w, b):\n",
        "\n",
        "    \"\"\"\n",
        "    Computes the prediction of a linear model\n",
        "    Args/Params:\n",
        "      x    : Data, m examples\n",
        "      w,b  : model parameters\n",
        "\n",
        "    Returns/Output\n",
        "      f_wb : model prediction\n",
        "    \"\"\"\n",
        "\n",
        "    f_wb = w * x + b\n",
        "\n",
        "    return f_wb"
      ]
    },
    {
      "cell_type": "code",
      "execution_count": null,
      "metadata": {
        "colab": {
          "base_uri": "https://localhost:8080/",
          "height": 472
        },
        "id": "KpGupb7Q_wBd",
        "outputId": "89c5a708-a7b5-4572-d830-b91a9bb7e872"
      },
      "outputs": [
        {
          "output_type": "display_data",
          "data": {
            "text/plain": [
              "<Figure size 640x480 with 1 Axes>"
            ],
            "image/png": "[encoded data removed]"
          },
          "metadata": {}
        }
      ],
      "source": [
        "# Please replace the values of w and b with numbers that you think are appropriate\n",
        "w = 9.8\n",
        "b = 15\n",
        "\n",
        "tmp_f_wb = compute_output(x_train, w, b,)\n",
        "\n",
        "# predict the price of 9.5 sqft house\n",
        "tmp_x = 11.2\n",
        "y_hat = w * tmp_x + b\n",
        "\n",
        "# Plot the price of 9.5 sqft house\n",
        "plt.scatter(tmp_x, y_hat, marker='o', c='black',label='9.5 sqft house')\n",
        "plt.text(11.5, 80, f\"Price = {y_hat:.2f}\", fontsize=12)\n",
        "\n",
        "# Plot our model prediction\n",
        "plt.plot(x_train, tmp_f_wb, c='r',label='Our Prediction')\n",
        "\n",
        "# Plot the data points\n",
        "plt.scatter(x_train, y_train, marker='x', c='b',label='Actual Values')\n",
        "\n",
        "# Set the title\n",
        "plt.title(\"Housing Prices\")\n",
        "# Set the y-axis label\n",
        "plt.ylabel('Price (in 10.000s of dollars)')\n",
        "# Set the x-axis label\n",
        "plt.xlabel('Size (in 100s sqft)')\n",
        "plt.legend()\n",
        "plt.show()"
      ]
    },
    {
      "cell_type": "markdown",
      "metadata": {
        "id": "H3kIh0gN_wBd"
      },
      "source": [
        "## Loss function / Cost Function / Evaluation Metrics\n",
        "- mengukur performa dari model yang dibikin"
      ]
    },
    {
      "cell_type": "markdown",
      "metadata": {
        "id": "JK4x3FFK_wBd"
      },
      "source": [
        "Now, how do we know if the line is a good fit?"
      ]
    },
    {
      "cell_type": "markdown",
      "source": [
        "luas rumah = 100\n",
        "harga aktual = 1500 USD\n",
        "\n",
        "model tolon prediksi harga rumah menggunakan Linear Regresi\n",
        "f(100) = 1450 USD #prediksi\n",
        "\n",
        "1500 USD - 1450 USD --> ada selisih 50 USD --> 2500 USD2\n",
        "\n",
        "data 1 selisihnya/errornya 50 --> 2500\n",
        "data 2 selisihnya 10 --> 100\n",
        "data 3 selisihnya 5 --> 25\n",
        "dst sampat data test habis\n",
        "\n",
        "2500 + 100 + 25 dst dst --> 5500 errornya"
      ],
      "metadata": {
        "id": "hpt7JEFINpXO"
      }
    },
    {
      "cell_type": "markdown",
      "metadata": {
        "id": "SwK8f8w8_wBd"
      },
      "source": [
        "We can calculate the error between the predicted value and the actual value.\n",
        "\n",
        "![error-loss](https://storage.googleapis.com/rg-ai-bootcamp/machine-learning/error-loss-min.png)\n",
        "\n",
        "For example, if the actual value is $y$, and the predicted value is $\\hat{y}$, then the error is $y - \\hat{y}$.\n",
        "\n",
        "We can calculate the error for each data point, and then sum them up.\n",
        "\n",
        "The error function is:\n",
        "\n",
        "$$\n",
        "E = \\sum_{i=1}^{n} (y_i - \\hat{y_i})^2\n",
        "$$\n",
        "\n",
        "where $y$ is the actual value, and $\\hat{y}$ is the predicted value.\n",
        "\n",
        "This is called the **sum of squared errors**. (SSE)"
      ]
    },
    {
      "cell_type": "code",
      "execution_count": null,
      "metadata": {
        "colab": {
          "base_uri": "https://localhost:8080/",
          "height": 536,
          "referenced_widgets": [
            "3c5adca7055a4826b49a6d9e232a9899",
            "850abb947a1a4a9baf19ba2d41817098",
            "f823f757b12948c5994e2aee3e851cf7",
            "cab021225acd46bf9bffca68c1b1577c",
            "332db1483e23496aa2791a2491208382",
            "267d3f933b894600a1f060acbdc3bcab",
            "23c5d6f5daac45af9f7f5003b46c13b1",
            "077d1138e7744b849c478afefe1309ca",
            "afa130be48de4625b549eb68e293bbf9",
            "67761508b660431db20dd073f1cd22ea"
          ]
        },
        "id": "bIknnOhx_wBd",
        "outputId": "267b4791-d669-471f-b116-ac3cd3399323"
      },
      "outputs": [
        {
          "output_type": "display_data",
          "data": {
            "text/plain": [
              "interactive(children=(FloatSlider(value=0.0, description='a:', max=10.0), FloatSlider(value=0.0, description='…"
            ],
            "application/vnd.jupyter.widget-view+json": {
              "version_major": 2,
              "version_minor": 0,
              "model_id": "3c5adca7055a4826b49a6d9e232a9899"
            }
          },
          "metadata": {}
        }
      ],
      "source": [
        "import numpy as np\n",
        "import matplotlib.pyplot as plt\n",
        "import ipywidgets as widgets\n",
        "from IPython.display import display\n",
        "\n",
        "x_data = np.random.rand(100) * 10\n",
        "noise = np.random.normal(0, 2, x_data.shape)\n",
        "y_data = 3*x_data + 8 + noise\n",
        "\n",
        "# Define the update function\n",
        "def update(a, b):\n",
        "    y = a*x + b\n",
        "    plt.plot(x, y, color='red')\n",
        "    plt.scatter(x_data, y_data, s=1)\n",
        "    plt.xlabel('x')\n",
        "    plt.ylabel('y')\n",
        "\n",
        "    plt.title(f\"Equation y = {a}x + {b}\")\n",
        "\n",
        "    # Calculate the loss\n",
        "    loss = np.sum((y_data - y)**2)\n",
        "\n",
        "    # Draw the loss\n",
        "    plt.text(0, 20, f\"Loss = {loss:.2f}\", fontsize=12)\n",
        "\n",
        "    plt.show()\n",
        "\n",
        "# Create scattered dot around y = 3x + 8\n",
        "x = np.random.rand(100) * 10\n",
        "noise = np.random.normal(0, 2, x.shape)\n",
        "y = 3*x + 8 + noise\n",
        "\n",
        "# Define the slider widgets\n",
        "a_slider = widgets.FloatSlider(min=0, max=10, step=0.1, value=0, description='a:')\n",
        "b_slider = widgets.FloatSlider(min=0, max=10, step=0.1, value=0, description='b:')\n",
        "\n",
        "# Display the widgets and plot\n",
        "widgets.interactive(update, a=a_slider, b=b_slider)"
      ]
    },
    {
      "cell_type": "markdown",
      "metadata": {
        "id": "PhP-S3N9_wBd"
      },
      "source": [
        "So, the goal of linear regression is to find the best a and b that minimize the loss function.\n",
        "\n",
        "In other words, we want to find the best a and b that make the red line as close as possible to the scattered dots."
      ]
    },
    {
      "cell_type": "markdown",
      "metadata": {
        "id": "FCJrbx8l_wBd"
      },
      "source": [
        "### Other Loss Functions\n",
        "\n",
        "There are other loss functions, for example:\n",
        "\n",
        "#### Mean Square Error (MSE)\n",
        "\n",
        "$$\n",
        "E = \\frac{1}{n} \\sum_{i=1}^{n} (y_i - \\hat{y_i})^2\n",
        "$$\n",
        "\n",
        "#### Mean Absolute Error (MAE)\n",
        "\n",
        "$$\n",
        "E = \\frac{1}{n} \\sum_{i=1}^{n} |y_i - \\hat{y_i}|\n",
        "$$\n",
        "\n",
        "#### Root Mean Squared Error (RMSE)\n",
        "\n",
        "$$\n",
        "E = \\sqrt{\\frac{1}{n}\\sum_{i=1}^{n} (y_i - \\hat{y_i})^2}\n",
        "$$\n",
        "\n",
        "RMSE is in the same units as the target variable, which can make it more interpretable in some cases.\n"
      ]
    },
    {
      "cell_type": "markdown",
      "metadata": {
        "id": "8NPmcERq_wBd"
      },
      "source": [
        "The loss function, also called the cost function, tells us how well the model performs so we can try to make it better. **The cost function itself measures the difference (error/loss rate) between the model prediction and the actual value for $y$**.\n",
        "\n",
        "Let's break down the formula for SSE to help you understand:\n",
        "\n",
        "The cost function takes the prediction y hat and compares it to the target $y$ by taking $\\hat{y}$ minus $y$\n",
        "\n",
        " $$ (f(x^{(i)}) - y^{(i)})^2 $$\n",
        "\n",
        "Then, the formula is the sum of the absolute value of the diff\n",
        "\n",
        " $$J(w,b) = \\sum\\limits_{i = 0}^{m-1} (f(x^{(i)}) - y^{(i)})^2$$\n",
        "\n",
        "But that equation is not fair because it doesn't take into account the number of examples we have. So we divide it by the number of examples, $m$.\n",
        "\n",
        "  $$J(w,b) = \\frac{1}{m} \\sum\\limits_{i = 0}^{m-1} (f(x^{(i)}) - y^{(i)})^2$$\n",
        "\n",
        "where\n",
        "  $$f(x^{(i)}) = wx^{(i)} + b$$\n",
        "  \n",
        "- $f(x^{(i)})$ is our prediction for example $i$ using parameters $w,b$.  \n",
        "- $(f(x^{(i)}) -y^{(i)})^2$ is the squared difference between the target value and the prediction.   \n",
        "- These differences are summed over all the $m$ examples and divided by `m` to produce the cost, $J(w,b)$.  \n",
        "\n",
        "Look at the code below, where it will calculate the cost by looping each example. In each loop:\n",
        "\n",
        "- $fx$, a prediction is calculated\n",
        "- the difference between the target and the prediction is calculated and squared.\n",
        "- this is added to the total cost."
      ]
    },
    {
      "cell_type": "code",
      "execution_count": null,
      "metadata": {
        "id": "jl2KJpxf_wBd"
      },
      "outputs": [],
      "source": [
        "def compute_cost(x, y, w, b):\n",
        "    \"\"\"\n",
        "    Computes the cost function for linear regression.\n",
        "\n",
        "    Args:\n",
        "      x : Data, m examples\n",
        "      y : target values\n",
        "      w,b : model parameters\n",
        "\n",
        "    Returns\n",
        "        total_cost (float): The cost of using w,b as the parameters for linear regression\n",
        "               to fit the data points in x and y\n",
        "    \"\"\"\n",
        "    # number of training examples\n",
        "    m = len(x_train)\n",
        "\n",
        "    cost_sum = 0\n",
        "    for i in range(m):\n",
        "        fx = w * x[i] + b\n",
        "        cost = (fx - y[i]) ** 2\n",
        "        cost_sum = cost_sum + cost\n",
        "    total_cost = (1 / m) * cost_sum\n",
        "\n",
        "    return total_cost"
      ]
    },
    {
      "cell_type": "code",
      "execution_count": null,
      "metadata": {
        "colab": {
          "base_uri": "https://localhost:8080/"
        },
        "id": "CWyfSUI8_wBd",
        "outputId": "077156d4-8a45-4c63-bfdf-49a91fa0b325"
      },
      "outputs": [
        {
          "output_type": "execute_result",
          "data": {
            "text/plain": [
              "31.641"
            ]
          },
          "metadata": {},
          "execution_count": 11
        }
      ],
      "source": [
        "x_train = np.array([6.50, 7.60, 12.00, 7.20, 9.75, 10.75, 9.00, 11.50, 8.60, 13.25])\n",
        "y_train = np.array([77.2, 99.8, 120.5, 89.5, 113.5, 124.2, 106.0, 133.0, 101.5, 148.2])\n",
        "w = 10\n",
        "b = 15\n",
        "\n",
        "errors = compute_cost(x_train, y_train, w, b)\n",
        "errors\n",
        "# print(f\"Number of errors: {errors}\")"
      ]
    },
    {
      "cell_type": "markdown",
      "metadata": {
        "id": "3tztQBJS_wBd"
      },
      "source": [
        "Based on the data owned and the value of $w$ and $b$, when viewed from the results of the `compute_cost` function, the total mistakes we got were `31.641`.\n",
        "\n",
        "Then, is the best amount? Remember that **the purpose of linear regression is to minimize total errors**.\n",
        "\n",
        "Then how do you do it? In other words we want to get the best $w$ and $b$ values that **make the lines as close as possible to the spread points**.\n",
        "\n",
        "One way is you can use the Scikit-learn library."
      ]
    },
    {
      "cell_type": "code",
      "execution_count": null,
      "metadata": {
        "colab": {
          "base_uri": "https://localhost:8080/"
        },
        "id": "6w_Yba08_wBd",
        "outputId": "cebd0ff3-a131-475b-d63f-84e0be0ca379"
      },
      "outputs": [
        {
          "output_type": "stream",
          "name": "stdout",
          "text": [
            "Minimum cost: 31.590884482750955\n",
            "w: 9.976999999998904 b: 14.998999999998892\n"
          ]
        }
      ],
      "source": [
        "import numpy as np\n",
        "\n",
        "answer = ()\n",
        "minimum_cost = 100000\n",
        "\n",
        "for w in np.arange(8.0, 12.0, 0.001):\n",
        "    for b in np.arange(13.0, 15.0, 0.001):\n",
        "        cost = compute_cost(x_train, y_train, w, b)\n",
        "        if cost < minimum_cost:\n",
        "            minimum_cost = cost\n",
        "            answer = (w, b)\n",
        "\n",
        "print(f\"Minimum cost: {minimum_cost}\")\n",
        "print(f\"w: {answer[0]} b: {answer[1]}\")"
      ]
    },
    {
      "cell_type": "markdown",
      "source": [
        "simple linear regression --> jumlah indepenednt var (x) cuma 1\n",
        "multiple linear regression --> jumlah ind var > 1"
      ],
      "metadata": {
        "id": "kU9E5lKTUhz6"
      }
    },
    {
      "cell_type": "markdown",
      "metadata": {
        "id": "AkxzU1U7_wBd"
      },
      "source": [
        "### Scikit-learn for Linear Regression\n",
        "\n",
        "The `sklearn` (or Scikit-learn) library in Python is a powerful, open-source library that provides simple and efficient tools for data analysis and modeling, including machine learning. It has numerous features, ranging from simple regression models to complex machine learning models.\n",
        "\n",
        "For our Linear Regression model, `sklearn` provides the `LinearRegression` class within the `sklearn.linear_model` module.\n",
        "\n",
        "Here's how you can do it:"
      ]
    },
    {
      "cell_type": "code",
      "source": [
        "a = np.array([6.50, 7.60, 12.00, 7.20, 9.75, 10.75, 9.00, 11.50, 8.60, 13.25]).reshape((-1, 1))"
      ],
      "metadata": {
        "id": "ZHSdRJ3fV01I"
      },
      "execution_count": null,
      "outputs": []
    },
    {
      "cell_type": "code",
      "source": [
        "a[0]"
      ],
      "metadata": {
        "colab": {
          "base_uri": "https://localhost:8080/"
        },
        "id": "JpEEiBnuV6Ak",
        "outputId": "6c1a4306-efcd-45ff-ea19-8475f779af48"
      },
      "execution_count": null,
      "outputs": [
        {
          "output_type": "execute_result",
          "data": {
            "text/plain": [
              "array([6.5])"
            ]
          },
          "metadata": {},
          "execution_count": 21
        }
      ]
    },
    {
      "cell_type": "code",
      "source": [
        "type(a[0])"
      ],
      "metadata": {
        "colab": {
          "base_uri": "https://localhost:8080/"
        },
        "id": "wgMD0QpdWFcK",
        "outputId": "c30c0e29-0c85-4829-9af3-a2edcbccb27d"
      },
      "execution_count": null,
      "outputs": [
        {
          "output_type": "execute_result",
          "data": {
            "text/plain": [
              "numpy.ndarray"
            ]
          },
          "metadata": {},
          "execution_count": 25
        }
      ]
    },
    {
      "cell_type": "code",
      "source": [
        "b = np.array([6.50, 7.60, 12.00, 7.20, 9.75, 10.75, 9.00, 11.50, 8.60, 13.25])"
      ],
      "metadata": {
        "id": "Sgu8vKUkV9vf"
      },
      "execution_count": null,
      "outputs": []
    },
    {
      "cell_type": "code",
      "source": [
        "type(b[0])"
      ],
      "metadata": {
        "colab": {
          "base_uri": "https://localhost:8080/"
        },
        "id": "UufolkeiWCnZ",
        "outputId": "303eacb3-24aa-41b6-930b-a21f36bd0939"
      },
      "execution_count": null,
      "outputs": [
        {
          "output_type": "execute_result",
          "data": {
            "text/plain": [
              "numpy.float64"
            ]
          },
          "metadata": {},
          "execution_count": 26
        }
      ]
    },
    {
      "cell_type": "code",
      "execution_count": null,
      "metadata": {
        "colab": {
          "base_uri": "https://localhost:8080/"
        },
        "id": "BZ_VSkY8_wBd",
        "outputId": "17983a98-dac4-4198-cc47-34cd613012dd"
      },
      "outputs": [
        {
          "output_type": "stream",
          "name": "stdout",
          "text": [
            "Coefficients: [[9.09553728]]\n",
            "Intercept: [23.8864091]\n"
          ]
        }
      ],
      "source": [
        "from sklearn.linear_model import LinearRegression\n",
        "\n",
        "# Reshape the input array\n",
        "x_train = np.array([6.50, 7.60, 12.00, 7.20, 9.75, 10.75, 9.00, 11.50, 8.60, 13.25]).reshape((-1, 1))\n",
        "y_train = np.array([77.2, 99.8, 120.5, 89.5, 113.5, 124.2, 106.0, 133.0, 101.5, 148.2]).reshape((-1, 1))\n",
        "\n",
        "model = LinearRegression()\n",
        "\n",
        "# Use this score function to in model.fit\n",
        "model.fit(x_train, y_train)\n",
        "\n",
        "# Generates and displays coefficients and intercepts\n",
        "coefficient = model.coef_ # w\n",
        "intercept = model.intercept_ # b\n",
        "print(f\"Coefficients: {coefficient}\")\n",
        "print(f\"Intercept: {intercept}\")"
      ]
    },
    {
      "cell_type": "markdown",
      "source": [
        "y = 9.09 * x + 23.8"
      ],
      "metadata": {
        "id": "X3y3cp2kVt_i"
      }
    },
    {
      "cell_type": "markdown",
      "metadata": {
        "id": "l3BPPbEw_wBe"
      },
      "source": [
        "From the results of the code above, the $w$ (coefficient) value is `9.09553728` and $b$ (intercept) is `23.886409100809274`. That way we can produce the minimum possible error/loss value. Now we look again at the data we have with the new $w$ and $b$ values and what error/loss we get."
      ]
    },
    {
      "cell_type": "code",
      "execution_count": null,
      "metadata": {
        "id": "ItSsX5T6_wBe",
        "outputId": "b9289ac3-30a5-4096-f6ef-ef4f9082d64a"
      },
      "outputs": [
        {
          "data": {
            "image/png": "[encoded data removed]",
            "text/plain": [
              "<Figure size 640x480 with 1 Axes>"
            ]
          },
          "metadata": {},
          "output_type": "display_data"
        }
      ],
      "source": [
        "x_train = np.array([6.50, 7.60, 12.00, 7.20, 9.75, 10.75, 9.00, 11.50, 8.60, 13.25])\n",
        "y_train = np.array([77.2, 99.8, 120.5, 89.5, 113.5, 124.2, 106.0, 133.0, 101.5, 148.2])\n",
        "\n",
        "w = coefficient[0]\n",
        "b = intercept\n",
        "\n",
        "cost = compute_cost(x_train, y_train, w, b)\n",
        "tmp_f_wb = compute_output(x_train, w, b,)\n",
        "\n",
        "# predict the price of 9.5 sqft house\n",
        "tmp_x = 9.5\n",
        "y_hat = w * tmp_x + b\n",
        "\n",
        "# Plot the price of 9.5 sqft house\n",
        "plt.scatter(tmp_x, y_hat, marker='o', c='black',label='9.5 sqft house')\n",
        "plt.text(12, 75, f\"Price = {y_hat:.2f}\", fontsize=10)\n",
        "\n",
        "# Plot our model prediction\n",
        "plt.plot(x_train, tmp_f_wb, c='r',label='Our Prediction')\n",
        "\n",
        "# Plot the data points\n",
        "plt.scatter(x_train, y_train, marker='x', c='b',label='Actual Values')\n",
        "plt.text(12, 80, f\"Cost = {cost:.2f}\", fontsize=10)\n",
        "\n",
        "# Set the title\n",
        "plt.title(\"Housing Prices\")\n",
        "# Set the y-axis label\n",
        "plt.ylabel('Price (in 10.000s of dollars)')\n",
        "# Set the x-axis label\n",
        "plt.xlabel('Size (in 100s sqft)')\n",
        "plt.legend()\n",
        "plt.show()"
      ]
    },
    {
      "cell_type": "markdown",
      "metadata": {
        "id": "Qsgg9XuL_wBe"
      },
      "source": [
        "Based on the results in the graph above, we can see a decrease in the error/loss that we got, from the previous amount of `31.641` to `27.94`. In this way, the level of accuracy in predicting the price of the house we are looking for will increase."
      ]
    },
    {
      "cell_type": "markdown",
      "metadata": {
        "id": "i6z8Ta0U_wBe"
      },
      "source": [
        "You can also make predictions with this trained model. For example, if you want to predict the y value for `x = 9.5`, you can do it using the `predict()` method like this:"
      ]
    },
    {
      "cell_type": "code",
      "execution_count": null,
      "metadata": {
        "id": "afAs9dW-_wBe",
        "outputId": "0309b161-ca44-4f96-c6cd-a151cfba180f"
      },
      "outputs": [
        {
          "name": "stdout",
          "output_type": "stream",
          "text": [
            "Predicted value for x = 9.5: [110.29401321]\n"
          ]
        }
      ],
      "source": [
        "x_new = np.array([9.5]).reshape((-1, 1))\n",
        "y_pred = model.predict(x_new)\n",
        "print(f\"Predicted value for x = 9.5: {y_pred}\")"
      ]
    },
    {
      "cell_type": "markdown",
      "metadata": {
        "id": "pXKfWaE0_wBe"
      },
      "source": [
        "But, how does the `sklearn` library calculate the best $w$ and $b$ values? The answer is using the **Gradient Descent** algorithm, which will be discussed in the next section."
      ]
    },
    {
      "cell_type": "markdown",
      "metadata": {
        "id": "QRwibwmc_wBi"
      },
      "source": [
        "## Linear Regression with Multiple Input Variables"
      ]
    },
    {
      "cell_type": "markdown",
      "metadata": {
        "id": "gjMPdscx_wBi"
      },
      "source": [
        "### Multiple Features\n",
        "\n",
        "In real-world scenarios, an output variable or a result often depends on more than one factor or input variable. In machine learning, these factors are referred to as \"features\". In the previous discussion, you have one feature $x$, the size of the house and you can predict $y$, the price of the house. But now, what if you don't just use the size of the house as a feature that can be used to predict prices such as the number of bedrooms and bathrooms and the age of the house. Let's look at the example below:\n",
        "\n",
        "![multiple-feature](https://storage.googleapis.com/rg-ai-bootcamp/machine-learning/multiple-feature-min.png)\n",
        "\n",
        "| General Notation | Description |\n",
        "|:----------------:|:-----------:|\n",
        "| $x_1$            | House Size   |  \n",
        "| $x_2$            | Number of Bedrooms |\n",
        "| $x_3$            | Number of Bathrooms  |\n",
        "| $x_4$            | House Age |\n",
        "| $y$              | Price |\n",
        "| $x_{j}$             | $j$ Feature (red rectangle)|   \n",
        "| $n$              | Number of Feature  |\n",
        "| $\\vec{x}^{(i)}$  | Feature of $i^{th}$ training example, also called a row vector (yellow rectangle)  |\n",
        "| ${\\vec{x}_{j}}^{(i)}$ | Value of Feature $j$ in $i^{th}$ in the training example (blue rectangle) |\n",
        "\n",
        "If you just used the size of a house to predict its price, it would be a simple linear regression problem. In the previous discussion, this is how we defined the model, with $x$ as a single feature:\n",
        "\n",
        "$$ f(x) = wx + b$$\n",
        "\n",
        "But now with many features, we will define them differently. We still multiply $w$ with $x$, but since now we have multiples of $w.x$, we sum them up together. The model then look like this:\n",
        "\n",
        "$$ f(\\vec{x}) = w_{1}x_{1} + w_{2}x_{2} + \\dots + w_{n}x_{n} + b$$\n",
        "\n",
        "or in vector notation can be written like this:\n",
        "\n",
        "$$ f(\\vec{x}) = \\vec{w} \\cdot \\vec{x} + b$$\n",
        "\n",
        "where $\\cdot$ is a vector `dot product`\n",
        "\n",
        "| General Notation | Description |\n",
        "|:----------------:|:-----------:|\n",
        "| $\\vec{w}$        | [ $w_{1}, w_{2}, \\dots , w_{n}$ ]  |  \n",
        "| $b$              | Number of Bias Parameter |\n",
        "| $\\vec{x}$        | [ $x_{1}, x_{2}, \\dots , x_{n}$ ]  |\n",
        "\n",
        "Here, $\\vec{w}$ are parameters of the model that it learns during the training phase. The $\\vec{x}$ are the features. Using multiple features usually gives a better prediction than using just one feature, as real-world scenarios are often influenced by more than just one factor. It's worth noting, however, that adding more and more features can also lead to overfitting where the model learns the training data too well and performs poorly on unseen data.\n",
        "\n",
        ">Note: We'll learn more about `dot product` in the next material on Matrix and Vector.\n",
        "\n",
        "Let's go back to our case, where now we have multiple features to predict house prices\n",
        "\n",
        "| House Size (100 sq.ft) ($x_1$) | Bedrooms ($x_2$) | Bathrooms ($x_3$) | Age (years) ($x_4$) | Price (10.000s USD) ($y$) |\n",
        "|:------------------:|:---------:|:---------:|:---------:|:-----------------:|\n",
        "| 6.50               | 2         | 1         | 15        | 77.2              |\n",
        "| 7.60               | 3         | 2         | 5         | 99.8              |\n",
        "| 12.00              | 4         | 3         | 10        | 120.5             |\n",
        "| 7.20               | 2         | 1         | 7         | 89.5              |\n",
        "| 9.75               | 3         | 2         | 12        | 113.5             |\n",
        "| 10.75              | 3         | 2         | 3         | 124.2             |\n",
        "| 9.00               | 3         | 2         | 8         | 106.0             |\n",
        "| 11.50              | 4         | 3         | 10        | 133.0             |\n",
        "| 8.60               | 2         | 2         | 15        | 101.5             |\n",
        "| 13.25              | 4         | 3         | 1         | 148.2             |\n"
      ]
    },
    {
      "cell_type": "markdown",
      "metadata": {
        "id": "SfGR5JQk_wBi"
      },
      "source": [
        "In this example, we not only have the size of the house as the independent variable, but also the number of bedrooms and bathrooms as well as the age of the house itself and don't forget the price of the house as the dependent variable.\n",
        "\n",
        "Let's take what we learn and apply it to code:\n",
        "\n",
        "<!-- Now we will create a linear regression model using these values so that we can predict other house prices. For example, a 1400 square foot house, 5 bedrooms, 2 bathroom, 30 years old. -->"
      ]
    },
    {
      "cell_type": "code",
      "execution_count": null,
      "metadata": {
        "colab": {
          "base_uri": "https://localhost:8080/"
        },
        "id": "0Oh_-y8T_wBi",
        "outputId": "f31cb76b-56a3-45d8-c58c-40001fea1abc"
      },
      "outputs": [
        {
          "output_type": "stream",
          "name": "stdout",
          "text": [
            "X Shape: (10, 4), X Type:<class 'numpy.ndarray'>)\n",
            "[[ 6.5   2.    1.   15.  ]\n",
            " [ 7.6   3.    2.    5.  ]\n",
            " [12.    4.    3.   10.  ]\n",
            " [ 7.2   2.    1.    7.  ]\n",
            " [ 9.75  3.    2.   12.  ]\n",
            " [10.75  3.    2.    3.  ]\n",
            " [ 9.    3.    2.    8.  ]\n",
            " [11.5   4.    3.   10.  ]\n",
            " [ 8.6   2.    2.   15.  ]\n",
            " [13.25  4.    3.    1.  ]]\n",
            "y Shape: (10,), y Type:<class 'numpy.ndarray'>)\n",
            "[ 77.2  99.8 120.5  89.5 113.5 124.2 106.  133.  101.5 148.2]\n"
          ]
        }
      ],
      "source": [
        "X_train = np.array([\n",
        "    [6.50, 2, 1, 15],\n",
        "    [7.60, 3, 2, 5],\n",
        "    [12.00, 4, 3, 10],\n",
        "    [7.20, 2, 1, 7],\n",
        "    [9.75, 3, 2, 12],\n",
        "    [10.75, 3, 2, 3],\n",
        "    [9.00, 3, 2, 8],\n",
        "    [11.50, 4, 3, 10],\n",
        "    [8.60, 2, 2, 15],\n",
        "    [13.25, 4, 3, 1]\n",
        "])\n",
        "\n",
        "y_train = np.array([77.2, 99.8, 120.5, 89.5, 113.5, 124.2, 106.0, 133.0, 101.5, 148.2])\n",
        "\n",
        "print(f\"X Shape: {X_train.shape}, X Type:{type(X_train)})\")\n",
        "print(X_train)\n",
        "print(f\"y Shape: {y_train.shape}, y Type:{type(y_train)})\")\n",
        "print(y_train)"
      ]
    },
    {
      "cell_type": "markdown",
      "metadata": {
        "id": "FQc5lEvs_wBi"
      },
      "source": [
        "For parameter vector $w$ and $b$ can be written like this:\n",
        "\n",
        "* $w$ is a vector with $n$ elements.\n",
        "  - Each element contains the parameter associated with one feature.\n",
        "  - in our dataset, n is 4.\n",
        "  - notionally, we draw this as a column vector\n",
        "  \n",
        "* $b$ is a scalar parameter."
      ]
    },
    {
      "cell_type": "code",
      "execution_count": null,
      "metadata": {
        "colab": {
          "base_uri": "https://localhost:8080/"
        },
        "id": "tpSseyqM_wBi",
        "outputId": "ed693fa1-2afd-48aa-dc78-c93c1c52aa92"
      },
      "outputs": [
        {
          "output_type": "stream",
          "name": "stdout",
          "text": [
            "w_init shape: (4,), b_init type: <class 'float'>\n"
          ]
        }
      ],
      "source": [
        "b_init = 46.68178303822603\n",
        "w_init = np.array([ 7.05979876, -4.1870478, 8.30627675, -0.94230069])\n",
        "print(f\"w_init shape: {w_init.shape}, b_init type: {type(b_init)}\")"
      ]
    },
    {
      "cell_type": "markdown",
      "source": [
        "y = 7.05 * x1 -4.18 * x2 + 8.3 * x3 - 0.9 * x4 + 46.6"
      ],
      "metadata": {
        "id": "sjpvOM4kW-os"
      }
    },
    {
      "cell_type": "markdown",
      "metadata": {
        "id": "sSluq49S_wBi"
      },
      "source": [
        "Now, let's look at a basic implementation using a for loop for computing the model's prediction.\n",
        "\n",
        "$$f(\\vec{x}) = \\sum\\limits_{j = 1}^{n} w_{j}x_{j} + b$$"
      ]
    },
    {
      "cell_type": "code",
      "execution_count": null,
      "metadata": {
        "id": "hH6we4bZ_wBi"
      },
      "outputs": [],
      "source": [
        "def predict_single_loop(x, w, b):\n",
        "    \"\"\"\n",
        "    single predict using linear regression\n",
        "\n",
        "    Args:\n",
        "      x (ndarray): Shape (n,) example with multiple features\n",
        "      w (ndarray): Shape (n,) model parameters\n",
        "      b (scalar):  model parameter\n",
        "\n",
        "    Returns:\n",
        "      f (scalar):  prediction\n",
        "    \"\"\"\n",
        "    n = len(x)\n",
        "    f = 0\n",
        "    for i in range(n):\n",
        "        f_i = x[i] * w[i]\n",
        "        f = f + f_i\n",
        "    f = f + b\n",
        "    return f"
      ]
    },
    {
      "cell_type": "code",
      "execution_count": null,
      "metadata": {
        "colab": {
          "base_uri": "https://localhost:8080/"
        },
        "id": "ShGqJEwI_wBj",
        "outputId": "e27af12e-95eb-4a09-f7a8-b51759df649b"
      },
      "outputs": [
        {
          "output_type": "stream",
          "name": "stdout",
          "text": [
            "x_vec shape (4,), x_vec value: [ 6.5  2.   1.  15. ]\n",
            "f_wb shape (), prediction: 78.36814577822602\n"
          ]
        }
      ],
      "source": [
        "# get a row from our training data\n",
        "x_vec = X_train[0,:]\n",
        "print(f\"x_vec shape {x_vec.shape}, x_vec value: {x_vec}\")\n",
        "\n",
        "# make a prediction\n",
        "f_x = predict_single_loop(x_vec, w_init, b_init)\n",
        "print(f\"f_wb shape {f_x.shape}, prediction: {f_x}\")"
      ]
    },
    {
      "cell_type": "code",
      "execution_count": null,
      "metadata": {
        "id": "1PlL78U7_wBj"
      },
      "outputs": [],
      "source": [
        "def compute_cost_for_multiple_variables(X, y, w, b):\n",
        "    \"\"\"\n",
        "    Computes the cost function for linear regression.\n",
        "\n",
        "    Args:\n",
        "      X : Data, m examples\n",
        "      y : target values\n",
        "      w,b : model parameters\n",
        "\n",
        "    Returns\n",
        "        total_cost (float): The cost of using w,b as the parameters for linear regression\n",
        "               to fit the data points in X and y\n",
        "    \"\"\"\n",
        "    m = len(y)  # number of training examples\n",
        "\n",
        "    # hypothesis calculation - output prediction\n",
        "    fx = np.dot(X, w) + b\n",
        "\n",
        "    # error calculation\n",
        "    errors = fx - y\n",
        "\n",
        "    # calculate total cost\n",
        "    total_cost = (1 / m) * np.dot(errors.T, errors)\n",
        "\n",
        "    return total_cost"
      ]
    },
    {
      "cell_type": "markdown",
      "metadata": {
        "id": "kivLLkAD_wBj"
      },
      "source": [
        "Now, there is a very interesting trick called vectorization, which will make it easier to implement this algorithm and many other learning algorithms. And it will runs much faster too! Let's go into the next discussion to see what vectorization is."
      ]
    },
    {
      "cell_type": "markdown",
      "metadata": {
        "id": "IzEOeMv1_wBj"
      },
      "source": [
        "### Vectorization\n",
        "\n",
        "Vectorization is a powerful ability within NumPy (and other similar libraries) to express operations as occurring on entire arrays, rather than their individual elements.\n",
        "\n",
        "When we loop over elements of an array and perform operations, this is called scalar computation. In Python, scalar computation is relatively slow compared to vectorized computation. This is where vectorization can be of great use in machine learning tasks which often require performing operations on large amounts of data.\n",
        "\n",
        "Now, let's look at how we can do this using vectorization.\n",
        "\n",
        "$$ f(\\vec{x}) = \\vec{w} \\cdot \\vec{x} + b$$\n",
        "\n",
        "And now you can implement it with one line of code like below using `dot()` method from NumPy:"
      ]
    },
    {
      "cell_type": "code",
      "source": [
        "def predict_single_loop(x, w, b):\n",
        "    \"\"\"\n",
        "    single predict using linear regression\n",
        "\n",
        "    Args:\n",
        "      x (ndarray): Shape (n,) example with multiple features\n",
        "      w (ndarray): Shape (n,) model parameters\n",
        "      b (scalar):  model parameter\n",
        "\n",
        "    Returns:\n",
        "      f (scalar):  prediction\n",
        "    \"\"\"\n",
        "    n = len(x)\n",
        "    f = 0\n",
        "    for i in range(n):\n",
        "        f_i = x[i] * w[i]\n",
        "        f = f + f_i\n",
        "    f = f + b\n",
        "    return f"
      ],
      "metadata": {
        "id": "7h8fLfWwXdmy"
      },
      "execution_count": null,
      "outputs": []
    },
    {
      "cell_type": "code",
      "execution_count": null,
      "metadata": {
        "id": "_mQdcJG__wBj"
      },
      "outputs": [],
      "source": [
        "def predict(x, w, b):\n",
        "    \"\"\"\n",
        "    single predict using linear regression\n",
        "\n",
        "    Args:\n",
        "      x (ndarray): Shape (n,) example with multiple features\n",
        "      w (ndarray): Shape (n,) model parameters\n",
        "      b (scalar):             model parameter\n",
        "\n",
        "    Returns:\n",
        "      f (scalar):  prediction\n",
        "    \"\"\"\n",
        "    f = np.dot(x, w) + b\n",
        "    return f"
      ]
    },
    {
      "cell_type": "code",
      "execution_count": null,
      "metadata": {
        "colab": {
          "base_uri": "https://localhost:8080/"
        },
        "id": "NPW4VJym_wBj",
        "outputId": "e6f0d996-45fd-45ff-8c73-41e8b5a55fb0"
      },
      "outputs": [
        {
          "output_type": "stream",
          "name": "stdout",
          "text": [
            "x_vec shape (4,), x_vec value: [ 6.5  2.   1.  15. ]\n",
            "f_wb shape (), prediction: 78.36814577822602\n"
          ]
        }
      ],
      "source": [
        "# get a row from our training data\n",
        "x_vec = X_train[0,:]\n",
        "print(f\"x_vec shape {x_vec.shape}, x_vec value: {x_vec}\")\n",
        "\n",
        "# make a prediction\n",
        "f_wb = predict(x_vec,w_init, b_init)\n",
        "print(f\"f_wb shape {f_wb.shape}, prediction: {f_wb}\")"
      ]
    },
    {
      "cell_type": "markdown",
      "metadata": {
        "id": "Eg5ppN_q_wBj"
      },
      "source": [
        "## How many features do we need?\n",
        "\n",
        "In the previous discussion, we have discussed how to use multiple features to predict house prices. But, how many features do we need?\n",
        "\n",
        "Should we add the following features to our model?\n",
        "- The number of floors\n",
        "- The size of the backyard\n",
        "- Is it near a school?\n",
        "- Is it near a mall?\n",
        "- Does it have a swimming pool?\n",
        "\n",
        "More features are not always better. Adding more features can lead to overfitting, where the model learns the training data too well and performs poorly on unseen data."
      ]
    },
    {
      "cell_type": "markdown",
      "metadata": {
        "id": "7R0SJ7O6_wBj"
      },
      "source": [
        "### Feature Engineering\n",
        "\n",
        "Feature choices can have a big impact on the performance of your learning algorithm. In fact, for many practical applications, selecting or including the right features is a critical step for an algorithm to function properly. In this topic, let's see how we can select or engineer the most suitable features for our learning algorthm.\n",
        "\n",
        "**Feature Engineering** is the process of transforming raw data into features that better represent the underlying problem to the predictive models, resulting in improved model accuracy on unseen data. In other words, you're creating new features from the existing ones, or even removing some that you deem unnecessary.\n",
        "\n",
        "Feature engineering can be considered as adding more useful information for your model to learn from. In the context of linear regression with multiple input variables, feature engineering can be crucial because the relationship between the response variable and predictors may not always be linear or may depend on multiple interacting variables.\n",
        "\n",
        "For a dataset describing different lands, let's say we have three original features -- `Width`, `Depth`, and `Price`:\n",
        "\n",
        "| LandID | Width (m) | Depth (m) | Price ($) |\n",
        "|:------:|:---------:|:---------:|:---------:|\n",
        "| 1 | 10 | 20 | 2000 |\n",
        "| 2 | 20 | 15 | 3000 |\n",
        "| 3 | 15 | 20 | 2500 |\n",
        "| 4 | 10 | 12 | 1200 |\n",
        "| 5 | 12 | 15 | 2250 |\n",
        "\n",
        "The simple Machine learning model using `Width` and `Depth` to predict `price` could look like this:\n",
        "\n",
        "$$ f(\\vec{x}) = w_{1}x_{1} + w_{2}x_{2} + b$$\n",
        "\n",
        "Now let's see how feature engineering can enhance this dataset.\n",
        "\n",
        "#### Creating new features\n",
        "\n",
        "One simple feature engineering task on this dataset could be creating a new feature representing the total `area`. While the `width` and `depth` by themselves might not be the best indicators of `price`, land `area` (calculated as `depth` x `width`) could be a stronger feature.\n",
        "\n",
        "| LandID | Width (m) | Depth (m) | Area (m²) | Price ($) |\n",
        "|:------:|:---------:|:---------:|:---------:|:---------:|\n",
        "| 1 | 10 | 20 | 200 | 2000 |\n",
        "| 2 | 20 | 15 | 300 | 3000 |\n",
        "| 3 | 15 | 20 | 300 | 2500 |\n",
        "| 4 | 10 | 12 | 120 | 1200 |\n",
        "| 5 | 12 | 15 | 180 | 2250 |\n",
        "\n",
        "In certain situations, raw features as given in the dataset might not have a clear and direct relationship with the target variable. In the example of predicting land `price`, it’s possible that neither the `depth` nor the `width` of the land independently has a strong predictable effect on the `price`.\n",
        "\n",
        "However, when you combine them into a single feature (the total area, which is `depth` multiplied by `width`), you can create a new representation of your data that might have a better correlation or association with the target variable (`price`, in this case). It's common that a property, such as area here, can have more correlation to `price` than either `width` or `depth` individually.\n",
        "\n",
        "In other words, even though the `width` and `depth` independently may not be good predictors, their product (which represents the total area) might prove to be a very good predictor. This can be understood intuitively too - larger lands (greater area) usually cost more.\n",
        "\n",
        "This process of creating new and more effective features is a key part of feature engineering. Good feature engineering can often make the difference between a weak model and a highly accurate one. It's an essential step in any machine learning project and often requires knowledge about the domain from which the data originates\n",
        "\n",
        "Now with the new feature, the Machine Learning model will look like this:\n",
        "\n",
        "$$ f(\\vec{x}) = w_{1}x_{1} + w_{2}x_{2} + w_{3}x_{3} + b$$\n",
        "\n",
        "#### Why Feature Engineering important in Linear Regression\n",
        "\n",
        "Linear regression aims to establish a linear relationship between the input variables (features) and the single output variable (target). Feature engineering aids in improving this relationship, leading to more accurate models. Good features capture important aspects of the data and provide information that helps the model make correct predictions.\n",
        "\n",
        "When it comes to linear regression, the importance of feature engineering arises from the fact that the model is quite simple. The model assumes a simple linear relationship between input and outputs. If the features can capture complex dependencies in simple forms, the model has a much easier time learning from them.\n",
        "\n",
        "It is also important to note that feature engineering often requires domain knowledge. In the land-price example, knowing that land price is often a function of total area is key to creating the \"area\" feature from the original \"width\" and \"depth\" features. As such, while Machine Learning provides many powerful tools, domain expertise is often key to applying these tools effectively.\n",
        "\n",
        "Here are some common methods used in feature engineering:\n",
        "\n",
        "1. **Feature scaling**: This includes methods such as standardization and normalization. Feature scaling is used to standardize the range of features of data. This is important because features might have different units and may vary in range. Some algorithms, like gradient descent, converge faster when features are on a similar scale.\n",
        "\n",
        "2. **Polynomial features**: This is useful when the relationship between the independent and dependent variable is not linear. Polynomial features create interactions between features and also create features to the power of the exponent. For example, if we have a feature $x$, we can create a new feature that is $x^2$ or $x^3$."
      ]
    },
    {
      "cell_type": "markdown",
      "metadata": {
        "id": "yWz_2IPk_wBj"
      },
      "source": [
        "### Feature Scalling --> akan berdampak sama metode2 ML berbasis jarak (KNN, SVM, neural networks)\n",
        "--> Model ML selain itu decision tree, random forest\n",
        "\n",
        "Feature Scalling is a **technique that will enable gradient descent (the algorithm behind `model.fit`) to run much faster**. Feature scaling is a step in data preprocessing that aims to standardize the range of features in the data. When the range of values in different features varies greatly, the ML algorithm might take longer to converge, or it may not effectively learn the correct weights for each feature.\n",
        "\n",
        "Two common types of feature scaling are:\n",
        "- **Mean Normalization**\n",
        "- **Standardization (Z-score Scaling)**\n",
        "\n",
        "> Notes: To find out what gradient descent is, it will be discussed in the next material."
      ]
    },
    {
      "cell_type": "markdown",
      "metadata": {
        "id": "IWP4FtLo_wBj"
      },
      "source": [
        "#### Mean Normalization --> MinMaxScaler\n",
        "\n",
        "This method centers the data around 0. It scales the data between -1 and 1 by subtracting each observation by the average of observations and then dividing by the difference between the maximum and minimum value.\n",
        "\n",
        "$$x_i := \\dfrac{x_i - \\mu_i}{max - min} $$\n",
        "\n",
        "So, when do we use it? Mean Normalization is used when we want to center our variables around zero and vary between -1 and 1. Mean normalization can be useful in cases where we want to eliminate the effect of the units on an algorithm. It's particularly good when our data has outliers, as mean normalization does not bound values to a specific range.\n",
        "\n",
        "Below is a Python example to illustrate this:"
      ]
    },
    {
      "cell_type": "markdown",
      "source": [
        "-1 sampai 1\n",
        "memusatkan data kita distribusi di angka 0"
      ],
      "metadata": {
        "id": "IhZN1g1GaILW"
      }
    },
    {
      "cell_type": "code",
      "execution_count": null,
      "metadata": {
        "id": "f7cEo0QY_wBj",
        "outputId": "d251506a-7f01-4a80-d798-f43c965f71e5"
      },
      "outputs": [
        {
          "name": "stdout",
          "output_type": "stream",
          "text": [
            "Mean Normalized data:\n",
            "[[ 0.18518519 -0.48148148  0.51851852]\n",
            " [ 0.51851852 -0.14814815 -0.14814815]\n",
            " [-0.14814815  0.18518519 -0.48148148]]\n"
          ]
        }
      ],
      "source": [
        "import numpy as np\n",
        "\n",
        "# Here is an array with some numbers\n",
        "x = np.array([\n",
        "    [650, 2, 1, 15],\n",
        "    [760, 3, 2, 5],\n",
        "    [1200, 4, 3, 10],\n",
        "    [720, 2, 1, 7],\n",
        "    [975, 3, 2, 12],\n",
        "    [1075, 3, 2, 3],\n",
        "    [900, 3, 2, 8],\n",
        "    [1150, 4, 3, 10],\n",
        "    [860, 2, 2, 15],\n",
        "    [1325, 4, 3, 1]\n",
        "], dtype=float)\n",
        "\n",
        "# Mean normalization\n",
        "x_mean_norm = (x - np.mean(x)) / (np.max(x) - np.min(x))\n",
        "print('Mean Normalized data:')\n",
        "print(x_mean_norm)"
      ]
    },
    {
      "cell_type": "markdown",
      "metadata": {
        "id": "AM5VoTYi_wBj"
      },
      "source": [
        "#### Standardization (Z-score Scaling)\n",
        "\n",
        "This method transform the feature to have a mean of 0 and standard deviation of 1 by subtracting each value by the mean and then dividing by the standard deviation.\n",
        "\n",
        "Why do we use standardization? If a feature in our dataset has a variance that is orders of magnitude larger than others, it might dominate the objective function and make the estimator unable to learn from other features correctly, leading to sub-optimal performance. Standardization mitigates this issue.\n",
        "\n",
        "To implement z-score normalization, adjust our input values as shown in this formula:\n",
        "$$x^{(i)}_j = \\dfrac{x^{(i)}_j - \\mu_j}{\\sigma_j}$$\n",
        "where $j$ selects a feature or a column in the $\\mathbf{X}$ matrix. $µ_j$ is the mean of all the values for feature (j) and $\\sigma_j$ is the standard deviation of feature (j).\n",
        "$$\n",
        "\\begin{align}\n",
        "\\mu_j &= \\frac{1}{m} \\sum_{i=0}^{m-1} x^{(i)}_j\\\\\n",
        "\\sigma^2_j &= \\frac{1}{m} \\sum_{i=0}^{m-1} (x^{(i)}_j - \\mu_j)^2\n",
        "\\end{align}\n",
        "$$\n",
        "\n",
        "Here's an illustrative Python example using `sklearn` library's `StandardScaler`:"
      ]
    },
    {
      "cell_type": "code",
      "execution_count": null,
      "metadata": {
        "id": "WMvMrHx1_wBj",
        "outputId": "d5427d3c-41da-4402-d079-09ff63d78647"
      },
      "outputs": [
        {
          "name": "stdout",
          "output_type": "stream",
          "text": [
            "Standardized data:\n",
            "[[ 0.         -1.22474487  1.33630621]\n",
            " [ 1.22474487  0.         -0.26726124]\n",
            " [-1.22474487  1.22474487 -1.06904497]]\n"
          ]
        }
      ],
      "source": [
        "from sklearn.preprocessing import StandardScaler\n",
        "import numpy as np\n",
        "\n",
        "# Here is an array with some random numbers\n",
        "x = np.array([\n",
        "    [650, 2, 1, 15],\n",
        "    [760, 3, 2, 5],\n",
        "    [1200, 4, 3, 10],\n",
        "    [720, 2, 1, 7],\n",
        "    [975, 3, 2, 12],\n",
        "    [1075, 3, 2, 3],\n",
        "    [900, 3, 2, 8],\n",
        "    [1150, 4, 3, 10],\n",
        "    [860, 2, 2, 15],\n",
        "    [1325, 4, 3, 1]\n",
        "], dtype=float)\n",
        "\n",
        "# Standardization\n",
        "std_scaler = StandardScaler()\n",
        "x_std = std_scaler.fit_transform(x)\n",
        "\n",
        "print('Standardized data:')\n",
        "print(x_std)"
      ]
    },
    {
      "cell_type": "markdown",
      "metadata": {
        "id": "ojlMgW5s_wBl"
      },
      "source": [
        "The output dimensions of standardization do not have a particular range, which means the data can be negative, zero, or positive. This kind of scaling is less affected by outliers or extreme values as it is based on the mean and standard deviation."
      ]
    },
    {
      "cell_type": "markdown",
      "metadata": {
        "id": "w6UdI4n0_wBl"
      },
      "source": [
        "#### Rule of Thumb Feature Scaling\n",
        "\n",
        "| Feature Range | Status |\n",
        "|:----------------------------:|:--------------------:|\n",
        "| 0 $ \\le x_1 \\le $ 3          | ok, no rescaling     |\n",
        "| -2 $ \\le x_2 \\le $ 0.5       | ok, no rescaling     |\n",
        "| -100 $ \\le x_3 \\le $ 100     | too large, rescaling |\n",
        "| -0.001 $ \\le x_4 \\le $ 0.001 | too small, rescaling |\n",
        "\n"
      ]
    },
    {
      "cell_type": "markdown",
      "metadata": {
        "id": "k3HxCW5l_wBl"
      },
      "source": [
        "### Polynomial Regression\n",
        "\n",
        "Now, we have learned that linear regression algorithm can find a linear line that best fits the data. But, what if the data is not linear? What if the data is curved?\n",
        "\n",
        "**Polynomial Regression** is a form of regression analysis in which the relationship between the independent variable $x$ and the dependent variable $y$ is modeled as an nth degree polynomial. Polynomial regression fits a nonlinear relationship between the value of $x$ and the corresponding conditional mean of $y$.\n",
        "\n",
        "For example, a simple linear regression equation represent like this:\n",
        "$$ f(x) = wx + b$$\n",
        "\n",
        "However, in polynomial regression, you might have an equation that looks like this for a second degree (quadratic) polynomial:\n",
        "\n",
        "$$f(x)= w_0{x_0}^2 + b$$\n",
        "\n",
        "This equation is still linear in the coefficients. The linearity in polynomial regression applies to the coefficients, and not the degree of the variables.\n",
        "\n",
        "Polynomial regression can be very useful. When a linear regression model is not sufficient to capture the data relationships, it can be extended with polynomial features."
      ]
    },
    {
      "cell_type": "markdown",
      "metadata": {
        "id": "7mlxKFh8_wBl"
      },
      "source": [
        "Let's consider a simple case study. Imagine we are running a small business selling ice cream. We notice that the sales of our ice cream seems to be heavily influenced by the temperature outside.\n",
        "\n",
        "Let's say we've collected the following data regarding outside temperature (in Celsius) and ice cream sales for a few days:\n",
        "\n",
        "| Temperature (In Celsius) ($x$) | Ice Cream Sales ($y$) |\n",
        "|:---------------:|:-------------------:|\n",
        "| 14              | 200                 |\n",
        "| 16              | 225                 |\n",
        "| 18              | 255                 |\n",
        "| 20              | 290                 |\n",
        "| 22              | 330                 |\n",
        "| 24              | 370                 |\n",
        "| 26              | 410                 |\n",
        "| 28              | 440                 |\n",
        "| 30              | 460                 |\n",
        "| 32              | 470                 |\n",
        "| 34              | 480                 |\n",
        "| 36              | 485                 |\n",
        "| 37              | 490                 |"
      ]
    },
    {
      "cell_type": "code",
      "execution_count": null,
      "metadata": {
        "id": "AXwVxDby_wBl"
      },
      "outputs": [],
      "source": [
        "import numpy as np\n",
        "\n",
        "x_train = np.array([14, 16, 18, 20, 22, 24, 26, 28, 30, 32, 34, 36, 37])\n",
        "y_train = np.array([200, 225, 255, 290, 330, 370, 410, 440, 460, 470, 480, 485, 490])"
      ]
    },
    {
      "cell_type": "markdown",
      "metadata": {
        "id": "j8Lqw4Hl_wBl"
      },
      "source": [
        "We're going to visualize our data first to get a better understanding"
      ]
    },
    {
      "cell_type": "code",
      "execution_count": null,
      "metadata": {
        "id": "W-EEXz7P_wBl",
        "outputId": "def7e0bf-b452-4306-c7f7-c4882a857215"
      },
      "outputs": [
        {
          "data": {
            "image/png": "[encoded data removed]",
            "text/plain": [
              "<Figure size 640x480 with 1 Axes>"
            ]
          },
          "metadata": {},
          "output_type": "display_data"
        }
      ],
      "source": [
        "import matplotlib.pyplot as plt\n",
        "\n",
        "plt.scatter(x_train, y_train)\n",
        "plt.xlabel('Temperature in Celsius')\n",
        "plt.ylabel('Ice Cream Sales')\n",
        "plt.title('Ice Cream Sales vs Temperature')\n",
        "plt.show()"
      ]
    },
    {
      "cell_type": "markdown",
      "metadata": {
        "id": "qp3DYfs4_wBl"
      },
      "source": [
        "Our data appears to show a non-linear trend (increases, then decreases). So, we decided to use quadratic Polynomial Regression to model this data. In this case we will use the `sklearn` library. `sklearn` itself provides the `PolynomialFeatures` class in the `sklearn.preprocessing` module.\n",
        "\n",
        "The `PolynomialFeatures` class in the `sklearn.preprocessing` module is a feature transformation tool in Scikit-learn. It generates a new matrix consisting of all polynomial combinations of the features with degree less than or equal to the specified degree.\n",
        "\n",
        "If we have one feature (`x`), `PolynomialFeatures` would transform this based on the degree parameter. For a degree of 2, it would transform it to [1, `x`, `x`^2]. For a degree of 3, it would transform it to [1, `x`, `x`^2, `x`^3] and so on. The 1 is included as it acts as the intercept term.\n",
        "\n",
        "Here's an example of how to use `PolynomialFeatures`:"
      ]
    },
    {
      "cell_type": "code",
      "execution_count": null,
      "metadata": {
        "id": "XqDOS4SA_wBm",
        "outputId": "55862156-5e3c-4381-df18-4968e7a5f61a"
      },
      "outputs": [
        {
          "data": {
            "image/png": "[encoded data removed]",
            "text/plain": [
              "<Figure size 640x480 with 1 Axes>"
            ]
          },
          "metadata": {},
          "output_type": "display_data"
        }
      ],
      "source": [
        "from sklearn.preprocessing import PolynomialFeatures\n",
        "import numpy as np\n",
        "\n",
        "# Given a simple 2D numpy array\n",
        "X = np.arange(6).reshape(3, 2)\n",
        "print(\"Original Data:\")\n",
        "print(X)\n",
        "\n",
        "# Create a PolynomialFeatures object and transform the data\n",
        "poly = PolynomialFeatures(2) # let's choose degree 2\n",
        "X_poly = poly.fit_transform(X)\n",
        "\n",
        "print(\"Transformed Data:\")\n",
        "print(X_poly)"
      ]
    },
    {
      "cell_type": "markdown",
      "metadata": {
        "id": "eGIEJ6tU_wBm"
      },
      "source": [
        "Now, we return to our case example."
      ]
    },
    {
      "cell_type": "markdown",
      "source": [],
      "metadata": {
        "id": "OqdDDpaDdqNH"
      }
    },
    {
      "cell_type": "code",
      "source": [
        "data = [0,2,1,2,3,3,4]"
      ],
      "metadata": {
        "id": "3tka5yiVdqu3"
      },
      "execution_count": null,
      "outputs": []
    },
    {
      "cell_type": "code",
      "source": [
        "data[-1]"
      ],
      "metadata": {
        "colab": {
          "base_uri": "https://localhost:8080/"
        },
        "id": "oOBydD2pdxCQ",
        "outputId": "f89ff1c8-3bb4-4f85-b0c5-f6e1cf07b83f"
      },
      "execution_count": null,
      "outputs": [
        {
          "output_type": "execute_result",
          "data": {
            "text/plain": [
              "4"
            ]
          },
          "metadata": {},
          "execution_count": 38
        }
      ]
    },
    {
      "cell_type": "code",
      "source": [
        "PCA --> mereduksi features\n",
        "11 features --> 2 features --> ada informasi yang hilang (-)"
      ],
      "metadata": {
        "id": "92Y_V6b8fJt5"
      },
      "execution_count": null,
      "outputs": []
    },
    {
      "cell_type": "code",
      "execution_count": null,
      "metadata": {
        "colab": {
          "base_uri": "https://localhost:8080/",
          "height": 472
        },
        "id": "cGUmshMv_wBm",
        "outputId": "835830cb-ce0d-4be4-db4b-8728a5e535c7"
      },
      "outputs": [
        {
          "output_type": "display_data",
          "data": {
            "text/plain": [
              "<Figure size 640x480 with 1 Axes>"
            ],
            "image/png": "[encoded data removed]"
          },
          "metadata": {}
        }
      ],
      "source": [
        "from sklearn.preprocessing import PolynomialFeatures\n",
        "from sklearn.linear_model import LinearRegression\n",
        "\n",
        "# Transform our x input to 1D array for fitting\n",
        "x_train_fit = x_train.reshape(-1, 1)\n",
        "\n",
        "# Create Polynomial Features\n",
        "poly = PolynomialFeatures(degree=[2, 6])\n",
        "x_poly = poly.fit_transform(x_train_fit)\n",
        "\n",
        "# Fit the Polynomial Features to the Linear Regression\n",
        "poly_model = LinearRegression()\n",
        "poly_model.fit(x_poly, y_train)\n",
        "\n",
        "# Generate a sequence of temperatures for prediction\n",
        "num_samples = 100\n",
        "X_seq = np.linspace(x_train_fit.min(),x_train_fit.max(),num_samples).reshape(-1,1)\n",
        "\n",
        "# Use model to predict ice cream sales\n",
        "y_poly_pred = poly_model.predict(poly.fit_transform(X_seq))\n",
        "\n",
        "# Visualize the original data and the polynomial fit\n",
        "plt.scatter(x_train, y_train)\n",
        "plt.plot(X_seq, y_poly_pred, color='r')\n",
        "plt.xlabel('Temperature in Celsius')\n",
        "plt.ylabel('Ice Cream Sales')\n",
        "plt.title('Ice Cream Sales vs Temperature')\n",
        "plt.show()"
      ]
    },
    {
      "cell_type": "markdown",
      "metadata": {
        "id": "4dLbEJPD_wBm"
      },
      "source": [
        "Now we have a model that not only fits our training data but can predict the ice cream sales at any given temperature, which will help in managing our ice cream supply based on predicted sales."
      ]
    }
  ],
  "metadata": {
    "kernelspec": {
      "display_name": "Python 3 (ipykernel)",
      "language": "python",
      "name": "python3"
    },
    "language_info": {
      "codemirror_mode": {
        "name": "ipython",
        "version": 3
      },
      "file_extension": ".py",
      "mimetype": "text/x-python",
      "name": "python",
      "nbconvert_exporter": "python",
      "pygments_lexer": "ipython3",
      "version": "3.11.3"
    },
    "colab": {
      "provenance": []
    },
    "widgets": {
      "application/vnd.jupyter.widget-state+json": {
        "3c5adca7055a4826b49a6d9e232a9899": {
          "model_module": "@jupyter-widgets/controls",
          "model_name": "VBoxModel",
          "model_module_version": "1.5.0",
          "state": {
            "_dom_classes": [
              "widget-interact"
            ],
            "_model_module": "@jupyter-widgets/controls",
            "_model_module_version": "1.5.0",
            "_model_name": "VBoxModel",
            "_view_count": null,
            "_view_module": "@jupyter-widgets/controls",
            "_view_module_version": "1.5.0",
            "_view_name": "VBoxView",
            "box_style": "",
            "children": [
              "IPY_MODEL_850abb947a1a4a9baf19ba2d41817098",
              "IPY_MODEL_f823f757b12948c5994e2aee3e851cf7",
              "IPY_MODEL_cab021225acd46bf9bffca68c1b1577c"
            ],
            "layout": "IPY_MODEL_332db1483e23496aa2791a2491208382"
          }
        },
        "850abb947a1a4a9baf19ba2d41817098": {
          "model_module": "@jupyter-widgets/controls",
          "model_name": "FloatSliderModel",
          "model_module_version": "1.5.0",
          "state": {
            "_dom_classes": [],
            "_model_module": "@jupyter-widgets/controls",
            "_model_module_version": "1.5.0",
            "_model_name": "FloatSliderModel",
            "_view_count": null,
            "_view_module": "@jupyter-widgets/controls",
            "_view_module_version": "1.5.0",
            "_view_name": "FloatSliderView",
            "continuous_update": true,
            "description": "a:",
            "description_tooltip": null,
            "disabled": false,
            "layout": "IPY_MODEL_267d3f933b894600a1f060acbdc3bcab",
            "max": 10,
            "min": 0,
            "orientation": "horizontal",
            "readout": true,
            "readout_format": ".2f",
            "step": 0.1,
            "style": "IPY_MODEL_23c5d6f5daac45af9f7f5003b46c13b1",
            "value": 4.4
          }
        },
        "f823f757b12948c5994e2aee3e851cf7": {
          "model_module": "@jupyter-widgets/controls",
          "model_name": "FloatSliderModel",
          "model_module_version": "1.5.0",
          "state": {
            "_dom_classes": [],
            "_model_module": "@jupyter-widgets/controls",
            "_model_module_version": "1.5.0",
            "_model_name": "FloatSliderModel",
            "_view_count": null,
            "_view_module": "@jupyter-widgets/controls",
            "_view_module_version": "1.5.0",
            "_view_name": "FloatSliderView",
            "continuous_update": true,
            "description": "b:",
            "description_tooltip": null,
            "disabled": false,
            "layout": "IPY_MODEL_077d1138e7744b849c478afefe1309ca",
            "max": 10,
            "min": 0,
            "orientation": "horizontal",
            "readout": true,
            "readout_format": ".2f",
            "step": 0.1,
            "style": "IPY_MODEL_afa130be48de4625b549eb68e293bbf9",
            "value": 2.3
          }
        },
        "cab021225acd46bf9bffca68c1b1577c": {
          "model_module": "@jupyter-widgets/output",
          "model_name": "OutputModel",
          "model_module_version": "1.0.0",
          "state": {
            "_dom_classes": [],
            "_model_module": "@jupyter-widgets/output",
            "_model_module_version": "1.0.0",
            "_model_name": "OutputModel",
            "_view_count": null,
            "_view_module": "@jupyter-widgets/output",
            "_view_module_version": "1.0.0",
            "_view_name": "OutputView",
            "layout": "IPY_MODEL_67761508b660431db20dd073f1cd22ea",
            "msg_id": "",
            "outputs": [
              {
                "output_type": "display_data",
                "data": {
                  "text/plain": "<Figure size 640x480 with 1 Axes>",
                  "image/png": "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\n"
                },
                "metadata": {}
              }
            ]
          }
        },
        "332db1483e23496aa2791a2491208382": {
          "model_module": "@jupyter-widgets/base",
          "model_name": "LayoutModel",
          "model_module_version": "1.2.0",
          "state": {
            "_model_module": "@jupyter-widgets/base",
            "_model_module_version": "1.2.0",
            "_model_name": "LayoutModel",
            "_view_count": null,
            "_view_module": "@jupyter-widgets/base",
            "_view_module_version": "1.2.0",
            "_view_name": "LayoutView",
            "align_content": null,
            "align_items": null,
            "align_self": null,
            "border": null,
            "bottom": null,
            "display": null,
            "flex": null,
            "flex_flow": null,
            "grid_area": null,
            "grid_auto_columns": null,
            "grid_auto_flow": null,
            "grid_auto_rows": null,
            "grid_column": null,
            "grid_gap": null,
            "grid_row": null,
            "grid_template_areas": null,
            "grid_template_columns": null,
            "grid_template_rows": null,
            "height": null,
            "justify_content": null,
            "justify_items": null,
            "left": null,
            "margin": null,
            "max_height": null,
            "max_width": null,
            "min_height": null,
            "min_width": null,
            "object_fit": null,
            "object_position": null,
            "order": null,
            "overflow": null,
            "overflow_x": null,
            "overflow_y": null,
            "padding": null,
            "right": null,
            "top": null,
            "visibility": null,
            "width": null
          }
        },
        "267d3f933b894600a1f060acbdc3bcab": {
          "model_module": "@jupyter-widgets/base",
          "model_name": "LayoutModel",
          "model_module_version": "1.2.0",
          "state": {
            "_model_module": "@jupyter-widgets/base",
            "_model_module_version": "1.2.0",
            "_model_name": "LayoutModel",
            "_view_count": null,
            "_view_module": "@jupyter-widgets/base",
            "_view_module_version": "1.2.0",
            "_view_name": "LayoutView",
            "align_content": null,
            "align_items": null,
            "align_self": null,
            "border": null,
            "bottom": null,
            "display": null,
            "flex": null,
            "flex_flow": null,
            "grid_area": null,
            "grid_auto_columns": null,
            "grid_auto_flow": null,
            "grid_auto_rows": null,
            "grid_column": null,
            "grid_gap": null,
            "grid_row": null,
            "grid_template_areas": null,
            "grid_template_columns": null,
            "grid_template_rows": null,
            "height": null,
            "justify_content": null,
            "justify_items": null,
            "left": null,
            "margin": null,
            "max_height": null,
            "max_width": null,
            "min_height": null,
            "min_width": null,
            "object_fit": null,
            "object_position": null,
            "order": null,
            "overflow": null,
            "overflow_x": null,
            "overflow_y": null,
            "padding": null,
            "right": null,
            "top": null,
            "visibility": null,
            "width": null
          }
        },
        "23c5d6f5daac45af9f7f5003b46c13b1": {
          "model_module": "@jupyter-widgets/controls",
          "model_name": "SliderStyleModel",
          "model_module_version": "1.5.0",
          "state": {
            "_model_module": "@jupyter-widgets/controls",
            "_model_module_version": "1.5.0",
            "_model_name": "SliderStyleModel",
            "_view_count": null,
            "_view_module": "@jupyter-widgets/base",
            "_view_module_version": "1.2.0",
            "_view_name": "StyleView",
            "description_width": "",
            "handle_color": null
          }
        },
        "077d1138e7744b849c478afefe1309ca": {
          "model_module": "@jupyter-widgets/base",
          "model_name": "LayoutModel",
          "model_module_version": "1.2.0",
          "state": {
            "_model_module": "@jupyter-widgets/base",
            "_model_module_version": "1.2.0",
            "_model_name": "LayoutModel",
            "_view_count": null,
            "_view_module": "@jupyter-widgets/base",
            "_view_module_version": "1.2.0",
            "_view_name": "LayoutView",
            "align_content": null,
            "align_items": null,
            "align_self": null,
            "border": null,
            "bottom": null,
            "display": null,
            "flex": null,
            "flex_flow": null,
            "grid_area": null,
            "grid_auto_columns": null,
            "grid_auto_flow": null,
            "grid_auto_rows": null,
            "grid_column": null,
            "grid_gap": null,
            "grid_row": null,
            "grid_template_areas": null,
            "grid_template_columns": null,
            "grid_template_rows": null,
            "height": null,
            "justify_content": null,
            "justify_items": null,
            "left": null,
            "margin": null,
            "max_height": null,
            "max_width": null,
            "min_height": null,
            "min_width": null,
            "object_fit": null,
            "object_position": null,
            "order": null,
            "overflow": null,
            "overflow_x": null,
            "overflow_y": null,
            "padding": null,
            "right": null,
            "top": null,
            "visibility": null,
            "width": null
          }
        },
        "afa130be48de4625b549eb68e293bbf9": {
          "model_module": "@jupyter-widgets/controls",
          "model_name": "SliderStyleModel",
          "model_module_version": "1.5.0",
          "state": {
            "_model_module": "@jupyter-widgets/controls",
            "_model_module_version": "1.5.0",
            "_model_name": "SliderStyleModel",
            "_view_count": null,
            "_view_module": "@jupyter-widgets/base",
            "_view_module_version": "1.2.0",
            "_view_name": "StyleView",
            "description_width": "",
            "handle_color": null
          }
        },
        "67761508b660431db20dd073f1cd22ea": {
          "model_module": "@jupyter-widgets/base",
          "model_name": "LayoutModel",
          "model_module_version": "1.2.0",
          "state": {
            "_model_module": "@jupyter-widgets/base",
            "_model_module_version": "1.2.0",
            "_model_name": "LayoutModel",
            "_view_count": null,
            "_view_module": "@jupyter-widgets/base",
            "_view_module_version": "1.2.0",
            "_view_name": "LayoutView",
            "align_content": null,
            "align_items": null,
            "align_self": null,
            "border": null,
            "bottom": null,
            "display": null,
            "flex": null,
            "flex_flow": null,
            "grid_area": null,
            "grid_auto_columns": null,
            "grid_auto_flow": null,
            "grid_auto_rows": null,
            "grid_column": null,
            "grid_gap": null,
            "grid_row": null,
            "grid_template_areas": null,
            "grid_template_columns": null,
            "grid_template_rows": null,
            "height": null,
            "justify_content": null,
            "justify_items": null,
            "left": null,
            "margin": null,
            "max_height": null,
            "max_width": null,
            "min_height": null,
            "min_width": null,
            "object_fit": null,
            "object_position": null,
            "order": null,
            "overflow": null,
            "overflow_x": null,
            "overflow_y": null,
            "padding": null,
            "right": null,
            "top": null,
            "visibility": null,
            "width": null
          }
        }
      }
    }
  },
  "nbformat": 4,
  "nbformat_minor": 0
}