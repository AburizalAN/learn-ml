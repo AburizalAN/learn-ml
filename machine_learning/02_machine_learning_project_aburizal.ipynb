{
  "cells": [
    {
      "cell_type": "markdown",
      "id": "3ccb0b85-67c6-4dfe-a6f9-138bb5e778ab",
      "metadata": {
        "id": "3ccb0b85-67c6-4dfe-a6f9-138bb5e778ab"
      },
      "source": [
        "# Project: Machine Learning\n"
      ]
    },
    {
      "cell_type": "markdown",
      "id": "911a145c-7d01-4210-9699-0e1fef80ff19",
      "metadata": {
        "id": "911a145c-7d01-4210-9699-0e1fef80ff19"
      },
      "source": [
        "**Instructions for Students:**\n",
        "\n",
        "Please carefully follow these steps to complete and submit your project:\n",
        "\n",
        "1. **Completing the Project**: You are required to work on and complete all tasks in the provided project. Be disciplined and ensure that you thoroughly engage with each task.\n",
        "2. **Creating a Google Drive Folder**: Each of you must create a new folder on your Google Drive if you haven't already. This will be the repository for all your completed assignment and project files, aiding you in keeping your work organized and accessible.\n",
        "3. **Uploading Completed Project**: Upon completion of your project, make sure to upload all necessary files, involving codes, reports, and related documents into the created Google Drive folder. Save this link in the 'Student Identity' section and also provide it as the last parameter in the `submit` function that has been provided.\n",
        "4. **Sharing Folder Link**: You're required to share the link to your project Google Drive folder. This is crucial for the submission and evaluation of your project.\n",
        "5. **Setting Permission toPublic**: Please make sure your Google Drive folder is set to public. This allows your instructor to access your solutions and assess your work correctly.\n",
        "\n",
        "Adhering to these procedures will facilitate a smooth project evaluation process for you and the reviewers.\n"
      ]
    },
    {
      "cell_type": "markdown",
      "id": "8018f21d-d661-4ae4-a50d-9fb66feb291d",
      "metadata": {
        "id": "8018f21d-d661-4ae4-a50d-9fb66feb291d"
      },
      "source": [
        "## Student Identity\n"
      ]
    },
    {
      "cell_type": "code",
      "execution_count": 1,
      "id": "9fc57472-0432-474a-b1f7-c825edfc007a",
      "metadata": {
        "colab": {
          "base_uri": "https://localhost:8080/"
        },
        "id": "9fc57472-0432-474a-b1f7-c825edfc007a",
        "outputId": "35c14017-9088-430d-e646-5ab7e3294796"
      },
      "outputs": [
        {
          "name": "stdout",
          "output_type": "stream",
          "text": [
            "Collecting rggrader\n",
            "  Downloading rggrader-0.1.6-py3-none-any.whl.metadata (485 bytes)\n",
            "Requirement already satisfied: requests in c:\\users\\aburi\\documents\\aburizalan\\learn-ml\\my_venv\\lib\\site-packages (from rggrader) (2.31.0)\n",
            "Requirement already satisfied: pandas in c:\\users\\aburi\\documents\\aburizalan\\learn-ml\\my_venv\\lib\\site-packages (from rggrader) (2.1.4)\n",
            "Requirement already satisfied: Pillow in c:\\users\\aburi\\documents\\aburizalan\\learn-ml\\my_venv\\lib\\site-packages (from rggrader) (10.1.0)\n",
            "Requirement already satisfied: numpy<2,>=1.26.0 in c:\\users\\aburi\\documents\\aburizalan\\learn-ml\\my_venv\\lib\\site-packages (from pandas->rggrader) (1.26.2)\n",
            "Requirement already satisfied: python-dateutil>=2.8.2 in c:\\users\\aburi\\documents\\aburizalan\\learn-ml\\my_venv\\lib\\site-packages (from pandas->rggrader) (2.8.2)\n",
            "Requirement already satisfied: pytz>=2020.1 in c:\\users\\aburi\\documents\\aburizalan\\learn-ml\\my_venv\\lib\\site-packages (from pandas->rggrader) (2023.3.post1)\n",
            "Requirement already satisfied: tzdata>=2022.1 in c:\\users\\aburi\\documents\\aburizalan\\learn-ml\\my_venv\\lib\\site-packages (from pandas->rggrader) (2023.3)\n",
            "Requirement already satisfied: charset-normalizer<4,>=2 in c:\\users\\aburi\\documents\\aburizalan\\learn-ml\\my_venv\\lib\\site-packages (from requests->rggrader) (3.3.2)\n",
            "Requirement already satisfied: idna<4,>=2.5 in c:\\users\\aburi\\documents\\aburizalan\\learn-ml\\my_venv\\lib\\site-packages (from requests->rggrader) (3.6)\n",
            "Requirement already satisfied: urllib3<3,>=1.21.1 in c:\\users\\aburi\\documents\\aburizalan\\learn-ml\\my_venv\\lib\\site-packages (from requests->rggrader) (2.1.0)\n",
            "Requirement already satisfied: certifi>=2017.4.17 in c:\\users\\aburi\\documents\\aburizalan\\learn-ml\\my_venv\\lib\\site-packages (from requests->rggrader) (2023.11.17)\n",
            "Requirement already satisfied: six>=1.5 in c:\\users\\aburi\\documents\\aburizalan\\learn-ml\\my_venv\\lib\\site-packages (from python-dateutil>=2.8.2->pandas->rggrader) (1.16.0)\n",
            "Downloading rggrader-0.1.6-py3-none-any.whl (2.5 kB)\n",
            "Installing collected packages: rggrader\n",
            "Successfully installed rggrader-0.1.6\n"
          ]
        }
      ],
      "source": [
        "# @title #### Student Identity\n",
        "student_id = \"REAEAYH8\" # @param {type:\"string\"}\n",
        "name = \"Aburizal Adi Nugroho\" # @param {type:\"string\"}\n",
        "drive_link = \"https://drive.google.com/drive/folders/1pRIbA2Zphrtg_TS5N0ypHHTXkUBs50tI?usp=drive_link\"  # @param {type:\"string\"}\n",
        "\n",
        "assignment_id = \"00_ml_project\"\n",
        "\n",
        "# Import grader package\n",
        "!pip install rggrader\n",
        "from rggrader import submit, submit_image"
      ]
    },
    {
      "cell_type": "markdown",
      "id": "d3b9e0f7-75d2-476a-9b29-07c1a3800925",
      "metadata": {
        "id": "d3b9e0f7-75d2-476a-9b29-07c1a3800925"
      },
      "source": [
        "## Project Description\n",
        "\n",
        "In this Machine Learning Project, you will create your own supervised Machine Learning (ML) model. We will use the full FIFA21 Dataset and we will identify players that are above average.\n",
        "\n",
        "We will use the column \"Overall\" with a treshold of 75 to define players that are 'Valuable'. This will become our target output which we need for a supervised ML model. Because we use the \"Overall\" as our target output, you cannot use \"Overall\" in your features, this will be explained further below.\n",
        "\n",
        "This project will provide a comprehensive overview of your abilities in machine learning, from understanding the problem, choosing the right model, training, and optimizing it.\n"
      ]
    },
    {
      "cell_type": "markdown",
      "id": "84fea308-2c09-472c-a5ec-e4ba0900d496",
      "metadata": {
        "id": "84fea308-2c09-472c-a5ec-e4ba0900d496"
      },
      "source": [
        "## Grading Criteria\n",
        "\n",
        "Your score will be awarded based on the following criteria:\n",
        "\n",
        "- 100: The model has an accuracy of more than 80% and an F1 score of more than 85%. This model is excellent and demonstrates a strong understanding of the task.\n",
        "- 90: The model has an accuracy of more than 75% and an F1 score of more than 80%. This model is very good, with some room for improvement.\n",
        "- 80: The model has an accuracy of more than 70% and an F1 score between 70% and 80%. This model is fairly good but needs improvement in balancing precision and recall.\n",
        "- 70: The model has an accuracy of more than 65% and an F1 score between 60% and 70%. This model is below average and needs significant improvement.\n",
        "- 60 or below: The model has an accuracy of less than 65% or an F1 score of less than 60%, or the student did not submit the accuracy and F1 score. This model is poor and needs considerable improvement.\n"
      ]
    },
    {
      "cell_type": "markdown",
      "id": "915df21b-3a7e-444a-999d-c830acdbe7f2",
      "metadata": {
        "id": "915df21b-3a7e-444a-999d-c830acdbe7f2"
      },
      "source": [
        "Rmember to make a copy of this notebook in your Google Drive and work in your own copy.\n",
        "\n",
        "Happy modeling!\n",
        "\n",
        "> Note: If you get the accuracy of 100% and F1 score of 100%, while it may earn you good grades, it's an indication of overfitting.\n"
      ]
    },
    {
      "cell_type": "code",
      "execution_count": 1,
      "id": "62606ca1-5868-4c65-93ef-1d6ee8d8d59a",
      "metadata": {
        "id": "62606ca1-5868-4c65-93ef-1d6ee8d8d59a"
      },
      "outputs": [],
      "source": [
        "# Write any package/module installation that you need\n",
        "# pip install goes here, this helps declutter your output below\n",
        "import numpy as np\n",
        "import pandas as pd\n",
        "import matplotlib.pyplot as plt\n",
        "from sklearn.model_selection import train_test_split\n",
        "from sklearn.preprocessing import StandardScaler\n",
        "from sklearn.linear_model import LogisticRegression"
      ]
    },
    {
      "cell_type": "markdown",
      "id": "b0837717-de95-4193-9898-e2f4cadfcfc6",
      "metadata": {
        "id": "b0837717-de95-4193-9898-e2f4cadfcfc6"
      },
      "source": [
        "## Load the dataset and clean it\n",
        "\n",
        "In this task, you will prepare and load your dataset. You need to download the full FIFA 21 Dataset from the link here: [Kaggle FIFA Player Stats Database](https://www.kaggle.com/datasets/bryanb/fifa-player-stats-database?resource=download&select=FIFA21_official_data.csv).\n",
        "\n",
        "> Note: Make sure you download FIFA 21 dataset.\n",
        ">\n",
        "> ![FIFA21 Dataset](https://storage.googleapis.com/rg-ai-bootcamp/projects/fifa21_dataset-min.png)\n",
        "\n",
        "After you download the dataset, you will then import the dataset then you will clean the data. For example there may be some empty cell in the dataset which you need to fill. Maybe there are also data that you need to convert to numeric value for analysis. Identify the data that is incomplete and fix them.\n",
        "\n",
        "In the code block below, you can use the comments to guide you on what to do.\n"
      ]
    },
    {
      "cell_type": "code",
      "execution_count": 2,
      "id": "3b0e5e58-277e-41ef-9b1c-951e5d150191",
      "metadata": {
        "id": "3b0e5e58-277e-41ef-9b1c-951e5d150191"
      },
      "outputs": [],
      "source": [
        "# Write your preprocessing and data cleaning here\n",
        "pd.set_option(\"display.max_rows\", 1000)\n",
        "pd.set_option('display.max_columns', 500)\n",
        "\n",
        "def converting_to_int(data):\n",
        "  if type(data) == str:\n",
        "    value_str = data.replace(\"€\", \"\")\n",
        "    last_char = value_str[len(value_str) - 1]\n",
        "    if last_char == \"M\" or last_char == \"K\":\n",
        "      clean_value_str = value_str[:len(value_str) - 1]\n",
        "      return int(float(clean_value_str) * (1000 if last_char == \"K\" else 1000000))\n",
        "    else:\n",
        "      return int(float(value_str))\n",
        "  else:\n",
        "    return data\n",
        "\n",
        "def converting_currency_string_to_int(column):\n",
        "  return column.apply(converting_to_int)\n",
        "\n",
        "# Load your data\n",
        "fifa_df = pd.read_csv(\"datasets/FIFA21_official_data.csv\")\n",
        "\n",
        "# Check your data for empty cell\n",
        "# print(fifa_df.isnull().sum())\n",
        "\n",
        "# Fill the empty cell with data or drop the column\n",
        "fifa_df[[\"Value\", \"Wage\", \"Release Clause\"]] = fifa_df[[\"Value\", \"Wage\", \"Release Clause\"]].apply(converting_currency_string_to_int)\n",
        "pd.set_option('display.max_columns', 500)\n",
        "fifa_df.dropna(subset=[\"Agility\", \"Balance\", \"Jumping\", \"Vision\", \"SlidingTackle\", \"Composure\", \"DefensiveAwareness\"], inplace=True)\n",
        "fifa_df.drop(columns=[\"Marking\", \"Loaned From\", \"Joined\", \"Contract Valid Until\", \"Position\", \"Jersey Number\", \"Release Clause\", \"Club\"], inplace=True)"
      ]
    },
    {
      "cell_type": "code",
      "execution_count": 3,
      "id": "49b67775",
      "metadata": {},
      "outputs": [],
      "source": [
        "fifa_df['OK Player'] = fifa_df['Overall'].apply(lambda x: 1 if x >= 75 else 0)\n",
        "\n",
        "normal_val = fifa_df[\"Value\"]\n",
        "normal_val = (normal_val - np.mean(normal_val)) / (np.max(normal_val) - np.min(normal_val))\n",
        "fifa_df[\"Value\"] = normal_val\n",
        "\n",
        "filtered_data = fifa_df[[\"Value\", \"Potential\", \"Crossing\", \"Finishing\", \"HeadingAccuracy\", \"ShortPassing\", \"Volleys\", \"Dribbling\", \"LongPassing\", \"BallControl\", \"Acceleration\", \"SprintSpeed\", \"Agility\", \"Reactions\", \"Balance\", \"ShotPower\", \"Jumping\", \"Stamina\", \"Strength\", \"LongShots\", \"Aggression\", \"Interceptions\", \"Positioning\", \"Vision\", \"Penalties\", \"Composure\", \"StandingTackle\", \"SlidingTackle\", \"GKDiving\", \"GKHandling\", \"GKKicking\", \"GKPositioning\", \"GKReflexes\", \"DefensiveAwareness\", \"Overall\", \"OK Player\"]]"
      ]
    },
    {
      "cell_type": "code",
      "execution_count": 4,
      "id": "88fc2b98",
      "metadata": {},
      "outputs": [],
      "source": [
        "features = filtered_data.drop(columns=[\"Overall\", \"OK Player\"])\n",
        "\n",
        "X = features.values\n",
        "y = filtered_data[\"OK Player\"].values\n",
        "\n",
        "X_train, X_test, y_train, y_test = train_test_split(X, y, random_state=0, test_size=0.2)\n",
        "\n",
        "model = LogisticRegression(max_iter=100000)\n",
        "model.fit(X_train, y_train)\n",
        "\n",
        "coefficient = model.coef_     #w\n",
        "intercept = model.intercept_  #b\n",
        "\n",
        "decision_boundary = -intercept / coefficient\n",
        "decision_boundary = decision_boundary[0][0]"
      ]
    },
    {
      "cell_type": "code",
      "execution_count": 5,
      "id": "f32be1fa",
      "metadata": {},
      "outputs": [
        {
          "name": "stdout",
          "output_type": "stream",
          "text": [
            "cost [0.08921248]\n",
            "Accuracy on training set: 0.9621094958243118\n"
          ]
        }
      ],
      "source": [
        "def linear_function(w, x, b):\n",
        "  return w * x + b\n",
        "\n",
        "def sigmoid_function(z):\n",
        "  return 1 / (1 + np.exp(-z))\n",
        "\n",
        "eps = 1e-7 #\n",
        "def compute_cost_logistic(X, y, w, b):\n",
        "  m = X.shape[0]\n",
        "  cost = 0.0\n",
        "  for i in range(m):\n",
        "    z_i = np.dot(X[i], w) + b\n",
        "    f_wb_i = sigmoid_function(z_i)\n",
        "\n",
        "    cost += -y[i]*np.log(f_wb_i + eps) - (1-y[i])*np.log(1-f_wb_i + eps)\n",
        "\n",
        "  cost = cost / m\n",
        "  return cost\n",
        "\n",
        "cost = compute_cost_logistic(X_train, y_train, coefficient[0], intercept)\n",
        "\n",
        "print(f\"cost {cost}\")\n",
        "print(f\"Accuracy on training set: {model.score(X_train, y_train)}\")"
      ]
    },
    {
      "cell_type": "code",
      "execution_count": 6,
      "id": "1a90606b",
      "metadata": {},
      "outputs": [
        {
          "name": "stdout",
          "output_type": "stream",
          "text": [
            "[[2760   45]\n",
            " [  72  357]]\n",
            "0.8592057761732852\n",
            "0.963821892393321\n"
          ]
        }
      ],
      "source": [
        "from sklearn.metrics import confusion_matrix\n",
        "from sklearn.metrics import f1_score\n",
        "from sklearn.metrics import accuracy_score\n",
        "\n",
        "y_hat = model.predict(X_test)\n",
        "y_hat\n",
        "\n",
        "cm = confusion_matrix(y_test, y_hat)\n",
        "print(cm)\n",
        "\n",
        "print(f1_score(y_test, y_hat))\n",
        "print(accuracy_score(y_test, y_hat))"
      ]
    },
    {
      "cell_type": "markdown",
      "id": "30ce0c59-0e94-480a-81ae-528e68356a15",
      "metadata": {
        "id": "30ce0c59-0e94-480a-81ae-528e68356a15"
      },
      "source": [
        "## Build and Train your model\n",
        "\n",
        "In this task you will analyze the data and select the features that is best at predicting if the Player is a 'Valuable' player or not.\n",
        "\n",
        "The first step is to **define the target output** that you will use for training. Here's an example of how to create a target output:\n",
        "\n",
        "- `df['OK Player'] = df['Overall'].apply(lambda x: 1 if x >= 50 else 0) #Define the OK Player using treshold of 50.`\n",
        "\n",
        "Next you will **identify the features** that will best predict a 'Valuable' player. You are required to **submit the features you selected** in the Submission section below. Because we use the \"Overall\" as our target output, the use of \"Overall\" in your features is not allowed. You will automatically get 0 if you submit \"Overall\" in your features.\n",
        "\n",
        "Once you identify the features, you will then **split the data** into Training set and Testing/Validation set.\n",
        "\n",
        "Depending on the features you selected, **you may need to scale the features**.\n",
        "\n",
        "Now you will **train your model, choose the algorithm** you are going to use carefully to make sure it gives the best result.\n",
        "\n",
        "Once you have trained your model, you need to test the model effectiveness. **Make predictions against your Testing/Validation set** and evaluate your model. You are required to **submit the Accuracy Score and F1 score** in the Submission section below.\n",
        "\n",
        "In the code block below, you can use the comments to guide you on what to do.\n",
        "\n",
        "We have also provided 3 variables that you must use in your code, `ml_features`, `ml_accuracy` and `ml_f1_score`. You can move the variables around your code, assign values to them, but you cannot delete them.\n"
      ]
    },
    {
      "cell_type": "code",
      "execution_count": 10,
      "id": "1aa3c3f7-c6c5-4419-9b25-e8d7a8ec345a",
      "metadata": {
        "id": "1aa3c3f7-c6c5-4419-9b25-e8d7a8ec345a"
      },
      "outputs": [
        {
          "name": "stdout",
          "output_type": "stream",
          "text": [
            "cost [0.08921248]\n",
            "Accuracy on training set: 0.9621094958243118\n",
            "ml accuracy 0.963821892393321\n",
            "ml f1 score 0.8592057761732852\n"
          ]
        }
      ],
      "source": [
        "# Write your code here\n",
        "import numpy as np\n",
        "import pandas as pd\n",
        "import matplotlib.pyplot as plt\n",
        "from sklearn.model_selection import train_test_split\n",
        "from sklearn.linear_model import LogisticRegression\n",
        "from sklearn.metrics import confusion_matrix\n",
        "from sklearn.metrics import f1_score\n",
        "from sklearn.metrics import accuracy_score\n",
        "\n",
        "pd.set_option(\"display.max_rows\", 1000)\n",
        "pd.set_option('display.max_columns', 500)\n",
        "\n",
        "# Functions\n",
        "def converting_to_int(data):\n",
        "  if type(data) == str:\n",
        "    value_str = data.replace(\"€\", \"\")\n",
        "    last_char = value_str[len(value_str) - 1]\n",
        "    if last_char == \"M\" or last_char == \"K\":\n",
        "      clean_value_str = value_str[:len(value_str) - 1]\n",
        "      return int(float(clean_value_str) * (1000 if last_char == \"K\" else 1000000))\n",
        "    else:\n",
        "      return int(float(value_str))\n",
        "  else:\n",
        "    return data\n",
        "\n",
        "def converting_currency_string_to_int(column):\n",
        "  return column.apply(converting_to_int)\n",
        "\n",
        "def linear_function(w, x, b):\n",
        "  return w * x + b\n",
        "\n",
        "def sigmoid_function(z):\n",
        "  return 1 / (1 + np.exp(-z))\n",
        "\n",
        "eps = 1e-7 #\n",
        "def compute_cost_logistic(X, y, w, b):\n",
        "  m = X.shape[0]\n",
        "  cost = 0.0\n",
        "  for i in range(m):\n",
        "    z_i = np.dot(X[i], w) + b\n",
        "    f_wb_i = sigmoid_function(z_i)\n",
        "\n",
        "    cost += -y[i]*np.log(f_wb_i + eps) - (1-y[i])*np.log(1-f_wb_i + eps)\n",
        "\n",
        "  cost = cost / m\n",
        "  return cost\n",
        "\n",
        "# Load your data\n",
        "fifa_df = pd.read_csv(\"datasets/FIFA21_official_data.csv\")\n",
        "\n",
        "fifa_df[[\"Value\", \"Wage\", \"Release Clause\"]] = fifa_df[[\"Value\", \"Wage\", \"Release Clause\"]].apply(converting_currency_string_to_int)\n",
        "pd.set_option('display.max_columns', 500)\n",
        "fifa_df.dropna(subset=[\"Agility\", \"Balance\", \"Jumping\", \"Vision\", \"SlidingTackle\", \"Composure\", \"DefensiveAwareness\"], inplace=True)\n",
        "fifa_df.drop(columns=[\"Marking\", \"Loaned From\", \"Joined\", \"Contract Valid Until\", \"Position\", \"Jersey Number\", \"Release Clause\", \"Club\"], inplace=True)\n",
        "\n",
        "#Normalize Value Column\n",
        "normal_val = fifa_df[\"Value\"]\n",
        "normal_val = (normal_val - np.mean(normal_val)) / (np.max(normal_val) - np.min(normal_val))\n",
        "fifa_df[\"Value\"] = normal_val\n",
        "\n",
        "# Define the target output (Good >= 75)\n",
        "fifa_df['OK Player'] = fifa_df['Overall'].apply(lambda x: 1 if x >= 75 else 0)\n",
        "\n",
        "# Identify the features you will use in your model\n",
        "ml_features = [\"Value\", \"Potential\", \"Crossing\", \"Finishing\", \"HeadingAccuracy\", \"ShortPassing\", \"Volleys\", \"Dribbling\", \"LongPassing\", \"BallControl\", \"Acceleration\", \"SprintSpeed\", \"Agility\", \"Reactions\", \"Balance\", \"ShotPower\", \"Jumping\", \"Stamina\", \"Strength\", \"LongShots\", \"Aggression\", \"Interceptions\", \"Positioning\", \"Vision\", \"Penalties\", \"Composure\", \"StandingTackle\", \"SlidingTackle\", \"GKDiving\", \"GKHandling\", \"GKKicking\", \"GKPositioning\", \"GKReflexes\", \"DefensiveAwareness\"]\n",
        "features = fifa_df[ml_features]\n",
        "\n",
        "# Split data into training set and test set\n",
        "X = features.values\n",
        "y = fifa_df[\"OK Player\"].values\n",
        "\n",
        "X_train, X_test, y_train, y_test = train_test_split(X, y, random_state=0, test_size=0.2)\n",
        "\n",
        "# Scale the features (if needed, optional)\n",
        "\n",
        "# Train the model\n",
        "model = LogisticRegression(max_iter=100000)\n",
        "model.fit(X_train, y_train)\n",
        "\n",
        "coefficient = model.coef_     #w\n",
        "intercept = model.intercept_  #b\n",
        "\n",
        "cost = compute_cost_logistic(X_train, y_train, coefficient[0], intercept)\n",
        "\n",
        "print(f\"cost {cost}\")\n",
        "print(f\"Accuracy on training set: {model.score(X_train, y_train)}\")\n",
        "\n",
        "# Make predictions using the test set\n",
        "y_hat = model.predict(X_test)\n",
        "y_hat\n",
        "\n",
        "cm = confusion_matrix(y_test, y_hat)\n",
        "\n",
        "# Evaluate the model\n",
        "ml_accuracy = accuracy_score(y_test, y_hat)\n",
        "ml_f1_score = f1_score(y_test, y_hat)\n",
        "\n",
        "print(f\"ml accuracy {ml_accuracy}\")\n",
        "print(f\"ml f1 score {ml_f1_score}\")"
      ]
    },
    {
      "cell_type": "markdown",
      "id": "5d59af48-18c0-4e40-80ff-33a85030b205",
      "metadata": {
        "id": "5d59af48-18c0-4e40-80ff-33a85030b205"
      },
      "source": [
        "## Submission\n",
        "\n",
        "Once you are satisfied with the performance of your model, then you run the code block below to submit your project.\n"
      ]
    },
    {
      "cell_type": "code",
      "execution_count": 9,
      "id": "010d7f7f-711d-4f41-82a3-3c2562e59709",
      "metadata": {
        "id": "010d7f7f-711d-4f41-82a3-3c2562e59709"
      },
      "outputs": [
        {
          "data": {
            "text/plain": [
              "'Assignment successfully submitted'"
            ]
          },
          "execution_count": 9,
          "metadata": {},
          "output_type": "execute_result"
        }
      ],
      "source": [
        "# Submit Method\n",
        "\n",
        "# Do not change the code below\n",
        "question_id = \"01_ml_project_features\"\n",
        "submit(student_id, name, assignment_id, str(ml_features), question_id, drive_link)\n",
        "question_id = \"02_ml_project_accuracy\"\n",
        "submit(student_id, name, assignment_id, str(ml_accuracy), question_id, drive_link)\n",
        "question_id = \"03_ml_project_f1score\"\n",
        "submit(student_id, name, assignment_id, str(ml_f1_score), question_id, drive_link)"
      ]
    },
    {
      "cell_type": "markdown",
      "id": "aa89b9ff-0d31-416a-b3c4-851c725fadf7",
      "metadata": {
        "id": "aa89b9ff-0d31-416a-b3c4-851c725fadf7"
      },
      "source": [
        "## FIN\n"
      ]
    }
  ],
  "metadata": {
    "colab": {
      "provenance": []
    },
    "kernelspec": {
      "display_name": "Python 3 (ipykernel)",
      "language": "python",
      "name": "python3"
    },
    "language_info": {
      "codemirror_mode": {
        "name": "ipython",
        "version": 3
      },
      "file_extension": ".py",
      "mimetype": "text/x-python",
      "name": "python",
      "nbconvert_exporter": "python",
      "pygments_lexer": "ipython3",
      "version": "3.12.1"
    }
  },
  "nbformat": 4,
  "nbformat_minor": 5
}
