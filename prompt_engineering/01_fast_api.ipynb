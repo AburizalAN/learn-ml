{
  "cells": [
    {
      "cell_type": "markdown",
      "metadata": {
        "colab_type": "text",
        "id": "view-in-github"
      },
      "source": [
        "<a href=\"https://colab.research.google.com/github/AburizalAN/learn-ml/blob/master/prompt_engineering/01_fast_api.ipynb\" target=\"_parent\"><img src=\"https://colab.research.google.com/assets/colab-badge.svg\" alt=\"Open In Colab\"/></a>\n"
      ]
    },
    {
      "cell_type": "markdown",
      "metadata": {
        "id": "TrlmL_RszO5U"
      },
      "source": [
        "# API with FastAPI\n"
      ]
    },
    {
      "cell_type": "markdown",
      "metadata": {
        "id": "vqju3bQtzO5Z"
      },
      "source": [
        "Picture this - You've spent endless hours meticulously gathering data, performing feature engineering, tuning hyperparameters, and training a machine learning model. This model has surpassed your expectations, delivering excellent results and insightful predictions. You're thrilled, filled with a sense of achievement, and now you're eager to share this AI marvel with the world. But there's a catch - how do you make this trained model accessible to others? How do you turn this static, local file into a dynamic and interactive service?\n",
        "\n",
        "This is where **API**s _(Application Programming Interfaces)_ and **FastAPI** come to the rescue!\n"
      ]
    },
    {
      "cell_type": "markdown",
      "metadata": {
        "id": "FqsT4oI1AIER"
      },
      "source": [
        "- DS\n",
        "- BE\n",
        "- FE\n",
        "- Kontrak API\n",
        "- BE ada service A --> outputnya berupa A.1 (json)\n",
        "- DS pakai output dari service A yg berupa A.1\n",
        "- FE\n"
      ]
    },
    {
      "cell_type": "markdown",
      "metadata": {
        "id": "XmquW-8TAqqB"
      },
      "source": [
        "kita udah fine tuning LLM dengan akurasi 80% --> ChatGPTIndo1\n",
        "di warap up di FastAPI --> endpoint\n"
      ]
    },
    {
      "cell_type": "markdown",
      "metadata": {
        "id": "NI_RGLs5zO5a"
      },
      "source": [
        "## APIs: The Heroes of Connectivity\n"
      ]
    },
    {
      "cell_type": "markdown",
      "metadata": {
        "id": "Vdg_xPhxzO5a"
      },
      "source": [
        "An **API** is essentially a set of rules that specify how different software applications should interact and communicate. APIs discreetly expose the functions of an application in a secure way, making them available for other applications to utilize. They are like diplomats, fostering relations and enabling seamless data transfer between different software systems.\n"
      ]
    },
    {
      "cell_type": "markdown",
      "metadata": {
        "id": "z6XZhjEnzO5b"
      },
      "source": [
        "![\"api-flow\"](https://storage.googleapis.com/rg-ai-bootcamp/langchain/api-flow.png)\n",
        "\n",
        "API flow (sumber [www.piworks.net](https://www.piworks.net/))\n"
      ]
    },
    {
      "cell_type": "markdown",
      "metadata": {
        "id": "56kmEva8zO5b"
      },
      "source": [
        "## FastAPI: The Speedy Python-to-Web Translator\n"
      ]
    },
    {
      "cell_type": "markdown",
      "metadata": {
        "id": "vZKRMvqMzO5c"
      },
      "source": [
        "Now, let's talk about [**FastAPI**](https://fastapi.tiangolo.com/). FastAPI is a modern, fast (high-performance), web framework for building APIs with Python 3.6+ based on standard Python type hints. This handy tool is your go-to solution for setting up a simple yet powerful API. It enables you to map Python functions to specific URLs, transforming these operations into network-accessible services.\n"
      ]
    },
    {
      "cell_type": "markdown",
      "metadata": {
        "id": "tKgqqpTMzO5c"
      },
      "source": [
        "On Your Marks, Get Set, FastAPI!\n"
      ]
    },
    {
      "cell_type": "markdown",
      "metadata": {
        "id": "yNhGcBAHzO5d"
      },
      "source": [
        "Excited? Let's dive right into crafting APIs with FastAPI! Before we set sail, ensure FastAPI is installed. You can do this using pip:\n"
      ]
    },
    {
      "cell_type": "code",
      "execution_count": null,
      "metadata": {
        "colab": {
          "base_uri": "https://localhost:8080/"
        },
        "id": "hjgSfIF4zO5d",
        "outputId": "285979f8-54c0-43d3-ed1c-b02850e095af"
      },
      "outputs": [
        {
          "name": "stdout",
          "output_type": "stream",
          "text": [
            "\u001b[2K     \u001b[90m━━━━━━━━━━━━━━━━━━━━━━━━━━━━━━━━━━━━━━━━\u001b[0m \u001b[32m92.1/92.1 kB\u001b[0m \u001b[31m2.0 MB/s\u001b[0m eta \u001b[36m0:00:00\u001b[0m\n",
            "\u001b[2K     \u001b[90m━━━━━━━━━━━━━━━━━━━━━━━━━━━━━━━━━━━━━━━━\u001b[0m \u001b[32m60.8/60.8 kB\u001b[0m \u001b[31m5.3 MB/s\u001b[0m eta \u001b[36m0:00:00\u001b[0m\n",
            "\u001b[2K     \u001b[90m━━━━━━━━━━━━━━━━━━━━━━━━━━━━━━━━━━━━━━━━\u001b[0m \u001b[32m71.5/71.5 kB\u001b[0m \u001b[31m7.4 MB/s\u001b[0m eta \u001b[36m0:00:00\u001b[0m\n",
            "\u001b[2K     \u001b[90m━━━━━━━━━━━━━━━━━━━━━━━━━━━━━━━━━━━━━━━━\u001b[0m \u001b[32m58.3/58.3 kB\u001b[0m \u001b[31m5.9 MB/s\u001b[0m eta \u001b[36m0:00:00\u001b[0m\n",
            "\u001b[?25h"
          ]
        }
      ],
      "source": [
        "%pip install fastapi uvicorn pyngrok -q"
      ]
    },
    {
      "cell_type": "markdown",
      "metadata": {
        "id": "2yLc9t-8zO5e"
      },
      "source": [
        "### Igniting the FastAPI\n"
      ]
    },
    {
      "cell_type": "markdown",
      "metadata": {
        "id": "TBWUstMZzO5e"
      },
      "source": [
        "Let's kick-start our FastAPI adventure by initiating a basic application:\n"
      ]
    },
    {
      "cell_type": "code",
      "execution_count": null,
      "metadata": {
        "colab": {
          "base_uri": "https://localhost:8080/"
        },
        "id": "6qCookzzzO5e",
        "outputId": "fbcf5891-287e-4323-e810-792291f1ca16"
      },
      "outputs": [
        {
          "name": "stdout",
          "output_type": "stream",
          "text": [
            "Writing main.py\n"
          ]
        }
      ],
      "source": [
        "%%writefile main.py\n",
        "\n",
        "from fastapi import FastAPI\n",
        "\n",
        "app = FastAPI()\n",
        "\n",
        "@app.get(\"/\")\n",
        "def read_root():\n",
        "    return {\"Welcome\": \"Welcome to our API!\"}"
      ]
    },
    {
      "cell_type": "markdown",
      "metadata": {
        "id": "9WU5LK13zO5f"
      },
      "source": [
        "The cell above will create a `main.py` file _(or overwrite it if it already exists)_ according to the code in that cell but using the magic command `%%writefile main.py`\n"
      ]
    },
    {
      "cell_type": "markdown",
      "metadata": {
        "id": "bbgzae_uzO5f"
      },
      "source": [
        "Now we can run `main.py` using [**Uvicorn**](https://www.uvicorn.org/). What is Uvicorn? 🤔 This is a very fast ASGI server implementation, used to serve your FastAPI applications. ASGI, short for Asynchronous Server Gateway Interface, is a standard interface between web servers, frameworks, and async-enabled Python applications. Uvicorn serves as a bridge between your FastAPI applications and the outside world.\n"
      ]
    },
    {
      "cell_type": "markdown",
      "metadata": {
        "id": "NtogkbHLzO5g"
      },
      "source": [
        "Use the command below in your **terminal** to run the application\n",
        "\n",
        "```bash\n",
        "uvicorn main:app --reload\n",
        "```\n",
        "\n",
        "> **Note**: make sure the directory position of your terminal is the same as the `main.py` file\n"
      ]
    },
    {
      "cell_type": "markdown",
      "metadata": {
        "id": "aRI1nZBVzO5h"
      },
      "source": [
        "![\"fast-api-running\"](https://storage.googleapis.com/rg-ai-bootcamp/langchain/fast-api-running.png)\n"
      ]
    },
    {
      "cell_type": "markdown",
      "metadata": {
        "id": "ZQ1OF03PzO5h"
      },
      "source": [
        "Congratulations! You have just kindled the first sparks of your FastAPI application. With just a few lines of code, you've transformed a simple python function into a full-fledged API service.\n",
        "\n",
        "But how do we know if it's working? 🤔 You can try with `curl`:\n",
        "\n",
        "![\"curl-get\"](https://storage.googleapis.com/rg-ai-bootcamp/langchain/curl-get.png)\n"
      ]
    },
    {
      "cell_type": "markdown",
      "metadata": {
        "id": "xK-jMDwgzO5h"
      },
      "source": [
        "What if we want to run it in the Jupyter Notebook cell? 🤔 Let's send a request to our new application and see what happens.\n"
      ]
    },
    {
      "cell_type": "code",
      "execution_count": null,
      "metadata": {
        "colab": {
          "base_uri": "https://localhost:8080/"
        },
        "id": "2W7yl3wLzO5h",
        "outputId": "a6ea5fcb-f0a4-43e5-d9be-c8337e3d7a55"
      },
      "outputs": [
        {
          "name": "stderr",
          "output_type": "stream",
          "text": [
            "\u001b[32mINFO\u001b[0m:     Will watch for changes in these directories: ['/content']\n",
            "\u001b[32mINFO\u001b[0m:     Uvicorn running on \u001b[1mhttp://0.0.0.0:8000\u001b[0m (Press CTRL+C to quit)\n",
            "\u001b[32mINFO\u001b[0m:     Started reloader process [\u001b[36m\u001b[1m286\u001b[0m] using \u001b[36m\u001b[1mStatReload\u001b[0m\n",
            "\u001b[32mINFO\u001b[0m:     Stopping reloader process [\u001b[36m\u001b[1m286\u001b[0m]\n"
          ]
        }
      ],
      "source": [
        "import uvicorn\n",
        "import nest_asyncio\n",
        "\n",
        "nest_asyncio.apply()\n",
        "\n",
        "# Start server synchronous\n",
        "uvicorn.run(app='main:app', host=\"0.0.0.0\", port=8000, reload=True, use_colors=True)"
      ]
    },
    {
      "cell_type": "code",
      "execution_count": null,
      "metadata": {
        "colab": {
          "base_uri": "https://localhost:8080/"
        },
        "id": "Im1AdcdNvUtc",
        "outputId": "60739f40-055c-4c2e-b6ab-8fc85a0ca8f5"
      },
      "outputs": [
        {
          "name": "stdout",
          "output_type": "stream",
          "text": [
            "curl: (7) Failed to connect to 0.0.0.0 port 8000 after 0 ms: Connection refused\n"
          ]
        }
      ],
      "source": [
        "!curl http://0.0.0.0:8000"
      ]
    },
    {
      "cell_type": "markdown",
      "metadata": {
        "id": "CqtTcA4lzO5h"
      },
      "source": [
        "We've started our FastAPI application, and are now waiting for incoming requests.\n",
        "\n",
        "We can use curl again to try it out:\n",
        "\n",
        "![\"curl-get\"](https://storage.googleapis.com/rg-ai-bootcamp/langchain/curl-get.png)\n"
      ]
    },
    {
      "cell_type": "markdown",
      "metadata": {
        "id": "Ec8MTIdEzO5h"
      },
      "source": [
        "So far, so good. Our API is up, running and has successfully responded to our request. But let's consider a scenario. What if you want to share your newly built API with your colleagues or deploy it for a demo. Running the API on localhost won't be visible to others on the internet.\n"
      ]
    },
    {
      "cell_type": "markdown",
      "metadata": {
        "id": "ie2Z6bJ-zO5h"
      },
      "source": [
        "This is where [**Ngrok**](https://ngrok.com/) comes into play. Ngrok is a fantastic tool that creates a secure tunnel from a public endpoint to your localhost. But before we can utilize it, we need a token. Let's see how we can get this token:\n",
        "\n",
        "1. **Visit the Ngrok website.** The first step is to visit [Ngrok's official website](https://ngrok.com/).\n",
        "2. **Create an account.** Once you're on the website, you need to create an account. If you already have one, you can simply log in.\n",
        "3. **Verify your account.** After signing up, you will receive a verification email. Click on the link in that email to verify your account.\n",
        "4. **Log in to your account.** Once your account is verified, log in to your Ngrok account.\n",
        "5. **Get your token.** After logging in, you will be directed to the dashboard. Here, you can find your Auth token under the 'Auth' section.\n"
      ]
    },
    {
      "cell_type": "markdown",
      "metadata": {
        "id": "vFMe7jKbzO5i"
      },
      "source": [
        "Let's illustrate the final step with an image:\n",
        "\n",
        "![\"Ngrok Auth Token\"](https://storage.googleapis.com/rg-ai-bootcamp/langchain/ngrok-token.png)\n",
        "\n",
        "Remember to keep your token secure, as anyone with access to it can create a tunnel to your localhost.\n"
      ]
    },
    {
      "cell_type": "markdown",
      "metadata": {
        "id": "Zn64eTfkzO5i"
      },
      "source": [
        "Enter the token you have obtained\n"
      ]
    },
    {
      "cell_type": "code",
      "execution_count": null,
      "metadata": {
        "id": "kqpIVPtivwHL"
      },
      "outputs": [],
      "source": [
        "from google.colab import userdata"
      ]
    },
    {
      "cell_type": "code",
      "execution_count": null,
      "metadata": {
        "id": "V1G0BeDszO5i"
      },
      "outputs": [],
      "source": [
        "your_ngrok_token = userdata.get(\"NGROK_TOKEN\")"
      ]
    },
    {
      "cell_type": "markdown",
      "metadata": {
        "id": "VJB9r7qTzO5i"
      },
      "source": [
        "With the ngrok token in our hands, we are now ready to expose our local API to the world. Let's set it up and give it a shot!\n"
      ]
    },
    {
      "cell_type": "markdown",
      "metadata": {
        "id": "kvjcw2YgzO5i"
      },
      "source": [
        "Try api using `pyngrok`\n"
      ]
    },
    {
      "cell_type": "code",
      "execution_count": null,
      "metadata": {
        "colab": {
          "base_uri": "https://localhost:8080/"
        },
        "id": "J9lQNXEVzO5i",
        "outputId": "6dab1105-8642-4471-ec55-a44edc4874c0"
      },
      "outputs": [
        {
          "name": "stdout",
          "output_type": "stream",
          "text": []
        },
        {
          "name": "stderr",
          "output_type": "stream",
          "text": [
            "\u001b[32mINFO\u001b[0m:     Will watch for changes in these directories: ['/content']\n",
            "\u001b[32mINFO\u001b[0m:     Uvicorn running on \u001b[1mhttp://0.0.0.0:8000\u001b[0m (Press CTRL+C to quit)\n",
            "\u001b[32mINFO\u001b[0m:     Started reloader process [\u001b[36m\u001b[1m145\u001b[0m] using \u001b[36m\u001b[1mStatReload\u001b[0m\n"
          ]
        },
        {
          "name": "stdout",
          "output_type": "stream",
          "text": [
            "Public URL: NgrokTunnel: \"https://c0c1-34-125-212-186.ngrok-free.app\" -> \"http://localhost:8000\"\n"
          ]
        },
        {
          "name": "stderr",
          "output_type": "stream",
          "text": [
            "\u001b[32mINFO\u001b[0m:     Stopping reloader process [\u001b[36m\u001b[1m145\u001b[0m]\n"
          ]
        }
      ],
      "source": [
        "from pyngrok import ngrok\n",
        "import uvicorn\n",
        "\n",
        "# Setup ngrok\n",
        "ngrok.set_auth_token(your_ngrok_token)\n",
        "\n",
        "public_url = ngrok.connect(addr=\"8000\", proto=\"http\", bind_tls=True)\n",
        "print(f\"Public URL: {public_url}\")\n",
        "\n",
        "# Start server\n",
        "uvicorn.run(app='main:app', host=\"0.0.0.0\", port=8000, reload=True, use_colors=True)"
      ]
    },
    {
      "cell_type": "markdown",
      "metadata": {
        "id": "smk3GAcUzO5j"
      },
      "source": [
        "Now we're ready to share our API with the world! We've set up a secure tunnel using ngrok, and our API is now accessible from anywhere. You can easily share the public URL with others, and they can interact with your API in real-time.\n"
      ]
    },
    {
      "cell_type": "markdown",
      "metadata": {
        "id": "YVI7cImCzO5j"
      },
      "source": [
        "Access the api endpoint via `ngrok` (click Visit Site)\n"
      ]
    },
    {
      "cell_type": "markdown",
      "metadata": {
        "id": "SOCuvq3RzO5j"
      },
      "source": [
        "![\"ngrok-warning-free\"](https://storage.googleapis.com/rg-ai-bootcamp/langchain/ngrok-warning-free.png)\n"
      ]
    },
    {
      "cell_type": "markdown",
      "metadata": {
        "id": "ZuRk6UUczO5j"
      },
      "source": [
        "Here's a piece of advice! While ngrok is a fantastic tool, remember that the free version of ngrok includes certain limitations. It provides a random URL every time you start a new session, and the connections can occasionally be slow. For extensive use, consider opting for a paid plan.\n"
      ]
    },
    {
      "cell_type": "markdown",
      "metadata": {
        "id": "yH_mUl9EzO5j"
      },
      "source": [
        "Look at that! You've just given birth to your first API using FastAPI and made it accessible to the world through ngrok. This API now functions with a single endpoint at the root URL ('/') which offers a friendly welcome message. Isn't it thrilling to witness your Python functions communicating with the world? This is just the beginning of your FastAPI journey. As you dive deeper, you'll uncover its power to build more complex and powerful APIs. Happy exploring!\n"
      ]
    },
    {
      "cell_type": "markdown",
      "metadata": {
        "id": "6tDGaVbdzO5j"
      },
      "source": [
        "But before we wrap up, don't forget to **kill the server process** when done!\n",
        "\n",
        "To do so, you need to find the process ID (PID) and kill it - the method varies depending on the operating system.\n",
        "\n",
        "- **On Windows**, you can use `netstat -ano | findstr :<YourPort>` to find the PID and `taskkill /PID <PID> /F` to kill the process.\n",
        "- **On Linux/Mac**, `lsof -i :<YourPort>` and `kill -9 <PID>` should do the trick.\n"
      ]
    },
    {
      "cell_type": "markdown",
      "metadata": {
        "id": "MljN0YarzO5j"
      },
      "source": [
        "### API Endpoints & HTTP Methods: A Deeper Dive!\n"
      ]
    },
    {
      "cell_type": "markdown",
      "metadata": {
        "id": "FPx_pVg3zO5j"
      },
      "source": [
        "Imagine you're building an online store. You need to provide your users with a way to view products, add items to their shopping cart, and make purchases. This is where FastAPI's ability to create multiple API endpoints and utilize different HTTP methods comes into play.\n"
      ]
    },
    {
      "cell_type": "code",
      "execution_count": null,
      "metadata": {
        "colab": {
          "base_uri": "https://localhost:8080/"
        },
        "id": "rLHbIFeFzO5k",
        "outputId": "587aa8b0-4010-4f8d-c456-a37bf843d6e8"
      },
      "outputs": [
        {
          "name": "stdout",
          "output_type": "stream",
          "text": [
            "Overwriting main.py\n"
          ]
        }
      ],
      "source": [
        "%%writefile main.py\n",
        "from fastapi import FastAPI\n",
        "app = FastAPI()\n",
        "\n",
        "@app.get(\"/products\")\n",
        "def get_products():\n",
        "    return {\"message\": \"Display all products\"}\n",
        "\n",
        "@app.post(\"/cart/{item_id}\")\n",
        "def add_to_cart(item_id: int):\n",
        "    return {\"message\": f\"Added item with id {item_id} to the cart\"}\n",
        "\n",
        "@app.delete(\"/cart/{item_id}\")\n",
        "def remove_from_cart(item_id: int):\n",
        "    return {\"message\": f\"Removed item with id {item_id} from the cart\"}"
      ]
    },
    {
      "cell_type": "markdown",
      "metadata": {
        "id": "zRPEVmsmzO5k"
      },
      "source": [
        "Running localhost and ngrok:\n"
      ]
    },
    {
      "cell_type": "code",
      "execution_count": null,
      "metadata": {
        "colab": {
          "base_uri": "https://localhost:8080/"
        },
        "id": "Mq0ntPerzO5p",
        "outputId": "810f51f4-cd34-4ad5-d92d-b93299dead56"
      },
      "outputs": [
        {
          "name": "stdout",
          "output_type": "stream",
          "text": [
            "Public URL: NgrokTunnel: \"https://f731-34-125-212-186.ngrok-free.app\" -> \"http://localhost:8000\"\n"
          ]
        },
        {
          "name": "stderr",
          "output_type": "stream",
          "text": [
            "\u001b[32mINFO\u001b[0m:     Will watch for changes in these directories: ['/content']\n",
            "\u001b[32mINFO\u001b[0m:     Uvicorn running on \u001b[1mhttp://0.0.0.0:8000\u001b[0m (Press CTRL+C to quit)\n",
            "\u001b[32mINFO\u001b[0m:     Started reloader process [\u001b[36m\u001b[1m145\u001b[0m] using \u001b[36m\u001b[1mStatReload\u001b[0m\n",
            "WARNING:pyngrok.process.ngrok:t=2024-03-06T14:02:54+0000 lvl=warn msg=\"Stopping forwarder\" name=http-8000-68949919-eba7-4bcd-a2d4-6d9edca71ae4 acceptErr=\"failed to accept connection: Listener closed\"\n",
            "\u001b[32mINFO\u001b[0m:     Stopping reloader process [\u001b[36m\u001b[1m145\u001b[0m]\n"
          ]
        }
      ],
      "source": [
        "from pyngrok import ngrok\n",
        "import uvicorn\n",
        "\n",
        "# Setup ngrok\n",
        "ngrok.set_auth_token(your_ngrok_token)\n",
        "\n",
        "public_url = ngrok.connect(addr=\"8000\", proto=\"http\", bind_tls=True)\n",
        "print(f\"Public URL: {public_url}\")\n",
        "\n",
        "# Start server\n",
        "uvicorn.run(app='main:app', host=\"0.0.0.0\", port=8000, reload=True, use_colors=True)"
      ]
    },
    {
      "cell_type": "markdown",
      "metadata": {
        "id": "bsJstU36zO5p"
      },
      "source": [
        "Now to carry out tests, in Fast API there is an **Interactive API docs** feature where we can see detailed information about the API that we created and make test requests directly there.\n"
      ]
    },
    {
      "cell_type": "markdown",
      "metadata": {
        "id": "H-Z0eYKXzO5q"
      },
      "source": [
        "Now go to <http://127.0.0.1:8000/docs> or <https://{ngrok-url}/docs>\n"
      ]
    },
    {
      "cell_type": "markdown",
      "metadata": {
        "id": "zvQ5zOWXzO5q"
      },
      "source": [
        "You will see the automatic interactive API documentation (provided by [Swagger UI](https://github.com/swagger-api/swagger-ui)):\n"
      ]
    },
    {
      "cell_type": "markdown",
      "metadata": {
        "id": "iwuijSZMzO5q"
      },
      "source": [
        "![\"fast-api-swagger-docs\"](https://storage.googleapis.com/rg-ai-bootcamp/langchain/fast-api-swagger-docs.png)\n"
      ]
    },
    {
      "cell_type": "markdown",
      "metadata": {
        "id": "4_QEt6EgzO5q"
      },
      "source": [
        "Or you can use other alternatives is <http://127.0.0.1:8000/redoc> or <https://{ngrok-url}/redoc>\n"
      ]
    },
    {
      "cell_type": "markdown",
      "metadata": {
        "id": "8I0yyGapzO5q"
      },
      "source": [
        "You will see the alternative automatic documentation (provided by [ReDoc](https://github.com/Redocly/redoc)):\n"
      ]
    },
    {
      "cell_type": "markdown",
      "metadata": {
        "id": "kddV6ZlgzO5q"
      },
      "source": [
        "![\"fast-api-swagger-redoc\"](https://storage.googleapis.com/rg-ai-bootcamp/langchain/fast-api-swagger-redoc.png)\n"
      ]
    },
    {
      "cell_type": "markdown",
      "metadata": {
        "id": "qX9Tbth7zO5q"
      },
      "source": [
        "OK now, we will revise the previous code and add **in-memory data structures** for `products` and `cart` to make it more interactive:\n"
      ]
    },
    {
      "cell_type": "code",
      "execution_count": null,
      "metadata": {
        "colab": {
          "base_uri": "https://localhost:8080/"
        },
        "id": "XNKZ9LKgzO5r",
        "outputId": "f25a5557-d06e-4333-eccc-d8150e6cd5c3"
      },
      "outputs": [
        {
          "name": "stdout",
          "output_type": "stream",
          "text": [
            "Overwriting main.py\n"
          ]
        }
      ],
      "source": [
        "%%writefile main.py\n",
        "from fastapi import FastAPI, HTTPException\n",
        "\n",
        "app = FastAPI()\n",
        "\n",
        "# Our product list - a dictionary where key is product id and value is product name\n",
        "products = {1: \"Sneakers\", 2: \"T-Shirt\", 3: \"Jeans\", 4: \"Sunglasses\", 5: \"Hat\"}\n",
        "\n",
        "# The shopping cart - a dictionary where key is product id and value is quantity\n",
        "cart = {}\n",
        "\n",
        "@app.get(\"/products\")\n",
        "def get_products():\n",
        "    return products\n",
        "\n",
        "@app.post(\"/cart/{product_id}\")\n",
        "def add_to_cart(product_id: int):\n",
        "    if product_id not in products:\n",
        "        raise HTTPException(status_code=404, detail=\"Product not found\")\n",
        "    if product_id in cart:\n",
        "        cart[product_id] += 1\n",
        "    else:\n",
        "        cart[product_id] = 1\n",
        "    return {\"message\": f\"Added {products[product_id]} to the cart\"}\n",
        "\n",
        "@app.delete(\"/cart/{product_id}\")\n",
        "def remove_from_cart(product_id: int):\n",
        "    if product_id not in cart:\n",
        "        raise HTTPException(status_code=404, detail=\"Product not in cart\")\n",
        "    cart[product_id] -= 1\n",
        "    if cart[product_id] == 0:\n",
        "        del cart[product_id]\n",
        "    return {\"message\": f\"Removed {products[product_id]} from the cart\"}\n",
        "\n",
        "@app.get(\"/cart\")\n",
        "def get_cart():\n",
        "    return {products[product_id]: quantity for product_id, quantity in cart.items()}"
      ]
    },
    {
      "cell_type": "markdown",
      "metadata": {
        "id": "NoXGkRsszO5r"
      },
      "source": [
        "Running localhost and ngrok:\n"
      ]
    },
    {
      "cell_type": "code",
      "execution_count": null,
      "metadata": {
        "colab": {
          "base_uri": "https://localhost:8080/"
        },
        "id": "0CN5NchLzO5r",
        "outputId": "c1bd01c5-8428-46ea-f71f-43827fcd82c2"
      },
      "outputs": [
        {
          "name": "stdout",
          "output_type": "stream",
          "text": [
            "Public URL: NgrokTunnel: \"https://cf30-34-125-212-186.ngrok-free.app\" -> \"http://localhost:8000\"\n"
          ]
        },
        {
          "name": "stderr",
          "output_type": "stream",
          "text": [
            "\u001b[32mINFO\u001b[0m:     Will watch for changes in these directories: ['/content']\n",
            "\u001b[32mINFO\u001b[0m:     Uvicorn running on \u001b[1mhttp://0.0.0.0:8000\u001b[0m (Press CTRL+C to quit)\n",
            "\u001b[32mINFO\u001b[0m:     Started reloader process [\u001b[36m\u001b[1m145\u001b[0m] using \u001b[36m\u001b[1mStatReload\u001b[0m\n",
            "\u001b[32mINFO\u001b[0m:     Stopping reloader process [\u001b[36m\u001b[1m145\u001b[0m]\n"
          ]
        }
      ],
      "source": [
        "from pyngrok import ngrok\n",
        "import uvicorn\n",
        "\n",
        "# Setup ngrok\n",
        "ngrok.set_auth_token(your_ngrok_token)\n",
        "\n",
        "public_url = ngrok.connect(addr=\"8000\", proto=\"http\", bind_tls=True)\n",
        "print(f\"Public URL: {public_url}\")\n",
        "\n",
        "# Start server\n",
        "uvicorn.run(app='main:app', host=\"0.0.0.0\", port=8000, reload=True, use_colors=True)"
      ]
    },
    {
      "cell_type": "markdown",
      "metadata": {
        "id": "KD4zWTKNzO5r"
      },
      "source": [
        "Now, our API server can handle the following requests:\n",
        "\n",
        "- `GET` requests to `/products` to view all products.\n",
        "- `POST` requests to `/cart/{product_id}` to add products to the cart.\n",
        "- `DELETE` requests to `/cart/{product_id}` to remove products from the cart.\n",
        "- `GET` requests to `/cart` to view the cart contents.\n"
      ]
    },
    {
      "cell_type": "markdown",
      "metadata": {
        "id": "GCfEjfEQzO5r"
      },
      "source": [
        "Go to <http://127.0.0.1:8000/docs>, <https://{ngrok-url}/docs> or <http://127.0.0.1:8000/redoc> or <https://{ngrok-url}/redoc> for interactive documentation your API\n"
      ]
    },
    {
      "cell_type": "markdown",
      "metadata": {
        "id": "pmwYn2G4zO5s"
      },
      "source": [
        "### Working with JSON Responses and Requests\n"
      ]
    },
    {
      "cell_type": "markdown",
      "metadata": {
        "id": "gVUdpj01zO5s"
      },
      "source": [
        "All the data exchanged between the client and server in our online store scenario happens in the form of JSON. FastAPI makes it ultra-easy to handle JSON data.\n"
      ]
    },
    {
      "cell_type": "code",
      "execution_count": null,
      "metadata": {
        "id": "a_u2tD5NGRXY"
      },
      "outputs": [],
      "source": [
        "json_data = {\n",
        "    \"a\" : 1\n",
        "}"
      ]
    },
    {
      "cell_type": "code",
      "execution_count": null,
      "metadata": {
        "colab": {
          "base_uri": "https://localhost:8080/"
        },
        "id": "AK78195_GThG",
        "outputId": "9b13152e-b171-447d-d123-eb088d88d344"
      },
      "outputs": [
        {
          "data": {
            "text/plain": [
              "{'a': 1}"
            ]
          },
          "execution_count": 15,
          "metadata": {},
          "output_type": "execute_result"
        }
      ],
      "source": [
        "import json\n",
        "\n",
        "json.loads(json.dumps(json_data))"
      ]
    },
    {
      "cell_type": "markdown",
      "metadata": {
        "id": "OVNAUGDkzO5s"
      },
      "source": [
        "Let's say, instead of adding one product at a time to the cart, we want to allow customers to add multiple products at once. They can send a list of product IDs as JSON data in a POST request, and FastAPI will automatically convert it to a Python list for us.\n"
      ]
    },
    {
      "cell_type": "code",
      "execution_count": null,
      "metadata": {
        "colab": {
          "base_uri": "https://localhost:8080/"
        },
        "id": "M9pLk_gDzO5s",
        "outputId": "bcb2c009-891e-4938-d895-bba5f6d5eeb5"
      },
      "outputs": [
        {
          "name": "stdout",
          "output_type": "stream",
          "text": [
            "Overwriting main.py\n"
          ]
        }
      ],
      "source": [
        "%%writefile main.py\n",
        "from typing import List\n",
        "from fastapi import FastAPI, HTTPException\n",
        "\n",
        "app = FastAPI()\n",
        "\n",
        "# Our product list - a dictionary where key is product id and value is product name\n",
        "products = {1: \"Sneakers\", 2: \"T-Shirt\", 3: \"Jeans\", 4: \"Sunglasses\", 5: \"Hat\"}\n",
        "\n",
        "# The shopping cart - a dictionary where key is product id and value is quantity\n",
        "cart = {}\n",
        "\n",
        "@app.post(\"/cart/items\")\n",
        "async def add_items_to_cart(item_ids: List[int]):\n",
        "    not_found_ids = [item_id for item_id in item_ids if item_id not in products]\n",
        "    if not_found_ids:\n",
        "        raise HTTPException(status_code=404, detail=f\"Products with ids {not_found_ids} were not found.\")\n",
        "\n",
        "    for item_id in item_ids:\n",
        "        if item_id in cart:\n",
        "            cart[item_id] += 1\n",
        "        else:\n",
        "            cart[item_id] = 1\n",
        "    response = {products[item_id]: quantity for item_id, quantity in cart.items()}\n",
        "    return response"
      ]
    },
    {
      "cell_type": "markdown",
      "metadata": {
        "id": "hIOieEL4zO5s"
      },
      "source": [
        "Running localhost and ngrok:\n"
      ]
    },
    {
      "cell_type": "code",
      "execution_count": null,
      "metadata": {
        "colab": {
          "base_uri": "https://localhost:8080/"
        },
        "id": "WQV3RlfDzO5s",
        "outputId": "34837a70-ff57-4520-ebd9-2788700bcb79"
      },
      "outputs": [
        {
          "name": "stdout",
          "output_type": "stream",
          "text": [
            "Public URL: NgrokTunnel: \"https://7424-34-125-212-186.ngrok-free.app\" -> \"http://localhost:8000\"\n"
          ]
        },
        {
          "name": "stderr",
          "output_type": "stream",
          "text": [
            "\u001b[32mINFO\u001b[0m:     Will watch for changes in these directories: ['/content']\n",
            "\u001b[32mINFO\u001b[0m:     Uvicorn running on \u001b[1mhttp://0.0.0.0:8000\u001b[0m (Press CTRL+C to quit)\n",
            "\u001b[32mINFO\u001b[0m:     Started reloader process [\u001b[36m\u001b[1m145\u001b[0m] using \u001b[36m\u001b[1mStatReload\u001b[0m\n",
            "\u001b[32mINFO\u001b[0m:     Stopping reloader process [\u001b[36m\u001b[1m145\u001b[0m]\n"
          ]
        }
      ],
      "source": [
        "from pyngrok import ngrok\n",
        "import uvicorn\n",
        "\n",
        "# Setup ngrok\n",
        "ngrok.set_auth_token(your_ngrok_token)\n",
        "\n",
        "public_url = ngrok.connect(addr=\"8000\", proto=\"http\", bind_tls=True)\n",
        "print(f\"Public URL: {public_url}\")\n",
        "\n",
        "# Start server\n",
        "uvicorn.run(app='main:app', host=\"0.0.0.0\", port=8000, reload=True, use_colors=True)"
      ]
    },
    {
      "cell_type": "markdown",
      "metadata": {
        "id": "MNQo6QVHzO5s"
      },
      "source": [
        "Customers can now perform the following actions:\n",
        "\n",
        "- Add multiple items to the cart in one go by:\n",
        "  - Sending a `POST` request to `/cart/items` with a JSON array of product ids.\n",
        "  - FastAPI will automatically parse the JSON data into a Python list.\n",
        "  - Corresponding products will be added to the cart.\n",
        "- If a product is not found in our store:\n",
        "  - The system will raise an `HTTPException` with a 404 status code.\n"
      ]
    },
    {
      "cell_type": "markdown",
      "metadata": {
        "id": "D5LZg_4ezO5t"
      },
      "source": [
        "Go to <http://127.0.0.1:8000/docs>, <https://{ngrok-url}/docs> or <http://127.0.0.1:8000/redoc> or <https://{ngrok-url}/redoc> for interactive documentation your API\n"
      ]
    },
    {
      "cell_type": "markdown",
      "metadata": {
        "id": "d-eRr0PWzO5t"
      },
      "source": [
        "### Handling Errors Gracefully\n"
      ]
    },
    {
      "cell_type": "markdown",
      "metadata": {
        "id": "b2ErkNmRzO5t"
      },
      "source": [
        "In an ideal world, users would always use our online store API perfectly. They'd only add products that exist, they wouldn't attempt to remove products from an empty cart, and they certainly wouldn't try to buy more products than we have in stock.\n"
      ]
    },
    {
      "cell_type": "markdown",
      "metadata": {
        "id": "QflC6DUBzO5t"
      },
      "source": [
        "But we don't live in an ideal world.\n"
      ]
    },
    {
      "cell_type": "markdown",
      "metadata": {
        "id": "TlDPFjAMzO5t"
      },
      "source": [
        "Thankfully, FastAPI provides an easy way to handle errors and raise HTTP exceptions with meaningful error messages.\n"
      ]
    },
    {
      "cell_type": "code",
      "execution_count": null,
      "metadata": {
        "id": "WAhZLQdHzO5t",
        "outputId": "7976c64d-cb94-447b-cda8-bc24c2682583"
      },
      "outputs": [
        {
          "name": "stdout",
          "output_type": "stream",
          "text": [
            "Overwriting main.py\n"
          ]
        }
      ],
      "source": [
        "%%writefile main.py\n",
        "from typing import List\n",
        "from fastapi import FastAPI, HTTPException\n",
        "\n",
        "app = FastAPI()\n",
        "\n",
        "# Our product list - a dictionary where key is product id and value is product name\n",
        "products = {1: \"Sneakers\", 2: \"T-Shirt\", 3: \"Jeans\", 4: \"Sunglasses\", 5: \"Hat\"}\n",
        "\n",
        "# The shopping cart - a dictionary where key is product id and value is quantity\n",
        "cart = {}\n",
        "\n",
        "@app.get(\"/products/{product_id}\")\n",
        "async def get_product(product_id: int):\n",
        "    if product_id not in products:\n",
        "        raise HTTPException(status_code=404, detail=f\"No product found with id {product_id}.\")\n",
        "    return {product_id: products[product_id]}\n",
        "\n",
        "@app.post(\"/cart/items\")\n",
        "async def add_items_to_cart(item_ids: List[int]):\n",
        "    not_found_ids = [item_id for item_id in item_ids if item_id not in products]\n",
        "    if not_found_ids:\n",
        "        raise HTTPException(status_code=404, detail=f\"Products with ids {not_found_ids} were not found.\")\n",
        "\n",
        "    for item_id in item_ids:\n",
        "        if item_id in cart:\n",
        "            cart[item_id] += 1\n",
        "        else:\n",
        "            cart[item_id] = 1\n",
        "    response = {products[item_id]: quantity for item_id, quantity in cart.items()}\n",
        "    return response\n",
        "\n",
        "@app.delete(\"/cart/{product_id}\")\n",
        "async def remove_from_cart(product_id: int):\n",
        "    if product_id not in cart:\n",
        "        raise HTTPException(status_code=404, detail=\"Product not in cart.\")\n",
        "    cart[product_id] -= 1\n",
        "    if cart[product_id] == 0:\n",
        "        del cart[product_id]\n",
        "    return {\"message\": f\"Removed {products[product_id]} from the cart\"}"
      ]
    },
    {
      "cell_type": "markdown",
      "metadata": {
        "id": "PqMiG8s6zO5t"
      },
      "source": [
        "Running localhost and ngrok:\n"
      ]
    },
    {
      "cell_type": "code",
      "execution_count": null,
      "metadata": {
        "id": "-BacVcUPzO5u"
      },
      "outputs": [],
      "source": [
        "from pyngrok import ngrok\n",
        "import uvicorn\n",
        "\n",
        "# Setup ngrok\n",
        "ngrok.set_auth_token(your_ngrok_token)\n",
        "\n",
        "public_url = ngrok.connect(addr=\"8000\", proto=\"http\", bind_tls=True)\n",
        "print(f\"Public URL: {public_url}\")\n",
        "\n",
        "# Start server\n",
        "uvicorn.run(app='main:app', host=\"0.0.0.0\", port=8000, reload=True, use_colors=True)"
      ]
    },
    {
      "cell_type": "markdown",
      "metadata": {
        "id": "Fyvjd7RAzO5u"
      },
      "source": [
        "In this script, we've enhanced our API endpoints to handle common error cases such as:\n",
        "\n",
        "- If a user tries to view a product that doesn't exist.\n",
        "- If a user tries to add a non-existent product to their cart.\n",
        "- If a user tries to remove a product from an empty cart.\n",
        "\n",
        "In these instances, FastAPI will:\n",
        "\n",
        "- Raise an `HTTPException` with a 404 status code.\n",
        "- Provide a descriptive error message.\n",
        "\n",
        "We have performed tests on these enhancements:\n",
        "\n",
        "- Made a `GET` request to the `/products/{product_id}` endpoint with a non-existent product id.\n",
        "- As expected, our API returned a 404 status code with an appropriate error message.\n"
      ]
    },
    {
      "cell_type": "markdown",
      "metadata": {
        "id": "n5zyrSo_zO5u"
      },
      "source": [
        "Go to <http://127.0.0.1:8000/docs>, <https://{ngrok-url}/docs> or <http://127.0.0.1:8000/redoc> or <https://{ngrok-url}/redoc> for interactive documentation your API\n"
      ]
    },
    {
      "cell_type": "markdown",
      "metadata": {
        "id": "AlAEZLRkzO5u"
      },
      "source": [
        "### Rendering HTML\n"
      ]
    },
    {
      "cell_type": "markdown",
      "metadata": {
        "id": "jQxBElC9zO5u"
      },
      "source": [
        "FastAPI is not limited to exchange JSON data. It can also handle and render HTML. This is useful if, besides the API, you want to have an introductory web page for your online store. All we need to do is return a multiline string (enclosed in triple quotes) containing our HTML code.\n"
      ]
    },
    {
      "cell_type": "code",
      "execution_count": null,
      "metadata": {
        "colab": {
          "base_uri": "https://localhost:8080/"
        },
        "id": "NBUT3yFGzO5v",
        "outputId": "a83bd7e5-6df6-4612-a043-10dcc14758ff"
      },
      "outputs": [
        {
          "name": "stdout",
          "output_type": "stream",
          "text": [
            "Overwriting main.py\n"
          ]
        }
      ],
      "source": [
        "%%writefile main.py\n",
        "from fastapi import FastAPI\n",
        "from starlette.responses import HTMLResponse\n",
        "\n",
        "app = FastAPI()\n",
        "\n",
        "@app.get(\"/home\", response_class=HTMLResponse)\n",
        "async def get_home():\n",
        "    return \"\"\"\n",
        "    <html>\n",
        "        <head>\n",
        "            <title> Welcome to Our Online Store </title>\n",
        "        </head>\n",
        "        <body>\n",
        "            <p> Welcome to our online store! Check out our products <a href=\"/products\">here</a>. </p>\n",
        "        </body>\n",
        "    </html>\n",
        "    \"\"\""
      ]
    },
    {
      "cell_type": "markdown",
      "metadata": {
        "id": "jmYGj3DFzO5v"
      },
      "source": [
        "Running localhost and ngrok:\n"
      ]
    },
    {
      "cell_type": "code",
      "execution_count": null,
      "metadata": {
        "colab": {
          "base_uri": "https://localhost:8080/"
        },
        "id": "C7uXh4pjzO5v",
        "outputId": "347d4eea-0366-48e2-88b3-d9c8179274e4"
      },
      "outputs": [
        {
          "name": "stdout",
          "output_type": "stream",
          "text": [
            "Public URL: NgrokTunnel: \"https://6b30-34-125-212-186.ngrok-free.app\" -> \"http://localhost:8000\"\n"
          ]
        },
        {
          "name": "stderr",
          "output_type": "stream",
          "text": [
            "\u001b[32mINFO\u001b[0m:     Will watch for changes in these directories: ['/content']\n",
            "\u001b[32mINFO\u001b[0m:     Uvicorn running on \u001b[1mhttp://0.0.0.0:8000\u001b[0m (Press CTRL+C to quit)\n",
            "\u001b[32mINFO\u001b[0m:     Started reloader process [\u001b[36m\u001b[1m145\u001b[0m] using \u001b[36m\u001b[1mStatReload\u001b[0m\n",
            "\u001b[32mINFO\u001b[0m:     Stopping reloader process [\u001b[36m\u001b[1m145\u001b[0m]\n"
          ]
        }
      ],
      "source": [
        "from pyngrok import ngrok\n",
        "import uvicorn\n",
        "\n",
        "# Setup ngrok\n",
        "ngrok.set_auth_token(your_ngrok_token)\n",
        "\n",
        "public_url = ngrok.connect(addr=\"8000\", proto=\"http\", bind_tls=True)\n",
        "print(f\"Public URL: {public_url}\")\n",
        "\n",
        "# Start server\n",
        "uvicorn.run(app='main:app', host=\"0.0.0.0\", port=8000, reload=True, use_colors=True)"
      ]
    },
    {
      "cell_type": "markdown",
      "metadata": {
        "id": "UsH2hSg4zO5v"
      },
      "source": [
        "Now, when someone visits the \"/home\" endpoint of our API, FastAPI will respond with a simple HTML page. The `response_class=HTMLResponse` argument tells FastAPI to convert the returned string into HTML.\n"
      ]
    },
    {
      "cell_type": "markdown",
      "metadata": {
        "id": "HYWedshezO5v"
      },
      "source": [
        "Let's navigate to the home page.\n",
        "\n",
        "![\"fast-api-html\"](https://storage.googleapis.com/rg-ai-bootcamp/langchain/fast-api-html.png)\n"
      ]
    },
    {
      "cell_type": "markdown",
      "metadata": {
        "id": "A8R9hQ9uzO5v"
      },
      "source": [
        "As you can see, our API correctly returns an HTML response for the \"/home\" endpoint.\n"
      ]
    },
    {
      "cell_type": "markdown",
      "metadata": {
        "id": "IzOKad0LzO5x"
      },
      "source": [
        "In this script, we've defined a new /home endpoint that returns an HTML response, effectively serving a simple web page. The response_class=HTMLResponse argument tells FastAPI to convert the returned string into HTML. We then make a GET request to this endpoint and print the HTML response.\n"
      ]
    },
    {
      "cell_type": "markdown",
      "metadata": {
        "id": "DzF2J6KezO5x"
      },
      "source": [
        "### Path Parameters and Query Parameters\n"
      ]
    },
    {
      "cell_type": "markdown",
      "metadata": {
        "id": "NzqkWacEzO5x"
      },
      "source": [
        "Path parameters and query parameters are two ways to pass dynamic information to an API.\n"
      ]
    },
    {
      "cell_type": "markdown",
      "metadata": {
        "id": "wCA1YIEvzO5x"
      },
      "source": [
        "First, let's start with **path parameters**. These allow us to pass information via the URL path. We have already used path parameters in our `/cart/{product_id}` endpoints. Let's add one more endpoint which gives us the details of a specific product.\n"
      ]
    },
    {
      "cell_type": "code",
      "execution_count": null,
      "metadata": {
        "id": "LkhMnHuyzO5x",
        "outputId": "0534ca54-e1de-402a-8c17-b9b0ff65c634"
      },
      "outputs": [
        {
          "name": "stdout",
          "output_type": "stream",
          "text": [
            "Overwriting main.py\n"
          ]
        }
      ],
      "source": [
        "%%writefile main.py\n",
        "from fastapi import FastAPI, HTTPException\n",
        "\n",
        "app = FastAPI()\n",
        "\n",
        "# Our product list - a dictionary where key is product id and value is product name\n",
        "products = {1: \"Sneakers\", 2: \"T-Shirt\", 3: \"Jeans\", 4: \"Sunglasses\", 5: \"Hat\"}\n",
        "\n",
        "@app.get(\"/product/{product_id}\")\n",
        "async def get_product_detail(product_id: int):\n",
        "    if product_id not in products:\n",
        "        raise HTTPException(status_code=404, detail=f\"No product found with id {product_id}.\")\n",
        "    return {product_id: products[product_id]}"
      ]
    },
    {
      "cell_type": "markdown",
      "metadata": {
        "id": "nmxTU3zSzO5y"
      },
      "source": [
        "Run in **terminal** with command: `uvicorn main:app --reload` and now, a user can get the details of a single product by passing the product id in the URL, such as '/product/1'.\n"
      ]
    },
    {
      "cell_type": "markdown",
      "metadata": {
        "id": "x-w0br_6zO5y"
      },
      "source": [
        "Let's try to get the details of a product with id 1 using another terminal `curl http://127.0.0.1:8000/product/1`\n"
      ]
    },
    {
      "cell_type": "markdown",
      "metadata": {
        "id": "sIS-W3EezO5y"
      },
      "source": [
        "![\"bash-fast-params\"](https://storage.googleapis.com/rg-ai-bootcamp/langchain/bash-fast-params.png)\n"
      ]
    },
    {
      "cell_type": "markdown",
      "metadata": {
        "id": "xk3Oqb2ozO5y"
      },
      "source": [
        "Great, it works!\n"
      ]
    },
    {
      "cell_type": "markdown",
      "metadata": {
        "id": "IqO-n1aczO5y"
      },
      "source": [
        "Now, let's move on to **query parameters**. These offer another way to pass dynamic information to an API, but via the URL query string _(the part of the URL after the '?')_.\n"
      ]
    },
    {
      "cell_type": "markdown",
      "metadata": {
        "id": "VFs2pLHAzO5y"
      },
      "source": [
        "Let's say we want to allow users to filter the products by part of their names. We can do that by introducing a query parameter:\n"
      ]
    },
    {
      "cell_type": "code",
      "execution_count": null,
      "metadata": {
        "colab": {
          "base_uri": "https://localhost:8080/"
        },
        "id": "fINlAzf4zO5y",
        "outputId": "d575bb6b-297c-4cb3-b265-13ae5b87102d"
      },
      "outputs": [
        {
          "name": "stdout",
          "output_type": "stream",
          "text": [
            "Overwriting main.py\n"
          ]
        }
      ],
      "source": [
        "%%writefile main.py\n",
        "from fastapi import FastAPI\n",
        "from typing import Optional\n",
        "\n",
        "app = FastAPI()\n",
        "\n",
        "# Our product list - a dictionary where key is product id and value is product name\n",
        "products = {1: \"Sneakers\", 2: \"T-Shirt\", 3: \"Jeans\", 4: \"Sunglasses\", 5: \"Hat\"}\n",
        "\n",
        "@app.get(\"/search\")\n",
        "async def search_products(q: Optional[str] = None):\n",
        "    if q:\n",
        "        return {product_id: name for product_id, name in products.items() if q.lower() in name.lower()}\n",
        "    else:\n",
        "        return products"
      ]
    },
    {
      "cell_type": "markdown",
      "metadata": {
        "id": "1EzDrbHGzO5y"
      },
      "source": [
        "Run in **terminal** with command: `uvicorn main:app --reload` and now, users can search for products by including a 'q' parameter in the URL, like '/search?q=Sneakers'.\n"
      ]
    },
    {
      "cell_type": "markdown",
      "metadata": {
        "id": "SpufW0sNzO5z"
      },
      "source": [
        "Let's try to search product with q \"Jeans\" using another terminal `curl http://127.0.0.1:8000/search?q=Jeans`\n"
      ]
    },
    {
      "cell_type": "markdown",
      "metadata": {
        "id": "k0M33ARXzO5z"
      },
      "source": [
        "![\"bash-fast-query\"](https://storage.googleapis.com/rg-ai-bootcamp/langchain/bash-fast-query.png)\n"
      ]
    },
    {
      "cell_type": "markdown",
      "metadata": {
        "id": "gBOISScozO5z"
      },
      "source": [
        "As you can see, our API correctly returned the product that matches our search query.\n"
      ]
    },
    {
      "cell_type": "markdown",
      "metadata": {
        "id": "1L1GZZifzO5z"
      },
      "source": [
        "In this code, we've made the following enhancements to our API:\n",
        "\n",
        "- Accepted dynamic path and query parameters.\n",
        "- Added a `/product/{product_id}` endpoint that:\n",
        "  - Returns the details of a specific product based on the product id passed in the URL.\n",
        "- Added a `/search` endpoint that:\n",
        "  - Allows users to filter the products based on a search query.\n",
        "  - The search query is passed as a query parameter in the URL.\n",
        "\n",
        "We then performed tests on these enhancements:\n",
        "\n",
        "- Made `GET` requests to these endpoints.\n",
        "- Printed the responses for verification.\n"
      ]
    },
    {
      "cell_type": "code",
      "execution_count": null,
      "metadata": {
        "colab": {
          "base_uri": "https://localhost:8080/"
        },
        "id": "0up16i41IFES",
        "outputId": "8a0b203d-6893-476c-a711-1fe48a3f7f83"
      },
      "outputs": [
        {
          "name": "stdout",
          "output_type": "stream",
          "text": [
            "Public URL: NgrokTunnel: \"https://e4ef-34-125-212-186.ngrok-free.app\" -> \"http://localhost:8000\"\n"
          ]
        },
        {
          "name": "stderr",
          "output_type": "stream",
          "text": [
            "\u001b[32mINFO\u001b[0m:     Will watch for changes in these directories: ['/content']\n",
            "\u001b[32mINFO\u001b[0m:     Uvicorn running on \u001b[1mhttp://0.0.0.0:8000\u001b[0m (Press CTRL+C to quit)\n",
            "\u001b[32mINFO\u001b[0m:     Started reloader process [\u001b[36m\u001b[1m145\u001b[0m] using \u001b[36m\u001b[1mStatReload\u001b[0m\n",
            "\u001b[32mINFO\u001b[0m:     Stopping reloader process [\u001b[36m\u001b[1m145\u001b[0m]\n"
          ]
        }
      ],
      "source": [
        "from pyngrok import ngrok\n",
        "import uvicorn\n",
        "\n",
        "# Setup ngrok\n",
        "ngrok.set_auth_token(your_ngrok_token)\n",
        "\n",
        "public_url = ngrok.connect(addr=\"8000\", proto=\"http\", bind_tls=True)\n",
        "print(f\"Public URL: {public_url}\")\n",
        "\n",
        "# Start server\n",
        "uvicorn.run(app='main:app', host=\"0.0.0.0\", port=8000, reload=True, use_colors=True)"
      ]
    },
    {
      "cell_type": "markdown",
      "metadata": {
        "id": "-JAI-_j9zO5z"
      },
      "source": [
        "## Project Example: Text Generation API Using Hugging Face's Transformers\n"
      ]
    },
    {
      "cell_type": "markdown",
      "metadata": {
        "id": "R1_wdgy_zO5z"
      },
      "source": [
        "Imagine you've crafted an amazing GPT-2 model that can generate witty text, mimicking the style of famous authors. You're quite thrilled with this digital author and now you want to share your AI-powered wordsmith with the world. How can you make this happen? You guessed it - let's build an API with FastAPI!\n"
      ]
    },
    {
      "cell_type": "markdown",
      "metadata": {
        "id": "MkCBwxSFzO5z"
      },
      "source": [
        "Before we embark on this journey, we need to ensure that we have all the necessary tools. We will install two indispensable libraries, Transformers and Torch, using pip:\n"
      ]
    },
    {
      "cell_type": "code",
      "execution_count": null,
      "metadata": {
        "id": "iXbreecVzO5z"
      },
      "outputs": [],
      "source": [
        "%pip install transformers torch -q"
      ]
    },
    {
      "cell_type": "markdown",
      "metadata": {
        "id": "k_ojqpxhzO5z"
      },
      "source": [
        "### Setting Up the Text Generation Model\n"
      ]
    },
    {
      "cell_type": "markdown",
      "metadata": {
        "id": "8lXMklAfzO50"
      },
      "source": [
        "Now, let's prepare our AI author by setting up a pipeline for text generation with the GPT-2 model from Hugging Face's Transformers library:\n"
      ]
    },
    {
      "cell_type": "code",
      "execution_count": null,
      "metadata": {
        "colab": {
          "base_uri": "https://localhost:8080/",
          "height": 368,
          "referenced_widgets": [
            "552bb0de1a7b4fce888a8f39afaa320a",
            "73ba9bb21043471b902ef67e7ab6ae05",
            "1521d8cd7a2c4dbb8f8bec9dc0223b47",
            "635cf493fda447e2978c217e73cb896f",
            "4cccae71eabb490990e69bf3f85775ab",
            "ce3bcc0e86f54169b4b19ee7f6e9a8fe",
            "7b7f8a61dfaf46ada2320bb60af83c6e",
            "1e0b94c81d3b4256a2a03b830f449962",
            "8f2efc690b0a4d4c9e00be90d45f834f",
            "094e957b2df746e38023b624513a0568",
            "45824cca63b747b39835f7d139754425",
            "5849e485dd0f4d83a9253e25a3734bfe",
            "979e8fcc222045548eb88be9e6358ef6",
            "2fe9f04741494d059216847206c517ff",
            "ce4192f58676419aa95e404bf4259a9a",
            "dfdc07a0b4d94e12978c2576ad46cca5",
            "655c98ba214640bebc75cff1bc34a10d",
            "0a102c8e8c8040c482d04c128e014390",
            "97dfd5d7d2e54b7e83322b125296fa04",
            "41adba4ed5ea4463ae7b6c60722c2443",
            "fc03d4f0fe5d4ad7987dff06de939ce6",
            "8a6a24f12c3d495f80811c02cb5bb03c",
            "ba3b7017799148ec8ca0bdc0a86888c6",
            "0ec28e5f04d8409b9d811ae91f6b2551",
            "3b96bdcce8cf4334aea0fb1826b5bf6c",
            "023dc061018a4452b6f1cabecef16a9b",
            "0cb4b2139669469d84be4c5d52623ad9",
            "9bcf7fe989744c5982f4a7bff82ed7fa",
            "b51dde831260443bbe77ec2610740461",
            "089a54392c584227b86d16efb329decc",
            "4ad18554e3364f72800ecbf81c9cc71b",
            "d7e28418f57849008013b85bc0f304bb",
            "fccc4d468fd24f42ab44c196a686cc61",
            "49e67b6ed85c41ef9507a9508ddfdd79",
            "8c1ba0593ce64932adf3b38691dc9bb8",
            "7f6b60576fed4cb79a2f1db947c457e4",
            "6cb12d7340be4c66859cd9f1a28d7c74",
            "c2d9ab560bf44cd2bffbf1fad2b061f7",
            "8e01a22d497b49179e35cb348eccef06",
            "06a182febd1c42c7b3d010e97b7f5fc4",
            "ac216f0c9bbd41b2abef6c95a952de0f",
            "1a43089ea3f04e48871aa0d7073e4d50",
            "13eff6fd7870453eb7bc290de47cf605",
            "fadfb58b5df6444089f2b68fa84d30cf",
            "e9eb5afcfa4e47898fffcc30c3aa67f6",
            "87196a20015b45ce988af6f121581bea",
            "e983f03d827f45758ea4aae39f9bfeee",
            "4d3a6ff482f84635a2a0ecdc9e1577d9",
            "f94720e50a044f6cb28d91b74a664ec3",
            "f0d2bb60accf425ba719d06b8736518f",
            "bf35f0750b254bec8b30afd843697422",
            "493298dba57446baacee47741a67ee23",
            "b79207cfa5b1469eb35370019cb0b15e",
            "f9ff9601b9b94af5b20ce651d6f89b51",
            "9aa5e22be46f4757981e802aabeabef0",
            "38e79840c7b742f8a6121179b6156f9c",
            "13fd2e49321b4f9687388b9d8b604081",
            "76a3e9f7e2e6426389effa0161c56aec",
            "49a367253abc49babdafac2eb5e8647f",
            "0f386475fead4185baa7a05a35078d5a",
            "17d622818efa499e9a8a89e089250f94",
            "0db318ef76b44954a9d1bf02ddfec51d",
            "891c2d2a291c4f25a19873390113faec",
            "7dc4dc836c5244858440b43abe5078ee",
            "710feeab83054235b7add52946706cd7",
            "b58efe33b8d7416eb3d36fa8e1a6c848",
            "6b8131f0c533413aa79b8a54878db0b4",
            "5a7d49ec8e8e4f2096b683c95f82bcdd",
            "1c38998310ed45219a2cfe2c5037e882",
            "58d9900b24724237bfe102c00d765cc6",
            "9b090bd124664155833d19b52ec7284f",
            "fe6b4def5e774e4680660179618ae1d0",
            "ceae1e1281d5481990596a8535c3b54e",
            "eb8fbf038931444a83125567b0772997",
            "c64f6f1719054564bcad0835f5f45c19",
            "410127eede684133a98bd8f515a8acba",
            "ea28d3221c07486097ea1e9bd908874c"
          ]
        },
        "id": "pbr1tKPgzO50",
        "outputId": "6871ce05-0b50-4d82-a091-f7ebc88920ce"
      },
      "outputs": [
        {
          "name": "stderr",
          "output_type": "stream",
          "text": [
            "/usr/local/lib/python3.10/dist-packages/huggingface_hub/utils/_token.py:88: UserWarning: \n",
            "The secret `HF_TOKEN` does not exist in your Colab secrets.\n",
            "To authenticate with the Hugging Face Hub, create a token in your settings tab (https://huggingface.co/settings/tokens), set it as secret in your Google Colab and restart your session.\n",
            "You will be able to reuse this secret in all of your notebooks.\n",
            "Please note that authentication is recommended but still optional to access public models or datasets.\n",
            "  warnings.warn(\n"
          ]
        },
        {
          "data": {
            "application/vnd.jupyter.widget-view+json": {
              "model_id": "552bb0de1a7b4fce888a8f39afaa320a",
              "version_major": 2,
              "version_minor": 0
            },
            "text/plain": [
              "config.json:   0%|          | 0.00/665 [00:00<?, ?B/s]"
            ]
          },
          "metadata": {},
          "output_type": "display_data"
        },
        {
          "data": {
            "application/vnd.jupyter.widget-view+json": {
              "model_id": "5849e485dd0f4d83a9253e25a3734bfe",
              "version_major": 2,
              "version_minor": 0
            },
            "text/plain": [
              "model.safetensors:   0%|          | 0.00/548M [00:00<?, ?B/s]"
            ]
          },
          "metadata": {},
          "output_type": "display_data"
        },
        {
          "data": {
            "application/vnd.jupyter.widget-view+json": {
              "model_id": "ba3b7017799148ec8ca0bdc0a86888c6",
              "version_major": 2,
              "version_minor": 0
            },
            "text/plain": [
              "generation_config.json:   0%|          | 0.00/124 [00:00<?, ?B/s]"
            ]
          },
          "metadata": {},
          "output_type": "display_data"
        },
        {
          "data": {
            "application/vnd.jupyter.widget-view+json": {
              "model_id": "49e67b6ed85c41ef9507a9508ddfdd79",
              "version_major": 2,
              "version_minor": 0
            },
            "text/plain": [
              "tokenizer_config.json:   0%|          | 0.00/26.0 [00:00<?, ?B/s]"
            ]
          },
          "metadata": {},
          "output_type": "display_data"
        },
        {
          "data": {
            "application/vnd.jupyter.widget-view+json": {
              "model_id": "e9eb5afcfa4e47898fffcc30c3aa67f6",
              "version_major": 2,
              "version_minor": 0
            },
            "text/plain": [
              "vocab.json:   0%|          | 0.00/1.04M [00:00<?, ?B/s]"
            ]
          },
          "metadata": {},
          "output_type": "display_data"
        },
        {
          "data": {
            "application/vnd.jupyter.widget-view+json": {
              "model_id": "38e79840c7b742f8a6121179b6156f9c",
              "version_major": 2,
              "version_minor": 0
            },
            "text/plain": [
              "merges.txt:   0%|          | 0.00/456k [00:00<?, ?B/s]"
            ]
          },
          "metadata": {},
          "output_type": "display_data"
        },
        {
          "data": {
            "application/vnd.jupyter.widget-view+json": {
              "model_id": "6b8131f0c533413aa79b8a54878db0b4",
              "version_major": 2,
              "version_minor": 0
            },
            "text/plain": [
              "tokenizer.json:   0%|          | 0.00/1.36M [00:00<?, ?B/s]"
            ]
          },
          "metadata": {},
          "output_type": "display_data"
        }
      ],
      "source": [
        "from transformers import pipeline\n",
        "\n",
        "generator = pipeline('text-generation', model='gpt2')"
      ]
    },
    {
      "cell_type": "markdown",
      "metadata": {
        "id": "ztrVmcd1zO50"
      },
      "source": [
        "With our generator in place, we're ready to start creating masterpieces!\n"
      ]
    },
    {
      "cell_type": "markdown",
      "metadata": {
        "id": "KKQY2bopzO50"
      },
      "source": [
        "### Building the Text Generation API\n"
      ]
    },
    {
      "cell_type": "markdown",
      "metadata": {
        "id": "b_-obVmZzO50"
      },
      "source": [
        "Now, we're going to design an API that allows users to feed a string of text to our AI author, who will then generate a piece of text based on the input:\n"
      ]
    },
    {
      "cell_type": "code",
      "execution_count": null,
      "metadata": {
        "colab": {
          "base_uri": "https://localhost:8080/"
        },
        "id": "A6OAKvHKzO50",
        "outputId": "d97c847b-eb88-4024-8c90-ec594d37e518"
      },
      "outputs": [
        {
          "name": "stdout",
          "output_type": "stream",
          "text": [
            "Overwriting main.py\n"
          ]
        }
      ],
      "source": [
        "%%writefile main.py\n",
        "from fastapi import FastAPI\n",
        "from pydantic import BaseModel\n",
        "from transformers import pipeline\n",
        "\n",
        "generator = pipeline('text-generation', model='gpt2')\n",
        "\n",
        "class Item(BaseModel):\n",
        "    text: str\n",
        "\n",
        "app = FastAPI()\n",
        "\n",
        "@app.post(\"/api/generate\")\n",
        "def generate_text(item: Item):\n",
        "    # Generate text\n",
        "    outputs = generator(item.text, max_length=150, num_return_sequences=5, no_repeat_ngram_size=2)\n",
        "    generated_text = [output['generated_text'] for output in outputs]\n",
        "\n",
        "    return {\"message\": \"Text generated!\", \"generated_text\": generated_text}"
      ]
    },
    {
      "cell_type": "code",
      "execution_count": null,
      "metadata": {
        "id": "tn8k4ExlLUE1"
      },
      "outputs": [],
      "source": [
        "import requests\n",
        "response = requests.post()"
      ]
    },
    {
      "cell_type": "markdown",
      "metadata": {
        "id": "iwHNBC63LTq0"
      },
      "source": []
    },
    {
      "cell_type": "markdown",
      "metadata": {
        "id": "i9hVa-ztzO51"
      },
      "source": [
        "Running localhost and ngrok:\n"
      ]
    },
    {
      "cell_type": "code",
      "execution_count": null,
      "metadata": {
        "colab": {
          "base_uri": "https://localhost:8080/"
        },
        "id": "89gLFMgwzO51",
        "outputId": "5673f1c9-4165-4d55-e54e-2b3319faad26"
      },
      "outputs": [
        {
          "name": "stdout",
          "output_type": "stream",
          "text": [
            "Public URL: NgrokTunnel: \"https://25df-34-125-212-186.ngrok-free.app\" -> \"http://localhost:8000\"\n"
          ]
        },
        {
          "name": "stderr",
          "output_type": "stream",
          "text": [
            "\u001b[32mINFO\u001b[0m:     Will watch for changes in these directories: ['/content']\n",
            "\u001b[32mINFO\u001b[0m:     Uvicorn running on \u001b[1mhttp://0.0.0.0:8000\u001b[0m (Press CTRL+C to quit)\n",
            "\u001b[32mINFO\u001b[0m:     Started reloader process [\u001b[36m\u001b[1m145\u001b[0m] using \u001b[36m\u001b[1mStatReload\u001b[0m\n",
            "WARNING:pyngrok.process.ngrok:t=2024-03-06T14:22:03+0000 lvl=warn msg=\"failed to open private leg\" id=4a503f7b9b6a privaddr=localhost:8000 err=\"dial tcp 127.0.0.1:8000: connect: connection refused\"\n",
            "WARNING:pyngrok.process.ngrok:t=2024-03-06T14:22:04+0000 lvl=warn msg=\"failed to open private leg\" id=0ddc889c6676 privaddr=localhost:8000 err=\"dial tcp 127.0.0.1:8000: connect: connection refused\"\n",
            "\u001b[32mINFO\u001b[0m:     Stopping reloader process [\u001b[36m\u001b[1m145\u001b[0m]\n"
          ]
        }
      ],
      "source": [
        "from pyngrok import ngrok\n",
        "import uvicorn\n",
        "\n",
        "# Setup ngrok\n",
        "ngrok.set_auth_token(your_ngrok_token)\n",
        "\n",
        "public_url = ngrok.connect(addr=\"8000\", proto=\"http\", bind_tls=True)\n",
        "print(f\"Public URL: {public_url}\")\n",
        "\n",
        "# Start server\n",
        "uvicorn.run(app='main:app', host=\"0.0.0.0\", port=8000, reload=True, use_colors=True)"
      ]
    },
    {
      "cell_type": "markdown",
      "metadata": {
        "id": "GoXhoGn2zO51"
      },
      "source": [
        "And there you have it! We've just created an endpoint '/api/generate' that accepts POST requests. This endpoint expects a string of text as input in the form of JSON data. It takes this text, feeds it to our AI author, and in response, provides five unique continuations of the initial text.\n"
      ]
    },
    {
      "cell_type": "markdown",
      "metadata": {
        "id": "ZW6uj2aPzO51"
      },
      "source": [
        "Go to <http://127.0.0.1:8000/docs>, <https://{ngrok-url}/docs> or <http://127.0.0.1:8000/redoc> or <https://{ngrok-url}/redoc> for interactive documentation your API\n"
      ]
    },
    {
      "cell_type": "markdown",
      "metadata": {
        "id": "X8-jEIvmzO51"
      },
      "source": [
        "With FastAPI and Hugging Face's Transformers, you've just turned your local GPT-2 model into a globally accessible AI-powered author. This is the beauty of APIs in machine learning. This project is a foundation upon which you can build more complex APIs, integrating different models and tasks to suit your needs.\n"
      ]
    },
    {
      "cell_type": "code",
      "execution_count": null,
      "metadata": {
        "colab": {
          "base_uri": "https://localhost:8080/"
        },
        "id": "-CwAy5Z6J32S",
        "outputId": "a10efd35-90a8-4f9b-c83a-feea71d1808d"
      },
      "outputs": [
        {
          "data": {
            "text/plain": [
              "{1: 'SneakersAdidas', 2: 'T-Shirt', 3: 'Jeans', 4: 'Sunglasses', 5: 'Hat'}"
            ]
          },
          "execution_count": 28,
          "metadata": {},
          "output_type": "execute_result"
        }
      ],
      "source": [
        "products = {1: \"Sneakers\", 2: \"T-Shirt\", 3: \"Jeans\",\n",
        "            4: \"Sunglasses\", 5: \"Hat\", 1: \"SneakersAdidas\"}\n",
        "products"
      ]
    },
    {
      "cell_type": "markdown",
      "metadata": {
        "id": "n8H24ARSzO51"
      },
      "source": [
        "## Wrapping Up\n"
      ]
    },
    {
      "cell_type": "markdown",
      "metadata": {
        "id": "yhmrY8fpzO51"
      },
      "source": [
        "FastAPI provides an intuitive and flexible way to build robust APIs, and you've just scratched the surface by designing an API for text generation with a GPT-2 model. We walked through setting up endpoints, handling JSON data, routing, error handling, and making our API globally accessible with ngrok. We also took a deep dive into the dynamic world of path and query parameters.\n",
        "\n",
        "Equipped with these tools, you're now set to construct comprehensive, powerful, and secure APIs. Keep practicing, keep exploring, and before you know it, you'll be an accomplished FastAPI maestro!\n"
      ]
    }
  ],
  "metadata": {
    "colab": {
      "include_colab_link": true,
      "provenance": []
    },
    "kernelspec": {
      "display_name": "Python 3",
      "language": "python",
      "name": "python3"
    },
    "language_info": {
      "codemirror_mode": {
        "name": "ipython",
        "version": 3
      },
      "file_extension": ".py",
      "mimetype": "text/x-python",
      "name": "python",
      "nbconvert_exporter": "python",
      "pygments_lexer": "ipython3",
      "version": "3.8.10"
    },
    "orig_nbformat": 4,
    "widgets": {
      "application/vnd.jupyter.widget-state+json": {
        "023dc061018a4452b6f1cabecef16a9b": {
          "model_module": "@jupyter-widgets/controls",
          "model_module_version": "1.5.0",
          "model_name": "HTMLModel",
          "state": {
            "_dom_classes": [],
            "_model_module": "@jupyter-widgets/controls",
            "_model_module_version": "1.5.0",
            "_model_name": "HTMLModel",
            "_view_count": null,
            "_view_module": "@jupyter-widgets/controls",
            "_view_module_version": "1.5.0",
            "_view_name": "HTMLView",
            "description": "",
            "description_tooltip": null,
            "layout": "IPY_MODEL_d7e28418f57849008013b85bc0f304bb",
            "placeholder": "​",
            "style": "IPY_MODEL_fccc4d468fd24f42ab44c196a686cc61",
            "value": " 124/124 [00:00&lt;00:00, 4.34kB/s]"
          }
        },
        "06a182febd1c42c7b3d010e97b7f5fc4": {
          "model_module": "@jupyter-widgets/controls",
          "model_module_version": "1.5.0",
          "model_name": "DescriptionStyleModel",
          "state": {
            "_model_module": "@jupyter-widgets/controls",
            "_model_module_version": "1.5.0",
            "_model_name": "DescriptionStyleModel",
            "_view_count": null,
            "_view_module": "@jupyter-widgets/base",
            "_view_module_version": "1.2.0",
            "_view_name": "StyleView",
            "description_width": ""
          }
        },
        "089a54392c584227b86d16efb329decc": {
          "model_module": "@jupyter-widgets/base",
          "model_module_version": "1.2.0",
          "model_name": "LayoutModel",
          "state": {
            "_model_module": "@jupyter-widgets/base",
            "_model_module_version": "1.2.0",
            "_model_name": "LayoutModel",
            "_view_count": null,
            "_view_module": "@jupyter-widgets/base",
            "_view_module_version": "1.2.0",
            "_view_name": "LayoutView",
            "align_content": null,
            "align_items": null,
            "align_self": null,
            "border": null,
            "bottom": null,
            "display": null,
            "flex": null,
            "flex_flow": null,
            "grid_area": null,
            "grid_auto_columns": null,
            "grid_auto_flow": null,
            "grid_auto_rows": null,
            "grid_column": null,
            "grid_gap": null,
            "grid_row": null,
            "grid_template_areas": null,
            "grid_template_columns": null,
            "grid_template_rows": null,
            "height": null,
            "justify_content": null,
            "justify_items": null,
            "left": null,
            "margin": null,
            "max_height": null,
            "max_width": null,
            "min_height": null,
            "min_width": null,
            "object_fit": null,
            "object_position": null,
            "order": null,
            "overflow": null,
            "overflow_x": null,
            "overflow_y": null,
            "padding": null,
            "right": null,
            "top": null,
            "visibility": null,
            "width": null
          }
        },
        "094e957b2df746e38023b624513a0568": {
          "model_module": "@jupyter-widgets/base",
          "model_module_version": "1.2.0",
          "model_name": "LayoutModel",
          "state": {
            "_model_module": "@jupyter-widgets/base",
            "_model_module_version": "1.2.0",
            "_model_name": "LayoutModel",
            "_view_count": null,
            "_view_module": "@jupyter-widgets/base",
            "_view_module_version": "1.2.0",
            "_view_name": "LayoutView",
            "align_content": null,
            "align_items": null,
            "align_self": null,
            "border": null,
            "bottom": null,
            "display": null,
            "flex": null,
            "flex_flow": null,
            "grid_area": null,
            "grid_auto_columns": null,
            "grid_auto_flow": null,
            "grid_auto_rows": null,
            "grid_column": null,
            "grid_gap": null,
            "grid_row": null,
            "grid_template_areas": null,
            "grid_template_columns": null,
            "grid_template_rows": null,
            "height": null,
            "justify_content": null,
            "justify_items": null,
            "left": null,
            "margin": null,
            "max_height": null,
            "max_width": null,
            "min_height": null,
            "min_width": null,
            "object_fit": null,
            "object_position": null,
            "order": null,
            "overflow": null,
            "overflow_x": null,
            "overflow_y": null,
            "padding": null,
            "right": null,
            "top": null,
            "visibility": null,
            "width": null
          }
        },
        "0a102c8e8c8040c482d04c128e014390": {
          "model_module": "@jupyter-widgets/controls",
          "model_module_version": "1.5.0",
          "model_name": "DescriptionStyleModel",
          "state": {
            "_model_module": "@jupyter-widgets/controls",
            "_model_module_version": "1.5.0",
            "_model_name": "DescriptionStyleModel",
            "_view_count": null,
            "_view_module": "@jupyter-widgets/base",
            "_view_module_version": "1.2.0",
            "_view_name": "StyleView",
            "description_width": ""
          }
        },
        "0cb4b2139669469d84be4c5d52623ad9": {
          "model_module": "@jupyter-widgets/base",
          "model_module_version": "1.2.0",
          "model_name": "LayoutModel",
          "state": {
            "_model_module": "@jupyter-widgets/base",
            "_model_module_version": "1.2.0",
            "_model_name": "LayoutModel",
            "_view_count": null,
            "_view_module": "@jupyter-widgets/base",
            "_view_module_version": "1.2.0",
            "_view_name": "LayoutView",
            "align_content": null,
            "align_items": null,
            "align_self": null,
            "border": null,
            "bottom": null,
            "display": null,
            "flex": null,
            "flex_flow": null,
            "grid_area": null,
            "grid_auto_columns": null,
            "grid_auto_flow": null,
            "grid_auto_rows": null,
            "grid_column": null,
            "grid_gap": null,
            "grid_row": null,
            "grid_template_areas": null,
            "grid_template_columns": null,
            "grid_template_rows": null,
            "height": null,
            "justify_content": null,
            "justify_items": null,
            "left": null,
            "margin": null,
            "max_height": null,
            "max_width": null,
            "min_height": null,
            "min_width": null,
            "object_fit": null,
            "object_position": null,
            "order": null,
            "overflow": null,
            "overflow_x": null,
            "overflow_y": null,
            "padding": null,
            "right": null,
            "top": null,
            "visibility": null,
            "width": null
          }
        },
        "0db318ef76b44954a9d1bf02ddfec51d": {
          "model_module": "@jupyter-widgets/controls",
          "model_module_version": "1.5.0",
          "model_name": "DescriptionStyleModel",
          "state": {
            "_model_module": "@jupyter-widgets/controls",
            "_model_module_version": "1.5.0",
            "_model_name": "DescriptionStyleModel",
            "_view_count": null,
            "_view_module": "@jupyter-widgets/base",
            "_view_module_version": "1.2.0",
            "_view_name": "StyleView",
            "description_width": ""
          }
        },
        "0ec28e5f04d8409b9d811ae91f6b2551": {
          "model_module": "@jupyter-widgets/controls",
          "model_module_version": "1.5.0",
          "model_name": "HTMLModel",
          "state": {
            "_dom_classes": [],
            "_model_module": "@jupyter-widgets/controls",
            "_model_module_version": "1.5.0",
            "_model_name": "HTMLModel",
            "_view_count": null,
            "_view_module": "@jupyter-widgets/controls",
            "_view_module_version": "1.5.0",
            "_view_name": "HTMLView",
            "description": "",
            "description_tooltip": null,
            "layout": "IPY_MODEL_9bcf7fe989744c5982f4a7bff82ed7fa",
            "placeholder": "​",
            "style": "IPY_MODEL_b51dde831260443bbe77ec2610740461",
            "value": "generation_config.json: 100%"
          }
        },
        "0f386475fead4185baa7a05a35078d5a": {
          "model_module": "@jupyter-widgets/base",
          "model_module_version": "1.2.0",
          "model_name": "LayoutModel",
          "state": {
            "_model_module": "@jupyter-widgets/base",
            "_model_module_version": "1.2.0",
            "_model_name": "LayoutModel",
            "_view_count": null,
            "_view_module": "@jupyter-widgets/base",
            "_view_module_version": "1.2.0",
            "_view_name": "LayoutView",
            "align_content": null,
            "align_items": null,
            "align_self": null,
            "border": null,
            "bottom": null,
            "display": null,
            "flex": null,
            "flex_flow": null,
            "grid_area": null,
            "grid_auto_columns": null,
            "grid_auto_flow": null,
            "grid_auto_rows": null,
            "grid_column": null,
            "grid_gap": null,
            "grid_row": null,
            "grid_template_areas": null,
            "grid_template_columns": null,
            "grid_template_rows": null,
            "height": null,
            "justify_content": null,
            "justify_items": null,
            "left": null,
            "margin": null,
            "max_height": null,
            "max_width": null,
            "min_height": null,
            "min_width": null,
            "object_fit": null,
            "object_position": null,
            "order": null,
            "overflow": null,
            "overflow_x": null,
            "overflow_y": null,
            "padding": null,
            "right": null,
            "top": null,
            "visibility": null,
            "width": null
          }
        },
        "13eff6fd7870453eb7bc290de47cf605": {
          "model_module": "@jupyter-widgets/base",
          "model_module_version": "1.2.0",
          "model_name": "LayoutModel",
          "state": {
            "_model_module": "@jupyter-widgets/base",
            "_model_module_version": "1.2.0",
            "_model_name": "LayoutModel",
            "_view_count": null,
            "_view_module": "@jupyter-widgets/base",
            "_view_module_version": "1.2.0",
            "_view_name": "LayoutView",
            "align_content": null,
            "align_items": null,
            "align_self": null,
            "border": null,
            "bottom": null,
            "display": null,
            "flex": null,
            "flex_flow": null,
            "grid_area": null,
            "grid_auto_columns": null,
            "grid_auto_flow": null,
            "grid_auto_rows": null,
            "grid_column": null,
            "grid_gap": null,
            "grid_row": null,
            "grid_template_areas": null,
            "grid_template_columns": null,
            "grid_template_rows": null,
            "height": null,
            "justify_content": null,
            "justify_items": null,
            "left": null,
            "margin": null,
            "max_height": null,
            "max_width": null,
            "min_height": null,
            "min_width": null,
            "object_fit": null,
            "object_position": null,
            "order": null,
            "overflow": null,
            "overflow_x": null,
            "overflow_y": null,
            "padding": null,
            "right": null,
            "top": null,
            "visibility": null,
            "width": null
          }
        },
        "13fd2e49321b4f9687388b9d8b604081": {
          "model_module": "@jupyter-widgets/controls",
          "model_module_version": "1.5.0",
          "model_name": "HTMLModel",
          "state": {
            "_dom_classes": [],
            "_model_module": "@jupyter-widgets/controls",
            "_model_module_version": "1.5.0",
            "_model_name": "HTMLModel",
            "_view_count": null,
            "_view_module": "@jupyter-widgets/controls",
            "_view_module_version": "1.5.0",
            "_view_name": "HTMLView",
            "description": "",
            "description_tooltip": null,
            "layout": "IPY_MODEL_17d622818efa499e9a8a89e089250f94",
            "placeholder": "​",
            "style": "IPY_MODEL_0db318ef76b44954a9d1bf02ddfec51d",
            "value": "merges.txt: 100%"
          }
        },
        "1521d8cd7a2c4dbb8f8bec9dc0223b47": {
          "model_module": "@jupyter-widgets/controls",
          "model_module_version": "1.5.0",
          "model_name": "FloatProgressModel",
          "state": {
            "_dom_classes": [],
            "_model_module": "@jupyter-widgets/controls",
            "_model_module_version": "1.5.0",
            "_model_name": "FloatProgressModel",
            "_view_count": null,
            "_view_module": "@jupyter-widgets/controls",
            "_view_module_version": "1.5.0",
            "_view_name": "ProgressView",
            "bar_style": "success",
            "description": "",
            "description_tooltip": null,
            "layout": "IPY_MODEL_1e0b94c81d3b4256a2a03b830f449962",
            "max": 665,
            "min": 0,
            "orientation": "horizontal",
            "style": "IPY_MODEL_8f2efc690b0a4d4c9e00be90d45f834f",
            "value": 665
          }
        },
        "17d622818efa499e9a8a89e089250f94": {
          "model_module": "@jupyter-widgets/base",
          "model_module_version": "1.2.0",
          "model_name": "LayoutModel",
          "state": {
            "_model_module": "@jupyter-widgets/base",
            "_model_module_version": "1.2.0",
            "_model_name": "LayoutModel",
            "_view_count": null,
            "_view_module": "@jupyter-widgets/base",
            "_view_module_version": "1.2.0",
            "_view_name": "LayoutView",
            "align_content": null,
            "align_items": null,
            "align_self": null,
            "border": null,
            "bottom": null,
            "display": null,
            "flex": null,
            "flex_flow": null,
            "grid_area": null,
            "grid_auto_columns": null,
            "grid_auto_flow": null,
            "grid_auto_rows": null,
            "grid_column": null,
            "grid_gap": null,
            "grid_row": null,
            "grid_template_areas": null,
            "grid_template_columns": null,
            "grid_template_rows": null,
            "height": null,
            "justify_content": null,
            "justify_items": null,
            "left": null,
            "margin": null,
            "max_height": null,
            "max_width": null,
            "min_height": null,
            "min_width": null,
            "object_fit": null,
            "object_position": null,
            "order": null,
            "overflow": null,
            "overflow_x": null,
            "overflow_y": null,
            "padding": null,
            "right": null,
            "top": null,
            "visibility": null,
            "width": null
          }
        },
        "1a43089ea3f04e48871aa0d7073e4d50": {
          "model_module": "@jupyter-widgets/controls",
          "model_module_version": "1.5.0",
          "model_name": "ProgressStyleModel",
          "state": {
            "_model_module": "@jupyter-widgets/controls",
            "_model_module_version": "1.5.0",
            "_model_name": "ProgressStyleModel",
            "_view_count": null,
            "_view_module": "@jupyter-widgets/base",
            "_view_module_version": "1.2.0",
            "_view_name": "StyleView",
            "bar_color": null,
            "description_width": ""
          }
        },
        "1c38998310ed45219a2cfe2c5037e882": {
          "model_module": "@jupyter-widgets/controls",
          "model_module_version": "1.5.0",
          "model_name": "FloatProgressModel",
          "state": {
            "_dom_classes": [],
            "_model_module": "@jupyter-widgets/controls",
            "_model_module_version": "1.5.0",
            "_model_name": "FloatProgressModel",
            "_view_count": null,
            "_view_module": "@jupyter-widgets/controls",
            "_view_module_version": "1.5.0",
            "_view_name": "ProgressView",
            "bar_style": "success",
            "description": "",
            "description_tooltip": null,
            "layout": "IPY_MODEL_eb8fbf038931444a83125567b0772997",
            "max": 1355256,
            "min": 0,
            "orientation": "horizontal",
            "style": "IPY_MODEL_c64f6f1719054564bcad0835f5f45c19",
            "value": 1355256
          }
        },
        "1e0b94c81d3b4256a2a03b830f449962": {
          "model_module": "@jupyter-widgets/base",
          "model_module_version": "1.2.0",
          "model_name": "LayoutModel",
          "state": {
            "_model_module": "@jupyter-widgets/base",
            "_model_module_version": "1.2.0",
            "_model_name": "LayoutModel",
            "_view_count": null,
            "_view_module": "@jupyter-widgets/base",
            "_view_module_version": "1.2.0",
            "_view_name": "LayoutView",
            "align_content": null,
            "align_items": null,
            "align_self": null,
            "border": null,
            "bottom": null,
            "display": null,
            "flex": null,
            "flex_flow": null,
            "grid_area": null,
            "grid_auto_columns": null,
            "grid_auto_flow": null,
            "grid_auto_rows": null,
            "grid_column": null,
            "grid_gap": null,
            "grid_row": null,
            "grid_template_areas": null,
            "grid_template_columns": null,
            "grid_template_rows": null,
            "height": null,
            "justify_content": null,
            "justify_items": null,
            "left": null,
            "margin": null,
            "max_height": null,
            "max_width": null,
            "min_height": null,
            "min_width": null,
            "object_fit": null,
            "object_position": null,
            "order": null,
            "overflow": null,
            "overflow_x": null,
            "overflow_y": null,
            "padding": null,
            "right": null,
            "top": null,
            "visibility": null,
            "width": null
          }
        },
        "2fe9f04741494d059216847206c517ff": {
          "model_module": "@jupyter-widgets/controls",
          "model_module_version": "1.5.0",
          "model_name": "FloatProgressModel",
          "state": {
            "_dom_classes": [],
            "_model_module": "@jupyter-widgets/controls",
            "_model_module_version": "1.5.0",
            "_model_name": "FloatProgressModel",
            "_view_count": null,
            "_view_module": "@jupyter-widgets/controls",
            "_view_module_version": "1.5.0",
            "_view_name": "ProgressView",
            "bar_style": "success",
            "description": "",
            "description_tooltip": null,
            "layout": "IPY_MODEL_97dfd5d7d2e54b7e83322b125296fa04",
            "max": 548105171,
            "min": 0,
            "orientation": "horizontal",
            "style": "IPY_MODEL_41adba4ed5ea4463ae7b6c60722c2443",
            "value": 548105171
          }
        },
        "38e79840c7b742f8a6121179b6156f9c": {
          "model_module": "@jupyter-widgets/controls",
          "model_module_version": "1.5.0",
          "model_name": "HBoxModel",
          "state": {
            "_dom_classes": [],
            "_model_module": "@jupyter-widgets/controls",
            "_model_module_version": "1.5.0",
            "_model_name": "HBoxModel",
            "_view_count": null,
            "_view_module": "@jupyter-widgets/controls",
            "_view_module_version": "1.5.0",
            "_view_name": "HBoxView",
            "box_style": "",
            "children": [
              "IPY_MODEL_13fd2e49321b4f9687388b9d8b604081",
              "IPY_MODEL_76a3e9f7e2e6426389effa0161c56aec",
              "IPY_MODEL_49a367253abc49babdafac2eb5e8647f"
            ],
            "layout": "IPY_MODEL_0f386475fead4185baa7a05a35078d5a"
          }
        },
        "3b96bdcce8cf4334aea0fb1826b5bf6c": {
          "model_module": "@jupyter-widgets/controls",
          "model_module_version": "1.5.0",
          "model_name": "FloatProgressModel",
          "state": {
            "_dom_classes": [],
            "_model_module": "@jupyter-widgets/controls",
            "_model_module_version": "1.5.0",
            "_model_name": "FloatProgressModel",
            "_view_count": null,
            "_view_module": "@jupyter-widgets/controls",
            "_view_module_version": "1.5.0",
            "_view_name": "ProgressView",
            "bar_style": "success",
            "description": "",
            "description_tooltip": null,
            "layout": "IPY_MODEL_089a54392c584227b86d16efb329decc",
            "max": 124,
            "min": 0,
            "orientation": "horizontal",
            "style": "IPY_MODEL_4ad18554e3364f72800ecbf81c9cc71b",
            "value": 124
          }
        },
        "410127eede684133a98bd8f515a8acba": {
          "model_module": "@jupyter-widgets/base",
          "model_module_version": "1.2.0",
          "model_name": "LayoutModel",
          "state": {
            "_model_module": "@jupyter-widgets/base",
            "_model_module_version": "1.2.0",
            "_model_name": "LayoutModel",
            "_view_count": null,
            "_view_module": "@jupyter-widgets/base",
            "_view_module_version": "1.2.0",
            "_view_name": "LayoutView",
            "align_content": null,
            "align_items": null,
            "align_self": null,
            "border": null,
            "bottom": null,
            "display": null,
            "flex": null,
            "flex_flow": null,
            "grid_area": null,
            "grid_auto_columns": null,
            "grid_auto_flow": null,
            "grid_auto_rows": null,
            "grid_column": null,
            "grid_gap": null,
            "grid_row": null,
            "grid_template_areas": null,
            "grid_template_columns": null,
            "grid_template_rows": null,
            "height": null,
            "justify_content": null,
            "justify_items": null,
            "left": null,
            "margin": null,
            "max_height": null,
            "max_width": null,
            "min_height": null,
            "min_width": null,
            "object_fit": null,
            "object_position": null,
            "order": null,
            "overflow": null,
            "overflow_x": null,
            "overflow_y": null,
            "padding": null,
            "right": null,
            "top": null,
            "visibility": null,
            "width": null
          }
        },
        "41adba4ed5ea4463ae7b6c60722c2443": {
          "model_module": "@jupyter-widgets/controls",
          "model_module_version": "1.5.0",
          "model_name": "ProgressStyleModel",
          "state": {
            "_model_module": "@jupyter-widgets/controls",
            "_model_module_version": "1.5.0",
            "_model_name": "ProgressStyleModel",
            "_view_count": null,
            "_view_module": "@jupyter-widgets/base",
            "_view_module_version": "1.2.0",
            "_view_name": "StyleView",
            "bar_color": null,
            "description_width": ""
          }
        },
        "45824cca63b747b39835f7d139754425": {
          "model_module": "@jupyter-widgets/controls",
          "model_module_version": "1.5.0",
          "model_name": "DescriptionStyleModel",
          "state": {
            "_model_module": "@jupyter-widgets/controls",
            "_model_module_version": "1.5.0",
            "_model_name": "DescriptionStyleModel",
            "_view_count": null,
            "_view_module": "@jupyter-widgets/base",
            "_view_module_version": "1.2.0",
            "_view_name": "StyleView",
            "description_width": ""
          }
        },
        "493298dba57446baacee47741a67ee23": {
          "model_module": "@jupyter-widgets/base",
          "model_module_version": "1.2.0",
          "model_name": "LayoutModel",
          "state": {
            "_model_module": "@jupyter-widgets/base",
            "_model_module_version": "1.2.0",
            "_model_name": "LayoutModel",
            "_view_count": null,
            "_view_module": "@jupyter-widgets/base",
            "_view_module_version": "1.2.0",
            "_view_name": "LayoutView",
            "align_content": null,
            "align_items": null,
            "align_self": null,
            "border": null,
            "bottom": null,
            "display": null,
            "flex": null,
            "flex_flow": null,
            "grid_area": null,
            "grid_auto_columns": null,
            "grid_auto_flow": null,
            "grid_auto_rows": null,
            "grid_column": null,
            "grid_gap": null,
            "grid_row": null,
            "grid_template_areas": null,
            "grid_template_columns": null,
            "grid_template_rows": null,
            "height": null,
            "justify_content": null,
            "justify_items": null,
            "left": null,
            "margin": null,
            "max_height": null,
            "max_width": null,
            "min_height": null,
            "min_width": null,
            "object_fit": null,
            "object_position": null,
            "order": null,
            "overflow": null,
            "overflow_x": null,
            "overflow_y": null,
            "padding": null,
            "right": null,
            "top": null,
            "visibility": null,
            "width": null
          }
        },
        "49a367253abc49babdafac2eb5e8647f": {
          "model_module": "@jupyter-widgets/controls",
          "model_module_version": "1.5.0",
          "model_name": "HTMLModel",
          "state": {
            "_dom_classes": [],
            "_model_module": "@jupyter-widgets/controls",
            "_model_module_version": "1.5.0",
            "_model_name": "HTMLModel",
            "_view_count": null,
            "_view_module": "@jupyter-widgets/controls",
            "_view_module_version": "1.5.0",
            "_view_name": "HTMLView",
            "description": "",
            "description_tooltip": null,
            "layout": "IPY_MODEL_710feeab83054235b7add52946706cd7",
            "placeholder": "​",
            "style": "IPY_MODEL_b58efe33b8d7416eb3d36fa8e1a6c848",
            "value": " 456k/456k [00:00&lt;00:00, 18.5MB/s]"
          }
        },
        "49e67b6ed85c41ef9507a9508ddfdd79": {
          "model_module": "@jupyter-widgets/controls",
          "model_module_version": "1.5.0",
          "model_name": "HBoxModel",
          "state": {
            "_dom_classes": [],
            "_model_module": "@jupyter-widgets/controls",
            "_model_module_version": "1.5.0",
            "_model_name": "HBoxModel",
            "_view_count": null,
            "_view_module": "@jupyter-widgets/controls",
            "_view_module_version": "1.5.0",
            "_view_name": "HBoxView",
            "box_style": "",
            "children": [
              "IPY_MODEL_8c1ba0593ce64932adf3b38691dc9bb8",
              "IPY_MODEL_7f6b60576fed4cb79a2f1db947c457e4",
              "IPY_MODEL_6cb12d7340be4c66859cd9f1a28d7c74"
            ],
            "layout": "IPY_MODEL_c2d9ab560bf44cd2bffbf1fad2b061f7"
          }
        },
        "4ad18554e3364f72800ecbf81c9cc71b": {
          "model_module": "@jupyter-widgets/controls",
          "model_module_version": "1.5.0",
          "model_name": "ProgressStyleModel",
          "state": {
            "_model_module": "@jupyter-widgets/controls",
            "_model_module_version": "1.5.0",
            "_model_name": "ProgressStyleModel",
            "_view_count": null,
            "_view_module": "@jupyter-widgets/base",
            "_view_module_version": "1.2.0",
            "_view_name": "StyleView",
            "bar_color": null,
            "description_width": ""
          }
        },
        "4cccae71eabb490990e69bf3f85775ab": {
          "model_module": "@jupyter-widgets/base",
          "model_module_version": "1.2.0",
          "model_name": "LayoutModel",
          "state": {
            "_model_module": "@jupyter-widgets/base",
            "_model_module_version": "1.2.0",
            "_model_name": "LayoutModel",
            "_view_count": null,
            "_view_module": "@jupyter-widgets/base",
            "_view_module_version": "1.2.0",
            "_view_name": "LayoutView",
            "align_content": null,
            "align_items": null,
            "align_self": null,
            "border": null,
            "bottom": null,
            "display": null,
            "flex": null,
            "flex_flow": null,
            "grid_area": null,
            "grid_auto_columns": null,
            "grid_auto_flow": null,
            "grid_auto_rows": null,
            "grid_column": null,
            "grid_gap": null,
            "grid_row": null,
            "grid_template_areas": null,
            "grid_template_columns": null,
            "grid_template_rows": null,
            "height": null,
            "justify_content": null,
            "justify_items": null,
            "left": null,
            "margin": null,
            "max_height": null,
            "max_width": null,
            "min_height": null,
            "min_width": null,
            "object_fit": null,
            "object_position": null,
            "order": null,
            "overflow": null,
            "overflow_x": null,
            "overflow_y": null,
            "padding": null,
            "right": null,
            "top": null,
            "visibility": null,
            "width": null
          }
        },
        "4d3a6ff482f84635a2a0ecdc9e1577d9": {
          "model_module": "@jupyter-widgets/controls",
          "model_module_version": "1.5.0",
          "model_name": "HTMLModel",
          "state": {
            "_dom_classes": [],
            "_model_module": "@jupyter-widgets/controls",
            "_model_module_version": "1.5.0",
            "_model_name": "HTMLModel",
            "_view_count": null,
            "_view_module": "@jupyter-widgets/controls",
            "_view_module_version": "1.5.0",
            "_view_name": "HTMLView",
            "description": "",
            "description_tooltip": null,
            "layout": "IPY_MODEL_f9ff9601b9b94af5b20ce651d6f89b51",
            "placeholder": "​",
            "style": "IPY_MODEL_9aa5e22be46f4757981e802aabeabef0",
            "value": " 1.04M/1.04M [00:00&lt;00:00, 3.97MB/s]"
          }
        },
        "552bb0de1a7b4fce888a8f39afaa320a": {
          "model_module": "@jupyter-widgets/controls",
          "model_module_version": "1.5.0",
          "model_name": "HBoxModel",
          "state": {
            "_dom_classes": [],
            "_model_module": "@jupyter-widgets/controls",
            "_model_module_version": "1.5.0",
            "_model_name": "HBoxModel",
            "_view_count": null,
            "_view_module": "@jupyter-widgets/controls",
            "_view_module_version": "1.5.0",
            "_view_name": "HBoxView",
            "box_style": "",
            "children": [
              "IPY_MODEL_73ba9bb21043471b902ef67e7ab6ae05",
              "IPY_MODEL_1521d8cd7a2c4dbb8f8bec9dc0223b47",
              "IPY_MODEL_635cf493fda447e2978c217e73cb896f"
            ],
            "layout": "IPY_MODEL_4cccae71eabb490990e69bf3f85775ab"
          }
        },
        "5849e485dd0f4d83a9253e25a3734bfe": {
          "model_module": "@jupyter-widgets/controls",
          "model_module_version": "1.5.0",
          "model_name": "HBoxModel",
          "state": {
            "_dom_classes": [],
            "_model_module": "@jupyter-widgets/controls",
            "_model_module_version": "1.5.0",
            "_model_name": "HBoxModel",
            "_view_count": null,
            "_view_module": "@jupyter-widgets/controls",
            "_view_module_version": "1.5.0",
            "_view_name": "HBoxView",
            "box_style": "",
            "children": [
              "IPY_MODEL_979e8fcc222045548eb88be9e6358ef6",
              "IPY_MODEL_2fe9f04741494d059216847206c517ff",
              "IPY_MODEL_ce4192f58676419aa95e404bf4259a9a"
            ],
            "layout": "IPY_MODEL_dfdc07a0b4d94e12978c2576ad46cca5"
          }
        },
        "58d9900b24724237bfe102c00d765cc6": {
          "model_module": "@jupyter-widgets/controls",
          "model_module_version": "1.5.0",
          "model_name": "HTMLModel",
          "state": {
            "_dom_classes": [],
            "_model_module": "@jupyter-widgets/controls",
            "_model_module_version": "1.5.0",
            "_model_name": "HTMLModel",
            "_view_count": null,
            "_view_module": "@jupyter-widgets/controls",
            "_view_module_version": "1.5.0",
            "_view_name": "HTMLView",
            "description": "",
            "description_tooltip": null,
            "layout": "IPY_MODEL_410127eede684133a98bd8f515a8acba",
            "placeholder": "​",
            "style": "IPY_MODEL_ea28d3221c07486097ea1e9bd908874c",
            "value": " 1.36M/1.36M [00:00&lt;00:00, 6.88MB/s]"
          }
        },
        "5a7d49ec8e8e4f2096b683c95f82bcdd": {
          "model_module": "@jupyter-widgets/controls",
          "model_module_version": "1.5.0",
          "model_name": "HTMLModel",
          "state": {
            "_dom_classes": [],
            "_model_module": "@jupyter-widgets/controls",
            "_model_module_version": "1.5.0",
            "_model_name": "HTMLModel",
            "_view_count": null,
            "_view_module": "@jupyter-widgets/controls",
            "_view_module_version": "1.5.0",
            "_view_name": "HTMLView",
            "description": "",
            "description_tooltip": null,
            "layout": "IPY_MODEL_fe6b4def5e774e4680660179618ae1d0",
            "placeholder": "​",
            "style": "IPY_MODEL_ceae1e1281d5481990596a8535c3b54e",
            "value": "tokenizer.json: 100%"
          }
        },
        "635cf493fda447e2978c217e73cb896f": {
          "model_module": "@jupyter-widgets/controls",
          "model_module_version": "1.5.0",
          "model_name": "HTMLModel",
          "state": {
            "_dom_classes": [],
            "_model_module": "@jupyter-widgets/controls",
            "_model_module_version": "1.5.0",
            "_model_name": "HTMLModel",
            "_view_count": null,
            "_view_module": "@jupyter-widgets/controls",
            "_view_module_version": "1.5.0",
            "_view_name": "HTMLView",
            "description": "",
            "description_tooltip": null,
            "layout": "IPY_MODEL_094e957b2df746e38023b624513a0568",
            "placeholder": "​",
            "style": "IPY_MODEL_45824cca63b747b39835f7d139754425",
            "value": " 665/665 [00:00&lt;00:00, 38.4kB/s]"
          }
        },
        "655c98ba214640bebc75cff1bc34a10d": {
          "model_module": "@jupyter-widgets/base",
          "model_module_version": "1.2.0",
          "model_name": "LayoutModel",
          "state": {
            "_model_module": "@jupyter-widgets/base",
            "_model_module_version": "1.2.0",
            "_model_name": "LayoutModel",
            "_view_count": null,
            "_view_module": "@jupyter-widgets/base",
            "_view_module_version": "1.2.0",
            "_view_name": "LayoutView",
            "align_content": null,
            "align_items": null,
            "align_self": null,
            "border": null,
            "bottom": null,
            "display": null,
            "flex": null,
            "flex_flow": null,
            "grid_area": null,
            "grid_auto_columns": null,
            "grid_auto_flow": null,
            "grid_auto_rows": null,
            "grid_column": null,
            "grid_gap": null,
            "grid_row": null,
            "grid_template_areas": null,
            "grid_template_columns": null,
            "grid_template_rows": null,
            "height": null,
            "justify_content": null,
            "justify_items": null,
            "left": null,
            "margin": null,
            "max_height": null,
            "max_width": null,
            "min_height": null,
            "min_width": null,
            "object_fit": null,
            "object_position": null,
            "order": null,
            "overflow": null,
            "overflow_x": null,
            "overflow_y": null,
            "padding": null,
            "right": null,
            "top": null,
            "visibility": null,
            "width": null
          }
        },
        "6b8131f0c533413aa79b8a54878db0b4": {
          "model_module": "@jupyter-widgets/controls",
          "model_module_version": "1.5.0",
          "model_name": "HBoxModel",
          "state": {
            "_dom_classes": [],
            "_model_module": "@jupyter-widgets/controls",
            "_model_module_version": "1.5.0",
            "_model_name": "HBoxModel",
            "_view_count": null,
            "_view_module": "@jupyter-widgets/controls",
            "_view_module_version": "1.5.0",
            "_view_name": "HBoxView",
            "box_style": "",
            "children": [
              "IPY_MODEL_5a7d49ec8e8e4f2096b683c95f82bcdd",
              "IPY_MODEL_1c38998310ed45219a2cfe2c5037e882",
              "IPY_MODEL_58d9900b24724237bfe102c00d765cc6"
            ],
            "layout": "IPY_MODEL_9b090bd124664155833d19b52ec7284f"
          }
        },
        "6cb12d7340be4c66859cd9f1a28d7c74": {
          "model_module": "@jupyter-widgets/controls",
          "model_module_version": "1.5.0",
          "model_name": "HTMLModel",
          "state": {
            "_dom_classes": [],
            "_model_module": "@jupyter-widgets/controls",
            "_model_module_version": "1.5.0",
            "_model_name": "HTMLModel",
            "_view_count": null,
            "_view_module": "@jupyter-widgets/controls",
            "_view_module_version": "1.5.0",
            "_view_name": "HTMLView",
            "description": "",
            "description_tooltip": null,
            "layout": "IPY_MODEL_13eff6fd7870453eb7bc290de47cf605",
            "placeholder": "​",
            "style": "IPY_MODEL_fadfb58b5df6444089f2b68fa84d30cf",
            "value": " 26.0/26.0 [00:00&lt;00:00, 1.52kB/s]"
          }
        },
        "710feeab83054235b7add52946706cd7": {
          "model_module": "@jupyter-widgets/base",
          "model_module_version": "1.2.0",
          "model_name": "LayoutModel",
          "state": {
            "_model_module": "@jupyter-widgets/base",
            "_model_module_version": "1.2.0",
            "_model_name": "LayoutModel",
            "_view_count": null,
            "_view_module": "@jupyter-widgets/base",
            "_view_module_version": "1.2.0",
            "_view_name": "LayoutView",
            "align_content": null,
            "align_items": null,
            "align_self": null,
            "border": null,
            "bottom": null,
            "display": null,
            "flex": null,
            "flex_flow": null,
            "grid_area": null,
            "grid_auto_columns": null,
            "grid_auto_flow": null,
            "grid_auto_rows": null,
            "grid_column": null,
            "grid_gap": null,
            "grid_row": null,
            "grid_template_areas": null,
            "grid_template_columns": null,
            "grid_template_rows": null,
            "height": null,
            "justify_content": null,
            "justify_items": null,
            "left": null,
            "margin": null,
            "max_height": null,
            "max_width": null,
            "min_height": null,
            "min_width": null,
            "object_fit": null,
            "object_position": null,
            "order": null,
            "overflow": null,
            "overflow_x": null,
            "overflow_y": null,
            "padding": null,
            "right": null,
            "top": null,
            "visibility": null,
            "width": null
          }
        },
        "73ba9bb21043471b902ef67e7ab6ae05": {
          "model_module": "@jupyter-widgets/controls",
          "model_module_version": "1.5.0",
          "model_name": "HTMLModel",
          "state": {
            "_dom_classes": [],
            "_model_module": "@jupyter-widgets/controls",
            "_model_module_version": "1.5.0",
            "_model_name": "HTMLModel",
            "_view_count": null,
            "_view_module": "@jupyter-widgets/controls",
            "_view_module_version": "1.5.0",
            "_view_name": "HTMLView",
            "description": "",
            "description_tooltip": null,
            "layout": "IPY_MODEL_ce3bcc0e86f54169b4b19ee7f6e9a8fe",
            "placeholder": "​",
            "style": "IPY_MODEL_7b7f8a61dfaf46ada2320bb60af83c6e",
            "value": "config.json: 100%"
          }
        },
        "76a3e9f7e2e6426389effa0161c56aec": {
          "model_module": "@jupyter-widgets/controls",
          "model_module_version": "1.5.0",
          "model_name": "FloatProgressModel",
          "state": {
            "_dom_classes": [],
            "_model_module": "@jupyter-widgets/controls",
            "_model_module_version": "1.5.0",
            "_model_name": "FloatProgressModel",
            "_view_count": null,
            "_view_module": "@jupyter-widgets/controls",
            "_view_module_version": "1.5.0",
            "_view_name": "ProgressView",
            "bar_style": "success",
            "description": "",
            "description_tooltip": null,
            "layout": "IPY_MODEL_891c2d2a291c4f25a19873390113faec",
            "max": 456318,
            "min": 0,
            "orientation": "horizontal",
            "style": "IPY_MODEL_7dc4dc836c5244858440b43abe5078ee",
            "value": 456318
          }
        },
        "7b7f8a61dfaf46ada2320bb60af83c6e": {
          "model_module": "@jupyter-widgets/controls",
          "model_module_version": "1.5.0",
          "model_name": "DescriptionStyleModel",
          "state": {
            "_model_module": "@jupyter-widgets/controls",
            "_model_module_version": "1.5.0",
            "_model_name": "DescriptionStyleModel",
            "_view_count": null,
            "_view_module": "@jupyter-widgets/base",
            "_view_module_version": "1.2.0",
            "_view_name": "StyleView",
            "description_width": ""
          }
        },
        "7dc4dc836c5244858440b43abe5078ee": {
          "model_module": "@jupyter-widgets/controls",
          "model_module_version": "1.5.0",
          "model_name": "ProgressStyleModel",
          "state": {
            "_model_module": "@jupyter-widgets/controls",
            "_model_module_version": "1.5.0",
            "_model_name": "ProgressStyleModel",
            "_view_count": null,
            "_view_module": "@jupyter-widgets/base",
            "_view_module_version": "1.2.0",
            "_view_name": "StyleView",
            "bar_color": null,
            "description_width": ""
          }
        },
        "7f6b60576fed4cb79a2f1db947c457e4": {
          "model_module": "@jupyter-widgets/controls",
          "model_module_version": "1.5.0",
          "model_name": "FloatProgressModel",
          "state": {
            "_dom_classes": [],
            "_model_module": "@jupyter-widgets/controls",
            "_model_module_version": "1.5.0",
            "_model_name": "FloatProgressModel",
            "_view_count": null,
            "_view_module": "@jupyter-widgets/controls",
            "_view_module_version": "1.5.0",
            "_view_name": "ProgressView",
            "bar_style": "success",
            "description": "",
            "description_tooltip": null,
            "layout": "IPY_MODEL_ac216f0c9bbd41b2abef6c95a952de0f",
            "max": 26,
            "min": 0,
            "orientation": "horizontal",
            "style": "IPY_MODEL_1a43089ea3f04e48871aa0d7073e4d50",
            "value": 26
          }
        },
        "87196a20015b45ce988af6f121581bea": {
          "model_module": "@jupyter-widgets/controls",
          "model_module_version": "1.5.0",
          "model_name": "HTMLModel",
          "state": {
            "_dom_classes": [],
            "_model_module": "@jupyter-widgets/controls",
            "_model_module_version": "1.5.0",
            "_model_name": "HTMLModel",
            "_view_count": null,
            "_view_module": "@jupyter-widgets/controls",
            "_view_module_version": "1.5.0",
            "_view_name": "HTMLView",
            "description": "",
            "description_tooltip": null,
            "layout": "IPY_MODEL_f0d2bb60accf425ba719d06b8736518f",
            "placeholder": "​",
            "style": "IPY_MODEL_bf35f0750b254bec8b30afd843697422",
            "value": "vocab.json: 100%"
          }
        },
        "891c2d2a291c4f25a19873390113faec": {
          "model_module": "@jupyter-widgets/base",
          "model_module_version": "1.2.0",
          "model_name": "LayoutModel",
          "state": {
            "_model_module": "@jupyter-widgets/base",
            "_model_module_version": "1.2.0",
            "_model_name": "LayoutModel",
            "_view_count": null,
            "_view_module": "@jupyter-widgets/base",
            "_view_module_version": "1.2.0",
            "_view_name": "LayoutView",
            "align_content": null,
            "align_items": null,
            "align_self": null,
            "border": null,
            "bottom": null,
            "display": null,
            "flex": null,
            "flex_flow": null,
            "grid_area": null,
            "grid_auto_columns": null,
            "grid_auto_flow": null,
            "grid_auto_rows": null,
            "grid_column": null,
            "grid_gap": null,
            "grid_row": null,
            "grid_template_areas": null,
            "grid_template_columns": null,
            "grid_template_rows": null,
            "height": null,
            "justify_content": null,
            "justify_items": null,
            "left": null,
            "margin": null,
            "max_height": null,
            "max_width": null,
            "min_height": null,
            "min_width": null,
            "object_fit": null,
            "object_position": null,
            "order": null,
            "overflow": null,
            "overflow_x": null,
            "overflow_y": null,
            "padding": null,
            "right": null,
            "top": null,
            "visibility": null,
            "width": null
          }
        },
        "8a6a24f12c3d495f80811c02cb5bb03c": {
          "model_module": "@jupyter-widgets/controls",
          "model_module_version": "1.5.0",
          "model_name": "DescriptionStyleModel",
          "state": {
            "_model_module": "@jupyter-widgets/controls",
            "_model_module_version": "1.5.0",
            "_model_name": "DescriptionStyleModel",
            "_view_count": null,
            "_view_module": "@jupyter-widgets/base",
            "_view_module_version": "1.2.0",
            "_view_name": "StyleView",
            "description_width": ""
          }
        },
        "8c1ba0593ce64932adf3b38691dc9bb8": {
          "model_module": "@jupyter-widgets/controls",
          "model_module_version": "1.5.0",
          "model_name": "HTMLModel",
          "state": {
            "_dom_classes": [],
            "_model_module": "@jupyter-widgets/controls",
            "_model_module_version": "1.5.0",
            "_model_name": "HTMLModel",
            "_view_count": null,
            "_view_module": "@jupyter-widgets/controls",
            "_view_module_version": "1.5.0",
            "_view_name": "HTMLView",
            "description": "",
            "description_tooltip": null,
            "layout": "IPY_MODEL_8e01a22d497b49179e35cb348eccef06",
            "placeholder": "​",
            "style": "IPY_MODEL_06a182febd1c42c7b3d010e97b7f5fc4",
            "value": "tokenizer_config.json: 100%"
          }
        },
        "8e01a22d497b49179e35cb348eccef06": {
          "model_module": "@jupyter-widgets/base",
          "model_module_version": "1.2.0",
          "model_name": "LayoutModel",
          "state": {
            "_model_module": "@jupyter-widgets/base",
            "_model_module_version": "1.2.0",
            "_model_name": "LayoutModel",
            "_view_count": null,
            "_view_module": "@jupyter-widgets/base",
            "_view_module_version": "1.2.0",
            "_view_name": "LayoutView",
            "align_content": null,
            "align_items": null,
            "align_self": null,
            "border": null,
            "bottom": null,
            "display": null,
            "flex": null,
            "flex_flow": null,
            "grid_area": null,
            "grid_auto_columns": null,
            "grid_auto_flow": null,
            "grid_auto_rows": null,
            "grid_column": null,
            "grid_gap": null,
            "grid_row": null,
            "grid_template_areas": null,
            "grid_template_columns": null,
            "grid_template_rows": null,
            "height": null,
            "justify_content": null,
            "justify_items": null,
            "left": null,
            "margin": null,
            "max_height": null,
            "max_width": null,
            "min_height": null,
            "min_width": null,
            "object_fit": null,
            "object_position": null,
            "order": null,
            "overflow": null,
            "overflow_x": null,
            "overflow_y": null,
            "padding": null,
            "right": null,
            "top": null,
            "visibility": null,
            "width": null
          }
        },
        "8f2efc690b0a4d4c9e00be90d45f834f": {
          "model_module": "@jupyter-widgets/controls",
          "model_module_version": "1.5.0",
          "model_name": "ProgressStyleModel",
          "state": {
            "_model_module": "@jupyter-widgets/controls",
            "_model_module_version": "1.5.0",
            "_model_name": "ProgressStyleModel",
            "_view_count": null,
            "_view_module": "@jupyter-widgets/base",
            "_view_module_version": "1.2.0",
            "_view_name": "StyleView",
            "bar_color": null,
            "description_width": ""
          }
        },
        "979e8fcc222045548eb88be9e6358ef6": {
          "model_module": "@jupyter-widgets/controls",
          "model_module_version": "1.5.0",
          "model_name": "HTMLModel",
          "state": {
            "_dom_classes": [],
            "_model_module": "@jupyter-widgets/controls",
            "_model_module_version": "1.5.0",
            "_model_name": "HTMLModel",
            "_view_count": null,
            "_view_module": "@jupyter-widgets/controls",
            "_view_module_version": "1.5.0",
            "_view_name": "HTMLView",
            "description": "",
            "description_tooltip": null,
            "layout": "IPY_MODEL_655c98ba214640bebc75cff1bc34a10d",
            "placeholder": "​",
            "style": "IPY_MODEL_0a102c8e8c8040c482d04c128e014390",
            "value": "model.safetensors: 100%"
          }
        },
        "97dfd5d7d2e54b7e83322b125296fa04": {
          "model_module": "@jupyter-widgets/base",
          "model_module_version": "1.2.0",
          "model_name": "LayoutModel",
          "state": {
            "_model_module": "@jupyter-widgets/base",
            "_model_module_version": "1.2.0",
            "_model_name": "LayoutModel",
            "_view_count": null,
            "_view_module": "@jupyter-widgets/base",
            "_view_module_version": "1.2.0",
            "_view_name": "LayoutView",
            "align_content": null,
            "align_items": null,
            "align_self": null,
            "border": null,
            "bottom": null,
            "display": null,
            "flex": null,
            "flex_flow": null,
            "grid_area": null,
            "grid_auto_columns": null,
            "grid_auto_flow": null,
            "grid_auto_rows": null,
            "grid_column": null,
            "grid_gap": null,
            "grid_row": null,
            "grid_template_areas": null,
            "grid_template_columns": null,
            "grid_template_rows": null,
            "height": null,
            "justify_content": null,
            "justify_items": null,
            "left": null,
            "margin": null,
            "max_height": null,
            "max_width": null,
            "min_height": null,
            "min_width": null,
            "object_fit": null,
            "object_position": null,
            "order": null,
            "overflow": null,
            "overflow_x": null,
            "overflow_y": null,
            "padding": null,
            "right": null,
            "top": null,
            "visibility": null,
            "width": null
          }
        },
        "9aa5e22be46f4757981e802aabeabef0": {
          "model_module": "@jupyter-widgets/controls",
          "model_module_version": "1.5.0",
          "model_name": "DescriptionStyleModel",
          "state": {
            "_model_module": "@jupyter-widgets/controls",
            "_model_module_version": "1.5.0",
            "_model_name": "DescriptionStyleModel",
            "_view_count": null,
            "_view_module": "@jupyter-widgets/base",
            "_view_module_version": "1.2.0",
            "_view_name": "StyleView",
            "description_width": ""
          }
        },
        "9b090bd124664155833d19b52ec7284f": {
          "model_module": "@jupyter-widgets/base",
          "model_module_version": "1.2.0",
          "model_name": "LayoutModel",
          "state": {
            "_model_module": "@jupyter-widgets/base",
            "_model_module_version": "1.2.0",
            "_model_name": "LayoutModel",
            "_view_count": null,
            "_view_module": "@jupyter-widgets/base",
            "_view_module_version": "1.2.0",
            "_view_name": "LayoutView",
            "align_content": null,
            "align_items": null,
            "align_self": null,
            "border": null,
            "bottom": null,
            "display": null,
            "flex": null,
            "flex_flow": null,
            "grid_area": null,
            "grid_auto_columns": null,
            "grid_auto_flow": null,
            "grid_auto_rows": null,
            "grid_column": null,
            "grid_gap": null,
            "grid_row": null,
            "grid_template_areas": null,
            "grid_template_columns": null,
            "grid_template_rows": null,
            "height": null,
            "justify_content": null,
            "justify_items": null,
            "left": null,
            "margin": null,
            "max_height": null,
            "max_width": null,
            "min_height": null,
            "min_width": null,
            "object_fit": null,
            "object_position": null,
            "order": null,
            "overflow": null,
            "overflow_x": null,
            "overflow_y": null,
            "padding": null,
            "right": null,
            "top": null,
            "visibility": null,
            "width": null
          }
        },
        "9bcf7fe989744c5982f4a7bff82ed7fa": {
          "model_module": "@jupyter-widgets/base",
          "model_module_version": "1.2.0",
          "model_name": "LayoutModel",
          "state": {
            "_model_module": "@jupyter-widgets/base",
            "_model_module_version": "1.2.0",
            "_model_name": "LayoutModel",
            "_view_count": null,
            "_view_module": "@jupyter-widgets/base",
            "_view_module_version": "1.2.0",
            "_view_name": "LayoutView",
            "align_content": null,
            "align_items": null,
            "align_self": null,
            "border": null,
            "bottom": null,
            "display": null,
            "flex": null,
            "flex_flow": null,
            "grid_area": null,
            "grid_auto_columns": null,
            "grid_auto_flow": null,
            "grid_auto_rows": null,
            "grid_column": null,
            "grid_gap": null,
            "grid_row": null,
            "grid_template_areas": null,
            "grid_template_columns": null,
            "grid_template_rows": null,
            "height": null,
            "justify_content": null,
            "justify_items": null,
            "left": null,
            "margin": null,
            "max_height": null,
            "max_width": null,
            "min_height": null,
            "min_width": null,
            "object_fit": null,
            "object_position": null,
            "order": null,
            "overflow": null,
            "overflow_x": null,
            "overflow_y": null,
            "padding": null,
            "right": null,
            "top": null,
            "visibility": null,
            "width": null
          }
        },
        "ac216f0c9bbd41b2abef6c95a952de0f": {
          "model_module": "@jupyter-widgets/base",
          "model_module_version": "1.2.0",
          "model_name": "LayoutModel",
          "state": {
            "_model_module": "@jupyter-widgets/base",
            "_model_module_version": "1.2.0",
            "_model_name": "LayoutModel",
            "_view_count": null,
            "_view_module": "@jupyter-widgets/base",
            "_view_module_version": "1.2.0",
            "_view_name": "LayoutView",
            "align_content": null,
            "align_items": null,
            "align_self": null,
            "border": null,
            "bottom": null,
            "display": null,
            "flex": null,
            "flex_flow": null,
            "grid_area": null,
            "grid_auto_columns": null,
            "grid_auto_flow": null,
            "grid_auto_rows": null,
            "grid_column": null,
            "grid_gap": null,
            "grid_row": null,
            "grid_template_areas": null,
            "grid_template_columns": null,
            "grid_template_rows": null,
            "height": null,
            "justify_content": null,
            "justify_items": null,
            "left": null,
            "margin": null,
            "max_height": null,
            "max_width": null,
            "min_height": null,
            "min_width": null,
            "object_fit": null,
            "object_position": null,
            "order": null,
            "overflow": null,
            "overflow_x": null,
            "overflow_y": null,
            "padding": null,
            "right": null,
            "top": null,
            "visibility": null,
            "width": null
          }
        },
        "b51dde831260443bbe77ec2610740461": {
          "model_module": "@jupyter-widgets/controls",
          "model_module_version": "1.5.0",
          "model_name": "DescriptionStyleModel",
          "state": {
            "_model_module": "@jupyter-widgets/controls",
            "_model_module_version": "1.5.0",
            "_model_name": "DescriptionStyleModel",
            "_view_count": null,
            "_view_module": "@jupyter-widgets/base",
            "_view_module_version": "1.2.0",
            "_view_name": "StyleView",
            "description_width": ""
          }
        },
        "b58efe33b8d7416eb3d36fa8e1a6c848": {
          "model_module": "@jupyter-widgets/controls",
          "model_module_version": "1.5.0",
          "model_name": "DescriptionStyleModel",
          "state": {
            "_model_module": "@jupyter-widgets/controls",
            "_model_module_version": "1.5.0",
            "_model_name": "DescriptionStyleModel",
            "_view_count": null,
            "_view_module": "@jupyter-widgets/base",
            "_view_module_version": "1.2.0",
            "_view_name": "StyleView",
            "description_width": ""
          }
        },
        "b79207cfa5b1469eb35370019cb0b15e": {
          "model_module": "@jupyter-widgets/controls",
          "model_module_version": "1.5.0",
          "model_name": "ProgressStyleModel",
          "state": {
            "_model_module": "@jupyter-widgets/controls",
            "_model_module_version": "1.5.0",
            "_model_name": "ProgressStyleModel",
            "_view_count": null,
            "_view_module": "@jupyter-widgets/base",
            "_view_module_version": "1.2.0",
            "_view_name": "StyleView",
            "bar_color": null,
            "description_width": ""
          }
        },
        "ba3b7017799148ec8ca0bdc0a86888c6": {
          "model_module": "@jupyter-widgets/controls",
          "model_module_version": "1.5.0",
          "model_name": "HBoxModel",
          "state": {
            "_dom_classes": [],
            "_model_module": "@jupyter-widgets/controls",
            "_model_module_version": "1.5.0",
            "_model_name": "HBoxModel",
            "_view_count": null,
            "_view_module": "@jupyter-widgets/controls",
            "_view_module_version": "1.5.0",
            "_view_name": "HBoxView",
            "box_style": "",
            "children": [
              "IPY_MODEL_0ec28e5f04d8409b9d811ae91f6b2551",
              "IPY_MODEL_3b96bdcce8cf4334aea0fb1826b5bf6c",
              "IPY_MODEL_023dc061018a4452b6f1cabecef16a9b"
            ],
            "layout": "IPY_MODEL_0cb4b2139669469d84be4c5d52623ad9"
          }
        },
        "bf35f0750b254bec8b30afd843697422": {
          "model_module": "@jupyter-widgets/controls",
          "model_module_version": "1.5.0",
          "model_name": "DescriptionStyleModel",
          "state": {
            "_model_module": "@jupyter-widgets/controls",
            "_model_module_version": "1.5.0",
            "_model_name": "DescriptionStyleModel",
            "_view_count": null,
            "_view_module": "@jupyter-widgets/base",
            "_view_module_version": "1.2.0",
            "_view_name": "StyleView",
            "description_width": ""
          }
        },
        "c2d9ab560bf44cd2bffbf1fad2b061f7": {
          "model_module": "@jupyter-widgets/base",
          "model_module_version": "1.2.0",
          "model_name": "LayoutModel",
          "state": {
            "_model_module": "@jupyter-widgets/base",
            "_model_module_version": "1.2.0",
            "_model_name": "LayoutModel",
            "_view_count": null,
            "_view_module": "@jupyter-widgets/base",
            "_view_module_version": "1.2.0",
            "_view_name": "LayoutView",
            "align_content": null,
            "align_items": null,
            "align_self": null,
            "border": null,
            "bottom": null,
            "display": null,
            "flex": null,
            "flex_flow": null,
            "grid_area": null,
            "grid_auto_columns": null,
            "grid_auto_flow": null,
            "grid_auto_rows": null,
            "grid_column": null,
            "grid_gap": null,
            "grid_row": null,
            "grid_template_areas": null,
            "grid_template_columns": null,
            "grid_template_rows": null,
            "height": null,
            "justify_content": null,
            "justify_items": null,
            "left": null,
            "margin": null,
            "max_height": null,
            "max_width": null,
            "min_height": null,
            "min_width": null,
            "object_fit": null,
            "object_position": null,
            "order": null,
            "overflow": null,
            "overflow_x": null,
            "overflow_y": null,
            "padding": null,
            "right": null,
            "top": null,
            "visibility": null,
            "width": null
          }
        },
        "c64f6f1719054564bcad0835f5f45c19": {
          "model_module": "@jupyter-widgets/controls",
          "model_module_version": "1.5.0",
          "model_name": "ProgressStyleModel",
          "state": {
            "_model_module": "@jupyter-widgets/controls",
            "_model_module_version": "1.5.0",
            "_model_name": "ProgressStyleModel",
            "_view_count": null,
            "_view_module": "@jupyter-widgets/base",
            "_view_module_version": "1.2.0",
            "_view_name": "StyleView",
            "bar_color": null,
            "description_width": ""
          }
        },
        "ce3bcc0e86f54169b4b19ee7f6e9a8fe": {
          "model_module": "@jupyter-widgets/base",
          "model_module_version": "1.2.0",
          "model_name": "LayoutModel",
          "state": {
            "_model_module": "@jupyter-widgets/base",
            "_model_module_version": "1.2.0",
            "_model_name": "LayoutModel",
            "_view_count": null,
            "_view_module": "@jupyter-widgets/base",
            "_view_module_version": "1.2.0",
            "_view_name": "LayoutView",
            "align_content": null,
            "align_items": null,
            "align_self": null,
            "border": null,
            "bottom": null,
            "display": null,
            "flex": null,
            "flex_flow": null,
            "grid_area": null,
            "grid_auto_columns": null,
            "grid_auto_flow": null,
            "grid_auto_rows": null,
            "grid_column": null,
            "grid_gap": null,
            "grid_row": null,
            "grid_template_areas": null,
            "grid_template_columns": null,
            "grid_template_rows": null,
            "height": null,
            "justify_content": null,
            "justify_items": null,
            "left": null,
            "margin": null,
            "max_height": null,
            "max_width": null,
            "min_height": null,
            "min_width": null,
            "object_fit": null,
            "object_position": null,
            "order": null,
            "overflow": null,
            "overflow_x": null,
            "overflow_y": null,
            "padding": null,
            "right": null,
            "top": null,
            "visibility": null,
            "width": null
          }
        },
        "ce4192f58676419aa95e404bf4259a9a": {
          "model_module": "@jupyter-widgets/controls",
          "model_module_version": "1.5.0",
          "model_name": "HTMLModel",
          "state": {
            "_dom_classes": [],
            "_model_module": "@jupyter-widgets/controls",
            "_model_module_version": "1.5.0",
            "_model_name": "HTMLModel",
            "_view_count": null,
            "_view_module": "@jupyter-widgets/controls",
            "_view_module_version": "1.5.0",
            "_view_name": "HTMLView",
            "description": "",
            "description_tooltip": null,
            "layout": "IPY_MODEL_fc03d4f0fe5d4ad7987dff06de939ce6",
            "placeholder": "​",
            "style": "IPY_MODEL_8a6a24f12c3d495f80811c02cb5bb03c",
            "value": " 548M/548M [00:02&lt;00:00, 217MB/s]"
          }
        },
        "ceae1e1281d5481990596a8535c3b54e": {
          "model_module": "@jupyter-widgets/controls",
          "model_module_version": "1.5.0",
          "model_name": "DescriptionStyleModel",
          "state": {
            "_model_module": "@jupyter-widgets/controls",
            "_model_module_version": "1.5.0",
            "_model_name": "DescriptionStyleModel",
            "_view_count": null,
            "_view_module": "@jupyter-widgets/base",
            "_view_module_version": "1.2.0",
            "_view_name": "StyleView",
            "description_width": ""
          }
        },
        "d7e28418f57849008013b85bc0f304bb": {
          "model_module": "@jupyter-widgets/base",
          "model_module_version": "1.2.0",
          "model_name": "LayoutModel",
          "state": {
            "_model_module": "@jupyter-widgets/base",
            "_model_module_version": "1.2.0",
            "_model_name": "LayoutModel",
            "_view_count": null,
            "_view_module": "@jupyter-widgets/base",
            "_view_module_version": "1.2.0",
            "_view_name": "LayoutView",
            "align_content": null,
            "align_items": null,
            "align_self": null,
            "border": null,
            "bottom": null,
            "display": null,
            "flex": null,
            "flex_flow": null,
            "grid_area": null,
            "grid_auto_columns": null,
            "grid_auto_flow": null,
            "grid_auto_rows": null,
            "grid_column": null,
            "grid_gap": null,
            "grid_row": null,
            "grid_template_areas": null,
            "grid_template_columns": null,
            "grid_template_rows": null,
            "height": null,
            "justify_content": null,
            "justify_items": null,
            "left": null,
            "margin": null,
            "max_height": null,
            "max_width": null,
            "min_height": null,
            "min_width": null,
            "object_fit": null,
            "object_position": null,
            "order": null,
            "overflow": null,
            "overflow_x": null,
            "overflow_y": null,
            "padding": null,
            "right": null,
            "top": null,
            "visibility": null,
            "width": null
          }
        },
        "dfdc07a0b4d94e12978c2576ad46cca5": {
          "model_module": "@jupyter-widgets/base",
          "model_module_version": "1.2.0",
          "model_name": "LayoutModel",
          "state": {
            "_model_module": "@jupyter-widgets/base",
            "_model_module_version": "1.2.0",
            "_model_name": "LayoutModel",
            "_view_count": null,
            "_view_module": "@jupyter-widgets/base",
            "_view_module_version": "1.2.0",
            "_view_name": "LayoutView",
            "align_content": null,
            "align_items": null,
            "align_self": null,
            "border": null,
            "bottom": null,
            "display": null,
            "flex": null,
            "flex_flow": null,
            "grid_area": null,
            "grid_auto_columns": null,
            "grid_auto_flow": null,
            "grid_auto_rows": null,
            "grid_column": null,
            "grid_gap": null,
            "grid_row": null,
            "grid_template_areas": null,
            "grid_template_columns": null,
            "grid_template_rows": null,
            "height": null,
            "justify_content": null,
            "justify_items": null,
            "left": null,
            "margin": null,
            "max_height": null,
            "max_width": null,
            "min_height": null,
            "min_width": null,
            "object_fit": null,
            "object_position": null,
            "order": null,
            "overflow": null,
            "overflow_x": null,
            "overflow_y": null,
            "padding": null,
            "right": null,
            "top": null,
            "visibility": null,
            "width": null
          }
        },
        "e983f03d827f45758ea4aae39f9bfeee": {
          "model_module": "@jupyter-widgets/controls",
          "model_module_version": "1.5.0",
          "model_name": "FloatProgressModel",
          "state": {
            "_dom_classes": [],
            "_model_module": "@jupyter-widgets/controls",
            "_model_module_version": "1.5.0",
            "_model_name": "FloatProgressModel",
            "_view_count": null,
            "_view_module": "@jupyter-widgets/controls",
            "_view_module_version": "1.5.0",
            "_view_name": "ProgressView",
            "bar_style": "success",
            "description": "",
            "description_tooltip": null,
            "layout": "IPY_MODEL_493298dba57446baacee47741a67ee23",
            "max": 1042301,
            "min": 0,
            "orientation": "horizontal",
            "style": "IPY_MODEL_b79207cfa5b1469eb35370019cb0b15e",
            "value": 1042301
          }
        },
        "e9eb5afcfa4e47898fffcc30c3aa67f6": {
          "model_module": "@jupyter-widgets/controls",
          "model_module_version": "1.5.0",
          "model_name": "HBoxModel",
          "state": {
            "_dom_classes": [],
            "_model_module": "@jupyter-widgets/controls",
            "_model_module_version": "1.5.0",
            "_model_name": "HBoxModel",
            "_view_count": null,
            "_view_module": "@jupyter-widgets/controls",
            "_view_module_version": "1.5.0",
            "_view_name": "HBoxView",
            "box_style": "",
            "children": [
              "IPY_MODEL_87196a20015b45ce988af6f121581bea",
              "IPY_MODEL_e983f03d827f45758ea4aae39f9bfeee",
              "IPY_MODEL_4d3a6ff482f84635a2a0ecdc9e1577d9"
            ],
            "layout": "IPY_MODEL_f94720e50a044f6cb28d91b74a664ec3"
          }
        },
        "ea28d3221c07486097ea1e9bd908874c": {
          "model_module": "@jupyter-widgets/controls",
          "model_module_version": "1.5.0",
          "model_name": "DescriptionStyleModel",
          "state": {
            "_model_module": "@jupyter-widgets/controls",
            "_model_module_version": "1.5.0",
            "_model_name": "DescriptionStyleModel",
            "_view_count": null,
            "_view_module": "@jupyter-widgets/base",
            "_view_module_version": "1.2.0",
            "_view_name": "StyleView",
            "description_width": ""
          }
        },
        "eb8fbf038931444a83125567b0772997": {
          "model_module": "@jupyter-widgets/base",
          "model_module_version": "1.2.0",
          "model_name": "LayoutModel",
          "state": {
            "_model_module": "@jupyter-widgets/base",
            "_model_module_version": "1.2.0",
            "_model_name": "LayoutModel",
            "_view_count": null,
            "_view_module": "@jupyter-widgets/base",
            "_view_module_version": "1.2.0",
            "_view_name": "LayoutView",
            "align_content": null,
            "align_items": null,
            "align_self": null,
            "border": null,
            "bottom": null,
            "display": null,
            "flex": null,
            "flex_flow": null,
            "grid_area": null,
            "grid_auto_columns": null,
            "grid_auto_flow": null,
            "grid_auto_rows": null,
            "grid_column": null,
            "grid_gap": null,
            "grid_row": null,
            "grid_template_areas": null,
            "grid_template_columns": null,
            "grid_template_rows": null,
            "height": null,
            "justify_content": null,
            "justify_items": null,
            "left": null,
            "margin": null,
            "max_height": null,
            "max_width": null,
            "min_height": null,
            "min_width": null,
            "object_fit": null,
            "object_position": null,
            "order": null,
            "overflow": null,
            "overflow_x": null,
            "overflow_y": null,
            "padding": null,
            "right": null,
            "top": null,
            "visibility": null,
            "width": null
          }
        },
        "f0d2bb60accf425ba719d06b8736518f": {
          "model_module": "@jupyter-widgets/base",
          "model_module_version": "1.2.0",
          "model_name": "LayoutModel",
          "state": {
            "_model_module": "@jupyter-widgets/base",
            "_model_module_version": "1.2.0",
            "_model_name": "LayoutModel",
            "_view_count": null,
            "_view_module": "@jupyter-widgets/base",
            "_view_module_version": "1.2.0",
            "_view_name": "LayoutView",
            "align_content": null,
            "align_items": null,
            "align_self": null,
            "border": null,
            "bottom": null,
            "display": null,
            "flex": null,
            "flex_flow": null,
            "grid_area": null,
            "grid_auto_columns": null,
            "grid_auto_flow": null,
            "grid_auto_rows": null,
            "grid_column": null,
            "grid_gap": null,
            "grid_row": null,
            "grid_template_areas": null,
            "grid_template_columns": null,
            "grid_template_rows": null,
            "height": null,
            "justify_content": null,
            "justify_items": null,
            "left": null,
            "margin": null,
            "max_height": null,
            "max_width": null,
            "min_height": null,
            "min_width": null,
            "object_fit": null,
            "object_position": null,
            "order": null,
            "overflow": null,
            "overflow_x": null,
            "overflow_y": null,
            "padding": null,
            "right": null,
            "top": null,
            "visibility": null,
            "width": null
          }
        },
        "f94720e50a044f6cb28d91b74a664ec3": {
          "model_module": "@jupyter-widgets/base",
          "model_module_version": "1.2.0",
          "model_name": "LayoutModel",
          "state": {
            "_model_module": "@jupyter-widgets/base",
            "_model_module_version": "1.2.0",
            "_model_name": "LayoutModel",
            "_view_count": null,
            "_view_module": "@jupyter-widgets/base",
            "_view_module_version": "1.2.0",
            "_view_name": "LayoutView",
            "align_content": null,
            "align_items": null,
            "align_self": null,
            "border": null,
            "bottom": null,
            "display": null,
            "flex": null,
            "flex_flow": null,
            "grid_area": null,
            "grid_auto_columns": null,
            "grid_auto_flow": null,
            "grid_auto_rows": null,
            "grid_column": null,
            "grid_gap": null,
            "grid_row": null,
            "grid_template_areas": null,
            "grid_template_columns": null,
            "grid_template_rows": null,
            "height": null,
            "justify_content": null,
            "justify_items": null,
            "left": null,
            "margin": null,
            "max_height": null,
            "max_width": null,
            "min_height": null,
            "min_width": null,
            "object_fit": null,
            "object_position": null,
            "order": null,
            "overflow": null,
            "overflow_x": null,
            "overflow_y": null,
            "padding": null,
            "right": null,
            "top": null,
            "visibility": null,
            "width": null
          }
        },
        "f9ff9601b9b94af5b20ce651d6f89b51": {
          "model_module": "@jupyter-widgets/base",
          "model_module_version": "1.2.0",
          "model_name": "LayoutModel",
          "state": {
            "_model_module": "@jupyter-widgets/base",
            "_model_module_version": "1.2.0",
            "_model_name": "LayoutModel",
            "_view_count": null,
            "_view_module": "@jupyter-widgets/base",
            "_view_module_version": "1.2.0",
            "_view_name": "LayoutView",
            "align_content": null,
            "align_items": null,
            "align_self": null,
            "border": null,
            "bottom": null,
            "display": null,
            "flex": null,
            "flex_flow": null,
            "grid_area": null,
            "grid_auto_columns": null,
            "grid_auto_flow": null,
            "grid_auto_rows": null,
            "grid_column": null,
            "grid_gap": null,
            "grid_row": null,
            "grid_template_areas": null,
            "grid_template_columns": null,
            "grid_template_rows": null,
            "height": null,
            "justify_content": null,
            "justify_items": null,
            "left": null,
            "margin": null,
            "max_height": null,
            "max_width": null,
            "min_height": null,
            "min_width": null,
            "object_fit": null,
            "object_position": null,
            "order": null,
            "overflow": null,
            "overflow_x": null,
            "overflow_y": null,
            "padding": null,
            "right": null,
            "top": null,
            "visibility": null,
            "width": null
          }
        },
        "fadfb58b5df6444089f2b68fa84d30cf": {
          "model_module": "@jupyter-widgets/controls",
          "model_module_version": "1.5.0",
          "model_name": "DescriptionStyleModel",
          "state": {
            "_model_module": "@jupyter-widgets/controls",
            "_model_module_version": "1.5.0",
            "_model_name": "DescriptionStyleModel",
            "_view_count": null,
            "_view_module": "@jupyter-widgets/base",
            "_view_module_version": "1.2.0",
            "_view_name": "StyleView",
            "description_width": ""
          }
        },
        "fc03d4f0fe5d4ad7987dff06de939ce6": {
          "model_module": "@jupyter-widgets/base",
          "model_module_version": "1.2.0",
          "model_name": "LayoutModel",
          "state": {
            "_model_module": "@jupyter-widgets/base",
            "_model_module_version": "1.2.0",
            "_model_name": "LayoutModel",
            "_view_count": null,
            "_view_module": "@jupyter-widgets/base",
            "_view_module_version": "1.2.0",
            "_view_name": "LayoutView",
            "align_content": null,
            "align_items": null,
            "align_self": null,
            "border": null,
            "bottom": null,
            "display": null,
            "flex": null,
            "flex_flow": null,
            "grid_area": null,
            "grid_auto_columns": null,
            "grid_auto_flow": null,
            "grid_auto_rows": null,
            "grid_column": null,
            "grid_gap": null,
            "grid_row": null,
            "grid_template_areas": null,
            "grid_template_columns": null,
            "grid_template_rows": null,
            "height": null,
            "justify_content": null,
            "justify_items": null,
            "left": null,
            "margin": null,
            "max_height": null,
            "max_width": null,
            "min_height": null,
            "min_width": null,
            "object_fit": null,
            "object_position": null,
            "order": null,
            "overflow": null,
            "overflow_x": null,
            "overflow_y": null,
            "padding": null,
            "right": null,
            "top": null,
            "visibility": null,
            "width": null
          }
        },
        "fccc4d468fd24f42ab44c196a686cc61": {
          "model_module": "@jupyter-widgets/controls",
          "model_module_version": "1.5.0",
          "model_name": "DescriptionStyleModel",
          "state": {
            "_model_module": "@jupyter-widgets/controls",
            "_model_module_version": "1.5.0",
            "_model_name": "DescriptionStyleModel",
            "_view_count": null,
            "_view_module": "@jupyter-widgets/base",
            "_view_module_version": "1.2.0",
            "_view_name": "StyleView",
            "description_width": ""
          }
        },
        "fe6b4def5e774e4680660179618ae1d0": {
          "model_module": "@jupyter-widgets/base",
          "model_module_version": "1.2.0",
          "model_name": "LayoutModel",
          "state": {
            "_model_module": "@jupyter-widgets/base",
            "_model_module_version": "1.2.0",
            "_model_name": "LayoutModel",
            "_view_count": null,
            "_view_module": "@jupyter-widgets/base",
            "_view_module_version": "1.2.0",
            "_view_name": "LayoutView",
            "align_content": null,
            "align_items": null,
            "align_self": null,
            "border": null,
            "bottom": null,
            "display": null,
            "flex": null,
            "flex_flow": null,
            "grid_area": null,
            "grid_auto_columns": null,
            "grid_auto_flow": null,
            "grid_auto_rows": null,
            "grid_column": null,
            "grid_gap": null,
            "grid_row": null,
            "grid_template_areas": null,
            "grid_template_columns": null,
            "grid_template_rows": null,
            "height": null,
            "justify_content": null,
            "justify_items": null,
            "left": null,
            "margin": null,
            "max_height": null,
            "max_width": null,
            "min_height": null,
            "min_width": null,
            "object_fit": null,
            "object_position": null,
            "order": null,
            "overflow": null,
            "overflow_x": null,
            "overflow_y": null,
            "padding": null,
            "right": null,
            "top": null,
            "visibility": null,
            "width": null
          }
        }
      }
    }
  },
  "nbformat": 4,
  "nbformat_minor": 0
}
