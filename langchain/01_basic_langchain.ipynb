{
  "cells": [
    {
      "cell_type": "markdown",
      "metadata": {
        "id": "view-in-github",
        "colab_type": "text"
      },
      "source": [
        "<a href=\"https://colab.research.google.com/github/AburizalAN/learn-ml/blob/master/langchain/01_basic_langchain.ipynb\" target=\"_parent\"><img src=\"https://colab.research.google.com/assets/colab-badge.svg\" alt=\"Open In Colab\"/></a>"
      ]
    },
    {
      "cell_type": "markdown",
      "metadata": {
        "id": "pnmdxlDkG42r"
      },
      "source": [
        "# Basic Usage LangChain"
      ]
    },
    {
      "cell_type": "markdown",
      "metadata": {
        "id": "ULuHA-82G42t"
      },
      "source": [
        "## 3 Basic Things to know\n",
        "\n",
        "Before we jump into the deep of the LangChain Framework, there are 3 basic things to know:\n",
        "\n",
        "* Prompt Template\n",
        "* Chat Models\n",
        "* Chains"
      ]
    },
    {
      "cell_type": "markdown",
      "metadata": {
        "id": "sHTt0SuOG42u"
      },
      "source": [
        "### Prompt Template\n",
        "\n",
        "**Prompt Templates** are predefined structures used to guide the responses of language models.\n",
        "\n",
        "#### Why Prompt Templates?\n",
        "\n",
        "* **Consistency**\n",
        "  \n",
        "  By using a set structure, prompt templates ensure consistent responses from the language model.\n",
        "\n",
        "* **Relevance**\n",
        "  \n",
        "  Templates can be designed to elicit specific types of responses, ensuring the output is relevant to the user's needs."
      ]
    },
    {
      "cell_type": "markdown",
      "metadata": {
        "id": "D_RqBoKTG42u"
      },
      "source": [
        "#### Example Prompt Template\n",
        "\n",
        "##### Example 1\n",
        "\n",
        "**Prompt Template for a Movie Recommendation**\n",
        "\n",
        "```text\n",
        "\"Based on your preference for {genre} movies and your interest in {actor}, I would recommend 5 Films:\"\n",
        "```\n",
        "\n",
        "In this template:\n",
        "* {genre} would be replaced by the user's preferred movie genre (e.g., action, comedy, drama).\n",
        "* {actor} would be replaced by the user's favorite actor.\n",
        "\n",
        "The final prompt would look something like this:\n",
        "\n",
        "```text\n",
        "\"Based on your preference for comedy movies and your interest in Will Ferrell, I would recommend 5 Film:\"\n",
        "```\n",
        "\n",
        "---\n",
        "\n",
        "##### Example 2\n",
        "\n",
        "**Prompt Template for a Restaurant Recommendation**\n",
        "\n",
        "```text\n",
        "\"Considering your love for {cuisine_type} and your location in {city}, I suggest you try the following restaurant:\"\n",
        "```\n",
        "\n",
        "In this template:\n",
        "* {cuisine_type} would be replaced by the user's preferred cuisine (e.g., Italian, Chinese, Mexican).\n",
        "* {city} would be replaced by the user's current city.\n",
        "\n",
        "The final prompt would look something like this:\n",
        "\n",
        "```text\n",
        "\"Considering your love for ramen and your location in Bandung, I suggest you try the following restaurant:\"\n",
        "```"
      ]
    },
    {
      "cell_type": "markdown",
      "metadata": {
        "id": "EOXB4si2G42v"
      },
      "source": [
        "#### Creating a Prompt Template                             \n",
        "\n",
        "Prompt templates are created using the `PromptTemplate` from the `langchain` library."
      ]
    },
    {
      "cell_type": "code",
      "source": [
        "!pip install openai langchain -q"
      ],
      "metadata": {
        "id": "L-SNrFA8A1lp",
        "colab": {
          "base_uri": "https://localhost:8080/"
        },
        "outputId": "a5a1b005-ea1d-4ffc-d72b-e66f18ebf189"
      },
      "execution_count": null,
      "outputs": [
        {
          "output_type": "stream",
          "name": "stdout",
          "text": [
            "\u001b[2K     \u001b[90m━━━━━━━━━━━━━━━━━━━━━━━━━━━━━━━━━━━━━━━━\u001b[0m \u001b[32m227.4/227.4 kB\u001b[0m \u001b[31m4.9 MB/s\u001b[0m eta \u001b[36m0:00:00\u001b[0m\n",
            "\u001b[2K     \u001b[90m━━━━━━━━━━━━━━━━━━━━━━━━━━━━━━━━━━━━━━━━\u001b[0m \u001b[32m807.5/807.5 kB\u001b[0m \u001b[31m39.6 MB/s\u001b[0m eta \u001b[36m0:00:00\u001b[0m\n",
            "\u001b[2K     \u001b[90m━━━━━━━━━━━━━━━━━━━━━━━━━━━━━━━━━━━━━━━━\u001b[0m \u001b[32m75.6/75.6 kB\u001b[0m \u001b[31m9.6 MB/s\u001b[0m eta \u001b[36m0:00:00\u001b[0m\n",
            "\u001b[2K     \u001b[90m━━━━━━━━━━━━━━━━━━━━━━━━━━━━━━━━━━━━━━━━\u001b[0m \u001b[32m1.8/1.8 MB\u001b[0m \u001b[31m42.7 MB/s\u001b[0m eta \u001b[36m0:00:00\u001b[0m\n",
            "\u001b[2K     \u001b[90m━━━━━━━━━━━━━━━━━━━━━━━━━━━━━━━━━━━━━━━━\u001b[0m \u001b[32m256.9/256.9 kB\u001b[0m \u001b[31m24.5 MB/s\u001b[0m eta \u001b[36m0:00:00\u001b[0m\n",
            "\u001b[2K     \u001b[90m━━━━━━━━━━━━━━━━━━━━━━━━━━━━━━━━━━━━━━━━\u001b[0m \u001b[32m66.6/66.6 kB\u001b[0m \u001b[31m5.9 MB/s\u001b[0m eta \u001b[36m0:00:00\u001b[0m\n",
            "\u001b[2K     \u001b[90m━━━━━━━━━━━━━━━━━━━━━━━━━━━━━━━━━━━━━━━━\u001b[0m \u001b[32m49.4/49.4 kB\u001b[0m \u001b[31m5.5 MB/s\u001b[0m eta \u001b[36m0:00:00\u001b[0m\n",
            "\u001b[2K     \u001b[90m━━━━━━━━━━━━━━━━━━━━━━━━━━━━━━━━━━━━━━━━\u001b[0m \u001b[32m77.8/77.8 kB\u001b[0m \u001b[31m7.0 MB/s\u001b[0m eta \u001b[36m0:00:00\u001b[0m\n",
            "\u001b[2K     \u001b[90m━━━━━━━━━━━━━━━━━━━━━━━━━━━━━━━━━━━━━━━━\u001b[0m \u001b[32m58.3/58.3 kB\u001b[0m \u001b[31m6.8 MB/s\u001b[0m eta \u001b[36m0:00:00\u001b[0m\n",
            "\u001b[2K     \u001b[90m━━━━━━━━━━━━━━━━━━━━━━━━━━━━━━━━━━━━━━━━\u001b[0m \u001b[32m138.5/138.5 kB\u001b[0m \u001b[31m16.2 MB/s\u001b[0m eta \u001b[36m0:00:00\u001b[0m\n",
            "\u001b[?25h"
          ]
        }
      ]
    },
    {
      "cell_type": "code",
      "execution_count": null,
      "metadata": {
        "id": "K8oK_RaoG42v"
      },
      "outputs": [],
      "source": [
        "from langchain import PromptTemplate\n",
        "\n",
        "template_movie_recomendation = \"Based on your preference for {genre} movies and your interest in {actor}, I would recommend films:\"\n",
        "\n",
        "prompt_template_movie_recomendation = PromptTemplate(input_variables=[\"genre\", \"actor\"], template=template_movie_recomendation)"
      ]
    },
    {
      "cell_type": "markdown",
      "metadata": {
        "id": "W_Q7KS7JG42w"
      },
      "source": [
        "### Chat Models\n",
        "\n",
        "**Chat Models** are specialized language models designed for conversational interactions.\n",
        "\n",
        "#### Why Chat Models?\n",
        "\n",
        "* **Natural Interaction**\n",
        "  \n",
        "Chat models are trained to respond in a conversational manner, providing a more engaging and natural user experience.\n",
        "\n",
        "* **Context Awareness**\n",
        "\n",
        "Unlike traditional models, chat models can maintain context over a series of exchanges, allowing for more coherent and meaningful conversations.\n",
        "\n",
        "*Note: In this course, we will be using chat models from OpenAI's*"
      ]
    },
    {
      "cell_type": "markdown",
      "metadata": {
        "id": "-cXYa_AoG42w"
      },
      "source": [
        "#### Declaring a Chat Model\n",
        "\n",
        "Chat model is declared using the `ChatOpenAI` from the `langchain.chat_models`."
      ]
    },
    {
      "cell_type": "code",
      "source": [
        "from google.colab import userdata\n",
        "\n",
        "OPENAI_API_KEY = userdata.get(\"OPENAI_API_KEY\")"
      ],
      "metadata": {
        "id": "2fomIV-bA-yQ"
      },
      "execution_count": null,
      "outputs": []
    },
    {
      "cell_type": "code",
      "execution_count": null,
      "metadata": {
        "id": "gbxKjcYYG42x",
        "colab": {
          "base_uri": "https://localhost:8080/"
        },
        "outputId": "4c37aab5-d54e-46f8-9edc-b30e0c28ccf4"
      },
      "outputs": [
        {
          "output_type": "stream",
          "name": "stderr",
          "text": [
            "/usr/local/lib/python3.10/dist-packages/langchain_core/_api/deprecation.py:117: LangChainDeprecationWarning: The class `langchain_community.chat_models.openai.ChatOpenAI` was deprecated in langchain-community 0.0.10 and will be removed in 0.2.0. An updated version of the class exists in the langchain-openai package and should be used instead. To use it run `pip install -U langchain-openai` and import as `from langchain_openai import ChatOpenAI`.\n",
            "  warn_deprecated(\n"
          ]
        }
      ],
      "source": [
        "from langchain.chat_models import ChatOpenAI\n",
        "\n",
        "llm = ChatOpenAI(openai_api_key=OPENAI_API_KEY, model_name=\"gpt-3.5-turbo\", temperature=0)"
      ]
    },
    {
      "cell_type": "markdown",
      "metadata": {
        "id": "wNIARK89G42x"
      },
      "source": [
        "### Chains\n",
        "\n",
        "**Chains** in LangChain allow for sequential interactions with the language model, enabling more complex and contextual conversations.\n",
        "\n",
        "#### Why Chains?\n",
        "\n",
        "* **Multiple Steps**\n",
        "  \n",
        "  Chains allow for multi-step interactions, where each step can influence the next, creating a dynamic conversation flow.\n",
        "\n",
        "* **Context Maintenance**\n",
        "  \n",
        "  Chains keep track of context over multiple exchanges, ensuring continuity in conversations."
      ]
    },
    {
      "cell_type": "markdown",
      "metadata": {
        "id": "2SMI1cNVG42x"
      },
      "source": [
        "![Image](https://storage.googleapis.com/rg-ai-bootcamp/langchain/chain.png)"
      ]
    },
    {
      "cell_type": "markdown",
      "metadata": {
        "id": "aGd6U1jRG42x"
      },
      "source": [
        "#### Declaring & Running a Chain  \n",
        "\n",
        "Chains are declared using the `LLMChain` from the `langchain.chains` library."
      ]
    },
    {
      "cell_type": "code",
      "execution_count": null,
      "metadata": {
        "id": "_APv8tdmG42y"
      },
      "outputs": [],
      "source": [
        "from langchain.chains import LLMChain\n",
        "\n",
        "chain = LLMChain(llm=llm, prompt=prompt_template_movie_recomendation)"
      ]
    },
    {
      "cell_type": "code",
      "source": [
        "print(chain.run(genre=\"action\", actor=\"Tom Cruise\"))"
      ],
      "metadata": {
        "colab": {
          "base_uri": "https://localhost:8080/"
        },
        "id": "Z_OBauauH2vZ",
        "outputId": "285b3f9a-0b8d-44db-ede4-641a9b0e874d"
      },
      "execution_count": null,
      "outputs": [
        {
          "output_type": "stream",
          "name": "stderr",
          "text": [
            "/usr/local/lib/python3.10/dist-packages/langchain_core/_api/deprecation.py:117: LangChainDeprecationWarning: The function `run` was deprecated in LangChain 0.1.0 and will be removed in 0.2.0. Use invoke instead.\n",
            "  warn_deprecated(\n"
          ]
        },
        {
          "output_type": "stream",
          "name": "stdout",
          "text": [
            "1. Mission: Impossible series - Tom Cruise stars as Ethan Hunt, a skilled agent who takes on dangerous missions to save the world.\n",
            "2. Top Gun - Cruise plays Maverick, a talented fighter pilot who competes to be the best in his class at the Top Gun Naval Fighter Weapons School.\n",
            "3. Edge of Tomorrow - Cruise plays a soldier who gets caught in a time loop while fighting aliens, forcing him to relive the same day over and over again.\n",
            "4. Jack Reacher - Cruise stars as the titular character, a former military police officer who investigates a sniper shooting in a small town.\n",
            "5. Collateral - Cruise plays a hitman who forces a cab driver (played by Jamie Foxx) to drive him around Los Angeles to carry out his hits.\n"
          ]
        }
      ]
    },
    {
      "cell_type": "markdown",
      "metadata": {
        "id": "HUOejCTsG42y"
      },
      "source": [
        "We already created a basic and simple application using the LangChain Framework. Let's dive more with the LangChain Framework in the next section."
      ]
    }
  ],
  "metadata": {
    "celltoolbar": "Slideshow",
    "kernelspec": {
      "display_name": "Python 3 (ipykernel)",
      "language": "python",
      "name": "python3"
    },
    "language_info": {
      "codemirror_mode": {
        "name": "ipython",
        "version": 3
      },
      "file_extension": ".py",
      "mimetype": "text/x-python",
      "name": "python",
      "nbconvert_exporter": "python",
      "pygments_lexer": "ipython3",
      "version": "3.8.10"
    },
    "colab": {
      "provenance": [],
      "include_colab_link": true
    }
  },
  "nbformat": 4,
  "nbformat_minor": 0
}