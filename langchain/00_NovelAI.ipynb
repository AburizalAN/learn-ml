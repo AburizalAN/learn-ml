{
  "cells": [
    {
      "cell_type": "markdown",
      "metadata": {
        "id": "view-in-github",
        "colab_type": "text"
      },
      "source": [
        "<a href=\"https://colab.research.google.com/github/AburizalAN/learn-ml/blob/master/langchain/00_NovelAI.ipynb\" target=\"_parent\"><img src=\"https://colab.research.google.com/assets/colab-badge.svg\" alt=\"Open In Colab\"/></a>"
      ]
    },
    {
      "cell_type": "markdown",
      "source": [
        "# Webinar #33 Prompt Engineering & API"
      ],
      "metadata": {
        "id": "JS1pSRr_rZ97"
      }
    },
    {
      "cell_type": "markdown",
      "source": [
        "- 19.30 - 19.35 : Announcement\n",
        "- 19.35 - 20.30 : Sesi 1\n",
        "- 20.30 - 20.40 : Break\n",
        "- 20.40 - 21.15 : Sesi 2\n",
        "- 21.15 - 21.30 : QnA"
      ],
      "metadata": {
        "id": "Y80TqSXGrv0w"
      }
    },
    {
      "cell_type": "markdown",
      "source": [
        "- Informasi Penugasan LMS:\n",
        "1. Post Test Course 7 - NLP dapat diakses di LMS --> Kelas Saya --> Kelas Skill Academy Pro Live Lainnya --> Course 7: Post Test - NLP - Mastering AI Bootcamp Batch 2 (Deadline HARI INI Rabu, 6 Maret 2024 Pukul 23.59 WIB)\n",
        "2. Pre Test Course 8 - Langchain dapat diakses di LMS --> Kelas Saya --> Kelas Skill Academy Pro Live Lainnya --> Course 8: Langchain - Mastering AI Bootcamp Batch 2 (Deadline HARI INI Rabu, 6 Maret 2024 Pukul 23.59 WIB)\n",
        "3. Project #10A - NLP Encoder (Deadline Rabu, 13 Maret 2024 Pukul 23.59 WIB)\n",
        "4. Project #10B - NLP Decoder (Deadline Rabu, 13 Maret 2024 Pukul 23.59 WIB)\n",
        "\n",
        "- Project 10A dan 10B dapat diakses di LMS --> Kelas Saya --> Kelas Skill Academy Pro Live Lainnya --> [compile] All Project Assignment - Mastering AI Bootcamp Batch 2. Bobot nilai project adalah 60%"
      ],
      "metadata": {
        "id": "Aqk6MLK8ru93"
      }
    },
    {
      "cell_type": "markdown",
      "source": [
        "***"
      ],
      "metadata": {
        "id": "US7X7vkYr8Re"
      }
    },
    {
      "cell_type": "markdown",
      "metadata": {
        "id": "HuNtTECMetZw"
      },
      "source": [
        "# NovelAI\n",
        "- https://novelai.net/\n",
        "\n",
        "Before we've learned the architecture of using Neural Networks for NLP, and lots of you might already having some taste on using ChatGPT for the decoder-only architecture and text generation. But what about we learn another somewhat advanced tools that hopefully can better help us to understand NLP?\n",
        "\n",
        "Come NovelAI, it's a seemingly simple yet powerful tools to generate AI text for usage such as writing novel, writing stories, for helping in brainstorming, and more.\n",
        "\n",
        "Let's start by seeing below GIF"
      ]
    },
    {
      "cell_type": "markdown",
      "metadata": {
        "id": "V1IU8KmgetZy"
      },
      "source": [
        "![](https://ik.imagekit.io/ffr6l4jaf5t/REA%20AI/Video_2023-10-03_135213_eEovruuj1.gif?updatedAt=1696394168319)"
      ]
    },
    {
      "cell_type": "markdown",
      "metadata": {
        "id": "CCBTzFX7etZy"
      },
      "source": [
        "One of the most fun way to use NovelAI is to use it like you're reading a novel. You can just click send, then click send, and click send, and suddenly you'll find yourself reading a lengthy novel 100% made by AI.\n",
        "\n",
        "Want to change the genre? Use the memory section and add:\n",
        "\n",
        "```\n",
        "[Genre: fantasy]\n",
        "[Genre: horror]\n",
        "[Genre: sci-fi]\n",
        "[Genre: romance]\n",
        "```\n",
        "\n",
        "Want to make sure that they're using your name as the character?\n",
        "\n",
        "```\n",
        "Agung is a data scientist in Ruangguru\n",
        "```\n",
        "\n",
        "Want the story to be on a place that you've known? Or maybe something historical?\n",
        "\n",
        "```\n",
        "[Jakarta, 17 August 1945]\n",
        "```\n",
        "\n",
        "![](https://ik.imagekit.io/ffr6l4jaf5t/REA%20AI/image_sBloBXwDJ.png?updatedAt=1696394737540)"
      ]
    },
    {
      "cell_type": "markdown",
      "metadata": {
        "id": "Fv5WMp04etZz"
      },
      "source": [
        "You can create a war genre, imagining that you're fighting with several Indonesian heroes, or maybe you can create a romance genre, imagining that you're marrying your waifu :p, or maybe you can create a detective genre, imagining that you're solving a crime case with Sherlock Holmes."
      ]
    },
    {
      "cell_type": "markdown",
      "metadata": {
        "id": "bTq0vzKpetZz"
      },
      "source": [
        "# Directing your story: Editor Token Probabilities, retry, and edit it yourself\n",
        "\n",
        "![](https://ik.imagekit.io/ffr6l4jaf5t/REA%20AI/image_K3mVQ6spX.png?updatedAt=1696394933633)"
      ]
    },
    {
      "cell_type": "markdown",
      "metadata": {
        "id": "sXzTEy_BetZz"
      },
      "source": [
        "One of the most fun to use NovelAI to just let them cook the writing, it's like witnessing a novelist writing a novel in front of you. But what if you want to have more control, or the story is not going as you want it to be, or the AI writing nonsense? One of the most simple go-to solution is to use the Editor Token Probabilities.\n",
        "\n",
        "Just flick it and you can alter the story by hovering a word and change it with another word that the AI is suggesting."
      ]
    },
    {
      "cell_type": "markdown",
      "metadata": {
        "id": "_UhVR_lgetZz"
      },
      "source": [
        "![](https://ik.imagekit.io/ffr6l4jaf5t/REA%20AI/image(1)_ARpwlxLpL.png?updatedAt=1696395461531)"
      ]
    },
    {
      "cell_type": "markdown",
      "metadata": {
        "id": "genUbehGetZz"
      },
      "source": [
        "![](https://ik.imagekit.io/ffr6l4jaf5t/REA%20AI/image(3)_EYDCECdlw.png?updatedAt=1696395689775)"
      ]
    },
    {
      "cell_type": "markdown",
      "metadata": {
        "id": "TrMnuTcZetZz"
      },
      "source": [
        "By clicking one of the word, you will alter the future of that story to your liking, or of course you can just click retry if you're completely not satisfied with the story.\n",
        "\n",
        "![](https://ik.imagekit.io/ffr6l4jaf5t/REA%20AI/image(2)_Seo5WuTts.png?updatedAt=1696395618893)"
      ]
    },
    {
      "cell_type": "markdown",
      "metadata": {
        "id": "WfznGJ_GetZ0"
      },
      "source": [
        "Aaaanndd, you can just rewrite it completely, making really sure that the story is going as you want it to be."
      ]
    },
    {
      "cell_type": "markdown",
      "metadata": {
        "id": "KbvKxJ3wetZ0"
      },
      "source": [
        "![](https://ik.imagekit.io/ffr6l4jaf5t/REA%20AI/image_ikw2jQe4d.png?updatedAt=1696395890940)\n",
        "\n",
        "![](https://ik.imagekit.io/ffr6l4jaf5t/REA%20AI/image(2)_sPa33V0hC.png?updatedAt=1696396019608)\n",
        "\n",
        "![](https://ik.imagekit.io/ffr6l4jaf5t/REA%20AI/image(1)_p49fb5SQj.png?updatedAt=1696395974998)"
      ]
    },
    {
      "cell_type": "markdown",
      "metadata": {
        "id": "RhIFvMoCetZ0"
      },
      "source": [
        "# Giving hints and lore: Instruct and lorebook\n",
        "\n",
        "By entering in a new line open bracket character (`{`), you will enter an instruct mode. In here you can ask the AI to do anything, you can ask them to narrate, or even talking to them asking for suggestions for your story."
      ]
    },
    {
      "cell_type": "markdown",
      "metadata": {
        "id": "jEqz9-A9etZ0"
      },
      "source": [
        "![](https://ik.imagekit.io/ffr6l4jaf5t/REA%20AI/image(3)_Zf2gMkMiu.png?updatedAt=1696396288580)\n",
        "\n",
        "![](https://ik.imagekit.io/ffr6l4jaf5t/REA%20AI/image_ai4XLWtDRw.png?updatedAt=1696396552719)"
      ]
    },
    {
      "cell_type": "markdown",
      "metadata": {
        "id": "F23xB5dyetZ0"
      },
      "source": [
        "So what if you already know that a certain character should be included, but you're too lazy to brainstorm the detail? Use lorebook!"
      ]
    },
    {
      "cell_type": "markdown",
      "metadata": {
        "id": "kcellrYYetZ0"
      },
      "source": [
        "![](https://ik.imagekit.io/ffr6l4jaf5t/REA%20AI/image_SiKx2HNff.png?updatedAt=1696396832278)\n",
        "![](https://ik.imagekit.io/ffr6l4jaf5t/REA%20AI/image(1)_5R9U3XeZX.png?updatedAt=1696396832301)\n",
        "![](https://ik.imagekit.io/ffr6l4jaf5t/REA%20AI/image(3)_uXRDCHQLh.png?updatedAt=1696396832269)\n",
        "![](https://ik.imagekit.io/ffr6l4jaf5t/REA%20AI/image(4)_t-GPUiT9r.png?updatedAt=1696396832419)"
      ]
    },
    {
      "cell_type": "markdown",
      "metadata": {
        "id": "6gW_D1IaetZ1"
      },
      "source": [
        "Lorebook will help you to have a dictionary of characters, places, and items that you can use in your story. You can also use it to generate a random character, place, or item.\n",
        "\n",
        "By adding an entry, inputting the broad idea about what kind of character, place, or item that you want, and then selecting which context that you need the generator to understand (e.g. I need the generator to undertand that this character should be realistically be able to exist in the 19th century), you can click generate and retry after if necessary, to make the perfect entity.\n",
        "\n",
        "After that you have to make sure to add Activation Keys that will activate the entity in your story by the AI model injecting that entity into your AI context."
      ]
    },
    {
      "cell_type": "markdown",
      "metadata": {
        "id": "7LA8UfeQetZ1"
      },
      "source": [
        "# The Model: Context and presets\n",
        "\n",
        "NovelAI is used by lots of story writers, even for professional usage. It mean that they need a high level of control over how the AI will generate the story. Another crucial need is to understand why the model react a certain way, one of the place to debug the AI behavior is to check the context."
      ]
    },
    {
      "cell_type": "markdown",
      "metadata": {
        "id": "9MFtzIPyetZ1"
      },
      "source": [
        "![](https://ik.imagekit.io/ffr6l4jaf5t/REA%20AI/image(6)_cNY2dkX5h.png?updatedAt=1696397551597)\n",
        "![](https://ik.imagekit.io/ffr6l4jaf5t/REA%20AI/image(5)_TAxqWrfRA.png?updatedAt=1696397551548)"
      ]
    },
    {
      "cell_type": "markdown",
      "metadata": {
        "id": "wSps0xNYetZ1"
      },
      "source": [
        "You can see several context behind the story itself is added to what AI will generate: The memory and the lorebook. Understanding this will help you understand how the Novel AI's model work:\n",
        "\n",
        "It's inputting the whole context as is, and it's our duty for us to summarize the context into the limited token that you can input into the model. The total token that you can input is according to your payment plan, the maximum total token is 8192 tokens, which is $25 per month.\n",
        "\n",
        "This behaviour is different when using ChatGPT that summarize the chat for us, and we can just input the chat as is. This is why NovelAI is directed more towards advanced users, and it's also in some way more powerful than ChatGPT: We can debug the whole context, and making sure that every word generation will cater to our need."
      ]
    },
    {
      "cell_type": "markdown",
      "metadata": {
        "id": "CL-3PujHetZ1"
      },
      "source": [
        "So we've seen how we can debug the model, now how to configure the model? We can use presets!"
      ]
    },
    {
      "cell_type": "markdown",
      "metadata": {
        "id": "lTNkpTTNetZ1"
      },
      "source": [
        "![](https://ik.imagekit.io/ffr6l4jaf5t/REA%20AI/image_jg8P3kaOx.png?updatedAt=1696398014580)"
      ]
    },
    {
      "cell_type": "markdown",
      "metadata": {
        "id": "vR-Jq7HBetZ1"
      },
      "source": [
        "Most of the time, especially if you're writing using NovelAI just for having fun, the existing presets will be enough for you. You can use other ways that we've already explored to alter the story.\n",
        "\n",
        "So this presets will help you to configure how \"wild\" the generation would be, how creative it is, and if you think that sometimes the model is too imaginative, you can tune it down by using presets such as \"Fresh Coffee\".\n",
        "\n",
        "This preset will change the configuration in the configuration menu\n",
        "\n",
        "![](https://ik.imagekit.io/ffr6l4jaf5t/REA%20AI/image(1)_1YFuTLaMK.png?updatedAt=1696398202132)\n",
        "\n",
        "This configuration might be too much if we only want to try it for fun or maybe just want to dig deeper into another concept of NLP model, so using the presets would be sufficient."
      ]
    },
    {
      "cell_type": "markdown",
      "metadata": {
        "id": "307s_gy6etZ1"
      },
      "source": [
        "# Additional info: Text Adventure and Tokenizer"
      ]
    },
    {
      "cell_type": "markdown",
      "metadata": {
        "id": "xrOIe7CYetZ2"
      },
      "source": [
        "## Text adventure\n",
        "\n",
        "One of the way to have fun with NovelAI is to use Text Adventure. This is basically a \"Choose your own adventure\" game, where you can input an action, and the action will be inputted to your story by your given character (you must identify \"who are you playing as in the story\" in the memory section)."
      ]
    },
    {
      "cell_type": "markdown",
      "metadata": {
        "id": "8YHgEJINetZ2"
      },
      "source": [
        "![](https://ik.imagekit.io/ffr6l4jaf5t/REA%20AI/image(1)_RTn0TlLJ20.png?updatedAt=1696398538628)"
      ]
    },
    {
      "cell_type": "markdown",
      "metadata": {
        "id": "IbKQc5nyetZ2"
      },
      "source": [
        "In here, you can have fun! If it's a murder case, you can try to solve who is the murders. You can pretend you're locked up in some place and you have to find a way to escape, and more! You can go back-and-forth with the AI anytime it went south, but most of the time you can just \"surrender\" your story to the AI and let the AI cook your fate on whatever action you take, whatever talk you said 😀."
      ]
    },
    {
      "cell_type": "markdown",
      "metadata": {
        "id": "Wer5n0XnetZ2"
      },
      "source": [
        "## Tokenizer\n",
        "\n",
        "![](https://ik.imagekit.io/ffr6l4jaf5t/REA%20AI/image(2)_sXhkZyrAG.png?updatedAt=1696398538962)\n",
        "![](https://ik.imagekit.io/ffr6l4jaf5t/REA%20AI/image(4)_KFTXxMkC3.png?updatedAt=1696399100128)\n",
        "\n",
        "Last but not least, as we're using NovelAI to learn another concept of AI implementation, we can check the tokenizer and see several ways that NovelAI tokenize your words. Of course you can try also in the story itself using a non-English name such as Agung, and see how it split the words using Editor Token Probabilities.\n",
        "\n",
        "Anyway, have fun understanding more about AI text generation model using NovelAI!"
      ]
    }
  ],
  "metadata": {
    "colab": {
      "provenance": [],
      "include_colab_link": true
    },
    "kernelspec": {
      "display_name": "Python 3 (ipykernel)",
      "language": "python",
      "name": "python3"
    },
    "language_info": {
      "codemirror_mode": {
        "name": "ipython",
        "version": 3
      },
      "file_extension": ".py",
      "mimetype": "text/x-python",
      "name": "python",
      "nbconvert_exporter": "python",
      "pygments_lexer": "ipython3",
      "version": "3.11.3"
    }
  },
  "nbformat": 4,
  "nbformat_minor": 0
}