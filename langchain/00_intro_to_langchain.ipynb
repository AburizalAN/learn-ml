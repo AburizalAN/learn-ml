{
  "cells": [
    {
      "cell_type": "markdown",
      "metadata": {
        "id": "view-in-github",
        "colab_type": "text"
      },
      "source": [
        "<a href=\"https://colab.research.google.com/github/AburizalAN/learn-ml/blob/master/langchain/00_intro_to_langchain.ipynb\" target=\"_parent\"><img src=\"https://colab.research.google.com/assets/colab-badge.svg\" alt=\"Open In Colab\"/></a>"
      ]
    },
    {
      "cell_type": "markdown",
      "source": [
        "# Webinar #34 NLP Application - Langchain"
      ],
      "metadata": {
        "id": "18Cij8NGBHtf"
      }
    },
    {
      "cell_type": "markdown",
      "source": [
        "- 19.30 - 19.35 : Announcement\n",
        "- 19.35 - 20.30 : Sesi 1\n",
        "- 20.30 - 20.40 : Break\n",
        "- 20.40 - 21.15 : Sesi 2\n",
        "- 21.15 - 21.30 : QnA"
      ],
      "metadata": {
        "id": "6bitr7u8BF32"
      }
    },
    {
      "cell_type": "markdown",
      "source": [
        "- https://www.linkedin.com/in/adiptamartulandi/"
      ],
      "metadata": {
        "id": "qos1J_q_CDjj"
      }
    },
    {
      "cell_type": "markdown",
      "source": [
        "***"
      ],
      "metadata": {
        "id": "lq4nmvs-BiFA"
      }
    },
    {
      "cell_type": "markdown",
      "metadata": {
        "id": "Glts8CboFqAW"
      },
      "source": [
        "\n",
        "![Image](https://miro.medium.com/v2/resize:fit:500/1*-PlFCd_VBcALKReO3ZaOEg.png)\n",
        "\n",
        "# LangChain: A Python Library for Building NLP Applications\n"
      ]
    },
    {
      "cell_type": "markdown",
      "metadata": {
        "id": "rQhEXGKNFqAc"
      },
      "source": [
        "I'm sure we all know ChatGPT right ? It's a revolutionary chatbot that seems to know just about everything. If you haven't, then I suggest you signup for the free version over at https://chat.openai.com/\n",
        "\n",
        "There is one problem with ChatGPT, while it knows a lot of general knowledge, if we ask it about school rules or company rules, it will fail, ChatGPT will still try to answer it to its best knowledge, but still too general. Don't believe me ? Try it out yourself.\n",
        "\n",
        "Here is an example of what I get when I ask about Universitas Indonesia rules:\n",
        "![ChatGPT Universitas Indonesia Rules](./assets/chatgpt-ui-rules.png)\n",
        "\n",
        "How would we add that rules to ChatGPT ? Transfer-Learning ? Fine-Tuning ? Well, ChatGPT is not open source, so we don't have access to the model. And yes there is open source GPT-2, but that's kind of an old model, isn't it ? After all ChatGPT is very popular after version 3.\n",
        "\n",
        "There is one simple thing that we can do, and it can do more than just adding school or company rules. It's called LangChain. It's a set of tools, all in one package, that makes it easier to build AI based applications, e.g. a chatbot. You just need to know how to use the tools in LangChain to create your chatbot."
      ]
    },
    {
      "cell_type": "markdown",
      "metadata": {
        "id": "VXDdDicHFqAc"
      },
      "source": [
        "## Key Concepts: Chains and Agents\n",
        "\n",
        "To better understand Lang Chain, we have to first learn about two key concepts: chains and agents.\n",
        "\n",
        "These concepts enable the creation of complex applications capable of performing tasks like web searching, database access, and leveraging the reasoning capabilities of large language models for autonomous tasks."
      ]
    },
    {
      "cell_type": "markdown",
      "metadata": {
        "id": "KUvTfSaIFqAd"
      },
      "source": [
        "### Chains\n",
        "\n",
        "![Chains](https://upload.wikimedia.org/wikipedia/commons/1/12/Chains_%2815836373122%29.jpg)\n",
        "Source: [XoMEoX, CC BY 2.0, via Wikimedia Commons](https://creativecommons.org/licenses/by/2.0)\n",
        "\n",
        "Let's think of chains as a series of \"tasks\" linked together and it's designed to achieve a specific goal by performing a series of operations.\n",
        "\n",
        "A task is specific to doing only one thing and it can be anything from querying a database, accessing an API, or processing data. The output of one task in the chain can serve as the input for the next, enabling the development of sophisticated AI applications by facilitating complex, multi-step operations.\n",
        "\n",
        "How do chains relates to ChatGPT ? Who is processing the input into and output from the chain ?\n",
        "\n",
        "Well, input is processed by AI model, usually an LLM (Large Language Model), a term used to identify AI text-model, such as ChatGPT. For simplicity, let's just say the input is processed by ChatGPT which produces the output. Naturally it will be in the form of text.\n",
        "\n",
        "Taking the example above on Universitas Indonesia rules, the set of chains can be the first chain will access/read a PDF file containing the rules, the next chain can be search the PDF for rules, the next chain compile the rules and the last chain present the rules in bullet points format.\n",
        "\n",
        "Can you think of another set of chain that can be used to solve the same thing (find and preset University of Indonesia rules) ?"
      ]
    },
    {
      "cell_type": "markdown",
      "source": [
        "chain punya senjata itu hanya prompt + llm"
      ],
      "metadata": {
        "id": "j37IleHAEtYe"
      }
    },
    {
      "cell_type": "markdown",
      "metadata": {
        "id": "lZFrV0EdFqAe"
      },
      "source": [
        "### Agents\n",
        "\n",
        "![LangChain-agent](https://storage.googleapis.com/rg-ai-bootcamp/langchain/langchain-agent.png)\n",
        "\n",
        "Source: [Medium](https://medium.com/@minh.hoque/exploring-the-world-of-large-language-model-agents-18a32598829e)\n",
        "\n",
        "Let's use an analogy for agent in LangChain, it's much easier to understand. Think of an agent as a person. Let's use a bank cashier as an example. A bank cashier can accept deposit from a customer, count the money, input the deposit amount along with customer data into the banking system and provide receipt to the customer. Now, if counterfeit money is found, then the cashier can reject the deposit.\n",
        "\n",
        "Thus, an agent is an autonomous entities capable of performing tasks and making decisions. It can interact with it's environment, process information, and execute actions. The actions of agents are based on predefined rules or learned behavior, allowing them to adapt to different situations.\n",
        "\n",
        "Let's call this bank cashier as cashier agent. Now we want this cashier agent to also handle customer complaints. Can this agent do that ? Yes it can, but, and I must emphasize \"but\" here, it will be doing two things that are unrelated, making it overly complicated. In this case we usually create a new agent to handle the customer complaints. So there can be multiple agents at work in the same system.\n",
        "\n",
        "It's not complicated you say ? Hmm... customer complaints are regularly updated because there can be new rules introduced by the bank that makes the old answer no longer valid or there are new kind of customer complaints due to a new product being introduced. I think it's better to split the agent.\n",
        "\n",
        "Thus it's important to think of agents in the context of the goal for the agent and tasks performed by the agent.\n",
        "\n",
        "As we can see, agents can range from simple, performing a single task, to complex, capable of managing multiple tasks and making decisions based on context. And agents also play a crucial role in creating sophisticated AI applications with Lang Chain, enabling autonomous and intelligent operations."
      ]
    },
    {
      "cell_type": "markdown",
      "source": [
        "agent punya senjata banyak\n",
        "- prompt\n",
        "- llm\n",
        "- tools\n",
        "  - calculator tools\n",
        "  - wikipedia tools\n",
        "  - search api google tools\n",
        "  - execute python tools\n",
        "  - connect ke database\n",
        "- dll dll"
      ],
      "metadata": {
        "id": "9R-o5uvoFPUK"
      }
    },
    {
      "cell_type": "markdown",
      "metadata": {
        "id": "2p721ooOFqAf"
      },
      "source": [
        "## Connecting Large Language Models to External Sources\n",
        "\n",
        "One of the limitations of an AI model is the knowledge is limited only to what it was trained on. With Langchain, we can connect the model to external sources. This ability is what makes LangChain powerful, we can connect the AI model or large language models to a variety of external sources. The actual interaction is quite complex, for now we'll let LangChain takes care of that and we'll focus on using LangChain to enhance an LLM capability.\n",
        "\n",
        "These sources includes:\n",
        "* Search Engine APIs\n",
        "* Application APIs, e.g. Notion\n",
        "* Mathematical functions with Wolfram\n",
        "* LinkedIn\n",
        "* Twitter\n",
        "* and more.\n",
        "\n",
        "![LangChain Star History](https://storage.googleapis.com/rg-ai-bootcamp/langchain/Screenshot_1.png)\n"
      ]
    },
    {
      "cell_type": "markdown",
      "metadata": {
        "id": "5bZaWDZ2FqAf"
      },
      "source": [
        "## Lang Chain's \"Superpowers\"\n",
        "\n",
        "LangChain is growing in popularity, starting with the introduction of ChatGPT back in November 2022 and with the arrival of GPT-4 in March 2023, the number of integrations supported by LangChain is exploded, making it a robust and versatile framework for AI application development.\n",
        "\n",
        "\n",
        "![LangChain Star History](https://storage.googleapis.com/rg-ai-bootcamp/langchain/star-history-2023710.png)\n",
        "\n",
        "Source: [Streamlit](https://blog.streamlit.io/langchain-tutorial-1-build-an-llm-powered-app-in-18-lines-of-code/)"
      ]
    }
  ],
  "metadata": {
    "celltoolbar": "Slideshow",
    "kernelspec": {
      "display_name": "Python 3 (ipykernel)",
      "language": "python",
      "name": "python3"
    },
    "language_info": {
      "codemirror_mode": {
        "name": "ipython",
        "version": 3
      },
      "file_extension": ".py",
      "mimetype": "text/x-python",
      "name": "python",
      "nbconvert_exporter": "python",
      "pygments_lexer": "ipython3",
      "version": "3.11.3"
    },
    "colab": {
      "provenance": [],
      "include_colab_link": true
    }
  },
  "nbformat": 4,
  "nbformat_minor": 0
}