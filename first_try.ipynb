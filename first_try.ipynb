{
 "cells": [
  {
   "cell_type": "markdown",
   "id": "2d129ea7-13b8-4eab-94a8-5d974a56a425",
   "metadata": {},
   "source": [
    "### **Hello World**"
   ]
  },
  {
   "cell_type": "code",
   "execution_count": 1,
   "id": "b67509b0-b32b-47b7-9648-2bd804e5ab59",
   "metadata": {},
   "outputs": [
    {
     "name": "stdout",
     "output_type": "stream",
     "text": [
      "Hello World\n"
     ]
    }
   ],
   "source": [
    "print(\"Hello World\")"
   ]
  },
  {
   "cell_type": "markdown",
   "metadata": {},
   "source": [
    "* **Ternary Operator in Python**"
   ]
  },
  {
   "cell_type": "code",
   "execution_count": 25,
   "metadata": {},
   "outputs": [
    {
     "name": "stdout",
     "output_type": "stream",
     "text": [
      "it's prime number\n"
     ]
    }
   ],
   "source": [
    "number = 5\n",
    "\n",
    "def isPrime(num):\n",
    "  if (num > 1):\n",
    "    for i in range(2, int(num / 2) + 1):\n",
    "      if num % i == 0:\n",
    "        return False\n",
    "    return True\n",
    "  else:\n",
    "    return False\n",
    "  \n",
    "print(\"it's not prime number\" if not(isPrime(number)) else \"it's prime number\")"
   ]
  },
  {
   "cell_type": "code",
   "execution_count": 1,
   "metadata": {},
   "outputs": [
    {
     "name": "stdout",
     "output_type": "stream",
     "text": [
      "{'name': 'Aburizal', 'age': 123}\n",
      "{'name': 'Kimi', 'age': 123}\n",
      "{'name': 'Kumu', 'age': 123}\n"
     ]
    }
   ],
   "source": [
    "test = [\n",
    "  {\n",
    "    \"name\": \"Aburizal\",\n",
    "    \"age\": 123,\n",
    "  },\n",
    "  {\n",
    "    \"name\": \"Kimi\",\n",
    "    \"age\": 123,\n",
    "  },\n",
    "  {\n",
    "    \"name\": \"Kumu\",\n",
    "    \"age\": 123,\n",
    "  }\n",
    "]\n",
    "\n",
    "for dict in test:\n",
    "  print(dict)"
   ]
  },
  {
   "cell_type": "code",
   "execution_count": 2,
   "metadata": {},
   "outputs": [
    {
     "ename": "TypeError",
     "evalue": "'str' object does not support the context manager protocol",
     "output_type": "error",
     "traceback": [
      "\u001b[1;31m---------------------------------------------------------------------------\u001b[0m",
      "\u001b[1;31mTypeError\u001b[0m                                 Traceback (most recent call last)",
      "\u001b[1;32mc:\\Users\\aburi\\Documents\\AburizalAN\\learn-ML\\first_try.ipynb Cell 6\u001b[0m line \u001b[0;36m3\n\u001b[0;32m      <a href='vscode-notebook-cell:/c%3A/Users/aburi/Documents/AburizalAN/learn-ML/first_try.ipynb#W5sZmlsZQ%3D%3D?line=0'>1</a>\u001b[0m a \u001b[39m=\u001b[39m \u001b[39m\"\u001b[39m\u001b[39mtest\u001b[39m\u001b[39m\"\u001b[39m\n\u001b[1;32m----> <a href='vscode-notebook-cell:/c%3A/Users/aburi/Documents/AburizalAN/learn-ML/first_try.ipynb#W5sZmlsZQ%3D%3D?line=2'>3</a>\u001b[0m \u001b[39mwith\u001b[39;49;00m a \u001b[39mas\u001b[39;49;00m b:\n\u001b[0;32m      <a href='vscode-notebook-cell:/c%3A/Users/aburi/Documents/AburizalAN/learn-ML/first_try.ipynb#W5sZmlsZQ%3D%3D?line=3'>4</a>\u001b[0m   \u001b[39mprint\u001b[39;49m(b)\n",
      "\u001b[1;31mTypeError\u001b[0m: 'str' object does not support the context manager protocol"
     ]
    }
   ],
   "source": [
    "a = open(\"text.txt\");\n",
    "\n",
    "with a as b:\n",
    "  print(b)"
   ]
  },
  {
   "cell_type": "code",
   "execution_count": 4,
   "id": "bfcc14d6",
   "metadata": {},
   "outputs": [
    {
     "name": "stdout",
     "output_type": "stream",
     "text": [
      "Hello my name is Aburizal\n",
      "my power is Rasenggan\n"
     ]
    }
   ],
   "source": [
    "class Human:\n",
    "  def __init__(self, name):\n",
    "    self.name = name\n",
    "\n",
    "  def hello(self):\n",
    "    return f\"Hello my name is {self.name}\"\n",
    "  \n",
    "class InHuman(Human):\n",
    "  def __init__(self, name, power):\n",
    "    super().__init__(name)\n",
    "    self.power = power\n",
    "  \n",
    "  def my_power(self):\n",
    "    return f\"my power is {self.power}\"\n",
    "  \n",
    "abu = InHuman(\"Aburizal\", \"Rasenggan\")\n",
    "\n",
    "print(abu.hello())\n",
    "print(abu.my_power())"
   ]
  }
 ],
 "metadata": {
  "kernelspec": {
   "display_name": "Python 3 (ipykernel)",
   "language": "python",
   "name": "python3"
  },
  "language_info": {
   "codemirror_mode": {
    "name": "ipython",
    "version": 3
   },
   "file_extension": ".py",
   "mimetype": "text/x-python",
   "name": "python",
   "nbconvert_exporter": "python",
   "pygments_lexer": "ipython3",
   "version": "3.12.1"
  }
 },
 "nbformat": 4,
 "nbformat_minor": 5
}
