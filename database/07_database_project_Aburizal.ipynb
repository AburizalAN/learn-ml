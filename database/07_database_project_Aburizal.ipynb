{
  "cells": [
    {
      "cell_type": "markdown",
      "id": "view-in-github",
      "metadata": {
        "id": "view-in-github"
      },
      "source": [
        "<a href=\"https://colab.research.google.com/github/AburizalAN/learn-ml/blob/master/database/07_database_project_Aburizal.ipynb\" target=\"_parent\"><img src=\"https://colab.research.google.com/assets/colab-badge.svg\" alt=\"Open In Colab\"/></a>\n"
      ]
    },
    {
      "cell_type": "markdown",
      "id": "def8e46c-7606-4991-9b29-9223ccacd54b",
      "metadata": {
        "id": "def8e46c-7606-4991-9b29-9223ccacd54b"
      },
      "source": [
        "# Project: Database\n"
      ]
    },
    {
      "cell_type": "markdown",
      "id": "911a145c-7d01-4210-9699-0e1fef80ff19",
      "metadata": {
        "id": "911a145c-7d01-4210-9699-0e1fef80ff19"
      },
      "source": [
        "**Instructions for Students:**\n",
        "\n",
        "Please carefully follow these steps to complete and submit your project:\n",
        "\n",
        "1. **Completing the Project**: You are required to work on and complete all tasks in the provided project. Be disciplined and ensure that you thoroughly engage with each task.\n",
        "2. **Creating a Google Drive Folder**: Each of you must create a new folder on your Google Drive if you haven't already. This will be the repository for all your completed assignment and project files, aiding you in keeping your work organized and accessible.\n",
        "3. **Uploading Completed Project**: Upon completion of your project, make sure to upload all necessary files, involving codes, reports, and related documents into the created Google Drive folder. Save this link in the 'Student Identity' section and also provide it as the last parameter in the `submit` function that has been provided.\n",
        "4. **Sharing Folder Link**: You're required to share the link to your project Google Drive folder. This is crucial for the submission and evaluation of your project.\n",
        "5. **Setting Permission toPublic**: Please make sure your Google Drive folder is set to public. This allows your instructor to access your solutions and assess your work correctly.\n",
        "\n",
        "Adhering to these procedures will facilitate a smooth project evaluation process for you and the reviewers.\n"
      ]
    },
    {
      "cell_type": "markdown",
      "id": "8018f21d-d661-4ae4-a50d-9fb66feb291d",
      "metadata": {
        "id": "8018f21d-d661-4ae4-a50d-9fb66feb291d"
      },
      "source": [
        "## Student Identity\n"
      ]
    },
    {
      "cell_type": "code",
      "execution_count": 1,
      "id": "9fc57472-0432-474a-b1f7-c825edfc007a",
      "metadata": {
        "colab": {
          "base_uri": "https://localhost:8080/"
        },
        "id": "9fc57472-0432-474a-b1f7-c825edfc007a",
        "outputId": "4a471bb4-3e8e-43b1-abe3-19b8bf3fb85b"
      },
      "outputs": [],
      "source": [
        "# @title #### Student Identity\n",
        "student_id = \"REAEAYH8\" # @param {type:\"string\"}\n",
        "name = \"Aburizal Adi Nugroho\" # @param {type:\"string\"}\n",
        "drive_link = \"https://drive.google.com/drive/folders/1pRIbA2Zphrtg_TS5N0ypHHTXkUBs50tI?usp=sharing\"  # @param {type:\"string\"}\n",
        "\n",
        "assignment_id = \"00_database_project\"\n",
        "\n",
        "# Import grader package\n",
        "!pip install rggrader\n",
        "from rggrader import submit, submit_image"
      ]
    },
    {
      "cell_type": "markdown",
      "id": "d3b9e0f7-75d2-476a-9b29-07c1a3800925",
      "metadata": {
        "id": "d3b9e0f7-75d2-476a-9b29-07c1a3800925"
      },
      "source": [
        "## Project Description\n",
        "\n",
        "In this project, you'll work with the Kaggle E-commerce dataset. Your tasks are to import this dataset into a SQLite database, explore it using SQL to identify key attributes and patterns, and perform basic data cleaning procedures. This project is designed to improve your skills in database management, SQL usage, and data cleaning.\n"
      ]
    },
    {
      "cell_type": "markdown",
      "id": "84fea308-2c09-472c-a5ec-e4ba0900d496",
      "metadata": {
        "id": "84fea308-2c09-472c-a5ec-e4ba0900d496"
      },
      "source": [
        "Rmember to make a copy of this notebook in your Google Drive and work in your own copy.\n"
      ]
    },
    {
      "cell_type": "markdown",
      "id": "e0b68327-fc7b-43de-9f16-b058d11d775b",
      "metadata": {
        "id": "e0b68327-fc7b-43de-9f16-b058d11d775b"
      },
      "source": [
        "## I. Loading and Querying with SQL\n",
        "\n",
        "In this task, you will use Kaggle E-commerce dataset. You need to download it from the link here: [Kaggle E-commerce data](https://www.kaggle.com/datasets/carrie1/ecommerce-data?select=data.csv).\n",
        "\n",
        "After you download the dataset, you will then import the dataset into SQL format, using SQLite.\n"
      ]
    },
    {
      "cell_type": "markdown",
      "id": "25ecc459-5019-42d8-84a6-8644cecafef3",
      "metadata": {
        "id": "25ecc459-5019-42d8-84a6-8644cecafef3"
      },
      "source": [
        "### I.1. Package and Module Installation\n",
        "\n",
        "First, let's pool all package and module that you'll need in the installation section below.\n"
      ]
    },
    {
      "cell_type": "code",
      "execution_count": null,
      "id": "62606ca1-5868-4c65-93ef-1d6ee8d8d59a",
      "metadata": {
        "id": "62606ca1-5868-4c65-93ef-1d6ee8d8d59a"
      },
      "outputs": [],
      "source": [
        "# Write any package/module installation that you need\n",
        "# pip install goes here, this helps declutter your output below\n",
        "\n"
      ]
    },
    {
      "cell_type": "markdown",
      "id": "b0837717-de95-4193-9898-e2f4cadfcfc6",
      "metadata": {
        "id": "b0837717-de95-4193-9898-e2f4cadfcfc6"
      },
      "source": [
        "### I.2. Data Loading and SQL CREATE and INSERT to database table\n",
        "\n",
        "Now you can create the database and tables. Follow the same column naming as the dataset.\n",
        "\n",
        "Next insert all the data from the dataset into the table in the database.\n"
      ]
    },
    {
      "cell_type": "code",
      "execution_count": 2,
      "id": "3b0e5e58-277e-41ef-9b1c-951e5d150191",
      "metadata": {
        "id": "3b0e5e58-277e-41ef-9b1c-951e5d150191"
      },
      "outputs": [],
      "source": [
        "# Write your data loading to SQL database here\n",
        "import sqlite3\n",
        "import pandas as pd\n",
        "\n",
        "dataset = pd.read_csv(\"./data.csv\", delimiter=\",\")\n",
        "conn = sqlite3.connect('ecommerce.db')\n",
        "cur = conn.cursor()\n",
        "\n",
        "# cur.execute('''\n",
        "#   CREATE TABLE ecommerce (\n",
        "#     id INT PRIMARY KEY,\n",
        "#     InvoiceNo VARCHAR(255) NOT NULL,\n",
        "#     StockCode VARCHAR(255) NOT NULL,\n",
        "#     Description TEXT NOT NULL,\n",
        "#     Quantity INT NOT NULL,\n",
        "#     InvoiceDate DATETIME NOT NULL,\n",
        "#     UnitPrice FLOAT NOT NULL,\n",
        "#     CustomerID FLOAT NOT NULL,\n",
        "#     Country VARCHAR(255) NOT NULL\n",
        "#   )\n",
        "# ''')\n",
        "\n",
        "dataset.to_sql('ecommerce', conn, if_exists=\"replace\", index=False)\n",
        "\n",
        "conn.commit()"
      ]
    },
    {
      "cell_type": "code",
      "execution_count": 3,
      "id": "e63cc9eb",
      "metadata": {
        "colab": {
          "base_uri": "https://localhost:8080/",
          "height": 424
        },
        "id": "e63cc9eb",
        "outputId": "c734af89-c73a-4570-c5fb-d7b60aaf75ba"
      },
      "outputs": [
        {
          "data": {
            "application/vnd.google.colaboratory.intrinsic+json": {
              "repr_error": "'str' object has no attribute 'empty'",
              "type": "dataframe"
            },
            "text/html": [
              "\n",
              "  <div id=\"df-7c4e88eb-b936-4536-bc01-91f05661523a\" class=\"colab-df-container\">\n",
              "    <div>\n",
              "<style scoped>\n",
              "    .dataframe tbody tr th:only-of-type {\n",
              "        vertical-align: middle;\n",
              "    }\n",
              "\n",
              "    .dataframe tbody tr th {\n",
              "        vertical-align: top;\n",
              "    }\n",
              "\n",
              "    .dataframe thead th {\n",
              "        text-align: right;\n",
              "    }\n",
              "</style>\n",
              "<table border=\"1\" class=\"dataframe\">\n",
              "  <thead>\n",
              "    <tr style=\"text-align: right;\">\n",
              "      <th></th>\n",
              "      <th>InvoiceNo</th>\n",
              "      <th>StockCode</th>\n",
              "      <th>Description</th>\n",
              "      <th>Quantity</th>\n",
              "      <th>InvoiceDate</th>\n",
              "      <th>UnitPrice</th>\n",
              "      <th>CustomerID</th>\n",
              "      <th>Country</th>\n",
              "    </tr>\n",
              "  </thead>\n",
              "  <tbody>\n",
              "    <tr>\n",
              "      <th>0</th>\n",
              "      <td>536365</td>\n",
              "      <td>85123A</td>\n",
              "      <td>WHITE HANGING HEART T-LIGHT HOLDER</td>\n",
              "      <td>6</td>\n",
              "      <td>12/1/2010 8:26</td>\n",
              "      <td>2.55</td>\n",
              "      <td>17850.0</td>\n",
              "      <td>United Kingdom</td>\n",
              "    </tr>\n",
              "    <tr>\n",
              "      <th>1</th>\n",
              "      <td>536373</td>\n",
              "      <td>85123A</td>\n",
              "      <td>WHITE HANGING HEART T-LIGHT HOLDER</td>\n",
              "      <td>6</td>\n",
              "      <td>12/1/2010 9:02</td>\n",
              "      <td>2.55</td>\n",
              "      <td>17850.0</td>\n",
              "      <td>United Kingdom</td>\n",
              "    </tr>\n",
              "    <tr>\n",
              "      <th>2</th>\n",
              "      <td>536375</td>\n",
              "      <td>85123A</td>\n",
              "      <td>WHITE HANGING HEART T-LIGHT HOLDER</td>\n",
              "      <td>6</td>\n",
              "      <td>12/1/2010 9:32</td>\n",
              "      <td>2.55</td>\n",
              "      <td>17850.0</td>\n",
              "      <td>United Kingdom</td>\n",
              "    </tr>\n",
              "    <tr>\n",
              "      <th>3</th>\n",
              "      <td>536390</td>\n",
              "      <td>85123A</td>\n",
              "      <td>WHITE HANGING HEART T-LIGHT HOLDER</td>\n",
              "      <td>64</td>\n",
              "      <td>12/1/2010 10:19</td>\n",
              "      <td>2.55</td>\n",
              "      <td>17511.0</td>\n",
              "      <td>United Kingdom</td>\n",
              "    </tr>\n",
              "    <tr>\n",
              "      <th>4</th>\n",
              "      <td>536394</td>\n",
              "      <td>85123A</td>\n",
              "      <td>WHITE HANGING HEART T-LIGHT HOLDER</td>\n",
              "      <td>32</td>\n",
              "      <td>12/1/2010 10:39</td>\n",
              "      <td>2.55</td>\n",
              "      <td>13408.0</td>\n",
              "      <td>United Kingdom</td>\n",
              "    </tr>\n",
              "    <tr>\n",
              "      <th>...</th>\n",
              "      <td>...</td>\n",
              "      <td>...</td>\n",
              "      <td>...</td>\n",
              "      <td>...</td>\n",
              "      <td>...</td>\n",
              "      <td>...</td>\n",
              "      <td>...</td>\n",
              "      <td>...</td>\n",
              "    </tr>\n",
              "    <tr>\n",
              "      <th>2308</th>\n",
              "      <td>581439</td>\n",
              "      <td>85123A</td>\n",
              "      <td>CREAM HANGING HEART T-LIGHT HOLDER</td>\n",
              "      <td>1</td>\n",
              "      <td>12/8/2011 16:30</td>\n",
              "      <td>5.79</td>\n",
              "      <td>NaN</td>\n",
              "      <td>United Kingdom</td>\n",
              "    </tr>\n",
              "    <tr>\n",
              "      <th>2309</th>\n",
              "      <td>581452</td>\n",
              "      <td>85123A</td>\n",
              "      <td>WHITE HANGING HEART T-LIGHT HOLDER</td>\n",
              "      <td>32</td>\n",
              "      <td>12/8/2011 18:03</td>\n",
              "      <td>2.55</td>\n",
              "      <td>17675.0</td>\n",
              "      <td>United Kingdom</td>\n",
              "    </tr>\n",
              "    <tr>\n",
              "      <th>2310</th>\n",
              "      <td>581472</td>\n",
              "      <td>85123A</td>\n",
              "      <td>WHITE HANGING HEART T-LIGHT HOLDER</td>\n",
              "      <td>6</td>\n",
              "      <td>12/8/2011 19:55</td>\n",
              "      <td>2.95</td>\n",
              "      <td>15796.0</td>\n",
              "      <td>United Kingdom</td>\n",
              "    </tr>\n",
              "    <tr>\n",
              "      <th>2311</th>\n",
              "      <td>581492</td>\n",
              "      <td>85123A</td>\n",
              "      <td>CREAM HANGING HEART T-LIGHT HOLDER</td>\n",
              "      <td>3</td>\n",
              "      <td>12/9/2011 10:03</td>\n",
              "      <td>5.79</td>\n",
              "      <td>NaN</td>\n",
              "      <td>United Kingdom</td>\n",
              "    </tr>\n",
              "    <tr>\n",
              "      <th>2312</th>\n",
              "      <td>581538</td>\n",
              "      <td>85123A</td>\n",
              "      <td>CREAM HANGING HEART T-LIGHT HOLDER</td>\n",
              "      <td>1</td>\n",
              "      <td>12/9/2011 11:34</td>\n",
              "      <td>2.95</td>\n",
              "      <td>14446.0</td>\n",
              "      <td>United Kingdom</td>\n",
              "    </tr>\n",
              "  </tbody>\n",
              "</table>\n",
              "<p>2313 rows × 8 columns</p>\n",
              "</div>\n",
              "    <div class=\"colab-df-buttons\">\n",
              "\n",
              "  <div class=\"colab-df-container\">\n",
              "    <button class=\"colab-df-convert\" onclick=\"convertToInteractive('df-7c4e88eb-b936-4536-bc01-91f05661523a')\"\n",
              "            title=\"Convert this dataframe to an interactive table.\"\n",
              "            style=\"display:none;\">\n",
              "\n",
              "  <svg xmlns=\"http://www.w3.org/2000/svg\" height=\"24px\" viewBox=\"0 -960 960 960\">\n",
              "    <path d=\"M120-120v-720h720v720H120Zm60-500h600v-160H180v160Zm220 220h160v-160H400v160Zm0 220h160v-160H400v160ZM180-400h160v-160H180v160Zm440 0h160v-160H620v160ZM180-180h160v-160H180v160Zm440 0h160v-160H620v160Z\"/>\n",
              "  </svg>\n",
              "    </button>\n",
              "\n",
              "  <style>\n",
              "    .colab-df-container {\n",
              "      display:flex;\n",
              "      gap: 12px;\n",
              "    }\n",
              "\n",
              "    .colab-df-convert {\n",
              "      background-color: #E8F0FE;\n",
              "      border: none;\n",
              "      border-radius: 50%;\n",
              "      cursor: pointer;\n",
              "      display: none;\n",
              "      fill: #1967D2;\n",
              "      height: 32px;\n",
              "      padding: 0 0 0 0;\n",
              "      width: 32px;\n",
              "    }\n",
              "\n",
              "    .colab-df-convert:hover {\n",
              "      background-color: #E2EBFA;\n",
              "      box-shadow: 0px 1px 2px rgba(60, 64, 67, 0.3), 0px 1px 3px 1px rgba(60, 64, 67, 0.15);\n",
              "      fill: #174EA6;\n",
              "    }\n",
              "\n",
              "    .colab-df-buttons div {\n",
              "      margin-bottom: 4px;\n",
              "    }\n",
              "\n",
              "    [theme=dark] .colab-df-convert {\n",
              "      background-color: #3B4455;\n",
              "      fill: #D2E3FC;\n",
              "    }\n",
              "\n",
              "    [theme=dark] .colab-df-convert:hover {\n",
              "      background-color: #434B5C;\n",
              "      box-shadow: 0px 1px 3px 1px rgba(0, 0, 0, 0.15);\n",
              "      filter: drop-shadow(0px 1px 2px rgba(0, 0, 0, 0.3));\n",
              "      fill: #FFFFFF;\n",
              "    }\n",
              "  </style>\n",
              "\n",
              "    <script>\n",
              "      const buttonEl =\n",
              "        document.querySelector('#df-7c4e88eb-b936-4536-bc01-91f05661523a button.colab-df-convert');\n",
              "      buttonEl.style.display =\n",
              "        google.colab.kernel.accessAllowed ? 'block' : 'none';\n",
              "\n",
              "      async function convertToInteractive(key) {\n",
              "        const element = document.querySelector('#df-7c4e88eb-b936-4536-bc01-91f05661523a');\n",
              "        const dataTable =\n",
              "          await google.colab.kernel.invokeFunction('convertToInteractive',\n",
              "                                                    [key], {});\n",
              "        if (!dataTable) return;\n",
              "\n",
              "        const docLinkHtml = 'Like what you see? Visit the ' +\n",
              "          '<a target=\"_blank\" href=https://colab.research.google.com/notebooks/data_table.ipynb>data table notebook</a>'\n",
              "          + ' to learn more about interactive tables.';\n",
              "        element.innerHTML = '';\n",
              "        dataTable['output_type'] = 'display_data';\n",
              "        await google.colab.output.renderOutput(dataTable, element);\n",
              "        const docLink = document.createElement('div');\n",
              "        docLink.innerHTML = docLinkHtml;\n",
              "        element.appendChild(docLink);\n",
              "      }\n",
              "    </script>\n",
              "  </div>\n",
              "\n",
              "\n",
              "<div id=\"df-67ef23cb-aaeb-4e41-ba46-701ac9baa886\">\n",
              "  <button class=\"colab-df-quickchart\" onclick=\"quickchart('df-67ef23cb-aaeb-4e41-ba46-701ac9baa886')\"\n",
              "            title=\"Suggest charts\"\n",
              "            style=\"display:none;\">\n",
              "\n",
              "<svg xmlns=\"http://www.w3.org/2000/svg\" height=\"24px\"viewBox=\"0 0 24 24\"\n",
              "     width=\"24px\">\n",
              "    <g>\n",
              "        <path d=\"M19 3H5c-1.1 0-2 .9-2 2v14c0 1.1.9 2 2 2h14c1.1 0 2-.9 2-2V5c0-1.1-.9-2-2-2zM9 17H7v-7h2v7zm4 0h-2V7h2v10zm4 0h-2v-4h2v4z\"/>\n",
              "    </g>\n",
              "</svg>\n",
              "  </button>\n",
              "\n",
              "<style>\n",
              "  .colab-df-quickchart {\n",
              "      --bg-color: #E8F0FE;\n",
              "      --fill-color: #1967D2;\n",
              "      --hover-bg-color: #E2EBFA;\n",
              "      --hover-fill-color: #174EA6;\n",
              "      --disabled-fill-color: #AAA;\n",
              "      --disabled-bg-color: #DDD;\n",
              "  }\n",
              "\n",
              "  [theme=dark] .colab-df-quickchart {\n",
              "      --bg-color: #3B4455;\n",
              "      --fill-color: #D2E3FC;\n",
              "      --hover-bg-color: #434B5C;\n",
              "      --hover-fill-color: #FFFFFF;\n",
              "      --disabled-bg-color: #3B4455;\n",
              "      --disabled-fill-color: #666;\n",
              "  }\n",
              "\n",
              "  .colab-df-quickchart {\n",
              "    background-color: var(--bg-color);\n",
              "    border: none;\n",
              "    border-radius: 50%;\n",
              "    cursor: pointer;\n",
              "    display: none;\n",
              "    fill: var(--fill-color);\n",
              "    height: 32px;\n",
              "    padding: 0;\n",
              "    width: 32px;\n",
              "  }\n",
              "\n",
              "  .colab-df-quickchart:hover {\n",
              "    background-color: var(--hover-bg-color);\n",
              "    box-shadow: 0 1px 2px rgba(60, 64, 67, 0.3), 0 1px 3px 1px rgba(60, 64, 67, 0.15);\n",
              "    fill: var(--button-hover-fill-color);\n",
              "  }\n",
              "\n",
              "  .colab-df-quickchart-complete:disabled,\n",
              "  .colab-df-quickchart-complete:disabled:hover {\n",
              "    background-color: var(--disabled-bg-color);\n",
              "    fill: var(--disabled-fill-color);\n",
              "    box-shadow: none;\n",
              "  }\n",
              "\n",
              "  .colab-df-spinner {\n",
              "    border: 2px solid var(--fill-color);\n",
              "    border-color: transparent;\n",
              "    border-bottom-color: var(--fill-color);\n",
              "    animation:\n",
              "      spin 1s steps(1) infinite;\n",
              "  }\n",
              "\n",
              "  @keyframes spin {\n",
              "    0% {\n",
              "      border-color: transparent;\n",
              "      border-bottom-color: var(--fill-color);\n",
              "      border-left-color: var(--fill-color);\n",
              "    }\n",
              "    20% {\n",
              "      border-color: transparent;\n",
              "      border-left-color: var(--fill-color);\n",
              "      border-top-color: var(--fill-color);\n",
              "    }\n",
              "    30% {\n",
              "      border-color: transparent;\n",
              "      border-left-color: var(--fill-color);\n",
              "      border-top-color: var(--fill-color);\n",
              "      border-right-color: var(--fill-color);\n",
              "    }\n",
              "    40% {\n",
              "      border-color: transparent;\n",
              "      border-right-color: var(--fill-color);\n",
              "      border-top-color: var(--fill-color);\n",
              "    }\n",
              "    60% {\n",
              "      border-color: transparent;\n",
              "      border-right-color: var(--fill-color);\n",
              "    }\n",
              "    80% {\n",
              "      border-color: transparent;\n",
              "      border-right-color: var(--fill-color);\n",
              "      border-bottom-color: var(--fill-color);\n",
              "    }\n",
              "    90% {\n",
              "      border-color: transparent;\n",
              "      border-bottom-color: var(--fill-color);\n",
              "    }\n",
              "  }\n",
              "</style>\n",
              "\n",
              "  <script>\n",
              "    async function quickchart(key) {\n",
              "      const quickchartButtonEl =\n",
              "        document.querySelector('#' + key + ' button');\n",
              "      quickchartButtonEl.disabled = true;  // To prevent multiple clicks.\n",
              "      quickchartButtonEl.classList.add('colab-df-spinner');\n",
              "      try {\n",
              "        const charts = await google.colab.kernel.invokeFunction(\n",
              "            'suggestCharts', [key], {});\n",
              "      } catch (error) {\n",
              "        console.error('Error during call to suggestCharts:', error);\n",
              "      }\n",
              "      quickchartButtonEl.classList.remove('colab-df-spinner');\n",
              "      quickchartButtonEl.classList.add('colab-df-quickchart-complete');\n",
              "    }\n",
              "    (() => {\n",
              "      let quickchartButtonEl =\n",
              "        document.querySelector('#df-67ef23cb-aaeb-4e41-ba46-701ac9baa886 button');\n",
              "      quickchartButtonEl.style.display =\n",
              "        google.colab.kernel.accessAllowed ? 'block' : 'none';\n",
              "    })();\n",
              "  </script>\n",
              "</div>\n",
              "    </div>\n",
              "  </div>\n"
            ],
            "text/plain": [
              "     InvoiceNo StockCode                         Description  Quantity  \\\n",
              "0       536365    85123A  WHITE HANGING HEART T-LIGHT HOLDER         6   \n",
              "1       536373    85123A  WHITE HANGING HEART T-LIGHT HOLDER         6   \n",
              "2       536375    85123A  WHITE HANGING HEART T-LIGHT HOLDER         6   \n",
              "3       536390    85123A  WHITE HANGING HEART T-LIGHT HOLDER        64   \n",
              "4       536394    85123A  WHITE HANGING HEART T-LIGHT HOLDER        32   \n",
              "...        ...       ...                                 ...       ...   \n",
              "2308    581439    85123A  CREAM HANGING HEART T-LIGHT HOLDER         1   \n",
              "2309    581452    85123A  WHITE HANGING HEART T-LIGHT HOLDER        32   \n",
              "2310    581472    85123A  WHITE HANGING HEART T-LIGHT HOLDER         6   \n",
              "2311    581492    85123A  CREAM HANGING HEART T-LIGHT HOLDER         3   \n",
              "2312    581538    85123A  CREAM HANGING HEART T-LIGHT HOLDER         1   \n",
              "\n",
              "          InvoiceDate  UnitPrice  CustomerID         Country  \n",
              "0      12/1/2010 8:26       2.55     17850.0  United Kingdom  \n",
              "1      12/1/2010 9:02       2.55     17850.0  United Kingdom  \n",
              "2      12/1/2010 9:32       2.55     17850.0  United Kingdom  \n",
              "3     12/1/2010 10:19       2.55     17511.0  United Kingdom  \n",
              "4     12/1/2010 10:39       2.55     13408.0  United Kingdom  \n",
              "...               ...        ...         ...             ...  \n",
              "2308  12/8/2011 16:30       5.79         NaN  United Kingdom  \n",
              "2309  12/8/2011 18:03       2.55     17675.0  United Kingdom  \n",
              "2310  12/8/2011 19:55       2.95     15796.0  United Kingdom  \n",
              "2311  12/9/2011 10:03       5.79         NaN  United Kingdom  \n",
              "2312  12/9/2011 11:34       2.95     14446.0  United Kingdom  \n",
              "\n",
              "[2313 rows x 8 columns]"
            ]
          },
          "execution_count": 3,
          "metadata": {},
          "output_type": "execute_result"
        }
      ],
      "source": [
        "import pandas as pd\n",
        "pd.read_sql_query(\"select * from ecommerce where StockCode = '85123A'\", conn)"
      ]
    },
    {
      "cell_type": "markdown",
      "id": "30ce0c59-0e94-480a-81ae-528e68356a15",
      "metadata": {
        "id": "30ce0c59-0e94-480a-81ae-528e68356a15"
      },
      "source": [
        "### I.3. Verifying the database\n",
        "\n",
        "Before we go to the next section, let's check our database first. You need to change the db_name and table_name with your database name and table name, afterwards you can just run the code block. The result should be:\n",
        "\n",
        "- Columns: ['InvoiceNo', 'StockCode', 'Description', 'Quantity', 'InvoiceDate', 'UnitPrice', 'CustomerID', 'Country']\n",
        "- Number of rows: 541909\n"
      ]
    },
    {
      "cell_type": "code",
      "execution_count": 4,
      "id": "1aa3c3f7-c6c5-4419-9b25-e8d7a8ec345a",
      "metadata": {
        "colab": {
          "base_uri": "https://localhost:8080/"
        },
        "id": "1aa3c3f7-c6c5-4419-9b25-e8d7a8ec345a",
        "outputId": "6cef7107-b29c-4772-98d0-a7c191d2599d"
      },
      "outputs": [
        {
          "name": "stdout",
          "output_type": "stream",
          "text": [
            "Columns: ['InvoiceNo', 'StockCode', 'Description', 'Quantity', 'InvoiceDate', 'UnitPrice', 'CustomerID', 'Country']\n",
            "Number of rows: 541909\n"
          ]
        }
      ],
      "source": [
        "import sqlite3\n",
        "\n",
        "# Connect to SQLite database\n",
        "conn = sqlite3.connect('ecommerce.db') #change db_name to your database name.\n",
        "cur = conn.cursor()\n",
        "\n",
        "# Get column names\n",
        "cur.execute(\"PRAGMA table_info(ecommerce)\") #change table_name to your table name\n",
        "sql_columns = [column[1] for column in cur.fetchall()] #the variable sql_columns is used for submission, do not change the variable name\n",
        "print(f\"Columns: {sql_columns}\")\n",
        "\n",
        "# Get total number of rows\n",
        "cur.execute(\"SELECT COUNT(*) FROM ecommerce\") #change table_name to your table name\n",
        "sql_num_rows = cur.fetchone()[0] #the variable sql_num_rows is used for submission, do not change the variable name\n",
        "print(f\"Number of rows: {sql_num_rows}\")\n",
        "\n",
        "# Close the connection\n",
        "conn.close()"
      ]
    },
    {
      "cell_type": "markdown",
      "id": "585b925f-fcf0-4518-81d8-598dba65d646",
      "metadata": {
        "id": "585b925f-fcf0-4518-81d8-598dba65d646"
      },
      "source": [
        "### I.3.4. Running SQL Queries\n",
        "\n",
        "Once we have the database in SQL format, let's do some data exploration and analysis.\n",
        "\n",
        "You are part of the engineering team at a global e-commerce company. Your company has a vast catalogue of products and serves customers around the globe. As the company continues to grow, the management decides it's time to expand the business even more.\n",
        "\n",
        "As an essential part of this expansion, your team is tasked with diving into your company's rich e-commerce dataset to extract crucial insights that will guide the expansion strategy.\n",
        "\n",
        "1. **Total number of unique products and unique customers:**\n",
        "\n",
        "   Your first task is to gauge the breadth of your operations. By determining the total number of unique products you sell and the total number of unique customers you serve, you can assess the scale and diversity of your business.\n",
        "\n",
        "2. **Total revenue for each product:**\n",
        "\n",
        "   Next, you're going to identify the star performers in your product portfolio. Calculating the total revenue for each product will reveal which items are the biggest revenue drivers. These insights can help guide decisions about product focus and marketing efforts. Limit the result to the top 5 product with the biggest revenue.\n",
        "\n",
        "3. **Most profitable countries (by total sales):**\n",
        "\n",
        "   To pinpoint the most fruitful geographic areas for your business, you'll identify which countries generate the most profit. This data will help you understand where your operations are already strong and where there might be potential for regional expansion. Limit the result to the top 5 countries with the biggest profit.\n",
        "\n",
        "4. **Top-selling products (by total sales) for each country from number 3:**\n",
        "\n",
        "   Product popularity may vary across different regions. Determining the top-selling products by sales for each country will provide a clear picture of regional preferences, informing decisions about product distribution in different markets. Limit the result to the top 5 products for each countries.\n",
        "\n",
        "5. **Top-selling products (by quantity) for each country from number 3:**\n",
        "\n",
        "   Product popularity may vary across different regions. Determining the top-selling products by quantity for each country will provide a clear picture of regional preferences, informing decisions about product distribution in different markets. Limit the result to the top 5 products for each countries.\n",
        "\n",
        "By answering these queries, your team will provide valuable data-driven insights that will directly contribute to the strategic decisions about where and how your business expands. As part of the engineering team, you're not just maintaining the technical infrastructure - you're shaping the future of the company.\n",
        "\n",
        "> Hint: The Product name is stored in column Descrioption\n"
      ]
    },
    {
      "cell_type": "code",
      "execution_count": 5,
      "id": "ee33d9bc-2b35-4f78-b5d8-3eb65db1e361",
      "metadata": {
        "colab": {
          "base_uri": "https://localhost:8080/"
        },
        "id": "ee33d9bc-2b35-4f78-b5d8-3eb65db1e361",
        "outputId": "fd13a682-ff6a-4294-c89d-7aae1edf5048"
      },
      "outputs": [
        {
          "data": {
            "text/plain": [
              "4070"
            ]
          },
          "execution_count": 5,
          "metadata": {},
          "output_type": "execute_result"
        }
      ],
      "source": [
        "# Write your SQL Query here\n",
        "\n",
        "#use the following variable name to store the result from your SQL Query\n",
        "sql_num_products = 0\n",
        "sql_num_customers = 0\n",
        "sql_top_product_revenues = [] # list of tuples, where each tupple contains the product name and total revenue/total sales, see example\n",
        "sql_top_countries = [] # list of tuples, where each tupple contains the product name and total revenue/total sales, see example\n",
        "sql_top_selling_products_by_country_by_sales = {} #dictionary where key is country name, value is a list of top-selling products by sales, see example below\n",
        "sql_top_selling_products_by_country_by_quantity = {} #dictionary where key is country name, value is a list of top-selling products by quantity, see example below\n",
        "\n",
        "conn = sqlite3.connect('ecommerce.db') #change db_name to your database name.\n",
        "cur = conn.cursor()\n",
        "\n",
        "cur.execute(\"select COUNT(DISTINCT StockCode) from ecommerce\")\n",
        "sql_num_products = cur.fetchone()[0]\n",
        "\n",
        "cur.execute(\"select COUNT(DISTINCT CustomerID) from ecommerce\")\n",
        "sql_num_customers = cur.fetchone()[0]\n",
        "\n",
        "conn.close()\n",
        "\n",
        "sql_num_products\n",
        "\n",
        "\n",
        "# customerIDTable = pd.read_sql_query(\"select CustomerID, COUNT(*) as 'CustomerID_Count' from ecommerce GROUP BY CustomerID\", conn)\n",
        "\n",
        "# 1. Find the total number of unique products and unique customers\n",
        "# Example: sql_num_products = 1559\n",
        "# Example: sql_num_customers = 1675\n",
        "\n",
        "\n"
      ]
    },
    {
      "cell_type": "code",
      "execution_count": 6,
      "id": "d1cbbedc-d36e-4957-8359-98e948d5b177",
      "metadata": {
        "colab": {
          "base_uri": "https://localhost:8080/"
        },
        "id": "d1cbbedc-d36e-4957-8359-98e948d5b177",
        "outputId": "13990a41-3b38-4dce-b968-266a09faed59"
      },
      "outputs": [
        {
          "data": {
            "text/plain": [
              "[('DOTCOM POSTAGE', 206245.48000000019),\n",
              " ('REGENCY CAKESTAND 3 TIER', 164762.19),\n",
              " ('WHITE HANGING HEART T-LIGHT HOLDER', 99668.46999999849),\n",
              " ('PARTY BUNTING', 98302.98000000048),\n",
              " ('JUMBO BAG RED RETROSPOT', 92356.03000000204)]"
            ]
          },
          "execution_count": 6,
          "metadata": {},
          "output_type": "execute_result"
        }
      ],
      "source": [
        "# 2. Calculate the total revenue for each product, limited to top 5\n",
        "# Example: sql_top_product_revenues = [('PRODUCT 1', 149385.12), ('PRODUCT 2', 54895.53), ('PRODUCT 3', 44545.55), ('PRODUCT 4', 38000.00), ('PRODUCT 5', 36000.00)]\n",
        "# cur.execute(\"select StockCode, SUM(Quantity) from ecommerce group by StockCode\")\n",
        "conn = sqlite3.connect('ecommerce.db') #change db_name to your database name.\n",
        "cur = conn.cursor()\n",
        "\n",
        "cur.execute(\"\"\"\n",
        "  select\n",
        "    Description,\n",
        "    sum(Quantity * UnitPrice)\n",
        "  from ecommerce\n",
        "    GROUP BY Description\n",
        "    ORDER BY sum(Quantity * UnitPrice) DESC\n",
        "    LIMIT 5\n",
        "\"\"\")\n",
        "\n",
        "sql_top_product_revenues = cur.fetchall()\n",
        "conn.close()\n",
        "\n",
        "sql_top_product_revenues\n",
        "\n"
      ]
    },
    {
      "cell_type": "code",
      "execution_count": 7,
      "id": "7af4cf62-9d0a-4cae-92cd-fac4a9468d5e",
      "metadata": {
        "colab": {
          "base_uri": "https://localhost:8080/"
        },
        "id": "7af4cf62-9d0a-4cae-92cd-fac4a9468d5e",
        "outputId": "b8294ede-aeff-40bf-837d-eb94f0823555"
      },
      "outputs": [
        {
          "data": {
            "text/plain": [
              "[('United Kingdom', 8187806.364001113),\n",
              " ('Netherlands', 284661.54000000015),\n",
              " ('EIRE', 263276.81999999826),\n",
              " ('Germany', 221698.20999999862),\n",
              " ('France', 197403.90000000002)]"
            ]
          },
          "execution_count": 7,
          "metadata": {},
          "output_type": "execute_result"
        }
      ],
      "source": [
        "# 3. Identify the most profitable countries (by total sales), limited to top 5\n",
        "# Example: sql_top_countries = [('COUNTRY 1', 600000.00), ('COUNTRY 2', 334857.45), ('COUNTRY 3', 245879.00), ('COUNTRY 4', 180000.00), ('COUNTRY 5', 164389.45)]\n",
        "\n",
        "conn = sqlite3.connect('ecommerce.db') #change db_name to your database name.\n",
        "cur = conn.cursor()\n",
        "\n",
        "cur.execute(\"\"\"\n",
        "  select\n",
        "    Country,\n",
        "    SUM(Quantity * UnitPrice)\n",
        "  from ecommerce\n",
        "    GROUP BY Country\n",
        "    ORDER BY SUM(Quantity * UnitPrice) DESC\n",
        "    LIMIT 5\n",
        "\"\"\")\n",
        "\n",
        "sql_top_countries = cur.fetchall()\n",
        "\n",
        "conn.close()\n",
        "\n",
        "sql_top_countries\n"
      ]
    },
    {
      "cell_type": "code",
      "execution_count": 8,
      "id": "776308cd-3733-4767-95c3-fc9d3eda3cb7",
      "metadata": {
        "colab": {
          "base_uri": "https://localhost:8080/"
        },
        "id": "776308cd-3733-4767-95c3-fc9d3eda3cb7",
        "outputId": "fe01e3d6-3a5f-426e-e813-d01b50676b66"
      },
      "outputs": [
        {
          "name": "stdout",
          "output_type": "stream",
          "text": [
            "{'United Kingdom': [('DOTCOM POSTAGE', 206245.48000000019), ('REGENCY CAKESTAND 3 TIER', 134405.93999999992), ('WHITE HANGING HEART T-LIGHT HOLDER', 93953.0699999987), ('PARTY BUNTING', 92501.73000000033), ('JUMBO BAG RED RETROSPOT', 84516.44000000166)], 'Netherlands': [('RABBIT NIGHT LIGHT', 9568.48), ('ROUND SNACK BOXES SET OF4 WOODLAND ', 7991.400000000001), ('SPACEBOY LUNCH BOX ', 7485.5999999999985), ('DOLLY GIRL LUNCH BOX', 6828.599999999999), ('ROUND SNACK BOXES SET OF 4 FRUITS ', 4039.2000000000007)], 'EIRE': [('REGENCY CAKESTAND 3 TIER', 7442.849999999997), ('CARRIAGE', 5175.0), ('JAM MAKING SET WITH JARS', 3089.0), ('3 TIER CAKE TIN RED AND CREAM', 3041.5499999999997), ('WHITE HANGING HEART T-LIGHT HOLDER', 2857.8)], 'Germany': [('POSTAGE', 20821.0), ('REGENCY CAKESTAND 3 TIER', 8257.349999999997), ('ROUND SNACK BOXES SET OF4 WOODLAND ', 3554.6999999999985), ('ROUND SNACK BOXES SET OF 4 FRUITS ', 1949.9500000000016), ('SPACEBOY LUNCH BOX ', 1629.45)], 'France': [('POSTAGE', 15065.0), ('RABBIT NIGHT LIGHT', 7275.119999999999), ('REGENCY CAKESTAND 3 TIER', 2581.7999999999997), ('RED TOADSTOOL LED NIGHT LIGHT', 2168.099999999999), ('PLASTERS IN TIN WOODLAND ANIMALS', 1868.3999999999978)]}\n"
          ]
        }
      ],
      "source": [
        "# 4. Find the top-selling products (by total sales) for each country, limited to top 5\n",
        "# Example: sql_top_selling_products_by_country_by_sales = {\n",
        "#    'COUNTRY 1': [('COUNTRY 1 PRODUCT 1', 200000.00), ('COUNTRY 1 PRODUCT 2', 100000.00), ('COUNTRY 1 PRODUCT 3', 95348.00), ('COUNTRY 1 PRODUCT 4', 90000.43), ('COUNTRY 1 PRODUCT 5', 80000.00)],\n",
        "#    'COUNTRY 2': [('COUNTRY 2 PRODUCT 1', 9000.00), ('COUNTRY 2 PRODUCT 2', 7345.00), ('COUNTRY 2 PRODUCT 3', 6934.23), ('COUNTRY 2 PRODUCT 4', 6800.23), ('COUNTRY 2 PRODUCT 5', 4000.00)],\n",
        "#    ... to simplify, country 3 and 4 are not shown\n",
        "#    'COUNTRY 5': [('COUNTRY 5 PRODUCT 1', 7442.84), ('COUNTRY 5 PRODUCT 2', 5175.00), ('COUNTRY 5 PRODUCT 3', 3098.0), ('COUNTRY 5 PRODUCT 4', 3014.34), ('COUNTRY 5 PRODUCT 5', 2857.83)],\n",
        "import sqlite3\n",
        "import pandas as pd\n",
        "\n",
        "conn = sqlite3.connect('ecommerce.db') #change db_name to your database name.\n",
        "cur = conn.cursor()\n",
        "\n",
        "sql_top_selling_products_by_country_by_sales = {}\n",
        "\n",
        "for i in range(len(sql_top_countries)):\n",
        "  cur.execute('''\n",
        "    select Description, SUM(Quantity * UnitPrice)\n",
        "    from ecommerce\n",
        "      where Country = ?\n",
        "      group by Description\n",
        "      order by SUM(Quantity * UnitPrice) DESC\n",
        "      limit 5\n",
        "  ''', [sql_top_countries[i][0]])\n",
        "  data = cur.fetchall()\n",
        "  sql_top_selling_products_by_country_by_sales[sql_top_countries[i][0]] = data\n",
        "\n",
        "conn.close()\n",
        "\n",
        "print(sql_top_selling_products_by_country_by_sales)"
      ]
    },
    {
      "cell_type": "code",
      "execution_count": 9,
      "id": "54adc06d-fe7d-468c-8515-0b9f52170cf8",
      "metadata": {
        "colab": {
          "base_uri": "https://localhost:8080/"
        },
        "id": "54adc06d-fe7d-468c-8515-0b9f52170cf8",
        "outputId": "84ed43dd-2f58-4ff5-9680-b26fc1b33ee7"
      },
      "outputs": [
        {
          "name": "stdout",
          "output_type": "stream",
          "text": [
            "{'United Kingdom': [('WORLD WAR 2 GLIDERS ASSTD DESIGNS', 48326), ('JUMBO BAG RED RETROSPOT', 43167), ('POPCORN HOLDER', 34365), ('ASSORTED COLOUR BIRD ORNAMENT', 33679), ('WHITE HANGING HEART T-LIGHT HOLDER', 33193)], 'Netherlands': [('RABBIT NIGHT LIGHT', 4801), ('SPACEBOY LUNCH BOX ', 4528), ('DOLLY GIRL LUNCH BOX', 4132), ('PACK OF 72 RETROSPOT CAKE CASES', 4128), ('ROUND SNACK BOXES SET OF4 WOODLAND ', 3132)], 'EIRE': [('PACK OF 72 RETROSPOT CAKE CASES', 1728), ('60 TEATIME FAIRY CAKE CASES', 1536), ('VINTAGE SNAP CARDS', 1492), ('ASSORTED INCENSE PACK', 1440), ('PACK OF 60 PINK PAISLEY CAKE CASES', 1296)], 'Germany': [('ROUND SNACK BOXES SET OF4 WOODLAND ', 1218), ('ASSORTED COLOURS SILK FAN', 1164), ('POSTAGE', 1104), ('WOODLAND CHARLOTTE BAG', 1019), ('PACK OF 72 RETROSPOT CAKE CASES', 1002)], 'France': [('RABBIT NIGHT LIGHT', 4023), ('MINI PAINT SET VINTAGE ', 2196), ('RED TOADSTOOL LED NIGHT LIGHT', 1314), ('SET/6 RED SPOTTY PAPER CUPS', 1272), ('ASSORTED COLOUR BIRD ORNAMENT', 1204)]}\n"
          ]
        }
      ],
      "source": [
        "# 5. Find the top-selling products (by quantity) for each country, limited to top 5\n",
        "# Example: sql_top_selling_products_by_country_by_quantity = {\n",
        "#    'COUNTRY 1': [('COUNTRY 1 PRODUCT 1', 22343), ('COUNTRY 1 PRODUCT 2', 12345), ('COUNTRY 1 PRODUCT 3', 9534), ('COUNTRY 1 PRODUCT 4', 9000), ('COUNTRY 1 PRODUCT 5', 8000)],\n",
        "#    'COUNTRY 2': [('COUNTRY 2 PRODUCT 1', 9000), ('COUNTRY 2 PRODUCT 2', 7345), ('COUNTRY 2 PRODUCT 3', 6934), ('COUNTRY 2 PRODUCT 4', 6800), ('COUNTRY 2 PRODUCT 5', 4000)],\n",
        "#    ... to simplify, country 3 and 4 are not shown\n",
        "#    'COUNTRY 5': [('COUNTRY 5 PRODUCT 1', 48345), ('COUNTRY 5 PRODUCT 2', 43965), ('COUNTRY 5 PRODUCT 3', 43556), ('COUNTRY 5 PRODUCT 4', 34567), ('COUNTRY 5 PRODUCT 5', 33436)],\n",
        "import sqlite3\n",
        "import pandas as pd\n",
        "\n",
        "conn = sqlite3.connect('ecommerce.db') #change db_name to your database name.\n",
        "cur = conn.cursor()\n",
        "\n",
        "sql_top_selling_products_by_country_by_quantity = {}\n",
        "\n",
        "for i in range(len(sql_top_countries)):\n",
        "  cur.execute('''\n",
        "    select Description, SUM(Quantity)\n",
        "    from ecommerce\n",
        "      where Country = ?\n",
        "      group by Description\n",
        "      order by SUM(Quantity) DESC\n",
        "      limit 5\n",
        "  ''', [sql_top_countries[i][0]])\n",
        "  data = cur.fetchall()\n",
        "  sql_top_selling_products_by_country_by_quantity[sql_top_countries[i][0]] = data\n",
        "\n",
        "conn.close()\n",
        "\n",
        "print(sql_top_selling_products_by_country_by_quantity)"
      ]
    },
    {
      "cell_type": "markdown",
      "id": "1d391ec9-ca95-4c56-b4f6-fccf8e0be14a",
      "metadata": {
        "id": "1d391ec9-ca95-4c56-b4f6-fccf8e0be14a"
      },
      "source": [
        "## II. Indexing and Querying with Elasticsearch\n",
        "\n",
        "You should have a better understanding of how to use SQL, now let's leverage the power of Elasticsearch to explore and analyze the data. We'll use the same dataset.\n"
      ]
    },
    {
      "cell_type": "markdown",
      "id": "e7dd72e3-4d2f-4f3a-80ef-7b8b6440b124",
      "metadata": {
        "id": "e7dd72e3-4d2f-4f3a-80ef-7b8b6440b124"
      },
      "source": [
        "### II.1. Package and Module Installation\n",
        "\n",
        "First, let's pool all package and module that you'll need in the installation section below.\n"
      ]
    },
    {
      "cell_type": "code",
      "execution_count": null,
      "id": "c8ca8f78-e33c-4552-9f4d-8bed711e661f",
      "metadata": {
        "id": "c8ca8f78-e33c-4552-9f4d-8bed711e661f"
      },
      "outputs": [],
      "source": [
        "# Write any package/module installation that you need\n",
        "# pip install goes here, this helps declutter your output below\n",
        "\n"
      ]
    },
    {
      "cell_type": "markdown",
      "id": "6c1633bd-61cb-4009-a064-b2ce2fdfeee4",
      "metadata": {
        "id": "6c1633bd-61cb-4009-a064-b2ce2fdfeee4"
      },
      "source": [
        "### II.2. Set up Elasticsearch Index\n",
        "\n",
        "The first step you need to do which is **preprocessing, let's keep it simple and simply drop all row that have missing values.**\n",
        "\n",
        "Next, you need to set up an Elasticsearch index. An Elasticsearch index is like a database in a traditional relational database. An index lets you store, search, and analyze big volumes of data quickly and in near real time.\n",
        "\n",
        "You'll also need to setup the mappings for the data types, let's do that here.\n"
      ]
    },
    {
      "cell_type": "code",
      "execution_count": 12,
      "id": "60d70360-3456-4e3c-b757-630bc129ad6d",
      "metadata": {
        "id": "60d70360-3456-4e3c-b757-630bc129ad6d"
      },
      "outputs": [
        {
          "name": "stdout",
          "output_type": "stream",
          "text": [
            "(406829, [])\n"
          ]
        }
      ],
      "source": [
        "# Preprocessing here\n",
        "import pandas as pd\n",
        "from elasticsearch import Elasticsearch, helpers\n",
        "import json\n",
        "import time\n",
        "\n",
        "\n",
        "es = Elasticsearch([{'host': 'localhost', 'port': 9200, 'scheme': 'http'}])\n",
        "df = pd.read_csv('./data.csv')\n",
        "df.dropna(inplace=True)\n",
        "\n",
        "def df_to_es(df):\n",
        "  for index, row in df.iterrows():\n",
        "    yield {\n",
        "      \"_index\": \"ecommerce\",\n",
        "      \"_id\": index,\n",
        "      \"_source\": row.to_dict()\n",
        "    }\n",
        "\n",
        "res = helpers.bulk(es, df_to_es(df))\n",
        "\n",
        "print(res)\n",
        "\n",
        "\n",
        "# Load your dataset and create an Elasticsearch index\n",
        "# Hints: use the BulkAPI for faster creation of the index\n",
        "\n"
      ]
    },
    {
      "cell_type": "markdown",
      "id": "39f7d0b8-698d-4666-a64a-8a1122bc5421",
      "metadata": {
        "id": "39f7d0b8-698d-4666-a64a-8a1122bc5421"
      },
      "source": [
        "### II.3. Verifying the index\n",
        "\n",
        "Before we go to the next section, let's check our index first. You need to change the my_index_name with your chosen index name, afterwards you can just run the code block. The result should be:\n",
        "\n",
        "- Columns: ['Country', 'CustomerID', 'Description', 'InvoiceDate', 'InvoiceNo', 'Quantity', 'StockCode', 'UnitPrice']\n",
        "- Number of rows: 406829\n"
      ]
    },
    {
      "cell_type": "code",
      "execution_count": 13,
      "id": "ac844f06-2729-4299-a0c3-409a35fa39f1",
      "metadata": {
        "id": "ac844f06-2729-4299-a0c3-409a35fa39f1"
      },
      "outputs": [
        {
          "name": "stdout",
          "output_type": "stream",
          "text": [
            "Columns: ['Country', 'CustomerID', 'Description', 'InvoiceDate', 'InvoiceNo', 'Quantity', 'StockCode', 'UnitPrice']\n",
            "Number of rows: 541909\n"
          ]
        }
      ],
      "source": [
        "from elasticsearch import Elasticsearch\n",
        "\n",
        "# Connect to the Elasticsearch server\n",
        "es = Elasticsearch([{'host': 'localhost', 'port': 9200, 'scheme': 'http'}])\n",
        "\n",
        "index_name = \"ecommerce\" #change the my_index_name value\n",
        "\n",
        "# Get index mapping (equivalent to getting column names in SQL)\n",
        "mapping = es.indices.get_mapping(index=index_name)\n",
        "es_columns = list(mapping[index_name]['mappings']['properties'].keys()) #the variable es_columns is used for submission, do not change the variable name\n",
        "print(f\"Columns: {es_columns}\")\n",
        "\n",
        "# Count documents in the index (equivalent to counting rows in SQL)\n",
        "es_num_rows = es.count(index=index_name)['count'] #the variable es_num_rows is used for submission, do not change the variable name\n",
        "print(f\"Number of rows: {es_num_rows}\")\n"
      ]
    },
    {
      "cell_type": "markdown",
      "id": "dbf3e34d-1092-4326-9f42-83fc2c3bfa29",
      "metadata": {
        "id": "dbf3e34d-1092-4326-9f42-83fc2c3bfa29"
      },
      "source": [
        "### II.4. Running Elasticsearch queries\n",
        "\n",
        "Once your e-commerce data is cleaned and ready, let's analyse the data to gain insights that will drive the expansion strategy, this time using Elasticsearch and we'll focus on one specific country, which is Germany.\n",
        "\n",
        "1. **Find all transactions for a specific country**\n",
        "\n",
        "   Your company operates globally, but you want to understand better how different countries contribute to your sales. By finding all transactions that happened in a specific country, you can get a clearer picture of your company's reach and performance in that location. In our case, we'll focus on the country Germany.\n",
        "\n",
        "2. **Find all unique products in Germany**\n",
        "\n",
        "   Your first task is to understand the breadth of your company's product portfolio in Germany. By determining the total number of unique products you sell, you can assess the scale and diversity of your operations.\n",
        "\n",
        "3. **Find the top 5 most purchased products in Germany**\n",
        "\n",
        "   Next up, you'll identify the best-selling products in your portfolio in Germany. Knowing which items are the most purchased can help guide decisions about product focus and marketing efforts. We'll limit the result to 5 most purchased products.\n",
        "\n",
        "By executing these tasks, you will enable your team to provide data-driven insights which will directly contribute to the strategic decisions about your business expansion. As part of the data engineering team, you're not only maintaining the technical infrastructure - you're shaping the future of the company.\n",
        "\n",
        "There are two more tasks below to check your understanding on how to handle date type data as well as searching using partial keyword:\n",
        "\n",
        "4. **Find a product's transactions over time**\n",
        "\n",
        "   Trends in purchases over time for specific products can provide insights into product popularity and seasonality. You decide to track a product's transactions over a period to understand its sales pattern. In this case we'll use the product \"I LOVE LONDON MINI RUCKSACK\"\n",
        "\n",
        "5. **Search for a product using a part of its description**\n",
        "\n",
        "   Finally, you want to investigate how robust and reliable your product search feature is. You decide to test it by searching for a product using a part of its description. In this case, we'll use the keyword \"PIN\". Return only unique product name. And the product names should be stored in a list in alphabetical order.\n"
      ]
    },
    {
      "cell_type": "code",
      "execution_count": 14,
      "id": "38753049-8198-43fa-b497-b1b52e70e51e",
      "metadata": {
        "id": "38753049-8198-43fa-b497-b1b52e70e51e"
      },
      "outputs": [
        {
          "name": "stdout",
          "output_type": "stream",
          "text": [
            "{\n",
            "    \"took\": 11,\n",
            "    \"timed_out\": false,\n",
            "    \"_shards\": {\n",
            "        \"total\": 1,\n",
            "        \"successful\": 1,\n",
            "        \"skipped\": 0,\n",
            "        \"failed\": 0\n",
            "    },\n",
            "    \"hits\": {\n",
            "        \"total\": {\n",
            "            \"value\": 9495,\n",
            "            \"relation\": \"eq\"\n",
            "        },\n",
            "        \"max_score\": 4.0342965,\n",
            "        \"hits\": [\n",
            "            {\n",
            "                \"_index\": \"ecommerce\",\n",
            "                \"_id\": \"1109\",\n",
            "                \"_score\": 4.0342965,\n",
            "                \"_source\": {\n",
            "                    \"InvoiceNo\": \"536527\",\n",
            "                    \"StockCode\": \"22809\",\n",
            "                    \"Description\": \"SET OF 6 T-LIGHTS SANTA\",\n",
            "                    \"Quantity\": 6,\n",
            "                    \"InvoiceDate\": \"12/1/2010 13:04\",\n",
            "                    \"UnitPrice\": 2.95,\n",
            "                    \"CustomerID\": 12662.0,\n",
            "                    \"Country\": \"Germany\"\n",
            "                }\n",
            "            },\n",
            "            {\n",
            "                \"_index\": \"ecommerce\",\n",
            "                \"_id\": \"1110\",\n",
            "                \"_score\": 4.0342965,\n",
            "                \"_source\": {\n",
            "                    \"InvoiceNo\": \"536527\",\n",
            "                    \"StockCode\": \"84347\",\n",
            "                    \"Description\": \"ROTATING SILVER ANGELS T-LIGHT HLDR\",\n",
            "                    \"Quantity\": 6,\n",
            "                    \"InvoiceDate\": \"12/1/2010 13:04\",\n",
            "                    \"UnitPrice\": 2.55,\n",
            "                    \"CustomerID\": 12662.0,\n",
            "                    \"Country\": \"Germany\"\n",
            "                }\n",
            "            },\n",
            "            {\n",
            "                \"_index\": \"ecommerce\",\n",
            "                \"_id\": \"1111\",\n",
            "                \"_score\": 4.0342965,\n",
            "                \"_source\": {\n",
            "                    \"InvoiceNo\": \"536527\",\n",
            "                    \"StockCode\": \"84945\",\n",
            "                    \"Description\": \"MULTI COLOUR SILVER T-LIGHT HOLDER\",\n",
            "                    \"Quantity\": 12,\n",
            "                    \"InvoiceDate\": \"12/1/2010 13:04\",\n",
            "                    \"UnitPrice\": 0.85,\n",
            "                    \"CustomerID\": 12662.0,\n",
            "                    \"Country\": \"Germany\"\n",
            "                }\n",
            "            },\n",
            "            {\n",
            "                \"_index\": \"ecommerce\",\n",
            "                \"_id\": \"1112\",\n",
            "                \"_score\": 4.0342965,\n",
            "                \"_source\": {\n",
            "                    \"InvoiceNo\": \"536527\",\n",
            "                    \"StockCode\": \"22242\",\n",
            "                    \"Description\": \"5 HOOK HANGER MAGIC TOADSTOOL\",\n",
            "                    \"Quantity\": 12,\n",
            "                    \"InvoiceDate\": \"12/1/2010 13:04\",\n",
            "                    \"UnitPrice\": 1.65,\n",
            "                    \"CustomerID\": 12662.0,\n",
            "                    \"Country\": \"Germany\"\n",
            "                }\n",
            "            },\n",
            "            {\n",
            "                \"_index\": \"ecommerce\",\n",
            "                \"_id\": \"1113\",\n",
            "                \"_score\": 4.0342965,\n",
            "                \"_source\": {\n",
            "                    \"InvoiceNo\": \"536527\",\n",
            "                    \"StockCode\": \"22244\",\n",
            "                    \"Description\": \"3 HOOK HANGER MAGIC GARDEN\",\n",
            "                    \"Quantity\": 12,\n",
            "                    \"InvoiceDate\": \"12/1/2010 13:04\",\n",
            "                    \"UnitPrice\": 1.95,\n",
            "                    \"CustomerID\": 12662.0,\n",
            "                    \"Country\": \"Germany\"\n",
            "                }\n",
            "            },\n",
            "            {\n",
            "                \"_index\": \"ecommerce\",\n",
            "                \"_id\": \"1114\",\n",
            "                \"_score\": 4.0342965,\n",
            "                \"_source\": {\n",
            "                    \"InvoiceNo\": \"536527\",\n",
            "                    \"StockCode\": \"22243\",\n",
            "                    \"Description\": \"5 HOOK HANGER RED MAGIC TOADSTOOL\",\n",
            "                    \"Quantity\": 12,\n",
            "                    \"InvoiceDate\": \"12/1/2010 13:04\",\n",
            "                    \"UnitPrice\": 1.65,\n",
            "                    \"CustomerID\": 12662.0,\n",
            "                    \"Country\": \"Germany\"\n",
            "                }\n",
            "            },\n",
            "            {\n",
            "                \"_index\": \"ecommerce\",\n",
            "                \"_id\": \"1115\",\n",
            "                \"_score\": 4.0342965,\n",
            "                \"_source\": {\n",
            "                    \"InvoiceNo\": \"536527\",\n",
            "                    \"StockCode\": \"47421\",\n",
            "                    \"Description\": \"ASSORTED COLOUR LIZARD SUCTION HOOK\",\n",
            "                    \"Quantity\": 24,\n",
            "                    \"InvoiceDate\": \"12/1/2010 13:04\",\n",
            "                    \"UnitPrice\": 0.42,\n",
            "                    \"CustomerID\": 12662.0,\n",
            "                    \"Country\": \"Germany\"\n",
            "                }\n",
            "            },\n",
            "            {\n",
            "                \"_index\": \"ecommerce\",\n",
            "                \"_id\": \"1116\",\n",
            "                \"_score\": 4.0342965,\n",
            "                \"_source\": {\n",
            "                    \"InvoiceNo\": \"536527\",\n",
            "                    \"StockCode\": \"20712\",\n",
            "                    \"Description\": \"JUMBO BAG WOODLAND ANIMALS\",\n",
            "                    \"Quantity\": 10,\n",
            "                    \"InvoiceDate\": \"12/1/2010 13:04\",\n",
            "                    \"UnitPrice\": 1.95,\n",
            "                    \"CustomerID\": 12662.0,\n",
            "                    \"Country\": \"Germany\"\n",
            "                }\n",
            "            },\n",
            "            {\n",
            "                \"_index\": \"ecommerce\",\n",
            "                \"_id\": \"1117\",\n",
            "                \"_score\": 4.0342965,\n",
            "                \"_source\": {\n",
            "                    \"InvoiceNo\": \"536527\",\n",
            "                    \"StockCode\": \"20713\",\n",
            "                    \"Description\": \"JUMBO BAG OWLS\",\n",
            "                    \"Quantity\": 10,\n",
            "                    \"InvoiceDate\": \"12/1/2010 13:04\",\n",
            "                    \"UnitPrice\": 1.95,\n",
            "                    \"CustomerID\": 12662.0,\n",
            "                    \"Country\": \"Germany\"\n",
            "                }\n",
            "            },\n",
            "            {\n",
            "                \"_index\": \"ecommerce\",\n",
            "                \"_id\": \"1118\",\n",
            "                \"_score\": 4.0342965,\n",
            "                \"_source\": {\n",
            "                    \"InvoiceNo\": \"536527\",\n",
            "                    \"StockCode\": \"22837\",\n",
            "                    \"Description\": \"HOT WATER BOTTLE BABUSHKA \",\n",
            "                    \"Quantity\": 4,\n",
            "                    \"InvoiceDate\": \"12/1/2010 13:04\",\n",
            "                    \"UnitPrice\": 4.65,\n",
            "                    \"CustomerID\": 12662.0,\n",
            "                    \"Country\": \"Germany\"\n",
            "                }\n",
            "            }\n",
            "        ]\n",
            "    }\n",
            "}\n"
          ]
        }
      ],
      "source": [
        "# Write your Elasticsearch Query here\n",
        "\n",
        "#use the following variable name to store the result from your Elasticsearch Query\n",
        "es_total_unique_products = 0\n",
        "es_transactions_in_germany = 0\n",
        "es_top_products = {} #dictionary where key is product name, value is the quantity sold, see example below\n",
        "es_transactions_over_time = {} #dictionary where key is invoice date, value is the quantity sold, see example below\n",
        "es_unique_product_search = [] #list containing the products in alphabetical order\n",
        "\n",
        "# 1. Find all transactions for a specific country (Germany)\n",
        "# Example: es_transactions_in_germany = 7584\n",
        "\n",
        "response = es.search(index='ecommerce', body={\n",
        "  'query': {\n",
        "    'term': {\n",
        "      'Country.keyword': 'Germany'\n",
        "    }\n",
        "  },\n",
        "})\n",
        "\n",
        "print(json.dumps(response.body, indent=4))\n",
        "es_transactions_in_germany = response['hits']['total']['value']"
      ]
    },
    {
      "cell_type": "code",
      "execution_count": null,
      "id": "ef83c53f-bec9-484e-8f37-904879d987e3",
      "metadata": {
        "id": "ef83c53f-bec9-484e-8f37-904879d987e3"
      },
      "outputs": [],
      "source": [
        "# 2. Find all unique products in Germany\n",
        "# Hints: Use set() to remove duplicate values\n",
        "# Example: es_total_unique_products = 45345\n",
        "\n",
        "\n"
      ]
    },
    {
      "cell_type": "code",
      "execution_count": null,
      "id": "aa3c9f70-11de-4bd8-b4c2-9471392c0cf2",
      "metadata": {
        "id": "aa3c9f70-11de-4bd8-b4c2-9471392c0cf2"
      },
      "outputs": [],
      "source": [
        "# 3. Find the top 5 most purchased products in Germany\n",
        "# Example: es_top_products = {'PRODUCT 1': 498, 'PRODUCT 2': 452, 'PRODUCT 3': 342, 'PRODUCT 4': 231, 'PRODUCT 5': 123}\n",
        "\n",
        "\n"
      ]
    },
    {
      "cell_type": "code",
      "execution_count": null,
      "id": "6baa719a-c65c-47f7-b76e-c69674f3ade7",
      "metadata": {
        "id": "6baa719a-c65c-47f7-b76e-c69674f3ade7"
      },
      "outputs": [],
      "source": [
        "# 4. Find a product's transactions over time\n",
        "# Hints: Date format is M/d/yyyy H:m\n",
        "# Product = I LOVE LONDON MINI RUCKSACK\n",
        "# Example: es_transactions_over_time = {'12/12/2010 11:11': 1, 12/12/2010 11:12': 1}\n",
        "\n",
        "\n"
      ]
    },
    {
      "cell_type": "code",
      "execution_count": null,
      "id": "76d6db11-734d-4638-a2d7-06ebe88a1db3",
      "metadata": {
        "id": "76d6db11-734d-4638-a2d7-06ebe88a1db3"
      },
      "outputs": [],
      "source": [
        "# 5. Search for a product using a part of its description\n",
        "# Hints: Return only unique Product names, see number 1\n",
        "# Example: es_unique_product_search = ['PRODUCT 1', 'PRODUCT 2']\n",
        "\n",
        "\n"
      ]
    },
    {
      "cell_type": "markdown",
      "id": "5d59af48-18c0-4e40-80ff-33a85030b205",
      "metadata": {
        "id": "5d59af48-18c0-4e40-80ff-33a85030b205"
      },
      "source": [
        "## Submission\n",
        "\n",
        "Once you are satisfied with the performance of your model, then you run the code block below to submit your project.\n"
      ]
    },
    {
      "cell_type": "code",
      "execution_count": 16,
      "id": "010d7f7f-711d-4f41-82a3-3c2562e59709",
      "metadata": {
        "colab": {
          "base_uri": "https://localhost:8080/",
          "height": 73
        },
        "id": "010d7f7f-711d-4f41-82a3-3c2562e59709",
        "outputId": "719fac28-466c-400b-e56b-5ef474f37a44"
      },
      "outputs": [
        {
          "name": "stdout",
          "output_type": "stream",
          "text": [
            "['Country', 'CustomerID', 'Description', 'InvoiceDate', 'InvoiceNo', 'Quantity', 'StockCode', 'UnitPrice']\n",
            "541909\n"
          ]
        },
        {
          "data": {
            "text/plain": [
              "'Assignment successfully submitted'"
            ]
          },
          "execution_count": 16,
          "metadata": {},
          "output_type": "execute_result"
        }
      ],
      "source": [
        "# Submit Method\n",
        "\n",
        "# Do not change the code below\n",
        "# question_id = \"01_sql_columns\"\n",
        "# submit(student_id, name, assignment_id, str(sql_columns), question_id, drive_link)\n",
        "# question_id = \"02_sql_num_rows\"\n",
        "# submit(student_id, name, assignment_id, str(sql_num_rows), question_id, drive_link)\n",
        "# question_id = \"03_sql_num_products\"\n",
        "# submit(student_id, name, assignment_id, str(sql_num_products), question_id, drive_link)\n",
        "# question_id = \"04_sql_num_customers\"\n",
        "# submit(student_id, name, assignment_id, str(sql_num_customers), question_id, drive_link)\n",
        "# question_id = \"05_sql_top_product_revenues\"\n",
        "# submit(student_id, name, assignment_id, str(sql_top_product_revenues), question_id, drive_link)\n",
        "# question_id = \"06_sql_top_countries\"\n",
        "# submit(student_id, name, assignment_id, str(sql_top_countries), question_id, drive_link)\n",
        "# question_id = \"07_sql_top_selling_products_by_country_by_sales\"\n",
        "# submit(student_id, name, assignment_id, str(sql_top_selling_products_by_country_by_sales), question_id, drive_link)\n",
        "# question_id = \"08_sql_top_selling_products_by_country_by_quantity\"\n",
        "# submit(student_id, name, assignment_id, str(sql_top_selling_products_by_country_by_quantity), question_id, drive_link)\n",
        "\n",
        "print(es_columns)\n",
        "print(es_num_rows)\n",
        "\n",
        "question_id = \"09_es_columns\"\n",
        "submit(student_id, name, assignment_id, str(es_columns), question_id, drive_link)\n",
        "question_id = \"10_es_num_rows\"\n",
        "submit(student_id, name, assignment_id, str(es_num_rows), question_id, drive_link)\n",
        "question_id = \"11_es_total_unique_products\"\n",
        "submit(student_id, name, assignment_id, str(es_total_unique_products), question_id, drive_link)\n",
        "# question_id = \"12_es_transactions_in_germany\"\n",
        "# submit(student_id, name, assignment_id, str(es_transactions_in_germany), question_id, drive_link)\n",
        "# question_id = \"13_es_top_products\"\n",
        "# submit(student_id, name, assignment_id, str(es_top_products), question_id, drive_link)\n",
        "# question_id = \"14_es_transactions_over_time\"\n",
        "# submit(student_id, name, assignment_id, str(es_transactions_over_time), question_id, drive_link)\n",
        "# question_id = \"15_es_unique_product_search\"\n",
        "# submit(student_id, name, assignment_id, str(es_unique_product_search), question_id, drive_link)"
      ]
    },
    {
      "cell_type": "markdown",
      "id": "aa89b9ff-0d31-416a-b3c4-851c725fadf7",
      "metadata": {
        "id": "aa89b9ff-0d31-416a-b3c4-851c725fadf7"
      },
      "source": [
        "## FIN\n"
      ]
    }
  ],
  "metadata": {
    "colab": {
      "provenance": []
    },
    "kernelspec": {
      "display_name": "Python 3 (ipykernel)",
      "language": "python",
      "name": "python3"
    },
    "language_info": {
      "codemirror_mode": {
        "name": "ipython",
        "version": 3
      },
      "file_extension": ".py",
      "mimetype": "text/x-python",
      "name": "python",
      "nbconvert_exporter": "python",
      "pygments_lexer": "ipython3",
      "version": "3.11.7"
    }
  },
  "nbformat": 4,
  "nbformat_minor": 5
}
